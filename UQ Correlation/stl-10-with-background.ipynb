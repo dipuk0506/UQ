{
 "cells": [
  {
   "cell_type": "markdown",
   "id": "b2d4641d",
   "metadata": {
    "papermill": {
     "duration": 0.003991,
     "end_time": "2022-12-11T13:06:55.106456",
     "exception": false,
     "start_time": "2022-12-11T13:06:55.102465",
     "status": "completed"
    },
    "tags": []
   },
   "source": [
    "# Training with Background Data\n",
    "\n",
    "## We wrote this code with the help of the following scripts\n",
    "\n",
    "https://github.com/dipuk0506/SpinalNet/blob/master/Transfer%20Learning/Pytorch_data_to_folders.py\n",
    "\n",
    "https://github.com/dipuk0506/SpinalNet/blob/master/Transfer%20Learning/Transfer_Learning_STL10.py"
   ]
  },
  {
   "cell_type": "code",
   "execution_count": 1,
   "id": "02553e1a",
   "metadata": {
    "execution": {
     "iopub.execute_input": "2022-12-11T13:06:55.114608Z",
     "iopub.status.busy": "2022-12-11T13:06:55.114116Z",
     "iopub.status.idle": "2022-12-11T13:06:56.869358Z",
     "shell.execute_reply": "2022-12-11T13:06:56.868413Z"
    },
    "papermill": {
     "duration": 1.762409,
     "end_time": "2022-12-11T13:06:56.871984",
     "exception": false,
     "start_time": "2022-12-11T13:06:55.109575",
     "status": "completed"
    },
    "tags": []
   },
   "outputs": [],
   "source": [
    "import torch, time, os, copy, random, imageio, os, shutil, numpy, zipfile\n",
    "from torchvision import datasets, models, transforms, utils\n",
    "import matplotlib.pyplot as plt"
   ]
  },
  {
   "cell_type": "code",
   "execution_count": 2,
   "id": "cf1ae289",
   "metadata": {
    "_cell_guid": "b1076dfc-b9ad-4769-8c92-a6c4dae69d19",
    "_uuid": "8f2839f25d086af736a60e9eeb907d3b93b6e0e5",
    "execution": {
     "iopub.execute_input": "2022-12-11T13:06:56.880367Z",
     "iopub.status.busy": "2022-12-11T13:06:56.879859Z",
     "iopub.status.idle": "2022-12-11T13:06:59.211177Z",
     "shell.execute_reply": "2022-12-11T13:06:59.210220Z"
    },
    "papermill": {
     "duration": 2.338239,
     "end_time": "2022-12-11T13:06:59.213783",
     "exception": false,
     "start_time": "2022-12-11T13:06:56.875544",
     "status": "completed"
    },
    "tags": []
   },
   "outputs": [],
   "source": [
    "Num_class=10\n",
    "folderlocation = './data/STL10/'\n",
    "\n",
    "def create_dir(folderlocation):\n",
    "    if not os.path.exists(folderlocation):\n",
    "        os.mkdir(folderlocation)\n",
    "    \n",
    "create_dir('./data/')\n",
    "create_dir(folderlocation)\n",
    "for iterf in ['train/', 'valid/', 'test/']:\n",
    "    create_dir(folderlocation + iterf)\n",
    "    for iter1 in range(Num_class+1): \n",
    "        create_dir(folderlocation + iterf + str(iter1)) \n",
    "\n",
    "create_dir('./Background/')\n",
    "with zipfile.ZipFile('/kaggle/input/background-image-data/Background_data.zip', 'r') as zip_ref:\n",
    "    zip_ref.extractall('./Background/')"
   ]
  },
  {
   "cell_type": "code",
   "execution_count": 3,
   "id": "fa8985ae",
   "metadata": {
    "execution": {
     "iopub.execute_input": "2022-12-11T13:06:59.222690Z",
     "iopub.status.busy": "2022-12-11T13:06:59.221054Z",
     "iopub.status.idle": "2022-12-11T13:06:59.579292Z",
     "shell.execute_reply": "2022-12-11T13:06:59.578346Z"
    },
    "papermill": {
     "duration": 0.364734,
     "end_time": "2022-12-11T13:06:59.581683",
     "exception": false,
     "start_time": "2022-12-11T13:06:59.216949",
     "status": "completed"
    },
    "tags": []
   },
   "outputs": [],
   "source": [
    "image_index = 0\n",
    "for dirpath, dirnames, filenames in os.walk('./Background/'):\n",
    "    for fname in filenames:        \n",
    "        if image_index== 500:\n",
    "            shutil.copyfile(path, folderlocation + 'valid/'+str(Num_class)+'/'+str(image_index) + fname[-9:])\n",
    "            shutil.copyfile(path, folderlocation + 'test/'+str(Num_class)+'/'+str(image_index) + fname[-9:])\n",
    "            #break \n",
    "        path = os.path.join(dirpath,fname)\n",
    "        shutil.copyfile(path, folderlocation + 'train/'+str(Num_class)+'/'+str(image_index) + fname[-9:])\n",
    "        image_index = image_index +1\n",
    "\n"
   ]
  },
  {
   "cell_type": "code",
   "execution_count": 4,
   "id": "c293e8f1",
   "metadata": {
    "execution": {
     "iopub.execute_input": "2022-12-11T13:06:59.589514Z",
     "iopub.status.busy": "2022-12-11T13:06:59.588640Z",
     "iopub.status.idle": "2022-12-11T13:11:23.516124Z",
     "shell.execute_reply": "2022-12-11T13:11:23.515125Z"
    },
    "papermill": {
     "duration": 263.933809,
     "end_time": "2022-12-11T13:11:23.518650",
     "exception": false,
     "start_time": "2022-12-11T13:06:59.584841",
     "status": "completed"
    },
    "tags": []
   },
   "outputs": [
    {
     "name": "stdout",
     "output_type": "stream",
     "text": [
      "Downloading http://ai.stanford.edu/~acoates/stl10/stl10_binary.tar.gz to /files/stl10_binary.tar.gz\n"
     ]
    },
    {
     "data": {
      "application/vnd.jupyter.widget-view+json": {
       "model_id": "460e8a71516d4cdfb6dfe1aee0a0a1e8",
       "version_major": 2,
       "version_minor": 0
      },
      "text/plain": [
       "  0%|          | 0/2640397119 [00:00<?, ?it/s]"
      ]
     },
     "metadata": {},
     "output_type": "display_data"
    },
    {
     "name": "stdout",
     "output_type": "stream",
     "text": [
      "Extracting /files/stl10_binary.tar.gz to /files/\n",
      "Files already downloaded and verified\n"
     ]
    }
   ],
   "source": [
    "data_train = datasets.STL10('/files/', split='train', download=True,\n",
    "                             transform=transforms.Compose([ ]))\n",
    "        \n",
    "for iter1 in range(len(data_train)):\n",
    "    x, a = data_train[iter1] \n",
    "    if iter1%10 ==0:\n",
    "        imageio.imwrite(folderlocation + 'valid/'+str(a)+'/valid'+str(iter1)+'.png', x)\n",
    "    else:\n",
    "        imageio.imwrite(folderlocation + 'train/'+str(a)+'/train'+str(iter1)+'.png', x) \n",
    "        \n",
    "data_test = datasets.STL10('/files/', split='test', download=True,\n",
    "                             transform=transforms.Compose([ ]))\n",
    "\n",
    "for iter1 in range(len(data_test)):\n",
    "    x, a = data_test[iter1] \n",
    "    imageio.imwrite(folderlocation + 'test/'+str(a)+'/test'+str(iter1)+'.png', x)"
   ]
  },
  {
   "cell_type": "code",
   "execution_count": 5,
   "id": "cc9fda2d",
   "metadata": {
    "execution": {
     "iopub.execute_input": "2022-12-11T13:11:23.529564Z",
     "iopub.status.busy": "2022-12-11T13:11:23.528000Z",
     "iopub.status.idle": "2022-12-11T13:11:24.677836Z",
     "shell.execute_reply": "2022-12-11T13:11:24.676969Z"
    },
    "papermill": {
     "duration": 1.157377,
     "end_time": "2022-12-11T13:11:24.680135",
     "exception": false,
     "start_time": "2022-12-11T13:11:23.522758",
     "status": "completed"
    },
    "tags": []
   },
   "outputs": [
    {
     "data": {
      "image/png": "[encoded data removed]",
      "text/plain": [
       "<Figure size 432x288 with 1 Axes>"
      ]
     },
     "metadata": {
      "needs_background": "light"
     },
     "output_type": "display_data"
    }
   ],
   "source": [
    "# Data augmentation and normalization for training\n",
    "# Just normalization for validation\n",
    "data_transforms = {\n",
    "    'train': transforms.Compose([\n",
    "        transforms.Resize((272,272)),\n",
    "        transforms.RandomRotation(15,),\n",
    "        transforms.RandomCrop(256),\n",
    "        transforms.RandomHorizontalFlip(),\n",
    "        transforms.ToTensor(),\n",
    "        transforms.Normalize(mean=[0.507, 0.487, 0.441], std=[0.267, 0.256, 0.276])\n",
    "    ]),\n",
    "    'valid': transforms.Compose([\n",
    "        transforms.Resize(256),\n",
    "        transforms.ToTensor(),\n",
    "        transforms.Normalize(mean=[0.507, 0.487, 0.441], std=[0.267, 0.256, 0.276])\n",
    "    ]),\n",
    "    'test': transforms.Compose([\n",
    "        transforms.Resize(256),\n",
    "        transforms.ToTensor(),\n",
    "        transforms.Normalize(mean=[0.507, 0.487, 0.441], std=[0.267, 0.256, 0.276])\n",
    "    ]),\n",
    "}\n",
    "\n",
    "image_datasets = {x: datasets.ImageFolder(os.path.join(folderlocation, x),\n",
    "                                          data_transforms[x])\n",
    "                  for x in ['train', 'valid', 'test']}\n",
    "dataloaders = {x: torch.utils.data.DataLoader(image_datasets[x], batch_size=24,\n",
    "                                             shuffle=True, num_workers=0)\n",
    "              for x in ['train', 'valid', 'test']}\n",
    "dataset_sizes = {x: len(image_datasets[x]) for x in ['train', 'valid', 'test']}\n",
    "class_names = image_datasets['train'].classes\n",
    "\n",
    "device = torch.device(\"cuda:0\" if torch.cuda.is_available() else \"cpu\")\n",
    "\n",
    "def imshow(inp, title=None):\n",
    "    \"\"\"Imshow for Tensor.\"\"\"\n",
    "    inp = inp.numpy().transpose((1, 2, 0))\n",
    "    mean = numpy.array([0.507, 0.487, 0.441])\n",
    "    std = numpy.array([0.267, 0.256, 0.276])\n",
    "    inp = std * inp + mean\n",
    "    inp = numpy.clip(inp, 0, 1)\n",
    "    plt.imshow(inp)\n",
    "    if title is not None:\n",
    "        plt.title(title)\n",
    "    plt.pause(0.001)  # pause a bit so that plots are updated\n",
    "\n",
    "# Get a batch of training data\n",
    "inputs, classes = next(iter(dataloaders['train']))\n",
    "\n",
    "# Make a grid from batch\n",
    "out = utils.make_grid(inputs)\n",
    "\n",
    "imshow(out)"
   ]
  },
  {
   "cell_type": "code",
   "execution_count": 6,
   "id": "91d7ffdd",
   "metadata": {
    "execution": {
     "iopub.execute_input": "2022-12-11T13:11:24.690896Z",
     "iopub.status.busy": "2022-12-11T13:11:24.690585Z",
     "iopub.status.idle": "2022-12-11T13:11:37.776395Z",
     "shell.execute_reply": "2022-12-11T13:11:37.775372Z"
    },
    "papermill": {
     "duration": 13.094014,
     "end_time": "2022-12-11T13:11:37.779046",
     "exception": false,
     "start_time": "2022-12-11T13:11:24.685032",
     "status": "completed"
    },
    "tags": []
   },
   "outputs": [
    {
     "name": "stderr",
     "output_type": "stream",
     "text": [
      "Downloading: \"https://download.pytorch.org/models/wide_resnet101_2-32ee1156.pth\" to /root/.cache/torch/hub/checkpoints/wide_resnet101_2-32ee1156.pth\n"
     ]
    },
    {
     "data": {
      "application/vnd.jupyter.widget-view+json": {
       "model_id": "6384dced376d40518017b2af741fc495",
       "version_major": 2,
       "version_minor": 0
      },
      "text/plain": [
       "  0%|          | 0.00/243M [00:00<?, ?B/s]"
      ]
     },
     "metadata": {},
     "output_type": "display_data"
    }
   ],
   "source": [
    "model_ft = models.wide_resnet101_2(pretrained=True)\n",
    "num_ftrs = model_ft.fc.in_features\n",
    "model_ft.fc = torch.nn.Linear(num_ftrs, Num_class+1)\n",
    "\n",
    "def train_model(model, criterion, optimizer, scheduler, num_epochs=25):\n",
    "    since = time.time()\n",
    "\n",
    "    best_model_wts = copy.deepcopy(model.state_dict())\n",
    "    best_acc = 0.0\n",
    "    test_token=0\n",
    "\n",
    "    for epoch in range(num_epochs):\n",
    "        print('Epoch {}/{}'.format(epoch, num_epochs - 1))\n",
    "        print('-' * 10)\n",
    "\n",
    "        # Each epoch has a training and validation phase\n",
    "        for phase in ['train', 'valid', 'test']:\n",
    "            '''\n",
    "            Test when a better validation result is found\n",
    "            '''\n",
    "            if test_token ==0 and phase == 'test':\n",
    "                continue\n",
    "            test_token =0\n",
    "            \n",
    "            if phase == 'train':\n",
    "                model.train()  # Set model to training mode\n",
    "            else:\n",
    "                model.eval()   # Set model to evaluate mode\n",
    "\n",
    "            running_loss = 0.0\n",
    "            running_corrects = 0\n",
    "\n",
    "            # Iterate over data.\n",
    "            for inputs, labels in dataloaders[phase]:\n",
    "                inputs = inputs.to(device)\n",
    "                labels = labels.to(device)\n",
    "\n",
    "                # zero the parameter gradients\n",
    "                optimizer.zero_grad()\n",
    "                \n",
    "                # track history if only in train\n",
    "                with torch.set_grad_enabled(phase == 'train'):\n",
    "                    outputs = model(inputs)\n",
    "                    _, preds = torch.max(outputs, 1)\n",
    "                    loss = criterion(outputs, labels)\n",
    "\n",
    "                    # backward + optimize only if in training phase\n",
    "                    if phase == 'train':\n",
    "                        loss.backward()\n",
    "                        optimizer.step()\n",
    "\n",
    "                # statistics\n",
    "                running_loss += loss.item() * inputs.size(0)\n",
    "                running_corrects += torch.sum(preds == labels.data)\n",
    "            if phase == 'train':\n",
    "                scheduler.step()\n",
    "\n",
    "            epoch_loss = running_loss / dataset_sizes[phase]\n",
    "            epoch_acc = running_corrects.double() / dataset_sizes[phase]\n",
    "\n",
    "            print('{} Loss: {:.4f} Acc: {:.4f}'.format(\n",
    "                phase, epoch_loss, epoch_acc))\n",
    "\n",
    "            # deep copy the model\n",
    "            if phase == 'valid' and epoch_acc > best_acc:\n",
    "                best_acc = epoch_acc\n",
    "                best_model_wts = copy.deepcopy(model.state_dict())\n",
    "                test_token =1\n",
    "        print()\n",
    "\n",
    "    time_elapsed = time.time() - since\n",
    "    print('Training complete in {:.0f}m {:.0f}s'.format(\n",
    "        time_elapsed // 60, time_elapsed % 60))\n",
    "    print('Best val Acc: {:4f}'.format(best_acc))\n",
    "\n",
    "    # load best model weights\n",
    "    model.load_state_dict(best_model_wts)\n",
    "    return model"
   ]
  },
  {
   "cell_type": "code",
   "execution_count": 7,
   "id": "758e38d6",
   "metadata": {
    "execution": {
     "iopub.execute_input": "2022-12-11T13:11:37.791110Z",
     "iopub.status.busy": "2022-12-11T13:11:37.790527Z",
     "iopub.status.idle": "2022-12-11T14:32:12.787820Z",
     "shell.execute_reply": "2022-12-11T14:32:12.786796Z"
    },
    "papermill": {
     "duration": 4835.012636,
     "end_time": "2022-12-11T14:32:12.797118",
     "exception": false,
     "start_time": "2022-12-11T13:11:37.784482",
     "status": "completed"
    },
    "tags": []
   },
   "outputs": [
    {
     "name": "stdout",
     "output_type": "stream",
     "text": [
      "Epoch 0/19\n",
      "----------\n",
      "train Loss: 0.7492 Acc: 0.8207\n",
      "valid Loss: 0.1925 Acc: 0.9601\n",
      "test Loss: 0.1541 Acc: 0.9681\n",
      "\n",
      "Epoch 1/19\n",
      "----------\n",
      "train Loss: 0.1454 Acc: 0.9660\n",
      "valid Loss: 0.1195 Acc: 0.9701\n",
      "test Loss: 0.0883 Acc: 0.9783\n",
      "\n",
      "Epoch 2/19\n",
      "----------\n",
      "train Loss: 0.0957 Acc: 0.9767\n",
      "valid Loss: 0.0836 Acc: 0.9840\n",
      "test Loss: 0.0586 Acc: 0.9845\n",
      "\n",
      "Epoch 3/19\n",
      "----------\n",
      "train Loss: 0.0658 Acc: 0.9837\n",
      "valid Loss: 0.0730 Acc: 0.9820\n",
      "\n",
      "Epoch 4/19\n",
      "----------\n",
      "train Loss: 0.0564 Acc: 0.9861\n",
      "valid Loss: 0.0764 Acc: 0.9800\n",
      "\n",
      "Epoch 5/19\n",
      "----------\n",
      "train Loss: 0.0391 Acc: 0.9915\n",
      "valid Loss: 0.0687 Acc: 0.9840\n",
      "\n",
      "Epoch 6/19\n",
      "----------\n",
      "train Loss: 0.0323 Acc: 0.9935\n",
      "valid Loss: 0.0675 Acc: 0.9820\n",
      "\n",
      "Epoch 7/19\n",
      "----------\n",
      "train Loss: 0.0251 Acc: 0.9951\n",
      "valid Loss: 0.0659 Acc: 0.9840\n",
      "\n",
      "Epoch 8/19\n",
      "----------\n",
      "train Loss: 0.0246 Acc: 0.9952\n",
      "valid Loss: 0.0629 Acc: 0.9860\n",
      "test Loss: 0.0471 Acc: 0.9849\n",
      "\n",
      "Epoch 9/19\n",
      "----------\n",
      "train Loss: 0.0251 Acc: 0.9945\n",
      "valid Loss: 0.0590 Acc: 0.9860\n",
      "\n",
      "Epoch 10/19\n",
      "----------\n",
      "train Loss: 0.0247 Acc: 0.9955\n",
      "valid Loss: 0.0636 Acc: 0.9840\n",
      "\n",
      "Epoch 11/19\n",
      "----------\n",
      "train Loss: 0.0239 Acc: 0.9945\n",
      "valid Loss: 0.0738 Acc: 0.9820\n",
      "\n",
      "Epoch 12/19\n",
      "----------\n",
      "train Loss: 0.0219 Acc: 0.9964\n",
      "valid Loss: 0.0670 Acc: 0.9840\n",
      "\n",
      "Epoch 13/19\n",
      "----------\n",
      "train Loss: 0.0196 Acc: 0.9961\n",
      "valid Loss: 0.0599 Acc: 0.9860\n",
      "\n",
      "Epoch 14/19\n",
      "----------\n",
      "train Loss: 0.0241 Acc: 0.9951\n",
      "valid Loss: 0.0619 Acc: 0.9860\n",
      "\n",
      "Epoch 15/19\n",
      "----------\n",
      "train Loss: 0.0214 Acc: 0.9960\n",
      "valid Loss: 0.0578 Acc: 0.9860\n",
      "\n",
      "Epoch 16/19\n",
      "----------\n",
      "train Loss: 0.0188 Acc: 0.9977\n",
      "valid Loss: 0.0617 Acc: 0.9860\n",
      "\n",
      "Epoch 17/19\n",
      "----------\n",
      "train Loss: 0.0235 Acc: 0.9943\n",
      "valid Loss: 0.0659 Acc: 0.9840\n",
      "\n",
      "Epoch 18/19\n",
      "----------\n",
      "train Loss: 0.0220 Acc: 0.9953\n",
      "valid Loss: 0.0616 Acc: 0.9860\n",
      "\n",
      "Epoch 19/19\n",
      "----------\n",
      "train Loss: 0.0202 Acc: 0.9964\n",
      "valid Loss: 0.0601 Acc: 0.9880\n",
      "test Loss: 0.0462 Acc: 0.9861\n",
      "\n",
      "Training complete in 80m 32s\n",
      "Best val Acc: 0.988024\n"
     ]
    }
   ],
   "source": [
    "model_ft = model_ft.to(device)\n",
    "\n",
    "criterion = torch.nn.CrossEntropyLoss()\n",
    "\n",
    "# Observe that all parameters are being optimized\n",
    "optimizer_ft = torch.optim.SGD(model_ft.parameters(), lr=0.0005, momentum=0.9)\n",
    "\n",
    "# Decay LR by a factor of 0.1 every 7 epochs\n",
    "exp_lr_scheduler = torch.optim.lr_scheduler.StepLR(optimizer_ft, step_size=7, gamma=0.1)\n",
    "\n",
    "model_ft = train_model(model_ft, criterion, optimizer_ft, exp_lr_scheduler,\n",
    "                       num_epochs=20) # num_epochs=20 default"
   ]
  },
  {
   "cell_type": "markdown",
   "id": "822edb2c",
   "metadata": {
    "papermill": {
     "duration": 0.006744,
     "end_time": "2022-12-11T14:32:12.810881",
     "exception": false,
     "start_time": "2022-12-11T14:32:12.804137",
     "status": "completed"
    },
    "tags": []
   },
   "source": [
    "# Save Model"
   ]
  },
  {
   "cell_type": "code",
   "execution_count": 8,
   "id": "241fbb3a",
   "metadata": {
    "execution": {
     "iopub.execute_input": "2022-12-11T14:32:12.825850Z",
     "iopub.status.busy": "2022-12-11T14:32:12.825529Z",
     "iopub.status.idle": "2022-12-11T14:32:13.954100Z",
     "shell.execute_reply": "2022-12-11T14:32:13.953167Z"
    },
    "papermill": {
     "duration": 1.139319,
     "end_time": "2022-12-11T14:32:13.957062",
     "exception": false,
     "start_time": "2022-12-11T14:32:12.817743",
     "status": "completed"
    },
    "tags": []
   },
   "outputs": [
    {
     "data": {
      "text/plain": [
       "'\\n#Guideline for loading model in future \\ndevice = torch.device(\"cuda:0\" if torch.cuda.is_available() else \"cpu\")\\nmodel = models.wide_resnet101_2(pretrained=False) \\n        #We only need the structure to transfer parameters\\n        \\nnum_ftrs = model.fc.in_features\\nmodel.fc = nn.Linear(num_ftrs, Num_class)\\n\\nmodel.load_state_dict(torch.load(PATH2, map_location=device))\\n'"
      ]
     },
     "execution_count": 8,
     "metadata": {},
     "output_type": "execute_result"
    }
   ],
   "source": [
    "PATH = \"./model_background.pt\"\n",
    "torch.save(model_ft.state_dict(), PATH)\n",
    "\n",
    "'''\n",
    "#Guideline for loading model in future \n",
    "device = torch.device(\"cuda:0\" if torch.cuda.is_available() else \"cpu\")\n",
    "model = models.wide_resnet101_2(pretrained=False) \n",
    "        #We only need the structure to transfer parameters\n",
    "        \n",
    "num_ftrs = model.fc.in_features\n",
    "model.fc = nn.Linear(num_ftrs, Num_class)\n",
    "\n",
    "model.load_state_dict(torch.load(PATH2, map_location=device))\n",
    "'''"
   ]
  },
  {
   "cell_type": "markdown",
   "id": "71d296c8",
   "metadata": {
    "papermill": {
     "duration": 0.009899,
     "end_time": "2022-12-11T14:32:13.978116",
     "exception": false,
     "start_time": "2022-12-11T14:32:13.968217",
     "status": "completed"
    },
    "tags": []
   },
   "source": [
    "# Delete Downloaded Data\n",
    "### Notebook with basic STL-10 data is saving the STL-10 data.\n",
    "### We can get background data from the background dataset."
   ]
  },
  {
   "cell_type": "code",
   "execution_count": 9,
   "id": "930216c0",
   "metadata": {
    "execution": {
     "iopub.execute_input": "2022-12-11T14:32:13.999796Z",
     "iopub.status.busy": "2022-12-11T14:32:13.999359Z",
     "iopub.status.idle": "2022-12-11T14:32:14.577636Z",
     "shell.execute_reply": "2022-12-11T14:32:14.576681Z"
    },
    "papermill": {
     "duration": 0.592251,
     "end_time": "2022-12-11T14:32:14.580487",
     "exception": false,
     "start_time": "2022-12-11T14:32:13.988236",
     "status": "completed"
    },
    "tags": []
   },
   "outputs": [],
   "source": [
    "shutil.rmtree('./data/')"
   ]
  }
 ],
 "metadata": {
  "kernelspec": {
   "display_name": "Python 3",
   "language": "python",
   "name": "python3"
  },
  "language_info": {
   "codemirror_mode": {
    "name": "ipython",
    "version": 3
   },
   "file_extension": ".py",
   "mimetype": "text/x-python",
   "name": "python",
   "nbconvert_exporter": "python",
   "pygments_lexer": "ipython3",
   "version": "3.7.12"
  },
  "papermill": {
   "default_parameters": {},
   "duration": 5128.356037,
   "end_time": "2022-12-11T14:32:16.019248",
   "environment_variables": {},
   "exception": null,
   "input_path": "__notebook__.ipynb",
   "output_path": "__notebook__.ipynb",
   "parameters": {},
   "start_time": "2022-12-11T13:06:47.663211",
   "version": "2.3.4"
  },
  "widgets": {
   "application/vnd.jupyter.widget-state+json": {
    "state": {
     "0b232fe89e3d4024aea0687bb6f0ec2e": {
      "model_module": "@jupyter-widgets/base",
      "model_module_version": "1.2.0",
      "model_name": "LayoutModel",
      "state": {
       "_model_module": "@jupyter-widgets/base",
       "_model_module_version": "1.2.0",
       "_model_name": "LayoutModel",
       "_view_count": null,
       "_view_module": "@jupyter-widgets/base",
       "_view_module_version": "1.2.0",
       "_view_name": "LayoutView",
       "align_content": null,
       "align_items": null,
       "align_self": null,
       "border": null,
       "bottom": null,
       "display": null,
       "flex": null,
       "flex_flow": null,
       "grid_area": null,
       "grid_auto_columns": null,
       "grid_auto_flow": null,
       "grid_auto_rows": null,
       "grid_column": null,
       "grid_gap": null,
       "grid_row": null,
       "grid_template_areas": null,
       "grid_template_columns": null,
       "grid_template_rows": null,
       "height": null,
       "justify_content": null,
       "justify_items": null,
       "left": null,
       "margin": null,
       "max_height": null,
       "max_width": null,
       "min_height": null,
       "min_width": null,
       "object_fit": null,
       "object_position": null,
       "order": null,
       "overflow": null,
       "overflow_x": null,
       "overflow_y": null,
       "padding": null,
       "right": null,
       "top": null,
       "visibility": null,
       "width": null
      }
     },
     "16e6ab62744b46c9bae2758a6519537f": {
      "model_module": "@jupyter-widgets/controls",
      "model_module_version": "1.5.0",
      "model_name": "ProgressStyleModel",
      "state": {
       "_model_module": "@jupyter-widgets/controls",
       "_model_module_version": "1.5.0",
       "_model_name": "ProgressStyleModel",
       "_view_count": null,
       "_view_module": "@jupyter-widgets/base",
       "_view_module_version": "1.2.0",
       "_view_name": "StyleView",
       "bar_color": null,
       "description_width": ""
      }
     },
     "1a85e16cb6694c00b3e01f6ae8fe6925": {
      "model_module": "@jupyter-widgets/controls",
      "model_module_version": "1.5.0",
      "model_name": "DescriptionStyleModel",
      "state": {
       "_model_module": "@jupyter-widgets/controls",
       "_model_module_version": "1.5.0",
       "_model_name": "DescriptionStyleModel",
       "_view_count": null,
       "_view_module": "@jupyter-widgets/base",
       "_view_module_version": "1.2.0",
       "_view_name": "StyleView",
       "description_width": ""
      }
     },
     "2462f750e6674e8eb935cfec302b1b2f": {
      "model_module": "@jupyter-widgets/controls",
      "model_module_version": "1.5.0",
      "model_name": "HTMLModel",
      "state": {
       "_dom_classes": [],
       "_model_module": "@jupyter-widgets/controls",
       "_model_module_version": "1.5.0",
       "_model_name": "HTMLModel",
       "_view_count": null,
       "_view_module": "@jupyter-widgets/controls",
       "_view_module_version": "1.5.0",
       "_view_name": "HTMLView",
       "description": "",
       "description_tooltip": null,
       "layout": "IPY_MODEL_be0b4b50ffea4ef3aee0238c0f18d9bc",
       "placeholder": "​",
       "style": "IPY_MODEL_aab0744e46dd46a3a446081db54ff148",
       "value": ""
      }
     },
     "2ea9586961d745f694f953262f61276d": {
      "model_module": "@jupyter-widgets/base",
      "model_module_version": "1.2.0",
      "model_name": "LayoutModel",
      "state": {
       "_model_module": "@jupyter-widgets/base",
       "_model_module_version": "1.2.0",
       "_model_name": "LayoutModel",
       "_view_count": null,
       "_view_module": "@jupyter-widgets/base",
       "_view_module_version": "1.2.0",
       "_view_name": "LayoutView",
       "align_content": null,
       "align_items": null,
       "align_self": null,
       "border": null,
       "bottom": null,
       "display": null,
       "flex": null,
       "flex_flow": null,
       "grid_area": null,
       "grid_auto_columns": null,
       "grid_auto_flow": null,
       "grid_auto_rows": null,
       "grid_column": null,
       "grid_gap": null,
       "grid_row": null,
       "grid_template_areas": null,
       "grid_template_columns": null,
       "grid_template_rows": null,
       "height": null,
       "justify_content": null,
       "justify_items": null,
       "left": null,
       "margin": null,
       "max_height": null,
       "max_width": null,
       "min_height": null,
       "min_width": null,
       "object_fit": null,
       "object_position": null,
       "order": null,
       "overflow": null,
       "overflow_x": null,
       "overflow_y": null,
       "padding": null,
       "right": null,
       "top": null,
       "visibility": null,
       "width": null
      }
     },
     "3cadcb01bb444d08885d0eabee0da9a6": {
      "model_module": "@jupyter-widgets/controls",
      "model_module_version": "1.5.0",
      "model_name": "HTMLModel",
      "state": {
       "_dom_classes": [],
       "_model_module": "@jupyter-widgets/controls",
       "_model_module_version": "1.5.0",
       "_model_name": "HTMLModel",
       "_view_count": null,
       "_view_module": "@jupyter-widgets/controls",
       "_view_module_version": "1.5.0",
       "_view_name": "HTMLView",
       "description": "",
       "description_tooltip": null,
       "layout": "IPY_MODEL_658a2699eda04aef9463cd43414fe595",
       "placeholder": "​",
       "style": "IPY_MODEL_d580972c96d64463bc242ce199abd22a",
       "value": "100%"
      }
     },
     "460e8a71516d4cdfb6dfe1aee0a0a1e8": {
      "model_module": "@jupyter-widgets/controls",
      "model_module_version": "1.5.0",
      "model_name": "HBoxModel",
      "state": {
       "_dom_classes": [],
       "_model_module": "@jupyter-widgets/controls",
       "_model_module_version": "1.5.0",
       "_model_name": "HBoxModel",
       "_view_count": null,
       "_view_module": "@jupyter-widgets/controls",
       "_view_module_version": "1.5.0",
       "_view_name": "HBoxView",
       "box_style": "",
       "children": [
        "IPY_MODEL_2462f750e6674e8eb935cfec302b1b2f",
        "IPY_MODEL_ad78f9dd8f9c41a2bff8379a608561cb",
        "IPY_MODEL_f956465658b54f6f9ded8702b3a2fdaa"
       ],
       "layout": "IPY_MODEL_0b232fe89e3d4024aea0687bb6f0ec2e"
      }
     },
     "51ebb9dd2fde4564b4da79133f8b2a70": {
      "model_module": "@jupyter-widgets/controls",
      "model_module_version": "1.5.0",
      "model_name": "FloatProgressModel",
      "state": {
       "_dom_classes": [],
       "_model_module": "@jupyter-widgets/controls",
       "_model_module_version": "1.5.0",
       "_model_name": "FloatProgressModel",
       "_view_count": null,
       "_view_module": "@jupyter-widgets/controls",
       "_view_module_version": "1.5.0",
       "_view_name": "ProgressView",
       "bar_style": "success",
       "description": "",
       "description_tooltip": null,
       "layout": "IPY_MODEL_2ea9586961d745f694f953262f61276d",
       "max": 254695146.0,
       "min": 0.0,
       "orientation": "horizontal",
       "style": "IPY_MODEL_16e6ab62744b46c9bae2758a6519537f",
       "value": 254695146.0
      }
     },
     "6384dced376d40518017b2af741fc495": {
      "model_module": "@jupyter-widgets/controls",
      "model_module_version": "1.5.0",
      "model_name": "HBoxModel",
      "state": {
       "_dom_classes": [],
       "_model_module": "@jupyter-widgets/controls",
       "_model_module_version": "1.5.0",
       "_model_name": "HBoxModel",
       "_view_count": null,
       "_view_module": "@jupyter-widgets/controls",
       "_view_module_version": "1.5.0",
       "_view_name": "HBoxView",
       "box_style": "",
       "children": [
        "IPY_MODEL_3cadcb01bb444d08885d0eabee0da9a6",
        "IPY_MODEL_51ebb9dd2fde4564b4da79133f8b2a70",
        "IPY_MODEL_65149af9426f45a9b10d8b4a6ff7a24a"
       ],
       "layout": "IPY_MODEL_c685e7a476a0401bb4f1de8181bfc0f9"
      }
     },
     "65149af9426f45a9b10d8b4a6ff7a24a": {
      "model_module": "@jupyter-widgets/controls",
      "model_module_version": "1.5.0",
      "model_name": "HTMLModel",
      "state": {
       "_dom_classes": [],
       "_model_module": "@jupyter-widgets/controls",
       "_model_module_version": "1.5.0",
       "_model_name": "HTMLModel",
       "_view_count": null,
       "_view_module": "@jupyter-widgets/controls",
       "_view_module_version": "1.5.0",
       "_view_name": "HTMLView",
       "description": "",
       "description_tooltip": null,
       "layout": "IPY_MODEL_a929df2fe1d84b0d96a0dfdd149be9ec",
       "placeholder": "​",
       "style": "IPY_MODEL_1a85e16cb6694c00b3e01f6ae8fe6925",
       "value": " 243M/243M [00:09&lt;00:00, 28.2MB/s]"
      }
     },
     "658a2699eda04aef9463cd43414fe595": {
      "model_module": "@jupyter-widgets/base",
      "model_module_version": "1.2.0",
      "model_name": "LayoutModel",
      "state": {
       "_model_module": "@jupyter-widgets/base",
       "_model_module_version": "1.2.0",
       "_model_name": "LayoutModel",
       "_view_count": null,
       "_view_module": "@jupyter-widgets/base",
       "_view_module_version": "1.2.0",
       "_view_name": "LayoutView",
       "align_content": null,
       "align_items": null,
       "align_self": null,
       "border": null,
       "bottom": null,
       "display": null,
       "flex": null,
       "flex_flow": null,
       "grid_area": null,
       "grid_auto_columns": null,
       "grid_auto_flow": null,
       "grid_auto_rows": null,
       "grid_column": null,
       "grid_gap": null,
       "grid_row": null,
       "grid_template_areas": null,
       "grid_template_columns": null,
       "grid_template_rows": null,
       "height": null,
       "justify_content": null,
       "justify_items": null,
       "left": null,
       "margin": null,
       "max_height": null,
       "max_width": null,
       "min_height": null,
       "min_width": null,
       "object_fit": null,
       "object_position": null,
       "order": null,
       "overflow": null,
       "overflow_x": null,
       "overflow_y": null,
       "padding": null,
       "right": null,
       "top": null,
       "visibility": null,
       "width": null
      }
     },
     "737849dc1f7849f4816fe8fa6599b601": {
      "model_module": "@jupyter-widgets/controls",
      "model_module_version": "1.5.0",
      "model_name": "DescriptionStyleModel",
      "state": {
       "_model_module": "@jupyter-widgets/controls",
       "_model_module_version": "1.5.0",
       "_model_name": "DescriptionStyleModel",
       "_view_count": null,
       "_view_module": "@jupyter-widgets/base",
       "_view_module_version": "1.2.0",
       "_view_name": "StyleView",
       "description_width": ""
      }
     },
     "80a3587d23c944a5baa10cd27c67d1c3": {
      "model_module": "@jupyter-widgets/base",
      "model_module_version": "1.2.0",
      "model_name": "LayoutModel",
      "state": {
       "_model_module": "@jupyter-widgets/base",
       "_model_module_version": "1.2.0",
       "_model_name": "LayoutModel",
       "_view_count": null,
       "_view_module": "@jupyter-widgets/base",
       "_view_module_version": "1.2.0",
       "_view_name": "LayoutView",
       "align_content": null,
       "align_items": null,
       "align_self": null,
       "border": null,
       "bottom": null,
       "display": null,
       "flex": null,
       "flex_flow": null,
       "grid_area": null,
       "grid_auto_columns": null,
       "grid_auto_flow": null,
       "grid_auto_rows": null,
       "grid_column": null,
       "grid_gap": null,
       "grid_row": null,
       "grid_template_areas": null,
       "grid_template_columns": null,
       "grid_template_rows": null,
       "height": null,
       "justify_content": null,
       "justify_items": null,
       "left": null,
       "margin": null,
       "max_height": null,
       "max_width": null,
       "min_height": null,
       "min_width": null,
       "object_fit": null,
       "object_position": null,
       "order": null,
       "overflow": null,
       "overflow_x": null,
       "overflow_y": null,
       "padding": null,
       "right": null,
       "top": null,
       "visibility": null,
       "width": null
      }
     },
     "a929df2fe1d84b0d96a0dfdd149be9ec": {
      "model_module": "@jupyter-widgets/base",
      "model_module_version": "1.2.0",
      "model_name": "LayoutModel",
      "state": {
       "_model_module": "@jupyter-widgets/base",
       "_model_module_version": "1.2.0",
       "_model_name": "LayoutModel",
       "_view_count": null,
       "_view_module": "@jupyter-widgets/base",
       "_view_module_version": "1.2.0",
       "_view_name": "LayoutView",
       "align_content": null,
       "align_items": null,
       "align_self": null,
       "border": null,
       "bottom": null,
       "display": null,
       "flex": null,
       "flex_flow": null,
       "grid_area": null,
       "grid_auto_columns": null,
       "grid_auto_flow": null,
       "grid_auto_rows": null,
       "grid_column": null,
       "grid_gap": null,
       "grid_row": null,
       "grid_template_areas": null,
       "grid_template_columns": null,
       "grid_template_rows": null,
       "height": null,
       "justify_content": null,
       "justify_items": null,
       "left": null,
       "margin": null,
       "max_height": null,
       "max_width": null,
       "min_height": null,
       "min_width": null,
       "object_fit": null,
       "object_position": null,
       "order": null,
       "overflow": null,
       "overflow_x": null,
       "overflow_y": null,
       "padding": null,
       "right": null,
       "top": null,
       "visibility": null,
       "width": null
      }
     },
     "aab0744e46dd46a3a446081db54ff148": {
      "model_module": "@jupyter-widgets/controls",
      "model_module_version": "1.5.0",
      "model_name": "DescriptionStyleModel",
      "state": {
       "_model_module": "@jupyter-widgets/controls",
       "_model_module_version": "1.5.0",
       "_model_name": "DescriptionStyleModel",
       "_view_count": null,
       "_view_module": "@jupyter-widgets/base",
       "_view_module_version": "1.2.0",
       "_view_name": "StyleView",
       "description_width": ""
      }
     },
     "ad78f9dd8f9c41a2bff8379a608561cb": {
      "model_module": "@jupyter-widgets/controls",
      "model_module_version": "1.5.0",
      "model_name": "FloatProgressModel",
      "state": {
       "_dom_classes": [],
       "_model_module": "@jupyter-widgets/controls",
       "_model_module_version": "1.5.0",
       "_model_name": "FloatProgressModel",
       "_view_count": null,
       "_view_module": "@jupyter-widgets/controls",
       "_view_module_version": "1.5.0",
       "_view_name": "ProgressView",
       "bar_style": "success",
       "description": "",
       "description_tooltip": null,
       "layout": "IPY_MODEL_f4ca157d48a2480f84054211afdfc36b",
       "max": 2640397119.0,
       "min": 0.0,
       "orientation": "horizontal",
       "style": "IPY_MODEL_f2c99207b2d0417fa34dc300e30e4c18",
       "value": 2640397119.0
      }
     },
     "be0b4b50ffea4ef3aee0238c0f18d9bc": {
      "model_module": "@jupyter-widgets/base",
      "model_module_version": "1.2.0",
      "model_name": "LayoutModel",
      "state": {
       "_model_module": "@jupyter-widgets/base",
       "_model_module_version": "1.2.0",
       "_model_name": "LayoutModel",
       "_view_count": null,
       "_view_module": "@jupyter-widgets/base",
       "_view_module_version": "1.2.0",
       "_view_name": "LayoutView",
       "align_content": null,
       "align_items": null,
       "align_self": null,
       "border": null,
       "bottom": null,
       "display": null,
       "flex": null,
       "flex_flow": null,
       "grid_area": null,
       "grid_auto_columns": null,
       "grid_auto_flow": null,
       "grid_auto_rows": null,
       "grid_column": null,
       "grid_gap": null,
       "grid_row": null,
       "grid_template_areas": null,
       "grid_template_columns": null,
       "grid_template_rows": null,
       "height": null,
       "justify_content": null,
       "justify_items": null,
       "left": null,
       "margin": null,
       "max_height": null,
       "max_width": null,
       "min_height": null,
       "min_width": null,
       "object_fit": null,
       "object_position": null,
       "order": null,
       "overflow": null,
       "overflow_x": null,
       "overflow_y": null,
       "padding": null,
       "right": null,
       "top": null,
       "visibility": null,
       "width": null
      }
     },
     "c685e7a476a0401bb4f1de8181bfc0f9": {
      "model_module": "@jupyter-widgets/base",
      "model_module_version": "1.2.0",
      "model_name": "LayoutModel",
      "state": {
       "_model_module": "@jupyter-widgets/base",
       "_model_module_version": "1.2.0",
       "_model_name": "LayoutModel",
       "_view_count": null,
       "_view_module": "@jupyter-widgets/base",
       "_view_module_version": "1.2.0",
       "_view_name": "LayoutView",
       "align_content": null,
       "align_items": null,
       "align_self": null,
       "border": null,
       "bottom": null,
       "display": null,
       "flex": null,
       "flex_flow": null,
       "grid_area": null,
       "grid_auto_columns": null,
       "grid_auto_flow": null,
       "grid_auto_rows": null,
       "grid_column": null,
       "grid_gap": null,
       "grid_row": null,
       "grid_template_areas": null,
       "grid_template_columns": null,
       "grid_template_rows": null,
       "height": null,
       "justify_content": null,
       "justify_items": null,
       "left": null,
       "margin": null,
       "max_height": null,
       "max_width": null,
       "min_height": null,
       "min_width": null,
       "object_fit": null,
       "object_position": null,
       "order": null,
       "overflow": null,
       "overflow_x": null,
       "overflow_y": null,
       "padding": null,
       "right": null,
       "top": null,
       "visibility": null,
       "width": null
      }
     },
     "d580972c96d64463bc242ce199abd22a": {
      "model_module": "@jupyter-widgets/controls",
      "model_module_version": "1.5.0",
      "model_name": "DescriptionStyleModel",
      "state": {
       "_model_module": "@jupyter-widgets/controls",
       "_model_module_version": "1.5.0",
       "_model_name": "DescriptionStyleModel",
       "_view_count": null,
       "_view_module": "@jupyter-widgets/base",
       "_view_module_version": "1.2.0",
       "_view_name": "StyleView",
       "description_width": ""
      }
     },
     "f2c99207b2d0417fa34dc300e30e4c18": {
      "model_module": "@jupyter-widgets/controls",
      "model_module_version": "1.5.0",
      "model_name": "ProgressStyleModel",
      "state": {
       "_model_module": "@jupyter-widgets/controls",
       "_model_module_version": "1.5.0",
       "_model_name": "ProgressStyleModel",
       "_view_count": null,
       "_view_module": "@jupyter-widgets/base",
       "_view_module_version": "1.2.0",
       "_view_name": "StyleView",
       "bar_color": null,
       "description_width": ""
      }
     },
     "f4ca157d48a2480f84054211afdfc36b": {
      "model_module": "@jupyter-widgets/base",
      "model_module_version": "1.2.0",
      "model_name": "LayoutModel",
      "state": {
       "_model_module": "@jupyter-widgets/base",
       "_model_module_version": "1.2.0",
       "_model_name": "LayoutModel",
       "_view_count": null,
       "_view_module": "@jupyter-widgets/base",
       "_view_module_version": "1.2.0",
       "_view_name": "LayoutView",
       "align_content": null,
       "align_items": null,
       "align_self": null,
       "border": null,
       "bottom": null,
       "display": null,
       "flex": null,
       "flex_flow": null,
       "grid_area": null,
       "grid_auto_columns": null,
       "grid_auto_flow": null,
       "grid_auto_rows": null,
       "grid_column": null,
       "grid_gap": null,
       "grid_row": null,
       "grid_template_areas": null,
       "grid_template_columns": null,
       "grid_template_rows": null,
       "height": null,
       "justify_content": null,
       "justify_items": null,
       "left": null,
       "margin": null,
       "max_height": null,
       "max_width": null,
       "min_height": null,
       "min_width": null,
       "object_fit": null,
       "object_position": null,
       "order": null,
       "overflow": null,
       "overflow_x": null,
       "overflow_y": null,
       "padding": null,
       "right": null,
       "top": null,
       "visibility": null,
       "width": null
      }
     },
     "f956465658b54f6f9ded8702b3a2fdaa": {
      "model_module": "@jupyter-widgets/controls",
      "model_module_version": "1.5.0",
      "model_name": "HTMLModel",
      "state": {
       "_dom_classes": [],
       "_model_module": "@jupyter-widgets/controls",
       "_model_module_version": "1.5.0",
       "_model_name": "HTMLModel",
       "_view_count": null,
       "_view_module": "@jupyter-widgets/controls",
       "_view_module_version": "1.5.0",
       "_view_name": "HTMLView",
       "description": "",
       "description_tooltip": null,
       "layout": "IPY_MODEL_80a3587d23c944a5baa10cd27c67d1c3",
       "placeholder": "​",
       "style": "IPY_MODEL_737849dc1f7849f4816fe8fa6599b601",
       "value": " 2640397312/? [02:48&lt;00:00, 18704793.85it/s]"
      }
     }
    },
    "version_major": 2,
    "version_minor": 0
   }
  }
 },
 "nbformat": 4,
 "nbformat_minor": 5
}
