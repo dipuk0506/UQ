{
 "cells": [
  {
   "cell_type": "markdown",
   "id": "a989bab1",
   "metadata": {
    "papermill": {
     "duration": 0.021637,
     "end_time": "2022-08-03T05:10:15.632168",
     "exception": false,
     "start_time": "2022-08-03T05:10:15.610531",
     "status": "completed"
    },
    "tags": []
   },
   "source": [
    "# UB NN Training\n",
    "## Loading Dataset"
   ]
  },
  {
   "cell_type": "code",
   "execution_count": 1,
   "id": "5a8009ec",
   "metadata": {
    "execution": {
     "iopub.execute_input": "2022-08-03T05:10:15.674410Z",
     "iopub.status.busy": "2022-08-03T05:10:15.673842Z",
     "iopub.status.idle": "2022-08-03T05:10:15.720951Z",
     "shell.execute_reply": "2022-08-03T05:10:15.720337Z"
    },
    "papermill": {
     "duration": 0.073679,
     "end_time": "2022-08-03T05:10:15.723391",
     "exception": false,
     "start_time": "2022-08-03T05:10:15.649712",
     "status": "completed"
    },
    "tags": []
   },
   "outputs": [
    {
     "data": {
      "text/html": [
       "<div>\n",
       "<style scoped>\n",
       "    .dataframe tbody tr th:only-of-type {\n",
       "        vertical-align: middle;\n",
       "    }\n",
       "\n",
       "    .dataframe tbody tr th {\n",
       "        vertical-align: top;\n",
       "    }\n",
       "\n",
       "    .dataframe thead th {\n",
       "        text-align: right;\n",
       "    }\n",
       "</style>\n",
       "<table border=\"1\" class=\"dataframe\">\n",
       "  <thead>\n",
       "    <tr style=\"text-align: right;\">\n",
       "      <th></th>\n",
       "      <th>Input1</th>\n",
       "      <th>Input2</th>\n",
       "      <th>Input3</th>\n",
       "      <th>Output</th>\n",
       "    </tr>\n",
       "  </thead>\n",
       "  <tbody>\n",
       "    <tr>\n",
       "      <th>0</th>\n",
       "      <td>2.659116</td>\n",
       "      <td>4.673695</td>\n",
       "      <td>1.231898</td>\n",
       "      <td>-1.010633</td>\n",
       "    </tr>\n",
       "    <tr>\n",
       "      <th>1</th>\n",
       "      <td>6.172297</td>\n",
       "      <td>0.308095</td>\n",
       "      <td>6.197296</td>\n",
       "      <td>0.140169</td>\n",
       "    </tr>\n",
       "    <tr>\n",
       "      <th>2</th>\n",
       "      <td>1.620350</td>\n",
       "      <td>3.752477</td>\n",
       "      <td>3.010036</td>\n",
       "      <td>0.014108</td>\n",
       "    </tr>\n",
       "    <tr>\n",
       "      <th>3</th>\n",
       "      <td>6.269573</td>\n",
       "      <td>3.173038</td>\n",
       "      <td>6.019555</td>\n",
       "      <td>-0.016590</td>\n",
       "    </tr>\n",
       "    <tr>\n",
       "      <th>4</th>\n",
       "      <td>3.946378</td>\n",
       "      <td>3.264015</td>\n",
       "      <td>2.245954</td>\n",
       "      <td>1.222183</td>\n",
       "    </tr>\n",
       "  </tbody>\n",
       "</table>\n",
       "</div>"
      ],
      "text/plain": [
       "     Input1    Input2    Input3    Output\n",
       "0  2.659116  4.673695  1.231898 -1.010633\n",
       "1  6.172297  0.308095  6.197296  0.140169\n",
       "2  1.620350  3.752477  3.010036  0.014108\n",
       "3  6.269573  3.173038  6.019555 -0.016590\n",
       "4  3.946378  3.264015  2.245954  1.222183"
      ]
     },
     "execution_count": 1,
     "metadata": {},
     "output_type": "execute_result"
    }
   ],
   "source": [
    "train_csv_path = '../input/toy-dataset-for-regression-and-uq/Data3_Train.csv'\n",
    "test_csv_path = '../input/toy-dataset-for-regression-and-uq/Data3_Test.csv'\n",
    "val_csv_path = '../input/toy-dataset-for-regression-and-uq/Data3_Val.csv'\n",
    "\n",
    "\n",
    "import matplotlib.pyplot as plt\n",
    "import numpy as np\n",
    "import pandas as pd\n",
    "train_df = pd.read_csv(train_csv_path)\n",
    "train_df.head()"
   ]
  },
  {
   "cell_type": "markdown",
   "id": "ce0e1311",
   "metadata": {
    "papermill": {
     "duration": 0.016613,
     "end_time": "2022-08-03T05:10:15.757706",
     "exception": false,
     "start_time": "2022-08-03T05:10:15.741093",
     "status": "completed"
    },
    "tags": []
   },
   "source": [
    "## Loading Similarity Information"
   ]
  },
  {
   "cell_type": "code",
   "execution_count": 2,
   "id": "0b3c81ca",
   "metadata": {
    "execution": {
     "iopub.execute_input": "2022-08-03T05:10:15.793508Z",
     "iopub.status.busy": "2022-08-03T05:10:15.792999Z",
     "iopub.status.idle": "2022-08-03T05:10:16.861719Z",
     "shell.execute_reply": "2022-08-03T05:10:16.861067Z"
    },
    "papermill": {
     "duration": 1.089009,
     "end_time": "2022-08-03T05:10:16.863931",
     "exception": false,
     "start_time": "2022-08-03T05:10:15.774922",
     "status": "completed"
    },
    "tags": []
   },
   "outputs": [
    {
     "name": "stdout",
     "output_type": "stream",
     "text": [
      "Number of Similar Samples Considered 100\n",
      "Target Shape (5000,) Similar Samples Matrix Shape: (5000, 100)\n"
     ]
    }
   ],
   "source": [
    "import pickle as pkl\n",
    "\n",
    "fileName =  '../input/a1-data-to-similar-events/Similarity'\n",
    "fileObject2 = open(fileName, 'rb')\n",
    "Imported_data = pkl.load(fileObject2)\n",
    "fileObject2.close()\n",
    "\n",
    "#print('Similarity Thresholds:',Imported_data[:,0])\n",
    "\n",
    "#print('Most Similarity at:',Imported_data[:,1])\n",
    "\n",
    "Similar_event_count = len(Imported_data[0,:])-1\n",
    "print('Number of Similar Samples Considered', Similar_event_count)\n",
    "\n",
    "Similarity_thresholds = Imported_data[:,0]\n",
    "\n",
    "Sample_density = Similar_event_count/ Similarity_thresholds/100\n",
    "#Sample_density = number of samples with less than 1% (of range) deviation\n",
    "\n",
    "Similar_samples = Imported_data[:,1:Similar_event_count+1]\n",
    "\n",
    "print('Target Shape', Sample_density.shape, 'Similar Samples Matrix Shape:', Similar_samples.shape)\n",
    "\n",
    "input_=[]\n",
    "output_=[]\n",
    "for row in train_df.iloc:\n",
    "    input_.append((row[0:len(row)-1]).astype(float))\n",
    "    output_.append(row[-1])"
   ]
  },
  {
   "cell_type": "markdown",
   "id": "f9e6829e",
   "metadata": {
    "papermill": {
     "duration": 0.01701,
     "end_time": "2022-08-03T05:10:16.898282",
     "exception": false,
     "start_time": "2022-08-03T05:10:16.881272",
     "status": "completed"
    },
    "tags": []
   },
   "source": [
    "## Load UB Correction Model"
   ]
  },
  {
   "cell_type": "code",
   "execution_count": 3,
   "id": "ade56c39",
   "metadata": {
    "execution": {
     "iopub.execute_input": "2022-08-03T05:10:16.938059Z",
     "iopub.status.busy": "2022-08-03T05:10:16.937673Z",
     "iopub.status.idle": "2022-08-03T05:10:18.342508Z",
     "shell.execute_reply": "2022-08-03T05:10:18.341887Z"
    },
    "papermill": {
     "duration": 1.428889,
     "end_time": "2022-08-03T05:10:18.344383",
     "exception": false,
     "start_time": "2022-08-03T05:10:16.915494",
     "status": "completed"
    },
    "tags": []
   },
   "outputs": [
    {
     "data": {
      "text/plain": [
       "<All keys matched successfully>"
      ]
     },
     "execution_count": 3,
     "metadata": {},
     "output_type": "execute_result"
    }
   ],
   "source": [
    "import torch\n",
    "from torch.autograd import Variable\n",
    "import torch.nn.functional as F\n",
    "import torch.utils.data as Data\n",
    "\n",
    "PATH = '../input/a4-bound-correction-nn-training/best_model.pt'\n",
    "\n",
    "num_input = 1\n",
    "class Net(torch.nn.Module):\n",
    "    def __init__(self, n_feature, n_hidden, n_output):\n",
    "        super(Net, self).__init__()\n",
    "        self.hidden = torch.nn.Linear(n_feature, n_hidden)   # hidden layer\n",
    "        self.hidden2 = torch.nn.Linear(n_hidden, n_hidden)   # hidden layer\n",
    "        self.predict = torch.nn.Linear(n_hidden, n_output)   # output layer\n",
    "\n",
    "    def forward(self, x):\n",
    "        x = F.relu(self.hidden(x))      # activation function for hidden layer\n",
    "        x = F.relu(self.hidden2(x))\n",
    "        x = self.predict(x)             # linear output\n",
    "        return x\n",
    "net_load = Net(n_feature=num_input, n_hidden=400, n_output=1)     # define the network\n",
    "#net_load = net_load.to(device)\n",
    "\n",
    "net_load.load_state_dict(torch.load(PATH))\n",
    "\n"
   ]
  },
  {
   "cell_type": "code",
   "execution_count": 4,
   "id": "a9b2e8c1",
   "metadata": {
    "execution": {
     "iopub.execute_input": "2022-08-03T05:10:18.382665Z",
     "iopub.status.busy": "2022-08-03T05:10:18.382150Z",
     "iopub.status.idle": "2022-08-03T05:10:18.490685Z",
     "shell.execute_reply": "2022-08-03T05:10:18.490007Z"
    },
    "papermill": {
     "duration": 0.129932,
     "end_time": "2022-08-03T05:10:18.492962",
     "exception": false,
     "start_time": "2022-08-03T05:10:18.363030",
     "status": "completed"
    },
    "tags": []
   },
   "outputs": [
    {
     "name": "stdout",
     "output_type": "stream",
     "text": [
      "tensor([[0.7771]], grad_fn=<AddBackward0>)\n"
     ]
    }
   ],
   "source": [
    "Uncertainty_Bound = torch.tensor(0.80) # The expected UB\n",
    "\n",
    "f = open('../input/a4-bound-correction-nn-training/min_x.pckl', 'rb')\n",
    "min_UBx = pkl.load(f)\n",
    "f.close()\n",
    "\n",
    "f = open('../input/a4-bound-correction-nn-training/max_x.pckl', 'rb')\n",
    "max_UBx = pkl.load(f)\n",
    "f.close()\n",
    "\n",
    "Uncertainty_Bound = (Uncertainty_Bound-min_UBx)/(max_UBx-min_UBx) # Normalizing\n",
    "\n",
    "new_shape = (Uncertainty_Bound.shape[0], 1)\n",
    "Uncertainty_Bound = Uncertainty_Bound.view(new_shape)\n",
    "\n",
    "Uncertainty_Bound_corrected = net_load(Uncertainty_Bound)\n",
    "\n",
    "f = open('../input/a4-bound-correction-nn-training/min_y.pckl', 'rb')\n",
    "min_UBy = pkl.load(f)\n",
    "f.close()\n",
    "\n",
    "f = open('../input/a4-bound-correction-nn-training/max_y.pckl', 'rb')\n",
    "max_UBy = pkl.load(f)\n",
    "f.close()\n",
    "\n",
    "Uncertainty_Bound_corrected = Uncertainty_Bound_corrected*(max_UBy-min_UBy)+min_UBy # DeNormalizing\n",
    "\n",
    "print(Uncertainty_Bound_corrected)\n"
   ]
  },
  {
   "cell_type": "markdown",
   "id": "8ac5226d",
   "metadata": {
    "papermill": {
     "duration": 0.017578,
     "end_time": "2022-08-03T05:10:18.528699",
     "exception": false,
     "start_time": "2022-08-03T05:10:18.511121",
     "status": "completed"
    },
    "tags": []
   },
   "source": [
    "## Applying Corrected UB to Traditional System"
   ]
  },
  {
   "cell_type": "code",
   "execution_count": 5,
   "id": "21775f60",
   "metadata": {
    "execution": {
     "iopub.execute_input": "2022-08-03T05:10:18.566149Z",
     "iopub.status.busy": "2022-08-03T05:10:18.565644Z",
     "iopub.status.idle": "2022-08-03T05:10:19.230852Z",
     "shell.execute_reply": "2022-08-03T05:10:19.229701Z"
    },
    "papermill": {
     "duration": 0.686767,
     "end_time": "2022-08-03T05:10:19.233485",
     "exception": false,
     "start_time": "2022-08-03T05:10:18.546718",
     "status": "completed"
    },
    "tags": []
   },
   "outputs": [
    {
     "name": "stdout",
     "output_type": "stream",
     "text": [
      "Statistical UB location: 0.8326\n"
     ]
    }
   ],
   "source": [
    "higher_count=0;\n",
    "bound_values = []\n",
    "for iter1 in range(len(output_)):\n",
    "    indexes=Similar_samples[iter1];\n",
    "    Probability_density =[]\n",
    "    for iter2 in indexes:\n",
    "        Probability_density.append(output_[iter2.astype(np.int64)])\n",
    "    Probability_density = np.sort(Probability_density)\n",
    "    prediction_bound = Probability_density[np.round(Similar_event_count*Uncertainty_Bound_corrected.detach().numpy()).astype(np.int64)-1]\n",
    "    bound_values.append(prediction_bound)\n",
    "    if prediction_bound > output_[iter1]:\n",
    "        higher_count = higher_count + 1;\n",
    "        \n",
    "print('Statistical UB location:', higher_count/len(output_))"
   ]
  },
  {
   "cell_type": "markdown",
   "id": "3c5f2c1b",
   "metadata": {
    "papermill": {
     "duration": 0.017846,
     "end_time": "2022-08-03T05:10:19.270067",
     "exception": false,
     "start_time": "2022-08-03T05:10:19.252221",
     "status": "completed"
    },
    "tags": []
   },
   "source": [
    "## Data Preparation for NN Training"
   ]
  },
  {
   "cell_type": "code",
   "execution_count": 6,
   "id": "c7001317",
   "metadata": {
    "execution": {
     "iopub.execute_input": "2022-08-03T05:10:19.308378Z",
     "iopub.status.busy": "2022-08-03T05:10:19.307615Z",
     "iopub.status.idle": "2022-08-03T05:10:19.430008Z",
     "shell.execute_reply": "2022-08-03T05:10:19.428735Z"
    },
    "papermill": {
     "duration": 0.144231,
     "end_time": "2022-08-03T05:10:19.432455",
     "exception": false,
     "start_time": "2022-08-03T05:10:19.288224",
     "status": "completed"
    },
    "tags": []
   },
   "outputs": [
    {
     "name": "stdout",
     "output_type": "stream",
     "text": [
      "Shapes: torch.Size([500, 3]) torch.Size([500, 1])\n",
      "tensor(1.1881) tensor(-0.9380) tensor([6.2637, 6.2746, 6.2580]) tensor([0.0004, 0.0108, 0.0018])\n",
      "tensor([6.2633, 6.2638, 6.2561]) tensor(2.1260)\n"
     ]
    }
   ],
   "source": [
    "x=[]\n",
    "y=[]\n",
    "i_val=[]\n",
    "o_val=[]\n",
    "for iter1 in range(len(output_)):\n",
    "    if iter1%10==0:\n",
    "        x.append(input_[iter1])\n",
    "        y.append(bound_values[iter1])\n",
    "        continue\n",
    "    i_val.append(input_[iter1])\n",
    "    o_val.append(bound_values[iter1])\n",
    "\n",
    "x = torch.tensor(x).float()  \n",
    "y = torch.tensor(y).float() \n",
    "\n",
    "new_shape = (len(y), 1)\n",
    "y = y.view(new_shape)\n",
    "print('Shapes:', x.shape, y.shape)\n",
    "\n",
    "i_val = torch.tensor(i_val).float()  \n",
    "o_val = torch.tensor(o_val).float()   \n",
    "new_shape = (len(o_val), 1)\n",
    "o_val = o_val.view(new_shape)\n",
    "\n",
    "\n",
    "max_y = torch.max(y[:,0])\n",
    "min_y =torch.min(y[:,0])\n",
    "\n",
    "max_x = torch.max(x,dim=0)\n",
    "min_x = torch.min(x,dim=0)\n",
    "\n",
    "print(max_y, min_y, max_x.values, min_x.values)\n",
    "\n",
    "range_y = max_y - min_y\n",
    "range_x = max_x.values - min_x.values\n",
    "\n",
    "print(range_x, range_y)\n",
    "\n",
    "    #Normalizing\n",
    "x = (x - min_x.values)/range_x\n",
    "y = (y - min_y)/range_y\n",
    "\n",
    "    #Normalizing\n",
    "i_val = (i_val - min_x.values)/range_x\n",
    "o_val = (o_val - min_y)/range_y"
   ]
  },
  {
   "cell_type": "markdown",
   "id": "1211a8df",
   "metadata": {
    "papermill": {
     "duration": 0.01814,
     "end_time": "2022-08-03T05:10:19.469798",
     "exception": false,
     "start_time": "2022-08-03T05:10:19.451658",
     "status": "completed"
    },
    "tags": []
   },
   "source": [
    "##  NN Training for Direct Input to UB"
   ]
  },
  {
   "cell_type": "code",
   "execution_count": 7,
   "id": "f9b2c244",
   "metadata": {
    "execution": {
     "iopub.execute_input": "2022-08-03T05:10:19.508364Z",
     "iopub.status.busy": "2022-08-03T05:10:19.508088Z",
     "iopub.status.idle": "2022-08-03T05:10:26.310181Z",
     "shell.execute_reply": "2022-08-03T05:10:26.309368Z"
    },
    "papermill": {
     "duration": 6.824067,
     "end_time": "2022-08-03T05:10:26.312394",
     "exception": false,
     "start_time": "2022-08-03T05:10:19.488327",
     "status": "completed"
    },
    "tags": []
   },
   "outputs": [
    {
     "name": "stdout",
     "output_type": "stream",
     "text": [
      "Net(\n",
      "  (hidden): Linear(in_features=3, out_features=400, bias=True)\n",
      "  (hidden2): Linear(in_features=400, out_features=400, bias=True)\n",
      "  (predict): Linear(in_features=400, out_features=1, bias=True)\n",
      ")\n",
      "Epoch [200/1000], Loss: 0.0148, Minimum Loss 0.014272, Val Loss 0.023042  \n",
      "Epoch [400/1000], Loss: 0.0093, Minimum Loss 0.008274, Val Loss 0.016393  \n",
      "Epoch [600/1000], Loss: 0.0059, Minimum Loss 0.005879, Val Loss 0.014506  \n",
      "Epoch [800/1000], Loss: 0.0049, Minimum Loss 0.004933, Val Loss 0.013531  \n",
      "Epoch [1000/1000], Loss: 0.0041, Minimum Loss 0.004082, Val Loss 0.012427  \n"
     ]
    }
   ],
   "source": [
    "# torch can only train on Variable, so convert them to Variable\n",
    "x, y = Variable(x), Variable(y)\n",
    "num_input=3\n",
    " \n",
    "class Net(torch.nn.Module):\n",
    "    def __init__(self, n_feature, n_hidden, n_output):\n",
    "        super(Net, self).__init__()\n",
    "        self.hidden = torch.nn.Linear(n_feature, n_hidden)   # hidden layer\n",
    "        self.hidden2 = torch.nn.Linear(n_hidden, n_hidden)   # hidden layer\n",
    "        self.predict = torch.nn.Linear(n_hidden, n_output)   # output layer\n",
    "\n",
    "    def forward(self, x):\n",
    "        x = F.relu(self.hidden(x))      # activation function for hidden layer\n",
    "        x = F.relu(self.hidden2(x))\n",
    "        x = self.predict(x)             # linear output\n",
    "        return x\n",
    "\n",
    "    \n",
    "# use the same net as before      \n",
    "net = Net(n_feature=num_input, n_hidden=400, n_output=1)     # define the network\n",
    "print(net)  # net architecture\n",
    "optimizer = torch.optim.Adam(net.parameters(), lr=0.05)\n",
    "loss_func = torch.nn.MSELoss()  # this is for regression mean squared loss\n",
    "\n",
    "\n",
    "minimum_train_loss = 1e5\n",
    "minimum_val_loss = 1e5\n",
    "EPOCH = 1000\n",
    "\n",
    "# start training\n",
    "for epoch in range(EPOCH):\n",
    "  \n",
    "    prediction = net(x)     # input x and predict based on x\n",
    "\n",
    "    loss = loss_func(prediction, y)     # must be (1. nn output, 2. target)\n",
    "\n",
    "    optimizer.zero_grad()   # clear gradients for next train\n",
    "    loss.backward()         # backpropagation, compute gradients\n",
    "    optimizer.step()        # apply gradients\n",
    "    \n",
    "    if loss<minimum_train_loss:\n",
    "        minimum_train_loss =loss\n",
    "        net_opt = net\n",
    "    \n",
    "    if epoch%200 == 199:\n",
    "        prediction = net_opt(i_val)\n",
    "        loss_val = loss_func(prediction, o_val)\n",
    "        if loss_val<minimum_val_loss:\n",
    "            minimum_val_loss = loss_val\n",
    "            net_opt_val = net_opt\n",
    "        print (\"Epoch [{}/{}], Loss: {:.4f}, Minimum Loss {:.6f}, Val Loss {:.6f}  \"  .format(epoch+1, EPOCH, loss, minimum_train_loss, minimum_val_loss))"
   ]
  },
  {
   "cell_type": "markdown",
   "id": "89dd3ccb",
   "metadata": {
    "papermill": {
     "duration": 0.02038,
     "end_time": "2022-08-03T05:10:26.355459",
     "exception": false,
     "start_time": "2022-08-03T05:10:26.335079",
     "status": "completed"
    },
    "tags": []
   },
   "source": [
    "## Statistical performance of NN on Training Set"
   ]
  },
  {
   "cell_type": "code",
   "execution_count": 8,
   "id": "6b6265a9",
   "metadata": {
    "execution": {
     "iopub.execute_input": "2022-08-03T05:10:26.398802Z",
     "iopub.status.busy": "2022-08-03T05:10:26.398321Z",
     "iopub.status.idle": "2022-08-03T05:10:27.477587Z",
     "shell.execute_reply": "2022-08-03T05:10:27.476673Z"
    },
    "papermill": {
     "duration": 1.103531,
     "end_time": "2022-08-03T05:10:27.479788",
     "exception": false,
     "start_time": "2022-08-03T05:10:26.376257",
     "status": "completed"
    },
    "tags": []
   },
   "outputs": [
    {
     "name": "stdout",
     "output_type": "stream",
     "text": [
      "Statistical UB location for Direct NN: 0.8166\n"
     ]
    }
   ],
   "source": [
    "higher_count=0;\n",
    "\n",
    "for iter1 in range(len(output_)):\n",
    "    Net_input = torch.tensor(input_[iter1]).float() \n",
    "    Net_input = (Net_input - min_x.values)/range_x # Normalizing\n",
    "    \n",
    "    prediction_bound = net_opt_val(Net_input) # Apply Net\n",
    "    \n",
    "    prediction_bound = prediction_bound*range_y+min_y # Denormalizing    \n",
    "    \n",
    "    if prediction_bound > output_[iter1]:\n",
    "        higher_count = higher_count + 1;\n",
    "        \n",
    "print('Statistical UB location for Direct NN:', higher_count/len(output_))"
   ]
  },
  {
   "cell_type": "markdown",
   "id": "f19eb16e",
   "metadata": {
    "papermill": {
     "duration": 0.02068,
     "end_time": "2022-08-03T05:10:27.521453",
     "exception": false,
     "start_time": "2022-08-03T05:10:27.500773",
     "status": "completed"
    },
    "tags": []
   },
   "source": [
    "## Statistical performance of NN on Validation Set"
   ]
  },
  {
   "cell_type": "code",
   "execution_count": 9,
   "id": "c291d20e",
   "metadata": {
    "execution": {
     "iopub.execute_input": "2022-08-03T05:10:27.565353Z",
     "iopub.status.busy": "2022-08-03T05:10:27.564746Z",
     "iopub.status.idle": "2022-08-03T05:10:28.575394Z",
     "shell.execute_reply": "2022-08-03T05:10:28.574433Z"
    },
    "papermill": {
     "duration": 1.0353,
     "end_time": "2022-08-03T05:10:28.577749",
     "exception": false,
     "start_time": "2022-08-03T05:10:27.542449",
     "status": "completed"
    },
    "tags": []
   },
   "outputs": [
    {
     "name": "stdout",
     "output_type": "stream",
     "text": [
      "Statistical UB location for Direct NN: 0.811\n"
     ]
    }
   ],
   "source": [
    "input_=[]\n",
    "output_=[]\n",
    "val_df = pd.read_csv(val_csv_path)\n",
    "\n",
    "for row in val_df.iloc:\n",
    "    input_.append((row[0:len(row)-1]).astype(float))\n",
    "    output_.append(row[-1])\n",
    "    \n",
    "higher_count=0;\n",
    "\n",
    "for iter1 in range(len(output_)):\n",
    "    Net_input = torch.tensor(input_[iter1]).float() \n",
    "    Net_input = (Net_input - min_x.values)/range_x # Normalizing\n",
    "    \n",
    "    prediction_bound = net_opt_val(Net_input) # Apply Net\n",
    "    \n",
    "    prediction_bound = prediction_bound*range_y+min_y # Denormalizing    \n",
    "    \n",
    "    if prediction_bound > output_[iter1]:\n",
    "        higher_count = higher_count + 1;\n",
    "        \n",
    "print('Statistical UB location for Direct NN:', higher_count/len(output_))"
   ]
  },
  {
   "cell_type": "markdown",
   "id": "6c684ce6",
   "metadata": {
    "papermill": {
     "duration": 0.02115,
     "end_time": "2022-08-03T05:10:28.620620",
     "exception": false,
     "start_time": "2022-08-03T05:10:28.599470",
     "status": "completed"
    },
    "tags": []
   },
   "source": [
    "## Statistical performance of NN on Test Set"
   ]
  },
  {
   "cell_type": "code",
   "execution_count": 10,
   "id": "d72c0927",
   "metadata": {
    "execution": {
     "iopub.execute_input": "2022-08-03T05:10:28.665215Z",
     "iopub.status.busy": "2022-08-03T05:10:28.664885Z",
     "iopub.status.idle": "2022-08-03T05:10:29.553890Z",
     "shell.execute_reply": "2022-08-03T05:10:29.552760Z"
    },
    "papermill": {
     "duration": 0.914303,
     "end_time": "2022-08-03T05:10:29.556528",
     "exception": false,
     "start_time": "2022-08-03T05:10:28.642225",
     "status": "completed"
    },
    "tags": []
   },
   "outputs": [
    {
     "name": "stdout",
     "output_type": "stream",
     "text": [
      "Statistical UB location for Direct NN: 0.802\n"
     ]
    }
   ],
   "source": [
    "input_ = []\n",
    "output_ = []\n",
    "test_df = pd.read_csv(test_csv_path)\n",
    "\n",
    "for row in test_df.iloc:\n",
    "    input_.append((row[0:len(row)-1]).astype(float))\n",
    "    output_.append(row[-1])\n",
    "    \n",
    "higher_count=0;\n",
    "prediction_ = []\n",
    "x_0 = []\n",
    "\n",
    "for iter1 in range(len(output_)):\n",
    "    x_in = input_[iter1]\n",
    "    x_0.append(x_in[0])\n",
    "    Net_input = torch.tensor(x_in).float() \n",
    "    Net_input = (Net_input - min_x.values)/range_x # Normalizing\n",
    "    \n",
    "    prediction_bound = net_opt_val(Net_input) # Apply Net\n",
    "    \n",
    "    prediction_bound = prediction_bound*range_y+min_y # Denormalizing    \n",
    "    prediction_.append(float(prediction_bound))\n",
    "    if prediction_bound > output_[iter1]:\n",
    "        higher_count = higher_count + 1;\n",
    "        \n",
    "print('Statistical UB location for Direct NN:', higher_count/len(output_))"
   ]
  },
  {
   "cell_type": "code",
   "execution_count": 11,
   "id": "cd666830",
   "metadata": {
    "execution": {
     "iopub.execute_input": "2022-08-03T05:10:29.602198Z",
     "iopub.status.busy": "2022-08-03T05:10:29.601884Z",
     "iopub.status.idle": "2022-08-03T05:10:29.863505Z",
     "shell.execute_reply": "2022-08-03T05:10:29.862698Z"
    },
    "papermill": {
     "duration": 0.287279,
     "end_time": "2022-08-03T05:10:29.866032",
     "exception": false,
     "start_time": "2022-08-03T05:10:29.578753",
     "status": "completed"
    },
    "tags": []
   },
   "outputs": [
    {
     "data": {
      "image/png": "[encoded data removed]",
      "text/plain": [
       "<Figure size 432x288 with 1 Axes>"
      ]
     },
     "metadata": {
      "needs_background": "light"
     },
     "output_type": "display_data"
    }
   ],
   "source": [
    "plt.scatter(x_0,output_, s=0.5)\n",
    "plt.scatter(x_0, prediction_, color='g', s=0.05) # lower boundary prediction\n",
    "plt.show()"
   ]
  }
 ],
 "metadata": {
  "kernelspec": {
   "display_name": "Python 3",
   "language": "python",
   "name": "python3"
  },
  "language_info": {
   "codemirror_mode": {
    "name": "ipython",
    "version": 3
   },
   "file_extension": ".py",
   "mimetype": "text/x-python",
   "name": "python",
   "nbconvert_exporter": "python",
   "pygments_lexer": "ipython3",
   "version": "3.7.12"
  },
  "papermill": {
   "default_parameters": {},
   "duration": 23.920208,
   "end_time": "2022-08-03T05:10:30.611219",
   "environment_variables": {},
   "exception": null,
   "input_path": "__notebook__.ipynb",
   "output_path": "__notebook__.ipynb",
   "parameters": {},
   "start_time": "2022-08-03T05:10:06.691011",
   "version": "2.3.4"
  }
 },
 "nbformat": 4,
 "nbformat_minor": 5
}
