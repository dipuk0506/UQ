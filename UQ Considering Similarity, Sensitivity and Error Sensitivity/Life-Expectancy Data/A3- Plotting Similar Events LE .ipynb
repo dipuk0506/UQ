{
 "cells": [
  {
   "cell_type": "markdown",
   "id": "95440ef8",
   "metadata": {
    "_cell_guid": "b1076dfc-b9ad-4769-8c92-a6c4dae69d19",
    "_uuid": "8f2839f25d086af736a60e9eeb907d3b93b6e0e5",
    "papermill": {
     "duration": 0.010483,
     "end_time": "2022-08-03T01:51:58.361271",
     "exception": false,
     "start_time": "2022-08-03T01:51:58.350788",
     "status": "completed"
    },
    "tags": []
   },
   "source": [
    "# Load Data"
   ]
  },
  {
   "cell_type": "code",
   "execution_count": 1,
   "id": "04ab9a34",
   "metadata": {
    "execution": {
     "iopub.execute_input": "2022-08-03T01:51:58.377713Z",
     "iopub.status.busy": "2022-08-03T01:51:58.377223Z",
     "iopub.status.idle": "2022-08-03T01:51:58.458997Z",
     "shell.execute_reply": "2022-08-03T01:51:58.457756Z"
    },
    "papermill": {
     "duration": 0.093244,
     "end_time": "2022-08-03T01:51:58.462140",
     "exception": false,
     "start_time": "2022-08-03T01:51:58.368896",
     "status": "completed"
    },
    "tags": []
   },
   "outputs": [
    {
     "data": {
      "text/html": [
       "<div>\n",
       "<style scoped>\n",
       "    .dataframe tbody tr th:only-of-type {\n",
       "        vertical-align: middle;\n",
       "    }\n",
       "\n",
       "    .dataframe tbody tr th {\n",
       "        vertical-align: top;\n",
       "    }\n",
       "\n",
       "    .dataframe thead th {\n",
       "        text-align: right;\n",
       "    }\n",
       "</style>\n",
       "<table border=\"1\" class=\"dataframe\">\n",
       "  <thead>\n",
       "    <tr style=\"text-align: right;\">\n",
       "      <th></th>\n",
       "      <th>Year</th>\n",
       "      <th>Adult Mortality</th>\n",
       "      <th>Infant Deaths</th>\n",
       "      <th>Alcohol</th>\n",
       "      <th>Expenditure(%)</th>\n",
       "      <th>Hepatitis B</th>\n",
       "      <th>Measles</th>\n",
       "      <th>BMI</th>\n",
       "      <th>Under-five Deaths</th>\n",
       "      <th>Polio</th>\n",
       "      <th>Total expenditure</th>\n",
       "      <th>Diphtheria</th>\n",
       "      <th>HIV/AIDS</th>\n",
       "      <th>GDP</th>\n",
       "      <th>Population</th>\n",
       "      <th>Thinness  1-19 Years</th>\n",
       "      <th>Thinness 5-9 Years</th>\n",
       "      <th>ICOR</th>\n",
       "      <th>Schooling</th>\n",
       "      <th>Life Expectancy</th>\n",
       "    </tr>\n",
       "  </thead>\n",
       "  <tbody>\n",
       "    <tr>\n",
       "      <th>0</th>\n",
       "      <td>2015</td>\n",
       "      <td>263.0</td>\n",
       "      <td>62</td>\n",
       "      <td>0.01</td>\n",
       "      <td>71.279624</td>\n",
       "      <td>65.0</td>\n",
       "      <td>1154</td>\n",
       "      <td>19.1</td>\n",
       "      <td>83</td>\n",
       "      <td>6.0</td>\n",
       "      <td>8.16</td>\n",
       "      <td>65.0</td>\n",
       "      <td>0.1</td>\n",
       "      <td>584.259210</td>\n",
       "      <td>33736494.0</td>\n",
       "      <td>17.2</td>\n",
       "      <td>17.3</td>\n",
       "      <td>0.479</td>\n",
       "      <td>10.1</td>\n",
       "      <td>65.0</td>\n",
       "    </tr>\n",
       "    <tr>\n",
       "      <th>1</th>\n",
       "      <td>2014</td>\n",
       "      <td>271.0</td>\n",
       "      <td>64</td>\n",
       "      <td>0.01</td>\n",
       "      <td>73.523582</td>\n",
       "      <td>62.0</td>\n",
       "      <td>492</td>\n",
       "      <td>18.6</td>\n",
       "      <td>86</td>\n",
       "      <td>58.0</td>\n",
       "      <td>8.18</td>\n",
       "      <td>62.0</td>\n",
       "      <td>0.1</td>\n",
       "      <td>612.696514</td>\n",
       "      <td>327582.0</td>\n",
       "      <td>17.5</td>\n",
       "      <td>17.5</td>\n",
       "      <td>0.476</td>\n",
       "      <td>10.0</td>\n",
       "      <td>59.9</td>\n",
       "    </tr>\n",
       "    <tr>\n",
       "      <th>2</th>\n",
       "      <td>2013</td>\n",
       "      <td>268.0</td>\n",
       "      <td>66</td>\n",
       "      <td>0.01</td>\n",
       "      <td>73.219243</td>\n",
       "      <td>64.0</td>\n",
       "      <td>430</td>\n",
       "      <td>18.1</td>\n",
       "      <td>89</td>\n",
       "      <td>62.0</td>\n",
       "      <td>8.13</td>\n",
       "      <td>64.0</td>\n",
       "      <td>0.1</td>\n",
       "      <td>631.744976</td>\n",
       "      <td>31731688.0</td>\n",
       "      <td>17.7</td>\n",
       "      <td>17.7</td>\n",
       "      <td>0.470</td>\n",
       "      <td>9.9</td>\n",
       "      <td>59.9</td>\n",
       "    </tr>\n",
       "    <tr>\n",
       "      <th>3</th>\n",
       "      <td>2012</td>\n",
       "      <td>272.0</td>\n",
       "      <td>69</td>\n",
       "      <td>0.01</td>\n",
       "      <td>78.184215</td>\n",
       "      <td>67.0</td>\n",
       "      <td>2787</td>\n",
       "      <td>17.6</td>\n",
       "      <td>93</td>\n",
       "      <td>67.0</td>\n",
       "      <td>8.52</td>\n",
       "      <td>67.0</td>\n",
       "      <td>0.1</td>\n",
       "      <td>669.959000</td>\n",
       "      <td>3696958.0</td>\n",
       "      <td>17.9</td>\n",
       "      <td>18.0</td>\n",
       "      <td>0.463</td>\n",
       "      <td>9.8</td>\n",
       "      <td>59.5</td>\n",
       "    </tr>\n",
       "    <tr>\n",
       "      <th>4</th>\n",
       "      <td>2011</td>\n",
       "      <td>275.0</td>\n",
       "      <td>71</td>\n",
       "      <td>0.01</td>\n",
       "      <td>7.097109</td>\n",
       "      <td>68.0</td>\n",
       "      <td>3013</td>\n",
       "      <td>17.2</td>\n",
       "      <td>97</td>\n",
       "      <td>68.0</td>\n",
       "      <td>7.87</td>\n",
       "      <td>68.0</td>\n",
       "      <td>0.1</td>\n",
       "      <td>63.537231</td>\n",
       "      <td>2978599.0</td>\n",
       "      <td>18.2</td>\n",
       "      <td>18.2</td>\n",
       "      <td>0.454</td>\n",
       "      <td>9.5</td>\n",
       "      <td>59.2</td>\n",
       "    </tr>\n",
       "  </tbody>\n",
       "</table>\n",
       "</div>"
      ],
      "text/plain": [
       "   Year  Adult Mortality  Infant Deaths  Alcohol  Expenditure(%)  Hepatitis B  \\\n",
       "0  2015            263.0             62     0.01       71.279624         65.0   \n",
       "1  2014            271.0             64     0.01       73.523582         62.0   \n",
       "2  2013            268.0             66     0.01       73.219243         64.0   \n",
       "3  2012            272.0             69     0.01       78.184215         67.0   \n",
       "4  2011            275.0             71     0.01        7.097109         68.0   \n",
       "\n",
       "   Measles    BMI   Under-five Deaths  Polio  Total expenditure  Diphtheria   \\\n",
       "0      1154   19.1                 83    6.0               8.16         65.0   \n",
       "1       492   18.6                 86   58.0               8.18         62.0   \n",
       "2       430   18.1                 89   62.0               8.13         64.0   \n",
       "3      2787   17.6                 93   67.0               8.52         67.0   \n",
       "4      3013   17.2                 97   68.0               7.87         68.0   \n",
       "\n",
       "    HIV/AIDS         GDP  Population   Thinness  1-19 Years  \\\n",
       "0        0.1  584.259210  33736494.0                   17.2   \n",
       "1        0.1  612.696514    327582.0                   17.5   \n",
       "2        0.1  631.744976  31731688.0                   17.7   \n",
       "3        0.1  669.959000   3696958.0                   17.9   \n",
       "4        0.1   63.537231   2978599.0                   18.2   \n",
       "\n",
       "    Thinness 5-9 Years   ICOR  Schooling  Life Expectancy  \n",
       "0                 17.3  0.479       10.1             65.0  \n",
       "1                 17.5  0.476       10.0             59.9  \n",
       "2                 17.7  0.470        9.9             59.9  \n",
       "3                 18.0  0.463        9.8             59.5  \n",
       "4                 18.2  0.454        9.5             59.2  "
      ]
     },
     "execution_count": 1,
     "metadata": {},
     "output_type": "execute_result"
    }
   ],
   "source": [
    "csv_path = '../input/life-expectancy-who-pre-process/Life_expectancy_last_column.csv'\n",
    "\n",
    "\n",
    "import matplotlib.pyplot as plt\n",
    "import numpy as np\n",
    "import pandas as pd\n",
    "train_df = pd.read_csv(csv_path,index_col=0)\n",
    "train_df.head()"
   ]
  },
  {
   "cell_type": "code",
   "execution_count": 2,
   "id": "ee269124",
   "metadata": {
    "execution": {
     "iopub.execute_input": "2022-08-03T01:51:58.480693Z",
     "iopub.status.busy": "2022-08-03T01:51:58.480099Z",
     "iopub.status.idle": "2022-08-03T01:51:58.508326Z",
     "shell.execute_reply": "2022-08-03T01:51:58.507579Z"
    },
    "papermill": {
     "duration": 0.040334,
     "end_time": "2022-08-03T01:51:58.511271",
     "exception": false,
     "start_time": "2022-08-03T01:51:58.470937",
     "status": "completed"
    },
    "tags": []
   },
   "outputs": [
    {
     "name": "stdout",
     "output_type": "stream",
     "text": [
      "Number of Similar Samples Considered 100\n",
      "Target Shape (1649,) Similar Samples Matrix Shape: (1649, 100)\n"
     ]
    }
   ],
   "source": [
    "import pickle as pkl\n",
    "\n",
    "fileName =  '../input/a1-le-data-to-similar-events/Similarity'\n",
    "fileObject2 = open(fileName, 'rb')\n",
    "Imported_data = pkl.load(fileObject2)\n",
    "fileObject2.close()\n",
    "\n",
    "#print('Similarity Thresholds:',Imported_data[:,0])\n",
    "\n",
    "#print('Most Similarity at:',Imported_data[:,1])\n",
    "\n",
    "Similar_event_count = len(Imported_data[0,:])-1\n",
    "print('Number of Similar Samples Considered', Similar_event_count)\n",
    "\n",
    "Similarity_thresholds = Imported_data[:,0]\n",
    "\n",
    "Sample_density = Similar_event_count/ Similarity_thresholds/100\n",
    "#Sample_density = number of samples with less than 1% (of range) deviation\n",
    "\n",
    "Similar_samples = Imported_data[:,1:Similar_event_count+1]\n",
    "\n",
    "print('Target Shape', Sample_density.shape, 'Similar Samples Matrix Shape:', Similar_samples.shape)"
   ]
  },
  {
   "cell_type": "markdown",
   "id": "31850f09",
   "metadata": {
    "papermill": {
     "duration": 0.006829,
     "end_time": "2022-08-03T01:51:58.526039",
     "exception": false,
     "start_time": "2022-08-03T01:51:58.519210",
     "status": "completed"
    },
    "tags": []
   },
   "source": [
    "# Similar Indexes of a Sample"
   ]
  },
  {
   "cell_type": "code",
   "execution_count": 3,
   "id": "418349c6",
   "metadata": {
    "execution": {
     "iopub.execute_input": "2022-08-03T01:51:58.542753Z",
     "iopub.status.busy": "2022-08-03T01:51:58.542019Z",
     "iopub.status.idle": "2022-08-03T01:51:59.095805Z",
     "shell.execute_reply": "2022-08-03T01:51:59.094717Z"
    },
    "papermill": {
     "duration": 0.565747,
     "end_time": "2022-08-03T01:51:59.098844",
     "exception": false,
     "start_time": "2022-08-03T01:51:58.533097",
     "status": "completed"
    },
    "tags": []
   },
   "outputs": [
    {
     "name": "stdout",
     "output_type": "stream",
     "text": [
      "19\n",
      "(100,)\n"
     ]
    }
   ],
   "source": [
    "UB_point = 0.05 #ny value from 0 to 1\n",
    "\n",
    "# UB_point (Uncertainty Bound) is the cumulative probability from the lower-end.\n",
    "\n",
    "sample_no = 1402 #The sample we are considering \n",
    "\n",
    "\n",
    "input_=[]\n",
    "output_=[]\n",
    "for row in train_df.iloc:\n",
    "    input_.append((row[0:len(row)-1]).astype(float))\n",
    "    output_.append(row[-1])\n",
    "\n",
    "number_of_input = len(row)-1\n",
    "Output_column_number = len(row)\n",
    "\n",
    "print(number_of_input)\n",
    "\n",
    "indexes=Similar_samples[sample_no,:]\n",
    "\n",
    "print(indexes.shape)\n"
   ]
  },
  {
   "cell_type": "markdown",
   "id": "3050f7ab",
   "metadata": {
    "papermill": {
     "duration": 0.008216,
     "end_time": "2022-08-03T01:51:59.117203",
     "exception": false,
     "start_time": "2022-08-03T01:51:59.108987",
     "status": "completed"
    },
    "tags": []
   },
   "source": [
    "# Plotting"
   ]
  },
  {
   "cell_type": "code",
   "execution_count": 4,
   "id": "679a62fc",
   "metadata": {
    "execution": {
     "iopub.execute_input": "2022-08-03T01:51:59.137049Z",
     "iopub.status.busy": "2022-08-03T01:51:59.136330Z",
     "iopub.status.idle": "2022-08-03T01:51:59.695494Z",
     "shell.execute_reply": "2022-08-03T01:51:59.692940Z"
    },
    "papermill": {
     "duration": 0.571226,
     "end_time": "2022-08-03T01:51:59.697756",
     "exception": false,
     "start_time": "2022-08-03T01:51:59.126530",
     "status": "completed"
    },
    "tags": []
   },
   "outputs": [
    {
     "data": {
      "text/plain": [
       "[<matplotlib.lines.Line2D at 0x7f7534d32c50>]"
      ]
     },
     "execution_count": 4,
     "metadata": {},
     "output_type": "execute_result"
    },
    {
     "data": {
      "image/png": "[encoded data removed]",
      "text/plain": [
       "<Figure size 432x288 with 1 Axes>"
      ]
     },
     "metadata": {
      "needs_background": "light"
     },
     "output_type": "display_data"
    }
   ],
   "source": [
    "fig, (ax1) = plt.subplots(1, 1)\n",
    "\n",
    "ax1.set(xlabel=\"Indexes of Input and the Last Index is for Output\", ylabel=\"Target and Predictions (Arbitrary Unit)\" , ylim = (-100, 2100), xlim = (1,21.1))\n",
    "plt.rcParams[\"figure.figsize\"] = (6,5)\n",
    "\n",
    "\n",
    "Probability_density = []\n",
    "for iter1 in indexes[1:]:\n",
    "    #Plotting example Inputs\n",
    "    #print(iter1)\n",
    "    ax1.plot(range(1,number_of_input+1),input_[iter1.astype(np.int64)].values, 'b')\n",
    "    ax1.plot([number_of_input, number_of_input+1],[ input_[iter1.astype(np.int64)].values[-1], output_[iter1.astype(np.int64)]],'grey')\n",
    "    Probability_density.append(output_[iter1.astype(np.int64)])\n",
    "\n",
    "iter1 = indexes[0]\n",
    "ax1.plot(range(1,number_of_input+1),input_[iter1.astype(np.int64)].values, 'r', linewidth=4)\n",
    "ax1.plot([number_of_input, number_of_input+1],[ input_[iter1.astype(np.int64)].values[-1], output_[iter1.astype(np.int64)]],'r', linewidth=4)\n",
    "Probability_density.append(output_[iter1.astype(np.int64)])\n",
    "\n",
    "Probability_density = np.sort(Probability_density)\n",
    "\n",
    "ax1.plot(number_of_input+1,Probability_density[np.round(Similar_event_count*UB_point).astype(np.int64)-1], 'ro', linewidth=14)\n",
    "\n",
    "ax1.plot(number_of_input+1,Probability_density[np.round(Similar_event_count*(1-UB_point)).astype(np.int64)-1], 'r+', linewidth=14)\n"
   ]
  }
 ],
 "metadata": {
  "kernelspec": {
   "display_name": "Python 3",
   "language": "python",
   "name": "python3"
  },
  "language_info": {
   "codemirror_mode": {
    "name": "ipython",
    "version": 3
   },
   "file_extension": ".py",
   "mimetype": "text/x-python",
   "name": "python",
   "nbconvert_exporter": "python",
   "pygments_lexer": "ipython3",
   "version": "3.7.12"
  },
  "papermill": {
   "default_parameters": {},
   "duration": 12.328984,
   "end_time": "2022-08-03T01:52:00.429784",
   "environment_variables": {},
   "exception": null,
   "input_path": "__notebook__.ipynb",
   "output_path": "__notebook__.ipynb",
   "parameters": {},
   "start_time": "2022-08-03T01:51:48.100800",
   "version": "2.3.4"
  }
 },
 "nbformat": 4,
 "nbformat_minor": 5
}
