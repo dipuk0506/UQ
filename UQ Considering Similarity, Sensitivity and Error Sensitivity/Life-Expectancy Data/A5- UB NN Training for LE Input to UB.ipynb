{
 "cells": [
  {
   "cell_type": "markdown",
   "id": "17a97ef8",
   "metadata": {
    "papermill": {
     "duration": 0.018716,
     "end_time": "2022-08-03T06:05:39.885999",
     "exception": false,
     "start_time": "2022-08-03T06:05:39.867283",
     "status": "completed"
    },
    "tags": []
   },
   "source": [
    "# UB NN Training\n",
    "## Loading Dataset"
   ]
  },
  {
   "cell_type": "code",
   "execution_count": 1,
   "id": "c4bb48cc",
   "metadata": {
    "execution": {
     "iopub.execute_input": "2022-08-03T06:05:39.915912Z",
     "iopub.status.busy": "2022-08-03T06:05:39.915277Z",
     "iopub.status.idle": "2022-08-03T06:05:39.983204Z",
     "shell.execute_reply": "2022-08-03T06:05:39.982259Z"
    },
    "papermill": {
     "duration": 0.086518,
     "end_time": "2022-08-03T06:05:39.986104",
     "exception": false,
     "start_time": "2022-08-03T06:05:39.899586",
     "status": "completed"
    },
    "tags": []
   },
   "outputs": [
    {
     "data": {
      "text/html": [
       "<div>\n",
       "<style scoped>\n",
       "    .dataframe tbody tr th:only-of-type {\n",
       "        vertical-align: middle;\n",
       "    }\n",
       "\n",
       "    .dataframe tbody tr th {\n",
       "        vertical-align: top;\n",
       "    }\n",
       "\n",
       "    .dataframe thead th {\n",
       "        text-align: right;\n",
       "    }\n",
       "</style>\n",
       "<table border=\"1\" class=\"dataframe\">\n",
       "  <thead>\n",
       "    <tr style=\"text-align: right;\">\n",
       "      <th></th>\n",
       "      <th>Year</th>\n",
       "      <th>Adult Mortality</th>\n",
       "      <th>Infant Deaths</th>\n",
       "      <th>Alcohol</th>\n",
       "      <th>Expenditure(%)</th>\n",
       "      <th>Hepatitis B</th>\n",
       "      <th>Measles</th>\n",
       "      <th>BMI</th>\n",
       "      <th>Under-five Deaths</th>\n",
       "      <th>Polio</th>\n",
       "      <th>Total expenditure</th>\n",
       "      <th>Diphtheria</th>\n",
       "      <th>HIV/AIDS</th>\n",
       "      <th>GDP</th>\n",
       "      <th>Population</th>\n",
       "      <th>Thinness  1-19 Years</th>\n",
       "      <th>Thinness 5-9 Years</th>\n",
       "      <th>ICOR</th>\n",
       "      <th>Schooling</th>\n",
       "      <th>Life Expectancy</th>\n",
       "    </tr>\n",
       "  </thead>\n",
       "  <tbody>\n",
       "    <tr>\n",
       "      <th>0</th>\n",
       "      <td>2015</td>\n",
       "      <td>263.0</td>\n",
       "      <td>62</td>\n",
       "      <td>0.01</td>\n",
       "      <td>71.279624</td>\n",
       "      <td>65.0</td>\n",
       "      <td>1154</td>\n",
       "      <td>19.1</td>\n",
       "      <td>83</td>\n",
       "      <td>6.0</td>\n",
       "      <td>8.16</td>\n",
       "      <td>65.0</td>\n",
       "      <td>0.1</td>\n",
       "      <td>584.259210</td>\n",
       "      <td>33736494.0</td>\n",
       "      <td>17.2</td>\n",
       "      <td>17.3</td>\n",
       "      <td>0.479</td>\n",
       "      <td>10.1</td>\n",
       "      <td>65.0</td>\n",
       "    </tr>\n",
       "    <tr>\n",
       "      <th>1</th>\n",
       "      <td>2014</td>\n",
       "      <td>271.0</td>\n",
       "      <td>64</td>\n",
       "      <td>0.01</td>\n",
       "      <td>73.523582</td>\n",
       "      <td>62.0</td>\n",
       "      <td>492</td>\n",
       "      <td>18.6</td>\n",
       "      <td>86</td>\n",
       "      <td>58.0</td>\n",
       "      <td>8.18</td>\n",
       "      <td>62.0</td>\n",
       "      <td>0.1</td>\n",
       "      <td>612.696514</td>\n",
       "      <td>327582.0</td>\n",
       "      <td>17.5</td>\n",
       "      <td>17.5</td>\n",
       "      <td>0.476</td>\n",
       "      <td>10.0</td>\n",
       "      <td>59.9</td>\n",
       "    </tr>\n",
       "    <tr>\n",
       "      <th>2</th>\n",
       "      <td>2013</td>\n",
       "      <td>268.0</td>\n",
       "      <td>66</td>\n",
       "      <td>0.01</td>\n",
       "      <td>73.219243</td>\n",
       "      <td>64.0</td>\n",
       "      <td>430</td>\n",
       "      <td>18.1</td>\n",
       "      <td>89</td>\n",
       "      <td>62.0</td>\n",
       "      <td>8.13</td>\n",
       "      <td>64.0</td>\n",
       "      <td>0.1</td>\n",
       "      <td>631.744976</td>\n",
       "      <td>31731688.0</td>\n",
       "      <td>17.7</td>\n",
       "      <td>17.7</td>\n",
       "      <td>0.470</td>\n",
       "      <td>9.9</td>\n",
       "      <td>59.9</td>\n",
       "    </tr>\n",
       "    <tr>\n",
       "      <th>3</th>\n",
       "      <td>2012</td>\n",
       "      <td>272.0</td>\n",
       "      <td>69</td>\n",
       "      <td>0.01</td>\n",
       "      <td>78.184215</td>\n",
       "      <td>67.0</td>\n",
       "      <td>2787</td>\n",
       "      <td>17.6</td>\n",
       "      <td>93</td>\n",
       "      <td>67.0</td>\n",
       "      <td>8.52</td>\n",
       "      <td>67.0</td>\n",
       "      <td>0.1</td>\n",
       "      <td>669.959000</td>\n",
       "      <td>3696958.0</td>\n",
       "      <td>17.9</td>\n",
       "      <td>18.0</td>\n",
       "      <td>0.463</td>\n",
       "      <td>9.8</td>\n",
       "      <td>59.5</td>\n",
       "    </tr>\n",
       "    <tr>\n",
       "      <th>4</th>\n",
       "      <td>2011</td>\n",
       "      <td>275.0</td>\n",
       "      <td>71</td>\n",
       "      <td>0.01</td>\n",
       "      <td>7.097109</td>\n",
       "      <td>68.0</td>\n",
       "      <td>3013</td>\n",
       "      <td>17.2</td>\n",
       "      <td>97</td>\n",
       "      <td>68.0</td>\n",
       "      <td>7.87</td>\n",
       "      <td>68.0</td>\n",
       "      <td>0.1</td>\n",
       "      <td>63.537231</td>\n",
       "      <td>2978599.0</td>\n",
       "      <td>18.2</td>\n",
       "      <td>18.2</td>\n",
       "      <td>0.454</td>\n",
       "      <td>9.5</td>\n",
       "      <td>59.2</td>\n",
       "    </tr>\n",
       "  </tbody>\n",
       "</table>\n",
       "</div>"
      ],
      "text/plain": [
       "   Year  Adult Mortality  Infant Deaths  Alcohol  Expenditure(%)  Hepatitis B  \\\n",
       "0  2015            263.0             62     0.01       71.279624         65.0   \n",
       "1  2014            271.0             64     0.01       73.523582         62.0   \n",
       "2  2013            268.0             66     0.01       73.219243         64.0   \n",
       "3  2012            272.0             69     0.01       78.184215         67.0   \n",
       "4  2011            275.0             71     0.01        7.097109         68.0   \n",
       "\n",
       "   Measles    BMI   Under-five Deaths  Polio  Total expenditure  Diphtheria   \\\n",
       "0      1154   19.1                 83    6.0               8.16         65.0   \n",
       "1       492   18.6                 86   58.0               8.18         62.0   \n",
       "2       430   18.1                 89   62.0               8.13         64.0   \n",
       "3      2787   17.6                 93   67.0               8.52         67.0   \n",
       "4      3013   17.2                 97   68.0               7.87         68.0   \n",
       "\n",
       "    HIV/AIDS         GDP  Population   Thinness  1-19 Years  \\\n",
       "0        0.1  584.259210  33736494.0                   17.2   \n",
       "1        0.1  612.696514    327582.0                   17.5   \n",
       "2        0.1  631.744976  31731688.0                   17.7   \n",
       "3        0.1  669.959000   3696958.0                   17.9   \n",
       "4        0.1   63.537231   2978599.0                   18.2   \n",
       "\n",
       "    Thinness 5-9 Years   ICOR  Schooling  Life Expectancy  \n",
       "0                 17.3  0.479       10.1             65.0  \n",
       "1                 17.5  0.476       10.0             59.9  \n",
       "2                 17.7  0.470        9.9             59.9  \n",
       "3                 18.0  0.463        9.8             59.5  \n",
       "4                 18.2  0.454        9.5             59.2  "
      ]
     },
     "execution_count": 1,
     "metadata": {},
     "output_type": "execute_result"
    }
   ],
   "source": [
    "csv_path = '../input/life-expectancy-who-pre-process/Life_expectancy_last_column.csv'\n",
    "\n",
    "import matplotlib.pyplot as plt\n",
    "import numpy as np\n",
    "import pandas as pd\n",
    "df = pd.read_csv(csv_path, index_col=0)\n",
    "df.head()"
   ]
  },
  {
   "cell_type": "markdown",
   "id": "b0f653dd",
   "metadata": {
    "papermill": {
     "duration": 0.013059,
     "end_time": "2022-08-03T06:05:40.012846",
     "exception": false,
     "start_time": "2022-08-03T06:05:39.999787",
     "status": "completed"
    },
    "tags": []
   },
   "source": [
    "## Loading Similarity Information"
   ]
  },
  {
   "cell_type": "code",
   "execution_count": 2,
   "id": "9d72bc38",
   "metadata": {
    "execution": {
     "iopub.execute_input": "2022-08-03T06:05:40.041120Z",
     "iopub.status.busy": "2022-08-03T06:05:40.040845Z",
     "iopub.status.idle": "2022-08-03T06:05:40.617939Z",
     "shell.execute_reply": "2022-08-03T06:05:40.616967Z"
    },
    "papermill": {
     "duration": 0.594144,
     "end_time": "2022-08-03T06:05:40.620389",
     "exception": false,
     "start_time": "2022-08-03T06:05:40.026245",
     "status": "completed"
    },
    "tags": []
   },
   "outputs": [
    {
     "name": "stdout",
     "output_type": "stream",
     "text": [
      "Number of Similar Samples Considered 100\n",
      "Target Shape (1649,) Similar Samples Matrix Shape: (1649, 100)\n"
     ]
    }
   ],
   "source": [
    "import pickle as pkl\n",
    "\n",
    "fileName =  '../input/a1-le-data-to-similar-events/Similarity'\n",
    "fileObject2 = open(fileName, 'rb')\n",
    "Imported_data = pkl.load(fileObject2)\n",
    "fileObject2.close()\n",
    "\n",
    "#print('Similarity Thresholds:',Imported_data[:,0])\n",
    "\n",
    "#print('Most Similarity at:',Imported_data[:,1])\n",
    "\n",
    "Similar_event_count = len(Imported_data[0,:])-1\n",
    "print('Number of Similar Samples Considered', Similar_event_count)\n",
    "\n",
    "Similarity_thresholds = Imported_data[:,0]\n",
    "\n",
    "Sample_density = Similar_event_count/ Similarity_thresholds/100\n",
    "#Sample_density = number of samples with less than 1% (of range) deviation\n",
    "\n",
    "Similar_samples = Imported_data[:,1:Similar_event_count+1]\n",
    "\n",
    "print('Target Shape', Sample_density.shape, 'Similar Samples Matrix Shape:', Similar_samples.shape)\n",
    "\n",
    "input_=[]\n",
    "output_=[]\n",
    "for row in df.iloc:\n",
    "        input_.append((row[0:len(row)-1]).astype(float))\n",
    "        output_.append(row[-1])"
   ]
  },
  {
   "cell_type": "markdown",
   "id": "0b6bd379",
   "metadata": {
    "papermill": {
     "duration": 0.015122,
     "end_time": "2022-08-03T06:05:40.650809",
     "exception": false,
     "start_time": "2022-08-03T06:05:40.635687",
     "status": "completed"
    },
    "tags": []
   },
   "source": [
    "## Load UB Correction Model"
   ]
  },
  {
   "cell_type": "code",
   "execution_count": 3,
   "id": "0f6c1c54",
   "metadata": {
    "execution": {
     "iopub.execute_input": "2022-08-03T06:05:40.683491Z",
     "iopub.status.busy": "2022-08-03T06:05:40.683212Z",
     "iopub.status.idle": "2022-08-03T06:05:42.005313Z",
     "shell.execute_reply": "2022-08-03T06:05:42.004332Z"
    },
    "papermill": {
     "duration": 1.340912,
     "end_time": "2022-08-03T06:05:42.007476",
     "exception": false,
     "start_time": "2022-08-03T06:05:40.666564",
     "status": "completed"
    },
    "tags": []
   },
   "outputs": [
    {
     "data": {
      "text/plain": [
       "<All keys matched successfully>"
      ]
     },
     "execution_count": 3,
     "metadata": {},
     "output_type": "execute_result"
    }
   ],
   "source": [
    "import torch\n",
    "from torch.autograd import Variable\n",
    "import torch.nn.functional as F\n",
    "import torch.utils.data as Data\n",
    "\n",
    "PATH = '../input/a4-bound-correction-nn-training/best_model.pt'\n",
    "\n",
    "num_input = 1\n",
    "class Net(torch.nn.Module):\n",
    "    def __init__(self, n_feature, n_hidden, n_output):\n",
    "        super(Net, self).__init__()\n",
    "        self.hidden = torch.nn.Linear(n_feature, n_hidden)   # hidden layer\n",
    "        self.hidden2 = torch.nn.Linear(n_hidden, n_hidden)   # hidden layer\n",
    "        self.predict = torch.nn.Linear(n_hidden, n_output)   # output layer\n",
    "\n",
    "    def forward(self, x):\n",
    "        x = F.relu(self.hidden(x))      # activation function for hidden layer\n",
    "        x = F.relu(self.hidden2(x))\n",
    "        x = self.predict(x)             # linear output\n",
    "        return x\n",
    "net_load = Net(n_feature=num_input, n_hidden=400, n_output=1)     # define the network\n",
    "#net_load = net_load.to(device)\n",
    "\n",
    "net_load.load_state_dict(torch.load(PATH))\n",
    "\n"
   ]
  },
  {
   "cell_type": "code",
   "execution_count": 4,
   "id": "34eba335",
   "metadata": {
    "execution": {
     "iopub.execute_input": "2022-08-03T06:05:42.039455Z",
     "iopub.status.busy": "2022-08-03T06:05:42.039180Z",
     "iopub.status.idle": "2022-08-03T06:05:42.043357Z",
     "shell.execute_reply": "2022-08-03T06:05:42.042550Z"
    },
    "papermill": {
     "duration": 0.022636,
     "end_time": "2022-08-03T06:05:42.045270",
     "exception": false,
     "start_time": "2022-08-03T06:05:42.022634",
     "status": "completed"
    },
    "tags": []
   },
   "outputs": [],
   "source": [
    "Uncertainty_Bound = torch.tensor(0.4) # The expected UB"
   ]
  },
  {
   "cell_type": "code",
   "execution_count": 5,
   "id": "8207cb74",
   "metadata": {
    "execution": {
     "iopub.execute_input": "2022-08-03T06:05:42.076982Z",
     "iopub.status.busy": "2022-08-03T06:05:42.076461Z",
     "iopub.status.idle": "2022-08-03T06:05:42.183805Z",
     "shell.execute_reply": "2022-08-03T06:05:42.183196Z"
    },
    "papermill": {
     "duration": 0.126571,
     "end_time": "2022-08-03T06:05:42.186923",
     "exception": false,
     "start_time": "2022-08-03T06:05:42.060352",
     "status": "completed"
    },
    "tags": []
   },
   "outputs": [
    {
     "name": "stdout",
     "output_type": "stream",
     "text": [
      "tensor([[0.3888]], grad_fn=<AddBackward0>)\n"
     ]
    }
   ],
   "source": [
    "\n",
    "f = open('../input/a4-bound-correction-nn-training/min_x.pckl', 'rb')\n",
    "min_UBx = pkl.load(f)\n",
    "f.close()\n",
    "\n",
    "f = open('../input/a4-bound-correction-nn-training/max_x.pckl', 'rb')\n",
    "max_UBx = pkl.load(f)\n",
    "f.close()\n",
    "\n",
    "Uncertainty_Bound = (Uncertainty_Bound-min_UBx)/(max_UBx-min_UBx) # Normalizing\n",
    "\n",
    "new_shape = (Uncertainty_Bound.shape[0], 1)\n",
    "Uncertainty_Bound = Uncertainty_Bound.view(new_shape)\n",
    "\n",
    "Uncertainty_Bound_corrected = net_load(Uncertainty_Bound)\n",
    "\n",
    "f = open('../input/a4-bound-correction-nn-training/min_y.pckl', 'rb')\n",
    "min_UBy = pkl.load(f)\n",
    "f.close()\n",
    "\n",
    "f = open('../input/a4-bound-correction-nn-training/max_y.pckl', 'rb')\n",
    "max_UBy = pkl.load(f)\n",
    "f.close()\n",
    "\n",
    "Uncertainty_Bound_corrected = Uncertainty_Bound_corrected*(max_UBy-min_UBy)+min_UBy # DeNormalizing\n",
    "\n",
    "print(Uncertainty_Bound_corrected)\n"
   ]
  },
  {
   "cell_type": "markdown",
   "id": "e7c351be",
   "metadata": {
    "papermill": {
     "duration": 0.01517,
     "end_time": "2022-08-03T06:05:42.218370",
     "exception": false,
     "start_time": "2022-08-03T06:05:42.203200",
     "status": "completed"
    },
    "tags": []
   },
   "source": [
    "## Applying Corrected UB to Traditional System"
   ]
  },
  {
   "cell_type": "code",
   "execution_count": 6,
   "id": "27f154a4",
   "metadata": {
    "execution": {
     "iopub.execute_input": "2022-08-03T06:05:42.251532Z",
     "iopub.status.busy": "2022-08-03T06:05:42.251244Z",
     "iopub.status.idle": "2022-08-03T06:05:42.485889Z",
     "shell.execute_reply": "2022-08-03T06:05:42.484926Z"
    },
    "papermill": {
     "duration": 0.254265,
     "end_time": "2022-08-03T06:05:42.488294",
     "exception": false,
     "start_time": "2022-08-03T06:05:42.234029",
     "status": "completed"
    },
    "tags": []
   },
   "outputs": [
    {
     "name": "stdout",
     "output_type": "stream",
     "text": [
      "Statistical UB location: 0.3953911461491813\n"
     ]
    }
   ],
   "source": [
    "higher_count=0;\n",
    "bound_values = []\n",
    "for iter1 in range(len(output_)):\n",
    "    indexes=Similar_samples[iter1];\n",
    "    Probability_density =[]\n",
    "    for iter2 in indexes:\n",
    "        Probability_density.append(output_[iter2.astype(np.int64)])\n",
    "    Probability_density = np.sort(Probability_density)\n",
    "    prediction_bound = Probability_density[np.round(Similar_event_count*Uncertainty_Bound_corrected.detach().numpy()).astype(np.int64)-1]\n",
    "    bound_values.append(prediction_bound)\n",
    "    if prediction_bound > output_[iter1]:\n",
    "        higher_count = higher_count + 1;\n",
    "        \n",
    "print('Statistical UB location:', higher_count/len(output_))"
   ]
  },
  {
   "cell_type": "markdown",
   "id": "172fb3f8",
   "metadata": {
    "papermill": {
     "duration": 0.015461,
     "end_time": "2022-08-03T06:05:42.519528",
     "exception": false,
     "start_time": "2022-08-03T06:05:42.504067",
     "status": "completed"
    },
    "tags": []
   },
   "source": [
    "## Data Preparation for NN Training"
   ]
  },
  {
   "cell_type": "code",
   "execution_count": 7,
   "id": "dfee21dd",
   "metadata": {
    "execution": {
     "iopub.execute_input": "2022-08-03T06:05:42.552828Z",
     "iopub.status.busy": "2022-08-03T06:05:42.552181Z",
     "iopub.status.idle": "2022-08-03T06:05:42.680879Z",
     "shell.execute_reply": "2022-08-03T06:05:42.679643Z"
    },
    "papermill": {
     "duration": 0.147925,
     "end_time": "2022-08-03T06:05:42.683225",
     "exception": false,
     "start_time": "2022-08-03T06:05:42.535300",
     "status": "completed"
    },
    "tags": []
   },
   "outputs": [
    {
     "name": "stdout",
     "output_type": "stream",
     "text": [
      "Shapes: torch.Size([1465, 19]) torch.Size([1465, 1])\n",
      "tensor(81.2000) tensor(50.) tensor([2.0150e+03, 7.2300e+02, 1.6000e+03, 1.7870e+01, 1.8961e+04, 9.9000e+01,\n",
      "        1.3144e+05, 7.7100e+01, 2.1000e+03, 9.9000e+01, 1.4390e+01, 9.9000e+01,\n",
      "        5.0600e+01, 1.1917e+05, 1.2939e+09, 2.7200e+01, 2.8200e+01, 9.3600e-01,\n",
      "        2.0700e+01]) tensor([2.0000e+03, 1.0000e+00, 0.0000e+00, 1.0000e-02, 0.0000e+00, 2.0000e+00,\n",
      "        0.0000e+00, 2.0000e+00, 0.0000e+00, 3.0000e+00, 7.4000e-01, 2.0000e+00,\n",
      "        1.0000e-01, 1.6813e+00, 3.4000e+01, 1.0000e-01, 1.0000e-01, 0.0000e+00,\n",
      "        4.2000e+00])\n",
      "tensor([1.5000e+01, 7.2200e+02, 1.6000e+03, 1.7860e+01, 1.8961e+04, 9.7000e+01,\n",
      "        1.3144e+05, 7.5100e+01, 2.1000e+03, 9.6000e+01, 1.3650e+01, 9.7000e+01,\n",
      "        5.0500e+01, 1.1917e+05, 1.2939e+09, 2.7100e+01, 2.8100e+01, 9.3600e-01,\n",
      "        1.6500e+01]) tensor(31.2000)\n"
     ]
    }
   ],
   "source": [
    "x=[]\n",
    "y=[]\n",
    "i_val=[]\n",
    "o_val=[]\n",
    "for iter1 in range(len(output_)):\n",
    "    if iter1%9>0:\n",
    "        x.append(input_[iter1])\n",
    "        y.append(bound_values[iter1])\n",
    "        continue\n",
    "    i_val.append(input_[iter1])\n",
    "    o_val.append(bound_values[iter1])\n",
    "\n",
    "x = torch.tensor(x).float()  \n",
    "y = torch.tensor(y).float() \n",
    "\n",
    "new_shape = (len(y), 1)\n",
    "y = y.view(new_shape)\n",
    "print('Shapes:', x.shape, y.shape)\n",
    "\n",
    "i_val = torch.tensor(i_val).float()  \n",
    "o_val = torch.tensor(o_val).float()   \n",
    "new_shape = (len(o_val), 1)\n",
    "o_val = o_val.view(new_shape)\n",
    "\n",
    "\n",
    "max_y = torch.max(y[:,0])\n",
    "min_y =torch.min(y[:,0])\n",
    "\n",
    "max_x = torch.max(x,dim=0)\n",
    "min_x = torch.min(x,dim=0)\n",
    "\n",
    "print(max_y, min_y, max_x.values, min_x.values)\n",
    "\n",
    "range_y = max_y - min_y\n",
    "range_x = max_x.values - min_x.values\n",
    "\n",
    "print(range_x, range_y)\n",
    "\n",
    "    #Normalizing\n",
    "x = (x - min_x.values)/range_x\n",
    "y = (y - min_y)/range_y\n",
    "\n",
    "    #Normalizing\n",
    "i_val = (i_val - min_x.values)/range_x\n",
    "o_val = (o_val - min_y)/range_y"
   ]
  },
  {
   "cell_type": "markdown",
   "id": "c5fee1bf",
   "metadata": {
    "papermill": {
     "duration": 0.016125,
     "end_time": "2022-08-03T06:05:42.716211",
     "exception": false,
     "start_time": "2022-08-03T06:05:42.700086",
     "status": "completed"
    },
    "tags": []
   },
   "source": [
    "##  NN Training for Direct Input to UB"
   ]
  },
  {
   "cell_type": "code",
   "execution_count": 8,
   "id": "2da1967d",
   "metadata": {
    "execution": {
     "iopub.execute_input": "2022-08-03T06:05:42.751076Z",
     "iopub.status.busy": "2022-08-03T06:05:42.750778Z",
     "iopub.status.idle": "2022-08-03T06:06:06.492453Z",
     "shell.execute_reply": "2022-08-03T06:06:06.491219Z"
    },
    "papermill": {
     "duration": 23.762776,
     "end_time": "2022-08-03T06:06:06.495542",
     "exception": false,
     "start_time": "2022-08-03T06:05:42.732766",
     "status": "completed"
    },
    "tags": []
   },
   "outputs": [
    {
     "name": "stdout",
     "output_type": "stream",
     "text": [
      "Net2(\n",
      "  (hidden): Linear(in_features=19, out_features=500, bias=True)\n",
      "  (hidden2): Linear(in_features=500, out_features=500, bias=True)\n",
      "  (predict): Linear(in_features=500, out_features=1, bias=True)\n",
      ")\n",
      "Epoch [200/1000], Loss: 0.0481, Minimum Loss 0.048116, Val Loss 0.049064  \n",
      "Epoch [400/1000], Loss: 0.0481, Minimum Loss 0.048116, Val Loss 0.049064  \n",
      "Epoch [600/1000], Loss: 0.0481, Minimum Loss 0.048116, Val Loss 0.049064  \n",
      "Epoch [800/1000], Loss: 0.0481, Minimum Loss 0.048116, Val Loss 0.049064  \n",
      "Epoch [1000/1000], Loss: 0.0481, Minimum Loss 0.048116, Val Loss 0.049064  \n"
     ]
    }
   ],
   "source": [
    "# torch can only train on Variable, so convert them to Variable\n",
    "x, y = Variable(x), Variable(y)\n",
    "num_input=19\n",
    " \n",
    "class Net2(torch.nn.Module):\n",
    "    def __init__(self, n_feature, n_hidden, n_output):\n",
    "        super(Net2, self).__init__()\n",
    "        self.hidden = torch.nn.Linear(n_feature, n_hidden)   # hidden layer\n",
    "        self.hidden2 = torch.nn.Linear(n_hidden, n_hidden)   # hidden layer\n",
    "        self.predict = torch.nn.Linear(n_hidden, n_output)   # output layer\n",
    "\n",
    "    def forward(self, x):\n",
    "        x = F.relu(self.hidden(x))      # activation function for hidden layer\n",
    "        x = F.relu(self.hidden2(x))\n",
    "        x = self.predict(x)             # linear output\n",
    "        return x\n",
    "\n",
    "\n",
    "    \n",
    "net = Net2(n_feature=num_input, n_hidden=500, n_output=1)     # define the network\n",
    "print(net)  # net architecture\n",
    "optimizer = torch.optim.Adam(net.parameters(), lr=0.1)\n",
    "loss_func = torch.nn.MSELoss()  # this is for regression mean squared loss\n",
    "\n",
    "\n",
    "minimum_train_loss = 1e5\n",
    "minimum_val_loss = 1e5\n",
    "EPOCH = 1000\n",
    "\n",
    "# start training\n",
    "for epoch in range(EPOCH):\n",
    "  \n",
    "    prediction = net(x)     # input x and predict based on x\n",
    "\n",
    "    loss = loss_func(prediction, y)     # must be (1. nn output, 2. target)\n",
    "\n",
    "    optimizer.zero_grad()   # clear gradients for next train\n",
    "    loss.backward()         # backpropagation, compute gradients\n",
    "    optimizer.step()        # apply gradients\n",
    "    \n",
    "    if loss<minimum_train_loss:\n",
    "        minimum_train_loss =loss\n",
    "        net_opt = net\n",
    "    \n",
    "    if epoch%200 == 199:\n",
    "        prediction = net_opt(i_val)\n",
    "        loss_val = loss_func(prediction, o_val)\n",
    "        if loss_val<minimum_val_loss:\n",
    "            minimum_val_loss = loss_val\n",
    "            net_opt_val = net_opt\n",
    "        if loss_val>minimum_val_loss:\n",
    "            net_opt = net_opt_val\n",
    "        print (\"Epoch [{}/{}], Loss: {:.4f}, Minimum Loss {:.6f}, Val Loss {:.6f}  \"  .format(epoch+1, EPOCH, loss, minimum_train_loss, minimum_val_loss))"
   ]
  },
  {
   "cell_type": "markdown",
   "id": "87eacb06",
   "metadata": {
    "papermill": {
     "duration": 0.017974,
     "end_time": "2022-08-03T06:06:06.534004",
     "exception": false,
     "start_time": "2022-08-03T06:06:06.516030",
     "status": "completed"
    },
    "tags": []
   },
   "source": [
    "## Statistical performance of NN on Training Set"
   ]
  },
  {
   "cell_type": "code",
   "execution_count": 9,
   "id": "4b4a4192",
   "metadata": {
    "execution": {
     "iopub.execute_input": "2022-08-03T06:06:06.572418Z",
     "iopub.status.busy": "2022-08-03T06:06:06.572118Z",
     "iopub.status.idle": "2022-08-03T06:06:07.071922Z",
     "shell.execute_reply": "2022-08-03T06:06:07.070682Z"
    },
    "papermill": {
     "duration": 0.522765,
     "end_time": "2022-08-03T06:06:07.075126",
     "exception": false,
     "start_time": "2022-08-03T06:06:06.552361",
     "status": "completed"
    },
    "tags": []
   },
   "outputs": [
    {
     "name": "stdout",
     "output_type": "stream",
     "text": [
      "Statistical UB location for Direct NN: 0.40873256519102485\n"
     ]
    }
   ],
   "source": [
    "higher_count=0;\n",
    "x_0=[]\n",
    "prediction_=[]\n",
    "\n",
    "for iter1 in range(len(output_)):\n",
    "    x_in = input_[iter1]\n",
    "    x_0.append(x_in[1])\n",
    "    Net_input = torch.tensor(input_[iter1]).float() \n",
    "    Net_input = (Net_input - min_x.values)/range_x # Normalizing\n",
    "    \n",
    "    prediction_bound = net_opt_val(Net_input) # Apply Net\n",
    "    \n",
    "    prediction_bound = prediction_bound*range_y+min_y # Denormalizing    \n",
    "       \n",
    "    prediction_.append(float(prediction_bound))\n",
    "    \n",
    "    if prediction_bound > output_[iter1]:\n",
    "        higher_count = higher_count + 1;\n",
    "        \n",
    "print('Statistical UB location for Direct NN:', higher_count/len(output_))"
   ]
  }
 ],
 "metadata": {
  "kernelspec": {
   "display_name": "Python 3",
   "language": "python",
   "name": "python3"
  },
  "language_info": {
   "codemirror_mode": {
    "name": "ipython",
    "version": 3
   },
   "file_extension": ".py",
   "mimetype": "text/x-python",
   "name": "python",
   "nbconvert_exporter": "python",
   "pygments_lexer": "ipython3",
   "version": "3.7.12"
  },
  "papermill": {
   "default_parameters": {},
   "duration": 37.32027,
   "end_time": "2022-08-03T06:06:07.916211",
   "environment_variables": {},
   "exception": null,
   "input_path": "__notebook__.ipynb",
   "output_path": "__notebook__.ipynb",
   "parameters": {},
   "start_time": "2022-08-03T06:05:30.595941",
   "version": "2.3.4"
  }
 },
 "nbformat": 4,
 "nbformat_minor": 5
}
