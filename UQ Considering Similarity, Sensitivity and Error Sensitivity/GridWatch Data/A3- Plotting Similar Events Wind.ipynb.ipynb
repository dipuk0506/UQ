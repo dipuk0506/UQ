{
 "cells": [
  {
   "cell_type": "markdown",
   "id": "c3373c52",
   "metadata": {
    "_cell_guid": "b1076dfc-b9ad-4769-8c92-a6c4dae69d19",
    "_uuid": "8f2839f25d086af736a60e9eeb907d3b93b6e0e5",
    "papermill": {
     "duration": 0.008284,
     "end_time": "2022-08-08T06:51:14.064508",
     "exception": false,
     "start_time": "2022-08-08T06:51:14.056224",
     "status": "completed"
    },
    "tags": []
   },
   "source": [
    "# Load Data"
   ]
  },
  {
   "cell_type": "code",
   "execution_count": 1,
   "id": "cf773786",
   "metadata": {
    "execution": {
     "iopub.execute_input": "2022-08-08T06:51:14.080793Z",
     "iopub.status.busy": "2022-08-08T06:51:14.080072Z",
     "iopub.status.idle": "2022-08-08T06:51:14.192919Z",
     "shell.execute_reply": "2022-08-08T06:51:14.192012Z"
    },
    "papermill": {
     "duration": 0.124302,
     "end_time": "2022-08-08T06:51:14.195975",
     "exception": false,
     "start_time": "2022-08-08T06:51:14.071673",
     "status": "completed"
    },
    "tags": []
   },
   "outputs": [
    {
     "data": {
      "text/html": [
       "<div>\n",
       "<style scoped>\n",
       "    .dataframe tbody tr th:only-of-type {\n",
       "        vertical-align: middle;\n",
       "    }\n",
       "\n",
       "    .dataframe tbody tr th {\n",
       "        vertical-align: top;\n",
       "    }\n",
       "\n",
       "    .dataframe thead th {\n",
       "        text-align: right;\n",
       "    }\n",
       "</style>\n",
       "<table border=\"1\" class=\"dataframe\">\n",
       "  <thead>\n",
       "    <tr style=\"text-align: right;\">\n",
       "      <th></th>\n",
       "      <th>y(t-4)</th>\n",
       "      <th>y(t-3)</th>\n",
       "      <th>y(t-2)</th>\n",
       "      <th>y(t-1)</th>\n",
       "      <th>Hour</th>\n",
       "      <th>Day</th>\n",
       "      <th>y(t)</th>\n",
       "    </tr>\n",
       "  </thead>\n",
       "  <tbody>\n",
       "    <tr>\n",
       "      <th>0</th>\n",
       "      <td>1529.0</td>\n",
       "      <td>1561.0</td>\n",
       "      <td>1573.0</td>\n",
       "      <td>1559.0</td>\n",
       "      <td>16.835556</td>\n",
       "      <td>177.0</td>\n",
       "      <td>1565.0</td>\n",
       "    </tr>\n",
       "    <tr>\n",
       "      <th>1</th>\n",
       "      <td>1561.0</td>\n",
       "      <td>1573.0</td>\n",
       "      <td>1559.0</td>\n",
       "      <td>1565.0</td>\n",
       "      <td>16.916944</td>\n",
       "      <td>177.0</td>\n",
       "      <td>1587.0</td>\n",
       "    </tr>\n",
       "    <tr>\n",
       "      <th>2</th>\n",
       "      <td>1684.0</td>\n",
       "      <td>1695.0</td>\n",
       "      <td>1750.0</td>\n",
       "      <td>1800.0</td>\n",
       "      <td>17.666944</td>\n",
       "      <td>177.0</td>\n",
       "      <td>1838.0</td>\n",
       "    </tr>\n",
       "    <tr>\n",
       "      <th>3</th>\n",
       "      <td>1695.0</td>\n",
       "      <td>1750.0</td>\n",
       "      <td>1800.0</td>\n",
       "      <td>1838.0</td>\n",
       "      <td>17.750556</td>\n",
       "      <td>177.0</td>\n",
       "      <td>1836.0</td>\n",
       "    </tr>\n",
       "    <tr>\n",
       "      <th>4</th>\n",
       "      <td>1812.0</td>\n",
       "      <td>1805.0</td>\n",
       "      <td>1769.0</td>\n",
       "      <td>1758.0</td>\n",
       "      <td>18.500278</td>\n",
       "      <td>177.0</td>\n",
       "      <td>1773.0</td>\n",
       "    </tr>\n",
       "  </tbody>\n",
       "</table>\n",
       "</div>"
      ],
      "text/plain": [
       "   y(t-4)  y(t-3)  y(t-2)  y(t-1)       Hour    Day    y(t)\n",
       "0  1529.0  1561.0  1573.0  1559.0  16.835556  177.0  1565.0\n",
       "1  1561.0  1573.0  1559.0  1565.0  16.916944  177.0  1587.0\n",
       "2  1684.0  1695.0  1750.0  1800.0  17.666944  177.0  1838.0\n",
       "3  1695.0  1750.0  1800.0  1838.0  17.750556  177.0  1836.0\n",
       "4  1812.0  1805.0  1769.0  1758.0  18.500278  177.0  1773.0"
      ]
     },
     "execution_count": 1,
     "metadata": {},
     "output_type": "execute_result"
    }
   ],
   "source": [
    "train_csv_path = '../input/electricity-uk-grid-data-preparation/Wind_train.csv'\n",
    "test_csv_path = '../input/electricity-uk-grid-data-preparation/Wind_test.csv'\n",
    "val_csv_path = '../input/electricity-uk-grid-data-preparation/Wind_val.csv'\n",
    "\n",
    "\n",
    "import matplotlib.pyplot as plt\n",
    "import numpy as np\n",
    "import pandas as pd\n",
    "train_df = pd.read_csv(train_csv_path)\n",
    "val_df = pd.read_csv(val_csv_path)\n",
    "train_df.head()"
   ]
  },
  {
   "cell_type": "code",
   "execution_count": 2,
   "id": "7cbd483d",
   "metadata": {
    "execution": {
     "iopub.execute_input": "2022-08-08T06:51:14.212878Z",
     "iopub.status.busy": "2022-08-08T06:51:14.212574Z",
     "iopub.status.idle": "2022-08-08T06:51:14.420432Z",
     "shell.execute_reply": "2022-08-08T06:51:14.419462Z"
    },
    "papermill": {
     "duration": 0.219731,
     "end_time": "2022-08-08T06:51:14.423350",
     "exception": false,
     "start_time": "2022-08-08T06:51:14.203619",
     "status": "completed"
    },
    "tags": []
   },
   "outputs": [
    {
     "name": "stdout",
     "output_type": "stream",
     "text": [
      "Number of Similar Samples Considered 100\n",
      "Target Shape (20000,) Similar Samples Matrix Shape: (20000, 100)\n"
     ]
    }
   ],
   "source": [
    "import pickle as pkl\n",
    "\n",
    "fileName =  '../input/a1-data-to-similar-events/Similarity'\n",
    "fileObject2 = open(fileName, 'rb')\n",
    "Imported_data = pkl.load(fileObject2)\n",
    "fileObject2.close()\n",
    "\n",
    "#print('Similarity Thresholds:',Imported_data[:,0])\n",
    "\n",
    "#print('Most Similarity at:',Imported_data[:,1])\n",
    "\n",
    "Similar_event_count = len(Imported_data[0,:])-1\n",
    "print('Number of Similar Samples Considered', Similar_event_count)\n",
    "\n",
    "Similarity_thresholds = Imported_data[:,0]\n",
    "\n",
    "Sample_density = Similar_event_count/ Similarity_thresholds/100\n",
    "#Sample_density = number of samples with less than 1% (of range) deviation\n",
    "\n",
    "Similar_samples = Imported_data[:,1:Similar_event_count+1]\n",
    "\n",
    "print('Target Shape', Sample_density.shape, 'Similar Samples Matrix Shape:', Similar_samples.shape)"
   ]
  },
  {
   "cell_type": "markdown",
   "id": "2036e6ec",
   "metadata": {
    "papermill": {
     "duration": 0.008928,
     "end_time": "2022-08-08T06:51:14.441029",
     "exception": false,
     "start_time": "2022-08-08T06:51:14.432101",
     "status": "completed"
    },
    "tags": []
   },
   "source": [
    "# Similar Indexes of a Sample"
   ]
  },
  {
   "cell_type": "code",
   "execution_count": 3,
   "id": "2a737000",
   "metadata": {
    "execution": {
     "iopub.execute_input": "2022-08-08T06:51:14.460415Z",
     "iopub.status.busy": "2022-08-08T06:51:14.460108Z",
     "iopub.status.idle": "2022-08-08T06:51:18.897246Z",
     "shell.execute_reply": "2022-08-08T06:51:18.895396Z"
    },
    "papermill": {
     "duration": 4.451059,
     "end_time": "2022-08-08T06:51:18.900580",
     "exception": false,
     "start_time": "2022-08-08T06:51:14.449521",
     "status": "completed"
    },
    "tags": []
   },
   "outputs": [
    {
     "name": "stdout",
     "output_type": "stream",
     "text": [
      "6\n",
      "(100,)\n"
     ]
    }
   ],
   "source": [
    "UB_point = 0.05 #ny value from 0 to 1\n",
    "\n",
    "# UB_point (Uncertainty Bound) is the cumulative probability from the lower-end.\n",
    "\n",
    "sample_no = 101 #The sample we are considering \n",
    "\n",
    "\n",
    "input_=[]\n",
    "output_=[]\n",
    "for row in train_df.iloc:\n",
    "    input_.append((row[0:len(row)-1]).astype(float))\n",
    "    output_.append(row[-1])\n",
    "\n",
    "number_of_input = len(row)-1\n",
    "Output_column_number = len(row)\n",
    "\n",
    "print(number_of_input)\n",
    "\n",
    "indexes=Similar_samples[sample_no,:]\n",
    "\n",
    "print(indexes.shape)\n"
   ]
  },
  {
   "cell_type": "markdown",
   "id": "d34abf59",
   "metadata": {
    "papermill": {
     "duration": 0.008062,
     "end_time": "2022-08-08T06:51:18.917489",
     "exception": false,
     "start_time": "2022-08-08T06:51:18.909427",
     "status": "completed"
    },
    "tags": []
   },
   "source": [
    "# Plotting"
   ]
  },
  {
   "cell_type": "code",
   "execution_count": 4,
   "id": "5b4ef34d",
   "metadata": {
    "execution": {
     "iopub.execute_input": "2022-08-08T06:51:18.935142Z",
     "iopub.status.busy": "2022-08-08T06:51:18.934857Z",
     "iopub.status.idle": "2022-08-08T06:51:19.445924Z",
     "shell.execute_reply": "2022-08-08T06:51:19.444990Z"
    },
    "papermill": {
     "duration": 0.522671,
     "end_time": "2022-08-08T06:51:19.448303",
     "exception": false,
     "start_time": "2022-08-08T06:51:18.925632",
     "status": "completed"
    },
    "tags": []
   },
   "outputs": [
    {
     "data": {
      "text/plain": [
       "[<matplotlib.lines.Line2D at 0x7fbcddfe0390>]"
      ]
     },
     "execution_count": 4,
     "metadata": {},
     "output_type": "execute_result"
    },
    {
     "data": {
      "image/png": "[encoded data removed]",
      "text/plain": [
       "<Figure size 432x288 with 1 Axes>"
      ]
     },
     "metadata": {
      "needs_background": "light"
     },
     "output_type": "display_data"
    }
   ],
   "source": [
    "fig, (ax1) = plt.subplots(1, 1)\n",
    "\n",
    "ax1.set(xlabel=\"Indexes of Input and the Last Index is for Output\", ylabel=\"Target and Predictions (Arbitrary Unit)\" )\n",
    "plt.rcParams[\"figure.figsize\"] = (5,8)\n",
    "\n",
    "\n",
    "Probability_density = []\n",
    "for iter1 in indexes[1:]:\n",
    "    #Plotting example Inputs\n",
    "    #print(iter1)\n",
    "    ax1.plot(range(1,number_of_input+1),input_[iter1.astype(np.int64)].values, 'b')\n",
    "    ax1.plot([number_of_input, number_of_input+1],[ input_[iter1.astype(np.int64)].values[-1], output_[iter1.astype(np.int64)]],'grey')\n",
    "    Probability_density.append(output_[iter1.astype(np.int64)])\n",
    "\n",
    "iter1 = indexes[0]\n",
    "ax1.plot(range(1,number_of_input+1),input_[iter1.astype(np.int64)].values, 'r', linewidth=4)\n",
    "ax1.plot([number_of_input, number_of_input+1],[ input_[iter1.astype(np.int64)].values[-1], output_[iter1.astype(np.int64)]],'r', linewidth=4)\n",
    "Probability_density.append(output_[iter1.astype(np.int64)])\n",
    "\n",
    "Probability_density = np.sort(Probability_density)\n",
    "\n",
    "ax1.plot(number_of_input+1,Probability_density[np.round(Similar_event_count*UB_point).astype(np.int64)-1], 'ro', linewidth=14)\n",
    "\n",
    "ax1.plot(number_of_input+1,Probability_density[np.round(Similar_event_count*(1-UB_point)).astype(np.int64)-1], 'r+', linewidth=14)\n"
   ]
  }
 ],
 "metadata": {
  "kernelspec": {
   "display_name": "Python 3",
   "language": "python",
   "name": "python3"
  },
  "language_info": {
   "codemirror_mode": {
    "name": "ipython",
    "version": 3
   },
   "file_extension": ".py",
   "mimetype": "text/x-python",
   "name": "python",
   "nbconvert_exporter": "python",
   "pygments_lexer": "ipython3",
   "version": "3.7.12"
  },
  "papermill": {
   "default_parameters": {},
   "duration": 16.101458,
   "end_time": "2022-08-08T06:51:20.179675",
   "environment_variables": {},
   "exception": null,
   "input_path": "__notebook__.ipynb",
   "output_path": "__notebook__.ipynb",
   "parameters": {},
   "start_time": "2022-08-08T06:51:04.078217",
   "version": "2.3.4"
  }
 },
 "nbformat": 4,
 "nbformat_minor": 5
}
