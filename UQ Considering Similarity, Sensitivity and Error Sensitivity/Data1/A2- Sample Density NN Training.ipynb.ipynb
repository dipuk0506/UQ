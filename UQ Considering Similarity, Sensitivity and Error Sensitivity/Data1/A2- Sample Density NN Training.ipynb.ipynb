{
 "cells": [
  {
   "cell_type": "markdown",
   "id": "6defe6c2",
   "metadata": {
    "papermill": {
     "duration": 0.008529,
     "end_time": "2022-08-13T02:30:35.557513",
     "exception": false,
     "start_time": "2022-08-13T02:30:35.548984",
     "status": "completed"
    },
    "tags": []
   },
   "source": [
    "# Loading Data"
   ]
  },
  {
   "cell_type": "code",
   "execution_count": 1,
   "id": "0f1b72df",
   "metadata": {
    "execution": {
     "iopub.execute_input": "2022-08-13T02:30:35.574115Z",
     "iopub.status.busy": "2022-08-13T02:30:35.573642Z",
     "iopub.status.idle": "2022-08-13T02:30:35.647214Z",
     "shell.execute_reply": "2022-08-13T02:30:35.646225Z"
    },
    "papermill": {
     "duration": 0.085327,
     "end_time": "2022-08-13T02:30:35.650155",
     "exception": false,
     "start_time": "2022-08-13T02:30:35.564828",
     "status": "completed"
    },
    "tags": []
   },
   "outputs": [
    {
     "name": "stdout",
     "output_type": "stream",
     "text": [
      "Number of Similar Samples Considered 100\n",
      "Target Shape (5000,) Similar Samples Matrix Shape: (5000, 100)\n"
     ]
    }
   ],
   "source": [
    "import pickle as pkl\n",
    "import matplotlib.pyplot as plt\n",
    "%matplotlib inline\n",
    "import numpy as np\n",
    "\n",
    "fileName =  '../input/a1-data-to-similar-events/Similarity'\n",
    "fileObject2 = open(fileName, 'rb')\n",
    "Imported_data = pkl.load(fileObject2)\n",
    "fileObject2.close()\n",
    "\n",
    "#print('Similarity Thresholds:',Imported_data[:,0])\n",
    "\n",
    "#print('Most Similarity at:',Imported_data[:,1])\n",
    "\n",
    "Similar_event_count = len(Imported_data[0,:])-1\n",
    "print('Number of Similar Samples Considered', Similar_event_count)\n",
    "\n",
    "Similarity_thresholds = Imported_data[:,0]\n",
    "for iter1 in range(len(Similarity_thresholds)):\n",
    "    if Similarity_thresholds[iter1] < 1e15:\n",
    "        continue\n",
    "    Similarity_thresholds[iter1] = 1e15 # Avoiding NaN values \n",
    "    \n",
    "Sample_density = Similar_event_count/ Similarity_thresholds/ 100\n",
    "#Sample_density = number of samples with less than 1% (of range) deviation\n",
    "\n",
    "Similar_samples = Imported_data[:,1:Similar_event_count+1]\n",
    "\n",
    "print('Target Shape', Sample_density.shape, 'Similar Samples Matrix Shape:', Similar_samples.shape)"
   ]
  },
  {
   "cell_type": "code",
   "execution_count": 2,
   "id": "5eca696d",
   "metadata": {
    "execution": {
     "iopub.execute_input": "2022-08-13T02:30:35.668697Z",
     "iopub.status.busy": "2022-08-13T02:30:35.668206Z",
     "iopub.status.idle": "2022-08-13T02:30:35.875082Z",
     "shell.execute_reply": "2022-08-13T02:30:35.874128Z"
    },
    "papermill": {
     "duration": 0.21877,
     "end_time": "2022-08-13T02:30:35.877776",
     "exception": false,
     "start_time": "2022-08-13T02:30:35.659006",
     "status": "completed"
    },
    "tags": []
   },
   "outputs": [
    {
     "data": {
      "text/html": [
       "<div>\n",
       "<style scoped>\n",
       "    .dataframe tbody tr th:only-of-type {\n",
       "        vertical-align: middle;\n",
       "    }\n",
       "\n",
       "    .dataframe tbody tr th {\n",
       "        vertical-align: top;\n",
       "    }\n",
       "\n",
       "    .dataframe thead th {\n",
       "        text-align: right;\n",
       "    }\n",
       "</style>\n",
       "<table border=\"1\" class=\"dataframe\">\n",
       "  <thead>\n",
       "    <tr style=\"text-align: right;\">\n",
       "      <th></th>\n",
       "      <th>Input1</th>\n",
       "      <th>Output</th>\n",
       "    </tr>\n",
       "  </thead>\n",
       "  <tbody>\n",
       "    <tr>\n",
       "      <th>0</th>\n",
       "      <td>0.000000</td>\n",
       "      <td>0.037112</td>\n",
       "    </tr>\n",
       "    <tr>\n",
       "      <th>1</th>\n",
       "      <td>0.001257</td>\n",
       "      <td>0.005684</td>\n",
       "    </tr>\n",
       "    <tr>\n",
       "      <th>2</th>\n",
       "      <td>0.002513</td>\n",
       "      <td>-0.017941</td>\n",
       "    </tr>\n",
       "    <tr>\n",
       "      <th>3</th>\n",
       "      <td>0.003770</td>\n",
       "      <td>0.020993</td>\n",
       "    </tr>\n",
       "    <tr>\n",
       "      <th>4</th>\n",
       "      <td>0.005027</td>\n",
       "      <td>-0.016084</td>\n",
       "    </tr>\n",
       "  </tbody>\n",
       "</table>\n",
       "</div>"
      ],
      "text/plain": [
       "     Input1    Output\n",
       "0  0.000000  0.037112\n",
       "1  0.001257  0.005684\n",
       "2  0.002513 -0.017941\n",
       "3  0.003770  0.020993\n",
       "4  0.005027 -0.016084"
      ]
     },
     "execution_count": 2,
     "metadata": {},
     "output_type": "execute_result"
    }
   ],
   "source": [
    "train_csv_path = '../input/toy-dataset-for-regression-and-uq/Data1_Train.csv'\n",
    "test_csv_path = '../input/toy-dataset-for-regression-and-uq/Data1_Test.csv'\n",
    "val_csv_path = '../input/toy-dataset-for-regression-and-uq/Data1_Val.csv'\n",
    "\n",
    "\n",
    "\n",
    "import pandas as pd\n",
    "train_df = pd.read_csv(train_csv_path)\n",
    "val_df = pd.read_csv(val_csv_path)\n",
    "train_df.head()"
   ]
  },
  {
   "cell_type": "markdown",
   "id": "5c1d83eb",
   "metadata": {
    "papermill": {
     "duration": 0.007493,
     "end_time": "2022-08-13T02:30:35.893635",
     "exception": false,
     "start_time": "2022-08-13T02:30:35.886142",
     "status": "completed"
    },
    "tags": []
   },
   "source": [
    "# Training-Validation Splitting\n",
    "The training Dataset is split, as top matches and sample densities are computed on the training set."
   ]
  },
  {
   "cell_type": "code",
   "execution_count": 3,
   "id": "557f2c10",
   "metadata": {
    "execution": {
     "iopub.execute_input": "2022-08-13T02:30:35.911634Z",
     "iopub.status.busy": "2022-08-13T02:30:35.911270Z",
     "iopub.status.idle": "2022-08-13T02:30:38.603288Z",
     "shell.execute_reply": "2022-08-13T02:30:38.601945Z"
    },
    "papermill": {
     "duration": 2.704091,
     "end_time": "2022-08-13T02:30:38.605748",
     "exception": false,
     "start_time": "2022-08-13T02:30:35.901657",
     "status": "completed"
    },
    "tags": []
   },
   "outputs": [
    {
     "name": "stdout",
     "output_type": "stream",
     "text": [
      "1\n",
      "Shape of training input: torch.Size([4000, 1])\n",
      "Shape of validation input: torch.Size([1000, 1])\n",
      "tensor(628.0699) tensor(1.0000e-15) tensor([5.0253]) tensor([0.])\n",
      "tensor([5.0253]) tensor(628.0699)\n"
     ]
    }
   ],
   "source": [
    "import torch\n",
    "from torch.autograd import Variable\n",
    "import torch.nn.functional as F\n",
    "import torch.utils.data as Data\n",
    "import imageio\n",
    "\n",
    "input_=[]\n",
    "output_=[]\n",
    "for row in train_df.iloc:\n",
    "    input_.append((row[0:len(row)-1]).astype(float))\n",
    "    output_.append(row[-1])\n",
    "    \n",
    "    \n",
    "num_input = len(row)-1;\n",
    "print(num_input)\n",
    "\n",
    "torch.manual_seed(1)    # reproducible\n",
    "\n",
    "x = torch.tensor(input_[0:4000]).float()  \n",
    "print('Shape of training input:',x.shape)\n",
    "y = torch.tensor(Sample_density[0:4000]).float()   \n",
    "new_shape = (len(y), 1)\n",
    "y = y.view(new_shape)\n",
    "\n",
    "\n",
    "i_val = torch.tensor(input_[4000:5000]).float()  \n",
    "print('Shape of validation input:',i_val.shape)\n",
    "o_val = torch.tensor(Sample_density[4000:5000]).float()   \n",
    "new_shape = (len(o_val), 1)\n",
    "o_val = o_val.view(new_shape)\n",
    "\n",
    "\n",
    "\n",
    "max_y = torch.max(y[:,0])\n",
    "min_y =torch.min(y[:,0])\n",
    "\n",
    "max_x = torch.max(x,dim=0)\n",
    "min_x = torch.min(x,dim=0)\n",
    "\n",
    "print(max_y, min_y, max_x.values, min_x.values)\n",
    "\n",
    "range_y = max_y - min_y\n",
    "range_x = max_x.values - min_x.values\n",
    "\n",
    "print(range_x, range_y)\n",
    "\n",
    "    #Normalizing\n",
    "x = (x - min_x.values)/range_x\n",
    "y = (y - min_y)/range_y\n",
    "\n",
    "i_val = (i_val - min_x.values)/range_x\n",
    "o_val = (o_val - min_y)/range_y\n"
   ]
  },
  {
   "cell_type": "markdown",
   "id": "1ec6e1be",
   "metadata": {
    "papermill": {
     "duration": 0.00798,
     "end_time": "2022-08-13T02:30:38.622274",
     "exception": false,
     "start_time": "2022-08-13T02:30:38.614294",
     "status": "completed"
    },
    "tags": []
   },
   "source": [
    "# Sample Density NN Training"
   ]
  },
  {
   "cell_type": "code",
   "execution_count": 4,
   "id": "e81da126",
   "metadata": {
    "execution": {
     "iopub.execute_input": "2022-08-13T02:30:38.640839Z",
     "iopub.status.busy": "2022-08-13T02:30:38.640522Z",
     "iopub.status.idle": "2022-08-13T02:31:19.843382Z",
     "shell.execute_reply": "2022-08-13T02:31:19.839778Z"
    },
    "papermill": {
     "duration": 41.22379,
     "end_time": "2022-08-13T02:31:19.854219",
     "exception": false,
     "start_time": "2022-08-13T02:30:38.630429",
     "status": "completed"
    },
    "tags": []
   },
   "outputs": [
    {
     "name": "stdout",
     "output_type": "stream",
     "text": [
      "Net(\n",
      "  (hidden): Linear(in_features=1, out_features=500, bias=True)\n",
      "  (hidden2): Linear(in_features=500, out_features=500, bias=True)\n",
      "  (predict): Linear(in_features=500, out_features=1, bias=True)\n",
      ")\n",
      "Epoch [200/600], Loss: 0.0023, Minimum Loss 0.002320, Val Loss 0.027364  \n",
      "Epoch [400/600], Loss: 0.0019, Minimum Loss 0.001906, Val Loss 0.014614  \n",
      "Epoch [600/600], Loss: 0.0018, Minimum Loss 0.001762, Val Loss 0.012192  \n"
     ]
    }
   ],
   "source": [
    "# torch can only train on Variable, so convert them to Variable\n",
    "x, y = Variable(x), Variable(y)\n",
    " \n",
    "class Net(torch.nn.Module):\n",
    "    def __init__(self, n_feature, n_hidden, n_output):\n",
    "        super(Net, self).__init__()\n",
    "        self.hidden = torch.nn.Linear(n_feature, n_hidden)   # hidden layer\n",
    "        self.hidden2 = torch.nn.Linear(n_hidden, n_hidden)   # hidden layer\n",
    "        self.predict = torch.nn.Linear(n_hidden, n_output)   # output layer\n",
    "\n",
    "    def forward(self, x):\n",
    "        x = F.relu(self.hidden(x))      # activation function for hidden layer\n",
    "        x = F.relu(self.hidden2(x))\n",
    "        x = self.predict(x)             # linear output\n",
    "        return x\n",
    "\n",
    "# use the same net as before      \n",
    "net = Net(n_feature=num_input, n_hidden=500, n_output=1)     # define the network\n",
    "print(net)  # net architecture\n",
    "optimizer = torch.optim.Adam(net.parameters(), lr=0.05)\n",
    "loss_func = torch.nn.MSELoss()  # this is for regression mean squared loss\n",
    "\n",
    "\n",
    "minimum_train_loss = 1e5\n",
    "minimum_val_loss = 1e5\n",
    "EPOCH = 600\n",
    "\n",
    "# start training\n",
    "for epoch in range(EPOCH):\n",
    "  \n",
    "    prediction = net(x)     # input x and predict based on x\n",
    "\n",
    "    loss = loss_func(prediction, y)     # must be (1. nn output, 2. target)\n",
    "\n",
    "    optimizer.zero_grad()   # clear gradients for next train\n",
    "    loss.backward()         # backpropagation, compute gradients\n",
    "    optimizer.step()        # apply gradients\n",
    "    \n",
    "    if loss<minimum_train_loss:\n",
    "        minimum_train_loss =loss\n",
    "        net_opt = net\n",
    "    \n",
    "    if epoch%200 == 199:\n",
    "      prediction = net_opt(i_val)\n",
    "      loss_val = loss_func(prediction, o_val)\n",
    "      if loss_val<minimum_val_loss:\n",
    "        minimum_val_loss = loss_val\n",
    "        net_opt_val = net_opt\n",
    "      print (\"Epoch [{}/{}], Loss: {:.4f}, Minimum Loss {:.6f}, Val Loss {:.6f}  \"  .format(epoch+1, EPOCH, loss, minimum_train_loss, minimum_val_loss))"
   ]
  }
 ],
 "metadata": {
  "kernelspec": {
   "display_name": "Python 3",
   "language": "python",
   "name": "python3"
  },
  "language_info": {
   "codemirror_mode": {
    "name": "ipython",
    "version": 3
   },
   "file_extension": ".py",
   "mimetype": "text/x-python",
   "name": "python",
   "nbconvert_exporter": "python",
   "pygments_lexer": "ipython3",
   "version": "3.7.12"
  },
  "papermill": {
   "default_parameters": {},
   "duration": 55.405082,
   "end_time": "2022-08-13T02:31:20.687854",
   "environment_variables": {},
   "exception": null,
   "input_path": "__notebook__.ipynb",
   "output_path": "__notebook__.ipynb",
   "parameters": {},
   "start_time": "2022-08-13T02:30:25.282772",
   "version": "2.3.4"
  }
 },
 "nbformat": 4,
 "nbformat_minor": 5
}
