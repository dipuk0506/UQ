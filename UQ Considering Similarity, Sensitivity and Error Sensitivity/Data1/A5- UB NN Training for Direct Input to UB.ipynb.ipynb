{
 "cells": [
  {
   "cell_type": "markdown",
   "id": "1bf48d02",
   "metadata": {
    "papermill": {
     "duration": 0.018667,
     "end_time": "2022-08-13T08:16:07.542169",
     "exception": false,
     "start_time": "2022-08-13T08:16:07.523502",
     "status": "completed"
    },
    "tags": []
   },
   "source": [
    "# UB NN Training\n",
    "## Loading Dataset"
   ]
  },
  {
   "cell_type": "code",
   "execution_count": 1,
   "id": "fd08734b",
   "metadata": {
    "execution": {
     "iopub.execute_input": "2022-08-13T08:16:07.578984Z",
     "iopub.status.busy": "2022-08-13T08:16:07.578631Z",
     "iopub.status.idle": "2022-08-13T08:16:07.622230Z",
     "shell.execute_reply": "2022-08-13T08:16:07.621268Z"
    },
    "papermill": {
     "duration": 0.064955,
     "end_time": "2022-08-13T08:16:07.624701",
     "exception": false,
     "start_time": "2022-08-13T08:16:07.559746",
     "status": "completed"
    },
    "tags": []
   },
   "outputs": [
    {
     "data": {
      "text/html": [
       "<div>\n",
       "<style scoped>\n",
       "    .dataframe tbody tr th:only-of-type {\n",
       "        vertical-align: middle;\n",
       "    }\n",
       "\n",
       "    .dataframe tbody tr th {\n",
       "        vertical-align: top;\n",
       "    }\n",
       "\n",
       "    .dataframe thead th {\n",
       "        text-align: right;\n",
       "    }\n",
       "</style>\n",
       "<table border=\"1\" class=\"dataframe\">\n",
       "  <thead>\n",
       "    <tr style=\"text-align: right;\">\n",
       "      <th></th>\n",
       "      <th>Input1</th>\n",
       "      <th>Output</th>\n",
       "    </tr>\n",
       "  </thead>\n",
       "  <tbody>\n",
       "    <tr>\n",
       "      <th>0</th>\n",
       "      <td>0.000000</td>\n",
       "      <td>0.037112</td>\n",
       "    </tr>\n",
       "    <tr>\n",
       "      <th>1</th>\n",
       "      <td>0.001257</td>\n",
       "      <td>0.005684</td>\n",
       "    </tr>\n",
       "    <tr>\n",
       "      <th>2</th>\n",
       "      <td>0.002513</td>\n",
       "      <td>-0.017941</td>\n",
       "    </tr>\n",
       "    <tr>\n",
       "      <th>3</th>\n",
       "      <td>0.003770</td>\n",
       "      <td>0.020993</td>\n",
       "    </tr>\n",
       "    <tr>\n",
       "      <th>4</th>\n",
       "      <td>0.005027</td>\n",
       "      <td>-0.016084</td>\n",
       "    </tr>\n",
       "  </tbody>\n",
       "</table>\n",
       "</div>"
      ],
      "text/plain": [
       "     Input1    Output\n",
       "0  0.000000  0.037112\n",
       "1  0.001257  0.005684\n",
       "2  0.002513 -0.017941\n",
       "3  0.003770  0.020993\n",
       "4  0.005027 -0.016084"
      ]
     },
     "execution_count": 1,
     "metadata": {},
     "output_type": "execute_result"
    }
   ],
   "source": [
    "train_csv_path = '../input/toy-dataset-for-regression-and-uq/Data1_Train.csv'\n",
    "test_csv_path = '../input/toy-dataset-for-regression-and-uq/Data1_Test.csv'\n",
    "val_csv_path = '../input/toy-dataset-for-regression-and-uq/Data1_Val.csv'\n",
    "\n",
    "\n",
    "import matplotlib.pyplot as plt\n",
    "import numpy as np\n",
    "import pandas as pd\n",
    "train_df = pd.read_csv(train_csv_path)\n",
    "train_df.head()"
   ]
  },
  {
   "cell_type": "markdown",
   "id": "4e592560",
   "metadata": {
    "papermill": {
     "duration": 0.023007,
     "end_time": "2022-08-13T08:16:07.667668",
     "exception": false,
     "start_time": "2022-08-13T08:16:07.644661",
     "status": "completed"
    },
    "tags": []
   },
   "source": [
    "## Loading Similarity Information"
   ]
  },
  {
   "cell_type": "code",
   "execution_count": 2,
   "id": "053b9211",
   "metadata": {
    "execution": {
     "iopub.execute_input": "2022-08-13T08:16:07.710553Z",
     "iopub.status.busy": "2022-08-13T08:16:07.709917Z",
     "iopub.status.idle": "2022-08-13T08:16:09.188854Z",
     "shell.execute_reply": "2022-08-13T08:16:09.187963Z"
    },
    "papermill": {
     "duration": 1.503594,
     "end_time": "2022-08-13T08:16:09.191446",
     "exception": false,
     "start_time": "2022-08-13T08:16:07.687852",
     "status": "completed"
    },
    "tags": []
   },
   "outputs": [
    {
     "name": "stdout",
     "output_type": "stream",
     "text": [
      "Number of Similar Samples Considered 100\n",
      "Target Shape (5000,) Similar Samples Matrix Shape: (5000, 100)\n"
     ]
    }
   ],
   "source": [
    "import pickle as pkl\n",
    "\n",
    "fileName =  '../input/a1-data-to-similar-events/Similarity'\n",
    "fileObject2 = open(fileName, 'rb')\n",
    "Imported_data = pkl.load(fileObject2)\n",
    "fileObject2.close()\n",
    "\n",
    "#print('Similarity Thresholds:',Imported_data[:,0])\n",
    "\n",
    "#print('Most Similarity at:',Imported_data[:,1])\n",
    "\n",
    "Similar_event_count = len(Imported_data[0,:])-1\n",
    "print('Number of Similar Samples Considered', Similar_event_count)\n",
    "\n",
    "Similarity_thresholds = Imported_data[:,0]\n",
    "\n",
    "Sample_density = Similar_event_count/ Similarity_thresholds/100\n",
    "#Sample_density = number of samples with less than 1% (of range) deviation\n",
    "\n",
    "Similar_samples = Imported_data[:,1:Similar_event_count+1]\n",
    "\n",
    "print('Target Shape', Sample_density.shape, 'Similar Samples Matrix Shape:', Similar_samples.shape)\n",
    "\n",
    "input_=[]\n",
    "output_=[]\n",
    "for row in train_df.iloc:\n",
    "    input_.append((row[0:len(row)-1]).astype(float))\n",
    "    output_.append(row[-1])"
   ]
  },
  {
   "cell_type": "markdown",
   "id": "21caec11",
   "metadata": {
    "papermill": {
     "duration": 0.018236,
     "end_time": "2022-08-13T08:16:09.227920",
     "exception": false,
     "start_time": "2022-08-13T08:16:09.209684",
     "status": "completed"
    },
    "tags": []
   },
   "source": [
    "## Load UB Correction Model"
   ]
  },
  {
   "cell_type": "code",
   "execution_count": 3,
   "id": "94f0ef01",
   "metadata": {
    "execution": {
     "iopub.execute_input": "2022-08-13T08:16:09.265974Z",
     "iopub.status.busy": "2022-08-13T08:16:09.265654Z",
     "iopub.status.idle": "2022-08-13T08:16:10.815739Z",
     "shell.execute_reply": "2022-08-13T08:16:10.814518Z"
    },
    "papermill": {
     "duration": 1.5724,
     "end_time": "2022-08-13T08:16:10.818446",
     "exception": false,
     "start_time": "2022-08-13T08:16:09.246046",
     "status": "completed"
    },
    "tags": []
   },
   "outputs": [
    {
     "data": {
      "text/plain": [
       "<All keys matched successfully>"
      ]
     },
     "execution_count": 3,
     "metadata": {},
     "output_type": "execute_result"
    }
   ],
   "source": [
    "import torch\n",
    "from torch.autograd import Variable\n",
    "import torch.nn.functional as F\n",
    "import torch.utils.data as Data\n",
    "\n",
    "PATH = '../input/a4-bound-correction-nn-training/best_model.pt'\n",
    "\n",
    "num_input = 1\n",
    "class Net(torch.nn.Module):\n",
    "    def __init__(self, n_feature, n_hidden, n_output):\n",
    "        super(Net, self).__init__()\n",
    "        self.hidden = torch.nn.Linear(n_feature, n_hidden)   # hidden layer\n",
    "        self.hidden2 = torch.nn.Linear(n_hidden, n_hidden)   # hidden layer\n",
    "        self.predict = torch.nn.Linear(n_hidden, n_output)   # output layer\n",
    "\n",
    "    def forward(self, x):\n",
    "        x = F.relu(self.hidden(x))      # activation function for hidden layer\n",
    "        x = F.relu(self.hidden2(x))\n",
    "        x = self.predict(x)             # linear output\n",
    "        return x\n",
    "net_load = Net(n_feature=num_input, n_hidden=500, n_output=1)     # define the network\n",
    "#net_load = net_load.to(device)\n",
    "\n",
    "net_load.load_state_dict(torch.load(PATH))\n",
    "\n"
   ]
  },
  {
   "cell_type": "code",
   "execution_count": 4,
   "id": "7ddaccda",
   "metadata": {
    "execution": {
     "iopub.execute_input": "2022-08-13T08:16:10.858622Z",
     "iopub.status.busy": "2022-08-13T08:16:10.857737Z",
     "iopub.status.idle": "2022-08-13T08:16:10.966331Z",
     "shell.execute_reply": "2022-08-13T08:16:10.965358Z"
    },
    "papermill": {
     "duration": 0.130902,
     "end_time": "2022-08-13T08:16:10.968582",
     "exception": false,
     "start_time": "2022-08-13T08:16:10.837680",
     "status": "completed"
    },
    "tags": []
   },
   "outputs": [
    {
     "name": "stdout",
     "output_type": "stream",
     "text": [
      "tensor([[0.8569]], grad_fn=<AddBackward0>)\n"
     ]
    }
   ],
   "source": [
    "Uncertainty_Bound = torch.tensor(0.95) # The expected UB\n",
    "\n",
    "f = open('../input/a4-bound-correction-nn-training/min_x.pckl', 'rb')\n",
    "min_UBx = pkl.load(f)\n",
    "f.close()\n",
    "\n",
    "f = open('../input/a4-bound-correction-nn-training/max_x.pckl', 'rb')\n",
    "max_UBx = pkl.load(f)\n",
    "f.close()\n",
    "\n",
    "Uncertainty_Bound = (Uncertainty_Bound-min_UBx)/(max_UBx-min_UBx) # Normalizing\n",
    "\n",
    "new_shape = (Uncertainty_Bound.shape[0], 1)\n",
    "Uncertainty_Bound = Uncertainty_Bound.view(new_shape)\n",
    "\n",
    "Uncertainty_Bound_corrected = net_load(Uncertainty_Bound)\n",
    "\n",
    "f = open('../input/a4-bound-correction-nn-training/min_y.pckl', 'rb')\n",
    "min_UBy = pkl.load(f)\n",
    "f.close()\n",
    "\n",
    "f = open('../input/a4-bound-correction-nn-training/max_y.pckl', 'rb')\n",
    "max_UBy = pkl.load(f)\n",
    "f.close()\n",
    "\n",
    "Uncertainty_Bound_corrected = Uncertainty_Bound_corrected*(max_UBy-min_UBy)+min_UBy # DeNormalizing\n",
    "\n",
    "if Uncertainty_Bound_corrected>1:\n",
    "    Uncertainty_Bound_corrected = torch.Tensor([1])\n",
    "if Uncertainty_Bound_corrected<0:\n",
    "    Uncertainty_Bound_corrected = torch.Tensor([0])\n",
    "\n",
    "print(Uncertainty_Bound_corrected)\n"
   ]
  },
  {
   "cell_type": "markdown",
   "id": "17ebe226",
   "metadata": {
    "papermill": {
     "duration": 0.019454,
     "end_time": "2022-08-13T08:16:11.007532",
     "exception": false,
     "start_time": "2022-08-13T08:16:10.988078",
     "status": "completed"
    },
    "tags": []
   },
   "source": [
    "## Applying Corrected UB to Traditional System"
   ]
  },
  {
   "cell_type": "code",
   "execution_count": 5,
   "id": "81de95f4",
   "metadata": {
    "execution": {
     "iopub.execute_input": "2022-08-13T08:16:11.047451Z",
     "iopub.status.busy": "2022-08-13T08:16:11.047113Z",
     "iopub.status.idle": "2022-08-13T08:16:11.839137Z",
     "shell.execute_reply": "2022-08-13T08:16:11.838214Z"
    },
    "papermill": {
     "duration": 0.81472,
     "end_time": "2022-08-13T08:16:11.841473",
     "exception": false,
     "start_time": "2022-08-13T08:16:11.026753",
     "status": "completed"
    },
    "tags": []
   },
   "outputs": [
    {
     "name": "stdout",
     "output_type": "stream",
     "text": [
      "Statistical UB location: 0.962\n"
     ]
    }
   ],
   "source": [
    "higher_count=0;\n",
    "bound_values = []\n",
    "for iter1 in range(len(output_)):\n",
    "    indexes=Similar_samples[iter1];\n",
    "    Probability_density =[]\n",
    "    for iter2 in indexes:\n",
    "        Probability_density.append(output_[iter2.astype(np.int64)])\n",
    "    Probability_density = np.sort(Probability_density)\n",
    "    #print(Probability_density)\n",
    "    #plt.plot(Probability_density)\n",
    "    #break\n",
    "    prediction_bound = Probability_density[np.round(Similar_event_count*Uncertainty_Bound_corrected.detach().numpy()).astype(np.int64)-1]\n",
    "    bound_values.append(prediction_bound)\n",
    "    if prediction_bound > output_[iter1]:\n",
    "        higher_count = higher_count + 1;\n",
    "        \n",
    "print('Statistical UB location:', higher_count/len(output_))"
   ]
  },
  {
   "cell_type": "markdown",
   "id": "bcafc067",
   "metadata": {
    "papermill": {
     "duration": 0.01893,
     "end_time": "2022-08-13T08:16:11.879459",
     "exception": false,
     "start_time": "2022-08-13T08:16:11.860529",
     "status": "completed"
    },
    "tags": []
   },
   "source": [
    "## Data Preparation for NN Training"
   ]
  },
  {
   "cell_type": "code",
   "execution_count": 6,
   "id": "c95abbc6",
   "metadata": {
    "execution": {
     "iopub.execute_input": "2022-08-13T08:16:11.919203Z",
     "iopub.status.busy": "2022-08-13T08:16:11.918576Z",
     "iopub.status.idle": "2022-08-13T08:16:12.021268Z",
     "shell.execute_reply": "2022-08-13T08:16:12.019845Z"
    },
    "papermill": {
     "duration": 0.125442,
     "end_time": "2022-08-13T08:16:12.023713",
     "exception": false,
     "start_time": "2022-08-13T08:16:11.898271",
     "status": "completed"
    },
    "tags": []
   },
   "outputs": [
    {
     "name": "stdout",
     "output_type": "stream",
     "text": [
      "Shapes: torch.Size([500, 1]) torch.Size([500, 1])\n",
      "tensor(1.0335) tensor(-0.9655) tensor([6.2706]) tensor([0.])\n",
      "tensor([6.2706]) tensor(1.9990)\n"
     ]
    }
   ],
   "source": [
    "x=[]\n",
    "y=[]\n",
    "i_val=[]\n",
    "o_val=[]\n",
    "for iter1 in range(len(output_)):\n",
    "    if iter1%10==0:\n",
    "        x.append(input_[iter1])\n",
    "        y.append(bound_values[iter1])\n",
    "        continue\n",
    "    i_val.append(input_[iter1])\n",
    "    o_val.append(bound_values[iter1])\n",
    "\n",
    "x = torch.tensor(x).float()  \n",
    "y = torch.tensor(y).float() \n",
    "\n",
    "new_shape = (len(y), 1)\n",
    "y = y.view(new_shape)\n",
    "print('Shapes:', x.shape, y.shape)\n",
    "\n",
    "i_val = torch.tensor(i_val).float()  \n",
    "o_val = torch.tensor(o_val).float()   \n",
    "new_shape = (len(o_val), 1)\n",
    "o_val = o_val.view(new_shape)\n",
    "\n",
    "\n",
    "max_y = torch.max(y[:,0])\n",
    "min_y =torch.min(y[:,0])\n",
    "\n",
    "max_x = torch.max(x,dim=0)\n",
    "min_x = torch.min(x,dim=0)\n",
    "\n",
    "print(max_y, min_y, max_x.values, min_x.values)\n",
    "\n",
    "range_y = max_y - min_y\n",
    "range_x = max_x.values - min_x.values\n",
    "\n",
    "print(range_x, range_y)\n",
    "\n",
    "    #Normalizing\n",
    "x = (x - min_x.values)/range_x\n",
    "y = (y - min_y)/range_y\n",
    "\n",
    "    #Normalizing\n",
    "i_val = (i_val - min_x.values)/range_x\n",
    "o_val = (o_val - min_y)/range_y"
   ]
  },
  {
   "cell_type": "markdown",
   "id": "bd2b3dde",
   "metadata": {
    "papermill": {
     "duration": 0.018937,
     "end_time": "2022-08-13T08:16:12.062356",
     "exception": false,
     "start_time": "2022-08-13T08:16:12.043419",
     "status": "completed"
    },
    "tags": []
   },
   "source": [
    "##  NN Training for Direct Input to UB"
   ]
  },
  {
   "cell_type": "code",
   "execution_count": 7,
   "id": "757a2f56",
   "metadata": {
    "execution": {
     "iopub.execute_input": "2022-08-13T08:16:12.102592Z",
     "iopub.status.busy": "2022-08-13T08:16:12.102296Z",
     "iopub.status.idle": "2022-08-13T08:17:22.784751Z",
     "shell.execute_reply": "2022-08-13T08:17:22.784000Z"
    },
    "papermill": {
     "duration": 70.727657,
     "end_time": "2022-08-13T08:17:22.809464",
     "exception": false,
     "start_time": "2022-08-13T08:16:12.081807",
     "status": "completed"
    },
    "tags": []
   },
   "outputs": [
    {
     "name": "stdout",
     "output_type": "stream",
     "text": [
      "Net(\n",
      "  (hidden): Linear(in_features=1, out_features=1000, bias=True)\n",
      "  (hidden2): Linear(in_features=1000, out_features=1000, bias=True)\n",
      "  (predict): Linear(in_features=1000, out_features=1, bias=True)\n",
      ")\n",
      "Epoch [200/2000], Loss: 0.0089, Minimum Loss 0.008863, Val Loss 0.008739  \n",
      "Epoch [400/2000], Loss: 0.0002, Minimum Loss 0.000187, Val Loss 0.000374  \n",
      "Epoch [600/2000], Loss: 0.0001, Minimum Loss 0.000068, Val Loss 0.000258  \n",
      "Epoch [800/2000], Loss: 0.0001, Minimum Loss 0.000055, Val Loss 0.000251  \n",
      "Epoch [1000/2000], Loss: 0.0001, Minimum Loss 0.000052, Val Loss 0.000242  \n",
      "Epoch [1200/2000], Loss: 0.0001, Minimum Loss 0.000050, Val Loss 0.000242  \n",
      "Epoch [1400/2000], Loss: 0.0001, Minimum Loss 0.000049, Val Loss 0.000242  \n",
      "Epoch [1600/2000], Loss: 0.0000, Minimum Loss 0.000047, Val Loss 0.000238  \n",
      "Epoch [1800/2000], Loss: 0.0001, Minimum Loss 0.000046, Val Loss 0.000236  \n",
      "Epoch [2000/2000], Loss: 0.0000, Minimum Loss 0.000045, Val Loss 0.000235  \n"
     ]
    }
   ],
   "source": [
    "# torch can only train on Variable, so convert them to Variable\n",
    "x, y = Variable(x), Variable(y)\n",
    "num_input = len(row)-1\n",
    " \n",
    "class Net(torch.nn.Module):\n",
    "    def __init__(self, n_feature, n_hidden, n_output):\n",
    "        super(Net, self).__init__()\n",
    "        self.hidden = torch.nn.Linear(n_feature, n_hidden)   # hidden layer\n",
    "        self.hidden2 = torch.nn.Linear(n_hidden, n_hidden)   # hidden layer\n",
    "        self.predict = torch.nn.Linear(n_hidden, n_output)   # output layer\n",
    "\n",
    "    def forward(self, x):\n",
    "        x = F.relu(self.hidden(x))      # activation function for hidden layer\n",
    "        x = F.relu(self.hidden2(x))\n",
    "        x = self.predict(x)             # linear output\n",
    "        return x\n",
    "\n",
    "    \n",
    "# use the same net as before      \n",
    "net = Net(n_feature=num_input, n_hidden=1000, n_output=1)     # define the network\n",
    "print(net)  # net architecture\n",
    "optimizer = torch.optim.Adam(net.parameters(), lr=0.001)\n",
    "loss_func = torch.nn.MSELoss()  # this is for regression mean squared loss\n",
    "\n",
    "\n",
    "minimum_train_loss = 1e5\n",
    "minimum_val_loss = 1e5\n",
    "EPOCH = 2000\n",
    "\n",
    "# start training\n",
    "for epoch in range(EPOCH):\n",
    "  \n",
    "    prediction = net(x)     # input x and predict based on x\n",
    "\n",
    "    loss = loss_func(prediction, y)     # must be (1. nn output, 2. target)\n",
    "\n",
    "    optimizer.zero_grad()   # clear gradients for next train\n",
    "    loss.backward()         # backpropagation, compute gradients\n",
    "    optimizer.step()        # apply gradients\n",
    "    \n",
    "    if loss<minimum_train_loss:\n",
    "        minimum_train_loss =loss\n",
    "        net_opt = net\n",
    "    \n",
    "    if epoch%200 == 199:\n",
    "        prediction = net_opt(i_val)\n",
    "        loss_val = loss_func(prediction, o_val)\n",
    "        if loss_val<minimum_val_loss:\n",
    "            minimum_val_loss = loss_val\n",
    "            net_opt_val = net_opt\n",
    "            \n",
    "        print (\"Epoch [{}/{}], Loss: {:.4f}, Minimum Loss {:.6f}, Val Loss {:.6f}  \"  .format(epoch+1, EPOCH, loss, minimum_train_loss, minimum_val_loss))"
   ]
  },
  {
   "cell_type": "markdown",
   "id": "e3cfbcb0",
   "metadata": {
    "papermill": {
     "duration": 0.023411,
     "end_time": "2022-08-13T08:17:22.859640",
     "exception": false,
     "start_time": "2022-08-13T08:17:22.836229",
     "status": "completed"
    },
    "tags": []
   },
   "source": [
    "## Statistical performance of NN on Training Set"
   ]
  },
  {
   "cell_type": "code",
   "execution_count": 8,
   "id": "9e9f975f",
   "metadata": {
    "execution": {
     "iopub.execute_input": "2022-08-13T08:17:22.908357Z",
     "iopub.status.busy": "2022-08-13T08:17:22.908044Z",
     "iopub.status.idle": "2022-08-13T08:17:24.716654Z",
     "shell.execute_reply": "2022-08-13T08:17:24.714417Z"
    },
    "papermill": {
     "duration": 1.835641,
     "end_time": "2022-08-13T08:17:24.718817",
     "exception": false,
     "start_time": "2022-08-13T08:17:22.883176",
     "status": "completed"
    },
    "tags": []
   },
   "outputs": [
    {
     "name": "stdout",
     "output_type": "stream",
     "text": [
      "Statistical UB location for Direct NN: 0.964\n"
     ]
    }
   ],
   "source": [
    "higher_count=0;\n",
    "\n",
    "for iter1 in range(len(output_)):\n",
    "    Net_input = torch.tensor(input_[iter1]).float() \n",
    "    Net_input = (Net_input - min_x.values)/range_x # Normalizing\n",
    "    \n",
    "    prediction_bound = net_opt_val(Net_input) # Apply Net\n",
    "    \n",
    "    prediction_bound = prediction_bound*range_y+min_y # Denormalizing    \n",
    "    \n",
    "    if prediction_bound > output_[iter1]:\n",
    "        higher_count = higher_count + 1;\n",
    "        \n",
    "print('Statistical UB location for Direct NN:', higher_count/len(output_))"
   ]
  },
  {
   "cell_type": "markdown",
   "id": "08eb1e39",
   "metadata": {
    "papermill": {
     "duration": 0.023235,
     "end_time": "2022-08-13T08:17:24.765948",
     "exception": false,
     "start_time": "2022-08-13T08:17:24.742713",
     "status": "completed"
    },
    "tags": []
   },
   "source": [
    "## Statistical performance of NN on Validation Set"
   ]
  },
  {
   "cell_type": "code",
   "execution_count": 9,
   "id": "17e5ae4e",
   "metadata": {
    "execution": {
     "iopub.execute_input": "2022-08-13T08:17:24.815529Z",
     "iopub.status.busy": "2022-08-13T08:17:24.815010Z",
     "iopub.status.idle": "2022-08-13T08:17:26.295168Z",
     "shell.execute_reply": "2022-08-13T08:17:26.293662Z"
    },
    "papermill": {
     "duration": 1.508136,
     "end_time": "2022-08-13T08:17:26.298153",
     "exception": false,
     "start_time": "2022-08-13T08:17:24.790017",
     "status": "completed"
    },
    "tags": []
   },
   "outputs": [
    {
     "name": "stdout",
     "output_type": "stream",
     "text": [
      "Statistical UB location for Direct NN: 0.964\n"
     ]
    }
   ],
   "source": [
    "input_=[]\n",
    "output_=[]\n",
    "val_df = pd.read_csv(val_csv_path)\n",
    "\n",
    "for row in val_df.iloc:\n",
    "    input_.append((row[0:len(row)-1]).astype(float))\n",
    "    output_.append(row[-1])\n",
    "    \n",
    "higher_count=0;\n",
    "\n",
    "for iter1 in range(len(output_)):\n",
    "    Net_input = torch.tensor(input_[iter1]).float() \n",
    "    Net_input = (Net_input - min_x.values)/range_x # Normalizing\n",
    "    \n",
    "    prediction_bound = net_opt_val(Net_input) # Apply Net\n",
    "    \n",
    "    prediction_bound = prediction_bound*range_y+min_y # Denormalizing    \n",
    "    \n",
    "    if prediction_bound > output_[iter1]:\n",
    "        higher_count = higher_count + 1;\n",
    "        \n",
    "print('Statistical UB location for Direct NN:', higher_count/len(output_))"
   ]
  },
  {
   "cell_type": "markdown",
   "id": "e1ba2083",
   "metadata": {
    "papermill": {
     "duration": 0.025569,
     "end_time": "2022-08-13T08:17:26.356219",
     "exception": false,
     "start_time": "2022-08-13T08:17:26.330650",
     "status": "completed"
    },
    "tags": []
   },
   "source": [
    "## Statistical performance of NN on Test Set"
   ]
  },
  {
   "cell_type": "code",
   "execution_count": 10,
   "id": "6a2954eb",
   "metadata": {
    "execution": {
     "iopub.execute_input": "2022-08-13T08:17:26.431638Z",
     "iopub.status.busy": "2022-08-13T08:17:26.431116Z",
     "iopub.status.idle": "2022-08-13T08:17:27.896361Z",
     "shell.execute_reply": "2022-08-13T08:17:27.894678Z"
    },
    "papermill": {
     "duration": 1.510069,
     "end_time": "2022-08-13T08:17:27.899257",
     "exception": false,
     "start_time": "2022-08-13T08:17:26.389188",
     "status": "completed"
    },
    "tags": []
   },
   "outputs": [
    {
     "name": "stdout",
     "output_type": "stream",
     "text": [
      "Statistical UB location for Direct NN: 0.958\n"
     ]
    }
   ],
   "source": [
    "input_ = []\n",
    "output_ = []\n",
    "test_df = pd.read_csv(test_csv_path)\n",
    "\n",
    "for row in test_df.iloc:\n",
    "    input_.append((row[0:len(row)-1]).astype(float))\n",
    "    output_.append(row[-1])\n",
    "    \n",
    "higher_count=0;\n",
    "prediction_ = []\n",
    "x_0 = []\n",
    "\n",
    "for iter1 in range(len(output_)):\n",
    "    x_in = input_[iter1]\n",
    "    x_0.append(x_in[0])\n",
    "    Net_input = torch.tensor(x_in).float() \n",
    "    Net_input = (Net_input - min_x.values)/range_x # Normalizing\n",
    "    \n",
    "    prediction_bound = net_opt_val(Net_input) # Apply Net\n",
    "    \n",
    "    prediction_bound = prediction_bound*range_y+min_y # Denormalizing    \n",
    "    prediction_.append(float(prediction_bound))\n",
    "    if prediction_bound > output_[iter1]:\n",
    "        higher_count = higher_count + 1;\n",
    "        \n",
    "print('Statistical UB location for Direct NN:', higher_count/len(output_))"
   ]
  },
  {
   "cell_type": "code",
   "execution_count": 11,
   "id": "fd638a20",
   "metadata": {
    "execution": {
     "iopub.execute_input": "2022-08-13T08:17:27.953087Z",
     "iopub.status.busy": "2022-08-13T08:17:27.952778Z",
     "iopub.status.idle": "2022-08-13T08:17:28.265915Z",
     "shell.execute_reply": "2022-08-13T08:17:28.264805Z"
    },
    "papermill": {
     "duration": 0.343725,
     "end_time": "2022-08-13T08:17:28.268351",
     "exception": false,
     "start_time": "2022-08-13T08:17:27.924626",
     "status": "completed"
    },
    "tags": []
   },
   "outputs": [
    {
     "data": {
      "image/png": "[encoded data removed]",
      "text/plain": [
       "<Figure size 432x288 with 1 Axes>"
      ]
     },
     "metadata": {
      "needs_background": "light"
     },
     "output_type": "display_data"
    }
   ],
   "source": [
    "plt.scatter(x_0,output_, s=0.5)\n",
    "plt.scatter(x_0, prediction_, color='g', s=0.05) # lower boundary prediction\n",
    "plt.show()"
   ]
  }
 ],
 "metadata": {
  "kernelspec": {
   "display_name": "Python 3",
   "language": "python",
   "name": "python3"
  },
  "language_info": {
   "codemirror_mode": {
    "name": "ipython",
    "version": 3
   },
   "file_extension": ".py",
   "mimetype": "text/x-python",
   "name": "python",
   "nbconvert_exporter": "python",
   "pygments_lexer": "ipython3",
   "version": "3.7.12"
  },
  "papermill": {
   "default_parameters": {},
   "duration": 92.180066,
   "end_time": "2022-08-13T08:17:29.217376",
   "environment_variables": {},
   "exception": null,
   "input_path": "__notebook__.ipynb",
   "output_path": "__notebook__.ipynb",
   "parameters": {},
   "start_time": "2022-08-13T08:15:57.037310",
   "version": "2.3.4"
  }
 },
 "nbformat": 4,
 "nbformat_minor": 5
}
