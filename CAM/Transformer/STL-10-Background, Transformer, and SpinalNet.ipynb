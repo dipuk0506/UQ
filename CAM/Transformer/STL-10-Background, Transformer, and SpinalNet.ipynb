{
 "cells": [
  {
   "cell_type": "markdown",
   "id": "188760c2",
   "metadata": {
    "papermill": {
     "duration": 0.007147,
     "end_time": "2023-05-18T11:20:22.830407",
     "exception": false,
     "start_time": "2023-05-18T11:20:22.823260",
     "status": "completed"
    },
    "tags": []
   },
   "source": [
    "# Training with Background Data\n",
    "\n",
    "## We wrote this code with the help of the following scripts\n",
    "\n",
    "https://github.com/dipuk0506/SpinalNet/blob/master/Transfer%20Learning/Pytorch_data_to_folders.py\n",
    "\n",
    "https://github.com/dipuk0506/SpinalNet/blob/master/Transfer%20Learning/Transfer_Learning_STL10.py"
   ]
  },
  {
   "cell_type": "code",
   "execution_count": 1,
   "id": "9d46b95f",
   "metadata": {
    "execution": {
     "iopub.execute_input": "2023-05-18T11:20:22.845208Z",
     "iopub.status.busy": "2023-05-18T11:20:22.844410Z",
     "iopub.status.idle": "2023-05-18T11:20:36.547089Z",
     "shell.execute_reply": "2023-05-18T11:20:36.545955Z"
    },
    "papermill": {
     "duration": 13.712988,
     "end_time": "2023-05-18T11:20:36.549840",
     "exception": false,
     "start_time": "2023-05-18T11:20:22.836852",
     "status": "completed"
    },
    "tags": []
   },
   "outputs": [
    {
     "name": "stdout",
     "output_type": "stream",
     "text": [
      "Collecting timm\r\n",
      "  Downloading timm-0.9.2-py3-none-any.whl (2.2 MB)\r\n",
      "\u001b[2K     \u001b[90m━━━━━━━━━━━━━━━━━━━━━━━━━━━━━━━━━━━━━━━━\u001b[0m \u001b[32m2.2/2.2 MB\u001b[0m \u001b[31m23.9 MB/s\u001b[0m eta \u001b[36m0:00:00\u001b[0m\r\n",
      "\u001b[?25hRequirement already satisfied: pyyaml in /opt/conda/lib/python3.7/site-packages (from timm) (6.0)\r\n",
      "Collecting safetensors\r\n",
      "  Downloading safetensors-0.3.1-cp37-cp37m-manylinux_2_17_x86_64.manylinux2014_x86_64.whl (1.3 MB)\r\n",
      "\u001b[2K     \u001b[90m━━━━━━━━━━━━━━━━━━━━━━━━━━━━━━━━━━━━━━━━\u001b[0m \u001b[32m1.3/1.3 MB\u001b[0m \u001b[31m53.4 MB/s\u001b[0m eta \u001b[36m0:00:00\u001b[0m\r\n",
      "\u001b[?25hRequirement already satisfied: torchvision in /opt/conda/lib/python3.7/site-packages (from timm) (0.12.0)\r\n",
      "Requirement already satisfied: huggingface-hub in /opt/conda/lib/python3.7/site-packages (from timm) (0.10.1)\r\n",
      "Requirement already satisfied: torch>=1.7 in /opt/conda/lib/python3.7/site-packages (from timm) (1.11.0)\r\n",
      "Requirement already satisfied: typing-extensions in /opt/conda/lib/python3.7/site-packages (from torch>=1.7->timm) (4.1.1)\r\n",
      "Requirement already satisfied: tqdm in /opt/conda/lib/python3.7/site-packages (from huggingface-hub->timm) (4.64.0)\r\n",
      "Requirement already satisfied: importlib-metadata in /opt/conda/lib/python3.7/site-packages (from huggingface-hub->timm) (4.13.0)\r\n",
      "Requirement already satisfied: filelock in /opt/conda/lib/python3.7/site-packages (from huggingface-hub->timm) (3.7.1)\r\n",
      "Requirement already satisfied: requests in /opt/conda/lib/python3.7/site-packages (from huggingface-hub->timm) (2.28.1)\r\n",
      "Requirement already satisfied: packaging>=20.9 in /opt/conda/lib/python3.7/site-packages (from huggingface-hub->timm) (21.3)\r\n",
      "Requirement already satisfied: numpy in /opt/conda/lib/python3.7/site-packages (from torchvision->timm) (1.21.6)\r\n",
      "Requirement already satisfied: pillow!=8.3.*,>=5.3.0 in /opt/conda/lib/python3.7/site-packages (from torchvision->timm) (9.1.1)\r\n",
      "Requirement already satisfied: pyparsing!=3.0.5,>=2.0.2 in /opt/conda/lib/python3.7/site-packages (from packaging>=20.9->huggingface-hub->timm) (3.0.9)\r\n",
      "Requirement already satisfied: zipp>=0.5 in /opt/conda/lib/python3.7/site-packages (from importlib-metadata->huggingface-hub->timm) (3.8.0)\r\n",
      "Requirement already satisfied: idna<4,>=2.5 in /opt/conda/lib/python3.7/site-packages (from requests->huggingface-hub->timm) (3.3)\r\n",
      "Requirement already satisfied: charset-normalizer<3,>=2 in /opt/conda/lib/python3.7/site-packages (from requests->huggingface-hub->timm) (2.1.0)\r\n",
      "Requirement already satisfied: certifi>=2017.4.17 in /opt/conda/lib/python3.7/site-packages (from requests->huggingface-hub->timm) (2022.9.24)\r\n",
      "Requirement already satisfied: urllib3<1.27,>=1.21.1 in /opt/conda/lib/python3.7/site-packages (from requests->huggingface-hub->timm) (1.26.12)\r\n",
      "Installing collected packages: safetensors, timm\r\n",
      "Successfully installed safetensors-0.3.1 timm-0.9.2\r\n",
      "\u001b[33mWARNING: Running pip as the 'root' user can result in broken permissions and conflicting behaviour with the system package manager. It is recommended to use a virtual environment instead: https://pip.pypa.io/warnings/venv\u001b[0m\u001b[33m\r\n",
      "\u001b[0m"
     ]
    }
   ],
   "source": [
    "! pip install timm"
   ]
  },
  {
   "cell_type": "code",
   "execution_count": 2,
   "id": "7b303af9",
   "metadata": {
    "execution": {
     "iopub.execute_input": "2023-05-18T11:20:36.566555Z",
     "iopub.status.busy": "2023-05-18T11:20:36.564999Z",
     "iopub.status.idle": "2023-05-18T11:20:40.651567Z",
     "shell.execute_reply": "2023-05-18T11:20:40.650499Z"
    },
    "papermill": {
     "duration": 4.097534,
     "end_time": "2023-05-18T11:20:40.654526",
     "exception": false,
     "start_time": "2023-05-18T11:20:36.556992",
     "status": "completed"
    },
    "tags": []
   },
   "outputs": [],
   "source": [
    "import torch, time, os, copy, random, imageio, os, shutil, numpy, zipfile,timm\n",
    "import matplotlib.pyplot as plt, pandas as pd, seaborn as sn, torch.nn as nn\n",
    "from torchvision import datasets, models, transforms, utils\n",
    "from sklearn.metrics import confusion_matrix"
   ]
  },
  {
   "cell_type": "markdown",
   "id": "270451e8",
   "metadata": {
    "papermill": {
     "duration": 0.006578,
     "end_time": "2023-05-18T11:20:40.668382",
     "exception": false,
     "start_time": "2023-05-18T11:20:40.661804",
     "status": "completed"
    },
    "tags": []
   },
   "source": [
    "### Create Directories and Extract Background Data"
   ]
  },
  {
   "cell_type": "code",
   "execution_count": 3,
   "id": "92acfdaf",
   "metadata": {
    "_cell_guid": "b1076dfc-b9ad-4769-8c92-a6c4dae69d19",
    "_uuid": "8f2839f25d086af736a60e9eeb907d3b93b6e0e5",
    "execution": {
     "iopub.execute_input": "2023-05-18T11:20:40.683699Z",
     "iopub.status.busy": "2023-05-18T11:20:40.683183Z",
     "iopub.status.idle": "2023-05-18T11:20:43.556663Z",
     "shell.execute_reply": "2023-05-18T11:20:43.555639Z"
    },
    "papermill": {
     "duration": 2.884436,
     "end_time": "2023-05-18T11:20:43.559754",
     "exception": false,
     "start_time": "2023-05-18T11:20:40.675318",
     "status": "completed"
    },
    "tags": []
   },
   "outputs": [],
   "source": [
    "Num_class=10\n",
    "folderlocation = './data/STL10/'\n",
    "\n",
    "def create_dir(folderlocation):\n",
    "    if not os.path.exists(folderlocation):\n",
    "        os.mkdir(folderlocation)\n",
    "    \n",
    "create_dir('./data/')\n",
    "create_dir(folderlocation)\n",
    "for iterf in ['train/', 'valid/', 'test/']:\n",
    "    create_dir(folderlocation + iterf)\n",
    "    for iter1 in range(Num_class): \n",
    "        create_dir(folderlocation + iterf + str(iter1)) \n",
    "for iterf in ['train/', 'valid/']:\n",
    "    create_dir(folderlocation + iterf + str(99)) \n",
    "\n",
    "create_dir('./Background/')\n",
    "with zipfile.ZipFile('/kaggle/input/background-image-data/Background_data.zip', 'r') as zip_ref:\n",
    "    zip_ref.extractall('./Background/')"
   ]
  },
  {
   "cell_type": "markdown",
   "id": "17ee3fdf",
   "metadata": {
    "papermill": {
     "duration": 0.006911,
     "end_time": "2023-05-18T11:20:43.573713",
     "exception": false,
     "start_time": "2023-05-18T11:20:43.566802",
     "status": "completed"
    },
    "tags": []
   },
   "source": [
    "### Copy Background Data to train and validation folders"
   ]
  },
  {
   "cell_type": "code",
   "execution_count": 4,
   "id": "e6be80ce",
   "metadata": {
    "execution": {
     "iopub.execute_input": "2023-05-18T11:20:43.588754Z",
     "iopub.status.busy": "2023-05-18T11:20:43.588410Z",
     "iopub.status.idle": "2023-05-18T11:20:43.984452Z",
     "shell.execute_reply": "2023-05-18T11:20:43.983431Z"
    },
    "papermill": {
     "duration": 0.406439,
     "end_time": "2023-05-18T11:20:43.987222",
     "exception": false,
     "start_time": "2023-05-18T11:20:43.580783",
     "status": "completed"
    },
    "tags": []
   },
   "outputs": [],
   "source": [
    "image_index = 0\n",
    "for dirpath, dirnames, filenames in os.walk('./Background/'):\n",
    "    for fname in filenames:\n",
    "        if image_index == 2000: \n",
    "            shutil.copyfile(path, folderlocation + 'valid/'+str(99)+'/'+str(image_index) + fname[-9:])\n",
    "            #break \n",
    "        path = os.path.join(dirpath,fname)\n",
    "        shutil.copyfile(path, folderlocation + 'train/'+str(99)+'/'+str(image_index) + fname[-9:])\n",
    "        image_index = image_index +1"
   ]
  },
  {
   "cell_type": "markdown",
   "id": "04867d86",
   "metadata": {
    "papermill": {
     "duration": 0.008816,
     "end_time": "2023-05-18T11:20:44.003924",
     "exception": false,
     "start_time": "2023-05-18T11:20:43.995108",
     "status": "completed"
    },
    "tags": []
   },
   "source": [
    "### Download STL-10 data and copy to folders"
   ]
  },
  {
   "cell_type": "code",
   "execution_count": 5,
   "id": "0194a84f",
   "metadata": {
    "execution": {
     "iopub.execute_input": "2023-05-18T11:20:44.019171Z",
     "iopub.status.busy": "2023-05-18T11:20:44.018826Z",
     "iopub.status.idle": "2023-05-18T11:23:31.423548Z",
     "shell.execute_reply": "2023-05-18T11:23:31.422561Z"
    },
    "papermill": {
     "duration": 167.4157,
     "end_time": "2023-05-18T11:23:31.426462",
     "exception": false,
     "start_time": "2023-05-18T11:20:44.010762",
     "status": "completed"
    },
    "tags": []
   },
   "outputs": [
    {
     "name": "stdout",
     "output_type": "stream",
     "text": [
      "Downloading http://ai.stanford.edu/~acoates/stl10/stl10_binary.tar.gz to /files/stl10_binary.tar.gz\n"
     ]
    },
    {
     "data": {
      "application/vnd.jupyter.widget-view+json": {
       "model_id": "0242900c471d432e98d8adaa02414170",
       "version_major": 2,
       "version_minor": 0
      },
      "text/plain": [
       "  0%|          | 0/2640397119 [00:00<?, ?it/s]"
      ]
     },
     "metadata": {},
     "output_type": "display_data"
    },
    {
     "name": "stdout",
     "output_type": "stream",
     "text": [
      "Extracting /files/stl10_binary.tar.gz to /files/\n",
      "Files already downloaded and verified\n"
     ]
    }
   ],
   "source": [
    "data_train = datasets.STL10('/files/', split='train', download=True,\n",
    "                             transform=transforms.Compose([ ]))\n",
    "        \n",
    "for iter1 in range(len(data_train)):\n",
    "    x, a = data_train[iter1] \n",
    "    if iter1%10 ==4:\n",
    "        imageio.imwrite(folderlocation + 'valid/'+str(a)+'/valid'+str(iter1)+'.png', x)\n",
    "    else:\n",
    "        imageio.imwrite(folderlocation + 'train/'+str(a)+'/train'+str(iter1)+'.png', x) \n",
    "        \n",
    "data_test = datasets.STL10('/files/', split='test', download=True,\n",
    "                             transform=transforms.Compose([ ]))\n",
    "\n",
    "for iter1 in range(len(data_test)):\n",
    "    x, a = data_test[iter1] \n",
    "    imageio.imwrite(folderlocation + 'test/'+str(a)+'/test'+str(iter1)+'.png', x)"
   ]
  },
  {
   "cell_type": "code",
   "execution_count": 6,
   "id": "09a69ddf",
   "metadata": {
    "execution": {
     "iopub.execute_input": "2023-05-18T11:23:31.442653Z",
     "iopub.status.busy": "2023-05-18T11:23:31.442332Z",
     "iopub.status.idle": "2023-05-18T11:23:31.458815Z",
     "shell.execute_reply": "2023-05-18T11:23:31.457781Z"
    },
    "papermill": {
     "duration": 0.027128,
     "end_time": "2023-05-18T11:23:31.461297",
     "exception": false,
     "start_time": "2023-05-18T11:23:31.434169",
     "status": "completed"
    },
    "tags": []
   },
   "outputs": [
    {
     "name": "stdout",
     "output_type": "stream",
     "text": [
      "file count: 7501\n"
     ]
    }
   ],
   "source": [
    "count = 0\n",
    "for root_dir, cur_dir, files in os.walk('./data/STL10/train/'):\n",
    "    count += len(files)\n",
    "print('file count:', count)"
   ]
  },
  {
   "cell_type": "markdown",
   "id": "114d6a17",
   "metadata": {
    "papermill": {
     "duration": 0.007019,
     "end_time": "2023-05-18T11:23:31.475698",
     "exception": false,
     "start_time": "2023-05-18T11:23:31.468679",
     "status": "completed"
    },
    "tags": []
   },
   "source": [
    "### Dataloaders"
   ]
  },
  {
   "cell_type": "code",
   "execution_count": 7,
   "id": "a084484d",
   "metadata": {
    "execution": {
     "iopub.execute_input": "2023-05-18T11:23:31.491218Z",
     "iopub.status.busy": "2023-05-18T11:23:31.490951Z",
     "iopub.status.idle": "2023-05-18T11:23:32.613479Z",
     "shell.execute_reply": "2023-05-18T11:23:32.612500Z"
    },
    "papermill": {
     "duration": 1.133153,
     "end_time": "2023-05-18T11:23:32.615909",
     "exception": false,
     "start_time": "2023-05-18T11:23:31.482756",
     "status": "completed"
    },
    "tags": []
   },
   "outputs": [
    {
     "data": {
      "image/png": "[encoded data removed]",
      "text/plain": [
       "<Figure size 432x288 with 1 Axes>"
      ]
     },
     "metadata": {
      "needs_background": "light"
     },
     "output_type": "display_data"
    }
   ],
   "source": [
    "# Data augmentation and normalization for training\n",
    "# Just normalization for validation\n",
    "\n",
    "im_dimention = 224\n",
    "\n",
    "data_transforms = {\n",
    "    'train': transforms.Compose([\n",
    "        transforms.Resize((244,244)),\n",
    "        transforms.RandomRotation(15,),\n",
    "        transforms.RandomCrop(im_dimention),\n",
    "        transforms.RandomHorizontalFlip(),\n",
    "        transforms.ToTensor(),\n",
    "        transforms.Normalize(mean=[0.507, 0.487, 0.441], std=[0.267, 0.256, 0.276])\n",
    "    ]),\n",
    "    'valid': transforms.Compose([\n",
    "        transforms.Resize((im_dimention,im_dimention)),\n",
    "        transforms.ToTensor(),\n",
    "        transforms.Normalize(mean=[0.507, 0.487, 0.441], std=[0.267, 0.256, 0.276])\n",
    "    ]),\n",
    "    'test': transforms.Compose([\n",
    "        transforms.Resize((im_dimention,im_dimention)),\n",
    "        transforms.ToTensor(),\n",
    "        transforms.Normalize(mean=[0.507, 0.487, 0.441], std=[0.267, 0.256, 0.276])\n",
    "    ]),\n",
    "}\n",
    "\n",
    "image_datasets = {x: datasets.ImageFolder(os.path.join(folderlocation, x),\n",
    "                                          data_transforms[x])\n",
    "                  for x in ['train', 'valid', 'test']}\n",
    "dataloaders = {x: torch.utils.data.DataLoader(image_datasets[x], batch_size=24,\n",
    "                                             shuffle=True, num_workers=0)\n",
    "              for x in ['train', 'valid']}\n",
    "\n",
    "dataloaders_test = {'test': torch.utils.data.DataLoader(image_datasets['test'], batch_size=24,\n",
    "                                             shuffle=False, num_workers=0)}\n",
    "\n",
    "dataset_sizes = {x: len(image_datasets[x]) for x in ['train', 'valid']}\n",
    "class_names = image_datasets['train'].classes\n",
    "\n",
    "device = torch.device(\"cuda:0\" if torch.cuda.is_available() else \"cpu\")\n",
    "\n",
    "def imshow(inp, title=None):\n",
    "    \"\"\"Imshow for Tensor.\"\"\"\n",
    "    inp = inp.numpy().transpose((1, 2, 0))\n",
    "    mean = numpy.array([0.507, 0.487, 0.441])\n",
    "    std = numpy.array([0.267, 0.256, 0.276])\n",
    "    inp = std * inp + mean\n",
    "    inp = numpy.clip(inp, 0, 1)\n",
    "    plt.imshow(inp)\n",
    "    if title is not None:\n",
    "        plt.title(title)\n",
    "    plt.pause(0.001)  # pause a bit so that plots are updated\n",
    "\n",
    "# Get a batch of training data\n",
    "inputs, classes = next(iter(dataloaders['train']))\n",
    "\n",
    "# Make a grid from batch\n",
    "out = utils.make_grid(inputs)\n",
    "\n",
    "imshow(out)"
   ]
  },
  {
   "cell_type": "markdown",
   "id": "a6e59e71",
   "metadata": {
    "papermill": {
     "duration": 0.008845,
     "end_time": "2023-05-18T11:23:32.634178",
     "exception": false,
     "start_time": "2023-05-18T11:23:32.625333",
     "status": "completed"
    },
    "tags": []
   },
   "source": [
    "### Model and Training functions"
   ]
  },
  {
   "cell_type": "code",
   "execution_count": 8,
   "id": "3a6c8bf8",
   "metadata": {
    "execution": {
     "iopub.execute_input": "2023-05-18T11:23:32.653235Z",
     "iopub.status.busy": "2023-05-18T11:23:32.652935Z",
     "iopub.status.idle": "2023-05-18T11:24:10.535638Z",
     "shell.execute_reply": "2023-05-18T11:24:10.534640Z"
    },
    "papermill": {
     "duration": 37.89508,
     "end_time": "2023-05-18T11:24:10.538035",
     "exception": false,
     "start_time": "2023-05-18T11:23:32.642955",
     "status": "completed"
    },
    "tags": []
   },
   "outputs": [
    {
     "data": {
      "application/vnd.jupyter.widget-view+json": {
       "model_id": "39af3811846940749f29872d117b80e4",
       "version_major": 2,
       "version_minor": 0
      },
      "text/plain": [
       "Downloading:   0%|          | 0.00/1.22G [00:00<?, ?B/s]"
      ]
     },
     "metadata": {},
     "output_type": "display_data"
    }
   ],
   "source": [
    "layer_width = 512\n",
    "model_ft = timm.create_model('vit_large_patch16_224', pretrained=True, num_classes=Num_class+1)\n",
    "#models.wide_resnet101_2(pretrained=True)\n",
    "num_ftrs = model_ft.head.in_features\n",
    "half_in_size = round(num_ftrs/2)\n",
    "\n",
    "class SpinalNet(nn.Module):\n",
    "    def __init__(self):\n",
    "        super(SpinalNet, self).__init__()\n",
    "        self.fc_spinal_layer1 = nn.Sequential(\n",
    "            nn.Dropout(p = 0.5), nn.Linear(half_in_size, layer_width),\n",
    "            nn.BatchNorm1d(layer_width), nn.ReLU(inplace=True),)\n",
    "        self.fc_spinal_layer2 = nn.Sequential(\n",
    "            nn.Dropout(p = 0.5), nn.Linear(half_in_size+layer_width, layer_width),\n",
    "            nn.BatchNorm1d(layer_width), nn.ReLU(inplace=True),)\n",
    "        self.fc_spinal_layer3 = nn.Sequential(\n",
    "            nn.Dropout(p = 0.5), nn.Linear(half_in_size+layer_width, layer_width),\n",
    "            nn.BatchNorm1d(layer_width), nn.ReLU(inplace=True),)\n",
    "        self.fc_spinal_layer4 = nn.Sequential(\n",
    "            nn.Dropout(p = 0.5), nn.Linear(half_in_size+layer_width, layer_width),\n",
    "            nn.BatchNorm1d(layer_width), nn.ReLU(inplace=True),)\n",
    "        self.fc_out = nn.Sequential(\n",
    "            nn.Dropout(p = 0.5), nn.Linear(layer_width*4, Num_class+1),)\n",
    "        \n",
    "    def forward(self, x):\n",
    "        x1 = self.fc_spinal_layer1(x[:, 0:half_in_size])\n",
    "        x2 = self.fc_spinal_layer2(torch.cat([ x[:,half_in_size:2*half_in_size], x1], dim=1))\n",
    "        x3 = self.fc_spinal_layer3(torch.cat([ x[:,0:half_in_size], x2], dim=1))\n",
    "        x4 = self.fc_spinal_layer4(torch.cat([ x[:,half_in_size:2*half_in_size], x3], dim=1))\n",
    "        \n",
    "        x = torch.cat([x1, x2], dim=1)\n",
    "        x = torch.cat([x, x3], dim=1)\n",
    "        x = torch.cat([x, x4], dim=1)\n",
    "        x = self.fc_out(x)\n",
    "        return x\n",
    "\n",
    "model_ft.head = SpinalNet()\n",
    "\n",
    "def train_model(model, criterion, optimizer, scheduler, num_epochs=25):\n",
    "    since = time.time()\n",
    "\n",
    "    best_model_wts = copy.deepcopy(model.state_dict())\n",
    "    best_acc = 0.0\n",
    "\n",
    "    for epoch in range(num_epochs):\n",
    "        print('Epoch {}/{}'.format(epoch, num_epochs - 1))\n",
    "        print('-' * 10)\n",
    "\n",
    "        # Each epoch has a training and validation phase\n",
    "        for phase in ['train', 'valid']:\n",
    "          \n",
    "            if phase == 'train':\n",
    "                model.train()  # Set model to training mode\n",
    "            else:\n",
    "                model.eval()   # Set model to evaluate mode\n",
    "\n",
    "            running_loss = 0.0\n",
    "            running_corrects = 0\n",
    "\n",
    "            # Iterate over data.\n",
    "            for inputs, labels in dataloaders[phase]:\n",
    "                inputs = inputs.to(device)\n",
    "                labels = labels.to(device)\n",
    "\n",
    "                # zero the parameter gradients\n",
    "                optimizer.zero_grad()\n",
    "                \n",
    "                # track history if only in train\n",
    "                with torch.set_grad_enabled(phase == 'train'):\n",
    "                    outputs = model(inputs)\n",
    "                    _, preds = torch.max(outputs, 1)\n",
    "                    loss = criterion(outputs, labels)\n",
    "\n",
    "                    # backward + optimize only if in training phase\n",
    "                    if phase == 'train':\n",
    "                        loss.backward()\n",
    "                        optimizer.step()\n",
    "\n",
    "                # statistics\n",
    "                running_loss += loss.item() * inputs.size(0)\n",
    "                running_corrects += torch.sum(preds == labels.data)\n",
    "            if phase == 'train':\n",
    "                scheduler.step()\n",
    "\n",
    "            epoch_loss = running_loss / dataset_sizes[phase]\n",
    "            epoch_acc = running_corrects.double() / dataset_sizes[phase]\n",
    "\n",
    "            print('{} Loss: {:.4f} Acc: {:.4f}'.format(\n",
    "                phase, epoch_loss, epoch_acc))\n",
    "\n",
    "            # deep copy the model\n",
    "            if phase == 'valid' and epoch_acc > best_acc:\n",
    "                best_acc = epoch_acc\n",
    "                best_model_wts = copy.deepcopy(model.state_dict())\n",
    "        print()\n",
    "\n",
    "    time_elapsed = time.time() - since\n",
    "    print('Training complete in {:.0f}m {:.0f}s'.format(\n",
    "        time_elapsed // 60, time_elapsed % 60))\n",
    "    print('Best val Acc: {:4f}'.format(best_acc))\n",
    "\n",
    "    # load best model weights\n",
    "    model.load_state_dict(best_model_wts)\n",
    "    return model"
   ]
  },
  {
   "cell_type": "markdown",
   "id": "d1fe0456",
   "metadata": {
    "papermill": {
     "duration": 0.008667,
     "end_time": "2023-05-18T11:24:10.556230",
     "exception": false,
     "start_time": "2023-05-18T11:24:10.547563",
     "status": "completed"
    },
    "tags": []
   },
   "source": [
    "### Training"
   ]
  },
  {
   "cell_type": "code",
   "execution_count": 9,
   "id": "ca35ba0e",
   "metadata": {
    "execution": {
     "iopub.execute_input": "2023-05-18T11:24:10.575991Z",
     "iopub.status.busy": "2023-05-18T11:24:10.575151Z",
     "iopub.status.idle": "2023-05-18T12:02:36.723295Z",
     "shell.execute_reply": "2023-05-18T12:02:36.721227Z"
    },
    "papermill": {
     "duration": 2306.160444,
     "end_time": "2023-05-18T12:02:36.725670",
     "exception": false,
     "start_time": "2023-05-18T11:24:10.565226",
     "status": "completed"
    },
    "tags": []
   },
   "outputs": [
    {
     "name": "stdout",
     "output_type": "stream",
     "text": [
      "Epoch 0/4\n",
      "----------\n",
      "train Loss: 0.4159 Acc: 0.9077\n",
      "valid Loss: 0.0259 Acc: 0.9980\n",
      "\n",
      "Epoch 1/4\n",
      "----------\n",
      "train Loss: 0.0342 Acc: 0.9963\n",
      "valid Loss: 0.0146 Acc: 0.9980\n",
      "\n",
      "Epoch 2/4\n",
      "----------\n",
      "train Loss: 0.0203 Acc: 0.9969\n",
      "valid Loss: 0.0133 Acc: 0.9960\n",
      "\n",
      "Epoch 3/4\n",
      "----------\n",
      "train Loss: 0.0109 Acc: 0.9991\n",
      "valid Loss: 0.0123 Acc: 0.9980\n",
      "\n",
      "Epoch 4/4\n",
      "----------\n",
      "train Loss: 0.0072 Acc: 0.9997\n",
      "valid Loss: 0.0112 Acc: 0.9980\n",
      "\n",
      "Training complete in 38m 23s\n",
      "Best val Acc: 0.998004\n"
     ]
    }
   ],
   "source": [
    "model_ft = model_ft.to(device)\n",
    "criterion = torch.nn.CrossEntropyLoss()\n",
    "\n",
    "# Observe that all parameters are being optimized\n",
    "optimizer_ft = torch.optim.SGD(model_ft.parameters(), lr=0.0005, momentum=0.9)\n",
    "\n",
    "# Decay LR by a factor of 0.1 every 7 epochs\n",
    "exp_lr_scheduler = torch.optim.lr_scheduler.StepLR(optimizer_ft, step_size=7, gamma=0.1)\n",
    "\n",
    "model_ft = train_model(model_ft, criterion, optimizer_ft, exp_lr_scheduler,\n",
    "                       num_epochs=5) # num_epochs=20 default"
   ]
  },
  {
   "cell_type": "markdown",
   "id": "97133a22",
   "metadata": {
    "papermill": {
     "duration": 0.009584,
     "end_time": "2023-05-18T12:02:36.745295",
     "exception": false,
     "start_time": "2023-05-18T12:02:36.735711",
     "status": "completed"
    },
    "tags": []
   },
   "source": [
    "### Testing by Discarding the Background Class "
   ]
  },
  {
   "cell_type": "code",
   "execution_count": 10,
   "id": "231636ef",
   "metadata": {
    "execution": {
     "iopub.execute_input": "2023-05-18T12:02:36.766844Z",
     "iopub.status.busy": "2023-05-18T12:02:36.765892Z",
     "iopub.status.idle": "2023-05-18T12:05:21.679684Z",
     "shell.execute_reply": "2023-05-18T12:05:21.678632Z"
    },
    "papermill": {
     "duration": 164.927514,
     "end_time": "2023-05-18T12:05:21.682443",
     "exception": false,
     "start_time": "2023-05-18T12:02:36.754929",
     "status": "completed"
    },
    "tags": []
   },
   "outputs": [],
   "source": [
    "y_pred = []\n",
    "y_true = []\n",
    "output_all =[]\n",
    "\n",
    "# iterate over test data\n",
    "for inputs, labels in dataloaders_test['test']:\n",
    "        inputs = inputs.to(device)\n",
    "        labels = labels.to(device)\n",
    "        \n",
    "        output = model_ft(inputs) # Feed Network\n",
    "        output = output[:,0:10]\n",
    "\n",
    "        output = (torch.max(torch.exp(output), 1)[1]).data.cpu().numpy()\n",
    "        y_pred.extend(output) # Save Prediction\n",
    "        \n",
    "        labels = labels.data.cpu().numpy()\n",
    "        y_true.extend(labels) # Save Truth"
   ]
  },
  {
   "cell_type": "markdown",
   "id": "4a007d25",
   "metadata": {
    "papermill": {
     "duration": 0.009771,
     "end_time": "2023-05-18T12:05:21.702599",
     "exception": false,
     "start_time": "2023-05-18T12:05:21.692828",
     "status": "completed"
    },
    "tags": []
   },
   "source": [
    "### Test Accuracy and Confusion Matrix"
   ]
  },
  {
   "cell_type": "code",
   "execution_count": 11,
   "id": "cc9218dc",
   "metadata": {
    "execution": {
     "iopub.execute_input": "2023-05-18T12:05:21.723828Z",
     "iopub.status.busy": "2023-05-18T12:05:21.723460Z",
     "iopub.status.idle": "2023-05-18T12:05:23.450518Z",
     "shell.execute_reply": "2023-05-18T12:05:23.449504Z"
    },
    "papermill": {
     "duration": 1.740736,
     "end_time": "2023-05-18T12:05:23.453300",
     "exception": false,
     "start_time": "2023-05-18T12:05:21.712564",
     "status": "completed"
    },
    "tags": []
   },
   "outputs": [
    {
     "name": "stdout",
     "output_type": "stream",
     "text": [
      "Test Accuracy: 0.9975\n"
     ]
    },
    {
     "data": {
      "image/png": "[encoded data removed]",
      "text/plain": [
       "<Figure size 1500x900 with 2 Axes>"
      ]
     },
     "metadata": {
      "needs_background": "light"
     },
     "output_type": "display_data"
    }
   ],
   "source": [
    "test_accuracy = 0\n",
    "for iter1 in range(len(y_true)):\n",
    "    if y_true[iter1] == y_pred[iter1]:\n",
    "        test_accuracy = test_accuracy + 1\n",
    "\n",
    "print('Test Accuracy:',test_accuracy/len(y_true))\n",
    "\n",
    "# constant for classes\n",
    "classes = ('airplane', 'bird', 'car', 'cat', 'deer', 'dog', 'horse', 'monkey', 'ship', 'truck')\n",
    "\n",
    "# Build confusion matrix\n",
    "cf_matrix = confusion_matrix(y_true, y_pred)\n",
    "df_cm = pd.DataFrame(cf_matrix, index = [i for i in classes],\n",
    "                     columns = [i for i in classes])\n",
    "\n",
    "\n",
    "\n",
    "plt.figure(figsize = (10,6),dpi=150)\n",
    "plt.rcParams['font.size'] = '16'\n",
    "fig = sn.heatmap(df_cm, annot=True, fmt=\".0f\")\n",
    "plt.ylabel(\"Labels\")\n",
    "plt.xlabel(\"Predictions\")\n",
    "plt.show(fig)\n",
    "\n",
    "fig.figure.savefig('Confusion_test.pdf', bbox_inches = 'tight') "
   ]
  },
  {
   "cell_type": "markdown",
   "id": "181c102f",
   "metadata": {
    "papermill": {
     "duration": 0.011678,
     "end_time": "2023-05-18T12:05:23.477494",
     "exception": false,
     "start_time": "2023-05-18T12:05:23.465816",
     "status": "completed"
    },
    "tags": []
   },
   "source": [
    "# Save Model"
   ]
  },
  {
   "cell_type": "code",
   "execution_count": 12,
   "id": "ccdee6e8",
   "metadata": {
    "execution": {
     "iopub.execute_input": "2023-05-18T12:05:23.502357Z",
     "iopub.status.busy": "2023-05-18T12:05:23.501992Z",
     "iopub.status.idle": "2023-05-18T12:05:26.122186Z",
     "shell.execute_reply": "2023-05-18T12:05:26.120810Z"
    },
    "papermill": {
     "duration": 2.64565,
     "end_time": "2023-05-18T12:05:26.134663",
     "exception": false,
     "start_time": "2023-05-18T12:05:23.489013",
     "status": "completed"
    },
    "tags": []
   },
   "outputs": [
    {
     "data": {
      "text/plain": [
       "'\\n#Guideline for loading model in future \\ndevice = torch.device(\"cuda:0\" if torch.cuda.is_available() else \"cpu\")\\nmodel = models.wide_resnet101_2(pretrained=False) \\n        #We only need the structure to transfer parameters\\n        \\nnum_ftrs = model.fc.in_features\\nmodel.fc = nn.Linear(num_ftrs, Num_class)\\n\\nmodel.load_state_dict(torch.load(PATH2, map_location=device))\\n'"
      ]
     },
     "execution_count": 12,
     "metadata": {},
     "output_type": "execute_result"
    }
   ],
   "source": [
    "PATH = \"./model_background.pt\"\n",
    "torch.save(model_ft.state_dict(), PATH)\n",
    "\n",
    "'''\n",
    "#Guideline for loading model in future \n",
    "device = torch.device(\"cuda:0\" if torch.cuda.is_available() else \"cpu\")\n",
    "model = models.wide_resnet101_2(pretrained=False) \n",
    "        #We only need the structure to transfer parameters\n",
    "        \n",
    "num_ftrs = model.fc.in_features\n",
    "model.fc = nn.Linear(num_ftrs, Num_class)\n",
    "\n",
    "model.load_state_dict(torch.load(PATH2, map_location=device))\n",
    "'''"
   ]
  },
  {
   "cell_type": "markdown",
   "id": "d5952f24",
   "metadata": {
    "papermill": {
     "duration": 0.058205,
     "end_time": "2023-05-18T12:05:26.237861",
     "exception": false,
     "start_time": "2023-05-18T12:05:26.179656",
     "status": "completed"
    },
    "tags": []
   },
   "source": [
    "# Delete Downloaded Data"
   ]
  },
  {
   "cell_type": "code",
   "execution_count": 13,
   "id": "f65ef445",
   "metadata": {
    "execution": {
     "iopub.execute_input": "2023-05-18T12:05:26.349900Z",
     "iopub.status.busy": "2023-05-18T12:05:26.349391Z",
     "iopub.status.idle": "2023-05-18T12:05:27.106039Z",
     "shell.execute_reply": "2023-05-18T12:05:27.104957Z"
    },
    "papermill": {
     "duration": 0.813453,
     "end_time": "2023-05-18T12:05:27.108790",
     "exception": false,
     "start_time": "2023-05-18T12:05:26.295337",
     "status": "completed"
    },
    "tags": []
   },
   "outputs": [],
   "source": [
    "shutil.rmtree('./data/')\n",
    "shutil.rmtree('./Background/')"
   ]
  }
 ],
 "metadata": {
  "kernelspec": {
   "display_name": "Python 3",
   "language": "python",
   "name": "python3"
  },
  "language_info": {
   "codemirror_mode": {
    "name": "ipython",
    "version": 3
   },
   "file_extension": ".py",
   "mimetype": "text/x-python",
   "name": "python",
   "nbconvert_exporter": "python",
   "pygments_lexer": "ipython3",
   "version": "3.7.12"
  },
  "papermill": {
   "default_parameters": {},
   "duration": 2717.768999,
   "end_time": "2023-05-18T12:05:31.536465",
   "environment_variables": {},
   "exception": null,
   "input_path": "__notebook__.ipynb",
   "output_path": "__notebook__.ipynb",
   "parameters": {},
   "start_time": "2023-05-18T11:20:13.767466",
   "version": "2.3.4"
  },
  "widgets": {
   "application/vnd.jupyter.widget-state+json": {
    "state": {
     "0242900c471d432e98d8adaa02414170": {
      "model_module": "@jupyter-widgets/controls",
      "model_module_version": "1.5.0",
      "model_name": "HBoxModel",
      "state": {
       "_dom_classes": [],
       "_model_module": "@jupyter-widgets/controls",
       "_model_module_version": "1.5.0",
       "_model_name": "HBoxModel",
       "_view_count": null,
       "_view_module": "@jupyter-widgets/controls",
       "_view_module_version": "1.5.0",
       "_view_name": "HBoxView",
       "box_style": "",
       "children": [
        "IPY_MODEL_626fb99c0f084ee6b5593827a58e2768",
        "IPY_MODEL_c0f252a2d08c4d56afef6d8b02303331",
        "IPY_MODEL_348a94ca3e3648e390c95a800bc55b78"
       ],
       "layout": "IPY_MODEL_8027a105d3f541b3b98958f082b5563a"
      }
     },
     "2a380bc554b54222a0dfd51a178c8c37": {
      "model_module": "@jupyter-widgets/controls",
      "model_module_version": "1.5.0",
      "model_name": "HTMLModel",
      "state": {
       "_dom_classes": [],
       "_model_module": "@jupyter-widgets/controls",
       "_model_module_version": "1.5.0",
       "_model_name": "HTMLModel",
       "_view_count": null,
       "_view_module": "@jupyter-widgets/controls",
       "_view_module_version": "1.5.0",
       "_view_name": "HTMLView",
       "description": "",
       "description_tooltip": null,
       "layout": "IPY_MODEL_43d1d0cd4e57492e95cfa2f4ee7a81f9",
       "placeholder": "​",
       "style": "IPY_MODEL_bab50c4c76974d2c926036ac0bf069d4",
       "value": "Downloading: 100%"
      }
     },
     "348a94ca3e3648e390c95a800bc55b78": {
      "model_module": "@jupyter-widgets/controls",
      "model_module_version": "1.5.0",
      "model_name": "HTMLModel",
      "state": {
       "_dom_classes": [],
       "_model_module": "@jupyter-widgets/controls",
       "_model_module_version": "1.5.0",
       "_model_name": "HTMLModel",
       "_view_count": null,
       "_view_module": "@jupyter-widgets/controls",
       "_view_module_version": "1.5.0",
       "_view_name": "HTMLView",
       "description": "",
       "description_tooltip": null,
       "layout": "IPY_MODEL_9e04f74cbd5744ca9ae4e64329748f33",
       "placeholder": "​",
       "style": "IPY_MODEL_434fd80d28a74b9a9e8228b9de8e1cdf",
       "value": " 2640397312/? [01:10&lt;00:00, 40350407.10it/s]"
      }
     },
     "39af3811846940749f29872d117b80e4": {
      "model_module": "@jupyter-widgets/controls",
      "model_module_version": "1.5.0",
      "model_name": "HBoxModel",
      "state": {
       "_dom_classes": [],
       "_model_module": "@jupyter-widgets/controls",
       "_model_module_version": "1.5.0",
       "_model_name": "HBoxModel",
       "_view_count": null,
       "_view_module": "@jupyter-widgets/controls",
       "_view_module_version": "1.5.0",
       "_view_name": "HBoxView",
       "box_style": "",
       "children": [
        "IPY_MODEL_2a380bc554b54222a0dfd51a178c8c37",
        "IPY_MODEL_53c8f06fb6f941de81a1e88a44844c28",
        "IPY_MODEL_9b1d09f4d5ad491d848ccaeec3ffd17f"
       ],
       "layout": "IPY_MODEL_7eff7e96ebc7443fad75bbae96d0a1c6"
      }
     },
     "3d478e52772b4c16b86c4edefde872ba": {
      "model_module": "@jupyter-widgets/controls",
      "model_module_version": "1.5.0",
      "model_name": "ProgressStyleModel",
      "state": {
       "_model_module": "@jupyter-widgets/controls",
       "_model_module_version": "1.5.0",
       "_model_name": "ProgressStyleModel",
       "_view_count": null,
       "_view_module": "@jupyter-widgets/base",
       "_view_module_version": "1.2.0",
       "_view_name": "StyleView",
       "bar_color": null,
       "description_width": ""
      }
     },
     "434fd80d28a74b9a9e8228b9de8e1cdf": {
      "model_module": "@jupyter-widgets/controls",
      "model_module_version": "1.5.0",
      "model_name": "DescriptionStyleModel",
      "state": {
       "_model_module": "@jupyter-widgets/controls",
       "_model_module_version": "1.5.0",
       "_model_name": "DescriptionStyleModel",
       "_view_count": null,
       "_view_module": "@jupyter-widgets/base",
       "_view_module_version": "1.2.0",
       "_view_name": "StyleView",
       "description_width": ""
      }
     },
     "43d1d0cd4e57492e95cfa2f4ee7a81f9": {
      "model_module": "@jupyter-widgets/base",
      "model_module_version": "1.2.0",
      "model_name": "LayoutModel",
      "state": {
       "_model_module": "@jupyter-widgets/base",
       "_model_module_version": "1.2.0",
       "_model_name": "LayoutModel",
       "_view_count": null,
       "_view_module": "@jupyter-widgets/base",
       "_view_module_version": "1.2.0",
       "_view_name": "LayoutView",
       "align_content": null,
       "align_items": null,
       "align_self": null,
       "border": null,
       "bottom": null,
       "display": null,
       "flex": null,
       "flex_flow": null,
       "grid_area": null,
       "grid_auto_columns": null,
       "grid_auto_flow": null,
       "grid_auto_rows": null,
       "grid_column": null,
       "grid_gap": null,
       "grid_row": null,
       "grid_template_areas": null,
       "grid_template_columns": null,
       "grid_template_rows": null,
       "height": null,
       "justify_content": null,
       "justify_items": null,
       "left": null,
       "margin": null,
       "max_height": null,
       "max_width": null,
       "min_height": null,
       "min_width": null,
       "object_fit": null,
       "object_position": null,
       "order": null,
       "overflow": null,
       "overflow_x": null,
       "overflow_y": null,
       "padding": null,
       "right": null,
       "top": null,
       "visibility": null,
       "width": null
      }
     },
     "490c53e9533c48c3a2b16f37fca43c75": {
      "model_module": "@jupyter-widgets/controls",
      "model_module_version": "1.5.0",
      "model_name": "ProgressStyleModel",
      "state": {
       "_model_module": "@jupyter-widgets/controls",
       "_model_module_version": "1.5.0",
       "_model_name": "ProgressStyleModel",
       "_view_count": null,
       "_view_module": "@jupyter-widgets/base",
       "_view_module_version": "1.2.0",
       "_view_name": "StyleView",
       "bar_color": null,
       "description_width": ""
      }
     },
     "4d4b76f0903b4cb7b2851f9e6af3b5f6": {
      "model_module": "@jupyter-widgets/base",
      "model_module_version": "1.2.0",
      "model_name": "LayoutModel",
      "state": {
       "_model_module": "@jupyter-widgets/base",
       "_model_module_version": "1.2.0",
       "_model_name": "LayoutModel",
       "_view_count": null,
       "_view_module": "@jupyter-widgets/base",
       "_view_module_version": "1.2.0",
       "_view_name": "LayoutView",
       "align_content": null,
       "align_items": null,
       "align_self": null,
       "border": null,
       "bottom": null,
       "display": null,
       "flex": null,
       "flex_flow": null,
       "grid_area": null,
       "grid_auto_columns": null,
       "grid_auto_flow": null,
       "grid_auto_rows": null,
       "grid_column": null,
       "grid_gap": null,
       "grid_row": null,
       "grid_template_areas": null,
       "grid_template_columns": null,
       "grid_template_rows": null,
       "height": null,
       "justify_content": null,
       "justify_items": null,
       "left": null,
       "margin": null,
       "max_height": null,
       "max_width": null,
       "min_height": null,
       "min_width": null,
       "object_fit": null,
       "object_position": null,
       "order": null,
       "overflow": null,
       "overflow_x": null,
       "overflow_y": null,
       "padding": null,
       "right": null,
       "top": null,
       "visibility": null,
       "width": null
      }
     },
     "53c8f06fb6f941de81a1e88a44844c28": {
      "model_module": "@jupyter-widgets/controls",
      "model_module_version": "1.5.0",
      "model_name": "FloatProgressModel",
      "state": {
       "_dom_classes": [],
       "_model_module": "@jupyter-widgets/controls",
       "_model_module_version": "1.5.0",
       "_model_name": "FloatProgressModel",
       "_view_count": null,
       "_view_module": "@jupyter-widgets/controls",
       "_view_module_version": "1.5.0",
       "_view_name": "ProgressView",
       "bar_style": "success",
       "description": "",
       "description_tooltip": null,
       "layout": "IPY_MODEL_f1b132bb67c84a4cb7302eb97abcee75",
       "max": 1217334682.0,
       "min": 0.0,
       "orientation": "horizontal",
       "style": "IPY_MODEL_490c53e9533c48c3a2b16f37fca43c75",
       "value": 1217334682.0
      }
     },
     "626fb99c0f084ee6b5593827a58e2768": {
      "model_module": "@jupyter-widgets/controls",
      "model_module_version": "1.5.0",
      "model_name": "HTMLModel",
      "state": {
       "_dom_classes": [],
       "_model_module": "@jupyter-widgets/controls",
       "_model_module_version": "1.5.0",
       "_model_name": "HTMLModel",
       "_view_count": null,
       "_view_module": "@jupyter-widgets/controls",
       "_view_module_version": "1.5.0",
       "_view_name": "HTMLView",
       "description": "",
       "description_tooltip": null,
       "layout": "IPY_MODEL_81a0a741141c444daeb4251bf490d9fd",
       "placeholder": "​",
       "style": "IPY_MODEL_ed85213cd52d4289bdd234fdfc7b47e7",
       "value": ""
      }
     },
     "7eff7e96ebc7443fad75bbae96d0a1c6": {
      "model_module": "@jupyter-widgets/base",
      "model_module_version": "1.2.0",
      "model_name": "LayoutModel",
      "state": {
       "_model_module": "@jupyter-widgets/base",
       "_model_module_version": "1.2.0",
       "_model_name": "LayoutModel",
       "_view_count": null,
       "_view_module": "@jupyter-widgets/base",
       "_view_module_version": "1.2.0",
       "_view_name": "LayoutView",
       "align_content": null,
       "align_items": null,
       "align_self": null,
       "border": null,
       "bottom": null,
       "display": null,
       "flex": null,
       "flex_flow": null,
       "grid_area": null,
       "grid_auto_columns": null,
       "grid_auto_flow": null,
       "grid_auto_rows": null,
       "grid_column": null,
       "grid_gap": null,
       "grid_row": null,
       "grid_template_areas": null,
       "grid_template_columns": null,
       "grid_template_rows": null,
       "height": null,
       "justify_content": null,
       "justify_items": null,
       "left": null,
       "margin": null,
       "max_height": null,
       "max_width": null,
       "min_height": null,
       "min_width": null,
       "object_fit": null,
       "object_position": null,
       "order": null,
       "overflow": null,
       "overflow_x": null,
       "overflow_y": null,
       "padding": null,
       "right": null,
       "top": null,
       "visibility": null,
       "width": null
      }
     },
     "8027a105d3f541b3b98958f082b5563a": {
      "model_module": "@jupyter-widgets/base",
      "model_module_version": "1.2.0",
      "model_name": "LayoutModel",
      "state": {
       "_model_module": "@jupyter-widgets/base",
       "_model_module_version": "1.2.0",
       "_model_name": "LayoutModel",
       "_view_count": null,
       "_view_module": "@jupyter-widgets/base",
       "_view_module_version": "1.2.0",
       "_view_name": "LayoutView",
       "align_content": null,
       "align_items": null,
       "align_self": null,
       "border": null,
       "bottom": null,
       "display": null,
       "flex": null,
       "flex_flow": null,
       "grid_area": null,
       "grid_auto_columns": null,
       "grid_auto_flow": null,
       "grid_auto_rows": null,
       "grid_column": null,
       "grid_gap": null,
       "grid_row": null,
       "grid_template_areas": null,
       "grid_template_columns": null,
       "grid_template_rows": null,
       "height": null,
       "justify_content": null,
       "justify_items": null,
       "left": null,
       "margin": null,
       "max_height": null,
       "max_width": null,
       "min_height": null,
       "min_width": null,
       "object_fit": null,
       "object_position": null,
       "order": null,
       "overflow": null,
       "overflow_x": null,
       "overflow_y": null,
       "padding": null,
       "right": null,
       "top": null,
       "visibility": null,
       "width": null
      }
     },
     "81a0a741141c444daeb4251bf490d9fd": {
      "model_module": "@jupyter-widgets/base",
      "model_module_version": "1.2.0",
      "model_name": "LayoutModel",
      "state": {
       "_model_module": "@jupyter-widgets/base",
       "_model_module_version": "1.2.0",
       "_model_name": "LayoutModel",
       "_view_count": null,
       "_view_module": "@jupyter-widgets/base",
       "_view_module_version": "1.2.0",
       "_view_name": "LayoutView",
       "align_content": null,
       "align_items": null,
       "align_self": null,
       "border": null,
       "bottom": null,
       "display": null,
       "flex": null,
       "flex_flow": null,
       "grid_area": null,
       "grid_auto_columns": null,
       "grid_auto_flow": null,
       "grid_auto_rows": null,
       "grid_column": null,
       "grid_gap": null,
       "grid_row": null,
       "grid_template_areas": null,
       "grid_template_columns": null,
       "grid_template_rows": null,
       "height": null,
       "justify_content": null,
       "justify_items": null,
       "left": null,
       "margin": null,
       "max_height": null,
       "max_width": null,
       "min_height": null,
       "min_width": null,
       "object_fit": null,
       "object_position": null,
       "order": null,
       "overflow": null,
       "overflow_x": null,
       "overflow_y": null,
       "padding": null,
       "right": null,
       "top": null,
       "visibility": null,
       "width": null
      }
     },
     "891056d5246c4d3eb4e34de039cf9f04": {
      "model_module": "@jupyter-widgets/controls",
      "model_module_version": "1.5.0",
      "model_name": "DescriptionStyleModel",
      "state": {
       "_model_module": "@jupyter-widgets/controls",
       "_model_module_version": "1.5.0",
       "_model_name": "DescriptionStyleModel",
       "_view_count": null,
       "_view_module": "@jupyter-widgets/base",
       "_view_module_version": "1.2.0",
       "_view_name": "StyleView",
       "description_width": ""
      }
     },
     "9b1d09f4d5ad491d848ccaeec3ffd17f": {
      "model_module": "@jupyter-widgets/controls",
      "model_module_version": "1.5.0",
      "model_name": "HTMLModel",
      "state": {
       "_dom_classes": [],
       "_model_module": "@jupyter-widgets/controls",
       "_model_module_version": "1.5.0",
       "_model_name": "HTMLModel",
       "_view_count": null,
       "_view_module": "@jupyter-widgets/controls",
       "_view_module_version": "1.5.0",
       "_view_name": "HTMLView",
       "description": "",
       "description_tooltip": null,
       "layout": "IPY_MODEL_e2974eed338b4dc6b33582d3592ce3e3",
       "placeholder": "​",
       "style": "IPY_MODEL_891056d5246c4d3eb4e34de039cf9f04",
       "value": " 1.22G/1.22G [00:31&lt;00:00, 40.9MB/s]"
      }
     },
     "9e04f74cbd5744ca9ae4e64329748f33": {
      "model_module": "@jupyter-widgets/base",
      "model_module_version": "1.2.0",
      "model_name": "LayoutModel",
      "state": {
       "_model_module": "@jupyter-widgets/base",
       "_model_module_version": "1.2.0",
       "_model_name": "LayoutModel",
       "_view_count": null,
       "_view_module": "@jupyter-widgets/base",
       "_view_module_version": "1.2.0",
       "_view_name": "LayoutView",
       "align_content": null,
       "align_items": null,
       "align_self": null,
       "border": null,
       "bottom": null,
       "display": null,
       "flex": null,
       "flex_flow": null,
       "grid_area": null,
       "grid_auto_columns": null,
       "grid_auto_flow": null,
       "grid_auto_rows": null,
       "grid_column": null,
       "grid_gap": null,
       "grid_row": null,
       "grid_template_areas": null,
       "grid_template_columns": null,
       "grid_template_rows": null,
       "height": null,
       "justify_content": null,
       "justify_items": null,
       "left": null,
       "margin": null,
       "max_height": null,
       "max_width": null,
       "min_height": null,
       "min_width": null,
       "object_fit": null,
       "object_position": null,
       "order": null,
       "overflow": null,
       "overflow_x": null,
       "overflow_y": null,
       "padding": null,
       "right": null,
       "top": null,
       "visibility": null,
       "width": null
      }
     },
     "bab50c4c76974d2c926036ac0bf069d4": {
      "model_module": "@jupyter-widgets/controls",
      "model_module_version": "1.5.0",
      "model_name": "DescriptionStyleModel",
      "state": {
       "_model_module": "@jupyter-widgets/controls",
       "_model_module_version": "1.5.0",
       "_model_name": "DescriptionStyleModel",
       "_view_count": null,
       "_view_module": "@jupyter-widgets/base",
       "_view_module_version": "1.2.0",
       "_view_name": "StyleView",
       "description_width": ""
      }
     },
     "c0f252a2d08c4d56afef6d8b02303331": {
      "model_module": "@jupyter-widgets/controls",
      "model_module_version": "1.5.0",
      "model_name": "FloatProgressModel",
      "state": {
       "_dom_classes": [],
       "_model_module": "@jupyter-widgets/controls",
       "_model_module_version": "1.5.0",
       "_model_name": "FloatProgressModel",
       "_view_count": null,
       "_view_module": "@jupyter-widgets/controls",
       "_view_module_version": "1.5.0",
       "_view_name": "ProgressView",
       "bar_style": "success",
       "description": "",
       "description_tooltip": null,
       "layout": "IPY_MODEL_4d4b76f0903b4cb7b2851f9e6af3b5f6",
       "max": 2640397119.0,
       "min": 0.0,
       "orientation": "horizontal",
       "style": "IPY_MODEL_3d478e52772b4c16b86c4edefde872ba",
       "value": 2640397119.0
      }
     },
     "e2974eed338b4dc6b33582d3592ce3e3": {
      "model_module": "@jupyter-widgets/base",
      "model_module_version": "1.2.0",
      "model_name": "LayoutModel",
      "state": {
       "_model_module": "@jupyter-widgets/base",
       "_model_module_version": "1.2.0",
       "_model_name": "LayoutModel",
       "_view_count": null,
       "_view_module": "@jupyter-widgets/base",
       "_view_module_version": "1.2.0",
       "_view_name": "LayoutView",
       "align_content": null,
       "align_items": null,
       "align_self": null,
       "border": null,
       "bottom": null,
       "display": null,
       "flex": null,
       "flex_flow": null,
       "grid_area": null,
       "grid_auto_columns": null,
       "grid_auto_flow": null,
       "grid_auto_rows": null,
       "grid_column": null,
       "grid_gap": null,
       "grid_row": null,
       "grid_template_areas": null,
       "grid_template_columns": null,
       "grid_template_rows": null,
       "height": null,
       "justify_content": null,
       "justify_items": null,
       "left": null,
       "margin": null,
       "max_height": null,
       "max_width": null,
       "min_height": null,
       "min_width": null,
       "object_fit": null,
       "object_position": null,
       "order": null,
       "overflow": null,
       "overflow_x": null,
       "overflow_y": null,
       "padding": null,
       "right": null,
       "top": null,
       "visibility": null,
       "width": null
      }
     },
     "ed85213cd52d4289bdd234fdfc7b47e7": {
      "model_module": "@jupyter-widgets/controls",
      "model_module_version": "1.5.0",
      "model_name": "DescriptionStyleModel",
      "state": {
       "_model_module": "@jupyter-widgets/controls",
       "_model_module_version": "1.5.0",
       "_model_name": "DescriptionStyleModel",
       "_view_count": null,
       "_view_module": "@jupyter-widgets/base",
       "_view_module_version": "1.2.0",
       "_view_name": "StyleView",
       "description_width": ""
      }
     },
     "f1b132bb67c84a4cb7302eb97abcee75": {
      "model_module": "@jupyter-widgets/base",
      "model_module_version": "1.2.0",
      "model_name": "LayoutModel",
      "state": {
       "_model_module": "@jupyter-widgets/base",
       "_model_module_version": "1.2.0",
       "_model_name": "LayoutModel",
       "_view_count": null,
       "_view_module": "@jupyter-widgets/base",
       "_view_module_version": "1.2.0",
       "_view_name": "LayoutView",
       "align_content": null,
       "align_items": null,
       "align_self": null,
       "border": null,
       "bottom": null,
       "display": null,
       "flex": null,
       "flex_flow": null,
       "grid_area": null,
       "grid_auto_columns": null,
       "grid_auto_flow": null,
       "grid_auto_rows": null,
       "grid_column": null,
       "grid_gap": null,
       "grid_row": null,
       "grid_template_areas": null,
       "grid_template_columns": null,
       "grid_template_rows": null,
       "height": null,
       "justify_content": null,
       "justify_items": null,
       "left": null,
       "margin": null,
       "max_height": null,
       "max_width": null,
       "min_height": null,
       "min_width": null,
       "object_fit": null,
       "object_position": null,
       "order": null,
       "overflow": null,
       "overflow_x": null,
       "overflow_y": null,
       "padding": null,
       "right": null,
       "top": null,
       "visibility": null,
       "width": null
      }
     }
    },
    "version_major": 2,
    "version_minor": 0
   }
  }
 },
 "nbformat": 4,
 "nbformat_minor": 5
}
