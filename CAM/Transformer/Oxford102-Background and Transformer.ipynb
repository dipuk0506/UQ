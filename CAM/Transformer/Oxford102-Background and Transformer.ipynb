{
 "cells": [
  {
   "cell_type": "markdown",
   "id": "3521c97c",
   "metadata": {
    "papermill": {
     "duration": 0.009766,
     "end_time": "2023-05-20T01:52:58.732734",
     "exception": false,
     "start_time": "2023-05-20T01:52:58.722968",
     "status": "completed"
    },
    "tags": []
   },
   "source": [
    "# Training with Background Data\n",
    "\n",
    "## We wrote this code with the help of the following scripts\n",
    "\n",
    "https://github.com/dipuk0506/SpinalNet/blob/master/Transfer%20Learning/Pytorch_data_to_folders.py\n",
    "\n",
    "https://github.com/dipuk0506/SpinalNet/blob/master/Transfer%20Learning/Transfer_Learning_STL10.py"
   ]
  },
  {
   "cell_type": "code",
   "execution_count": 1,
   "id": "9eec77ca",
   "metadata": {
    "execution": {
     "iopub.execute_input": "2023-05-20T01:52:58.753193Z",
     "iopub.status.busy": "2023-05-20T01:52:58.752712Z",
     "iopub.status.idle": "2023-05-20T01:53:15.837177Z",
     "shell.execute_reply": "2023-05-20T01:53:15.836103Z"
    },
    "papermill": {
     "duration": 17.097647,
     "end_time": "2023-05-20T01:53:15.840030",
     "exception": false,
     "start_time": "2023-05-20T01:52:58.742383",
     "status": "completed"
    },
    "tags": []
   },
   "outputs": [
    {
     "name": "stdout",
     "output_type": "stream",
     "text": [
      "Collecting timm\r\n",
      "  Downloading timm-0.9.2-py3-none-any.whl (2.2 MB)\r\n",
      "\u001b[2K     \u001b[90m━━━━━━━━━━━━━━━━━━━━━━━━━━━━━━━━━━━━━━━━\u001b[0m \u001b[32m2.2/2.2 MB\u001b[0m \u001b[31m34.8 MB/s\u001b[0m eta \u001b[36m0:00:00\u001b[0m\r\n",
      "\u001b[?25hRequirement already satisfied: torchvision in /opt/conda/lib/python3.7/site-packages (from timm) (0.12.0)\r\n",
      "Requirement already satisfied: pyyaml in /opt/conda/lib/python3.7/site-packages (from timm) (6.0)\r\n",
      "Collecting safetensors\r\n",
      "  Downloading safetensors-0.3.1-cp37-cp37m-manylinux_2_17_x86_64.manylinux2014_x86_64.whl (1.3 MB)\r\n",
      "\u001b[2K     \u001b[90m━━━━━━━━━━━━━━━━━━━━━━━━━━━━━━━━━━━━━━━━\u001b[0m \u001b[32m1.3/1.3 MB\u001b[0m \u001b[31m58.0 MB/s\u001b[0m eta \u001b[36m0:00:00\u001b[0m\r\n",
      "\u001b[?25hRequirement already satisfied: torch>=1.7 in /opt/conda/lib/python3.7/site-packages (from timm) (1.11.0)\r\n",
      "Requirement already satisfied: huggingface-hub in /opt/conda/lib/python3.7/site-packages (from timm) (0.10.1)\r\n",
      "Requirement already satisfied: typing-extensions in /opt/conda/lib/python3.7/site-packages (from torch>=1.7->timm) (4.1.1)\r\n",
      "Requirement already satisfied: requests in /opt/conda/lib/python3.7/site-packages (from huggingface-hub->timm) (2.28.1)\r\n",
      "Requirement already satisfied: importlib-metadata in /opt/conda/lib/python3.7/site-packages (from huggingface-hub->timm) (4.13.0)\r\n",
      "Requirement already satisfied: packaging>=20.9 in /opt/conda/lib/python3.7/site-packages (from huggingface-hub->timm) (21.3)\r\n",
      "Requirement already satisfied: tqdm in /opt/conda/lib/python3.7/site-packages (from huggingface-hub->timm) (4.64.0)\r\n",
      "Requirement already satisfied: filelock in /opt/conda/lib/python3.7/site-packages (from huggingface-hub->timm) (3.7.1)\r\n",
      "Requirement already satisfied: pillow!=8.3.*,>=5.3.0 in /opt/conda/lib/python3.7/site-packages (from torchvision->timm) (9.1.1)\r\n",
      "Requirement already satisfied: numpy in /opt/conda/lib/python3.7/site-packages (from torchvision->timm) (1.21.6)\r\n",
      "Requirement already satisfied: pyparsing!=3.0.5,>=2.0.2 in /opt/conda/lib/python3.7/site-packages (from packaging>=20.9->huggingface-hub->timm) (3.0.9)\r\n",
      "Requirement already satisfied: zipp>=0.5 in /opt/conda/lib/python3.7/site-packages (from importlib-metadata->huggingface-hub->timm) (3.8.0)\r\n",
      "Requirement already satisfied: charset-normalizer<3,>=2 in /opt/conda/lib/python3.7/site-packages (from requests->huggingface-hub->timm) (2.1.0)\r\n",
      "Requirement already satisfied: certifi>=2017.4.17 in /opt/conda/lib/python3.7/site-packages (from requests->huggingface-hub->timm) (2022.9.24)\r\n",
      "Requirement already satisfied: urllib3<1.27,>=1.21.1 in /opt/conda/lib/python3.7/site-packages (from requests->huggingface-hub->timm) (1.26.12)\r\n",
      "Requirement already satisfied: idna<4,>=2.5 in /opt/conda/lib/python3.7/site-packages (from requests->huggingface-hub->timm) (3.3)\r\n",
      "Installing collected packages: safetensors, timm\r\n",
      "Successfully installed safetensors-0.3.1 timm-0.9.2\r\n",
      "\u001b[33mWARNING: Running pip as the 'root' user can result in broken permissions and conflicting behaviour with the system package manager. It is recommended to use a virtual environment instead: https://pip.pypa.io/warnings/venv\u001b[0m\u001b[33m\r\n",
      "\u001b[0m"
     ]
    }
   ],
   "source": [
    "! pip install timm\n",
    "import timm"
   ]
  },
  {
   "cell_type": "code",
   "execution_count": 2,
   "id": "014a6acd",
   "metadata": {
    "execution": {
     "iopub.execute_input": "2023-05-20T01:53:15.854475Z",
     "iopub.status.busy": "2023-05-20T01:53:15.853986Z",
     "iopub.status.idle": "2023-05-20T01:53:16.806692Z",
     "shell.execute_reply": "2023-05-20T01:53:16.805699Z"
    },
    "papermill": {
     "duration": 0.962774,
     "end_time": "2023-05-20T01:53:16.809417",
     "exception": false,
     "start_time": "2023-05-20T01:53:15.846643",
     "status": "completed"
    },
    "tags": []
   },
   "outputs": [],
   "source": [
    "import torch, time, os, copy, random, imageio, os, shutil, numpy, zipfile\n",
    "import matplotlib.pyplot as plt, pandas as pd, seaborn as sn, torch.nn as nn\n",
    "from torchvision import datasets, models, transforms, utils\n",
    "from sklearn.metrics import confusion_matrix\n",
    "from zipfile import ZipFile"
   ]
  },
  {
   "cell_type": "code",
   "execution_count": 3,
   "id": "cd266b7c",
   "metadata": {
    "execution": {
     "iopub.execute_input": "2023-05-20T01:53:16.823610Z",
     "iopub.status.busy": "2023-05-20T01:53:16.823281Z",
     "iopub.status.idle": "2023-05-20T01:53:23.478614Z",
     "shell.execute_reply": "2023-05-20T01:53:23.477491Z"
    },
    "papermill": {
     "duration": 6.665323,
     "end_time": "2023-05-20T01:53:23.481155",
     "exception": false,
     "start_time": "2023-05-20T01:53:16.815832",
     "status": "completed"
    },
    "tags": []
   },
   "outputs": [],
   "source": [
    "# Create a ZipFile Object and load sample.zip in it\n",
    "with ZipFile('../input/oxford-102-flower-pytorch/flower_data.zip', 'r') as zipObj:\n",
    "   # Extract all the contents of zip file in current directory\n",
    "   zipObj.extractall()"
   ]
  },
  {
   "cell_type": "markdown",
   "id": "7f336c53",
   "metadata": {
    "papermill": {
     "duration": 0.005988,
     "end_time": "2023-05-20T01:53:23.493745",
     "exception": false,
     "start_time": "2023-05-20T01:53:23.487757",
     "status": "completed"
    },
    "tags": []
   },
   "source": [
    "### Create Directories and Extract Background Data"
   ]
  },
  {
   "cell_type": "code",
   "execution_count": 4,
   "id": "27b90c70",
   "metadata": {
    "_cell_guid": "b1076dfc-b9ad-4769-8c92-a6c4dae69d19",
    "_uuid": "8f2839f25d086af736a60e9eeb907d3b93b6e0e5",
    "execution": {
     "iopub.execute_input": "2023-05-20T01:53:23.507722Z",
     "iopub.status.busy": "2023-05-20T01:53:23.506869Z",
     "iopub.status.idle": "2023-05-20T01:53:25.423539Z",
     "shell.execute_reply": "2023-05-20T01:53:25.422512Z"
    },
    "papermill": {
     "duration": 1.926261,
     "end_time": "2023-05-20T01:53:25.426109",
     "exception": false,
     "start_time": "2023-05-20T01:53:23.499848",
     "status": "completed"
    },
    "tags": []
   },
   "outputs": [],
   "source": [
    "Num_class=102\n",
    "folderlocation = './flower_data/'\n",
    "\n",
    "def create_dir(folderlocation):\n",
    "    if not os.path.exists(folderlocation):\n",
    "        os.mkdir(folderlocation)\n",
    "    \n",
    "create_dir(folderlocation)\n",
    "for iterf in ['train/', 'valid/']:\n",
    "    create_dir(folderlocation + iterf)\n",
    "    for iter1 in range(1,Num_class): \n",
    "        create_dir(folderlocation + iterf + str(iter1)) \n",
    "for iterf in ['train/', 'valid/']:\n",
    "    create_dir(folderlocation + iterf + str(999)) \n",
    "\n",
    "create_dir('./Background/')\n",
    "with zipfile.ZipFile('/kaggle/input/background-image-data/Background_data.zip', 'r') as zip_ref:\n",
    "    zip_ref.extractall('./Background/')"
   ]
  },
  {
   "cell_type": "code",
   "execution_count": 5,
   "id": "919d0a39",
   "metadata": {
    "execution": {
     "iopub.execute_input": "2023-05-20T01:53:25.441944Z",
     "iopub.status.busy": "2023-05-20T01:53:25.440380Z",
     "iopub.status.idle": "2023-05-20T01:53:25.459722Z",
     "shell.execute_reply": "2023-05-20T01:53:25.458399Z"
    },
    "papermill": {
     "duration": 0.029098,
     "end_time": "2023-05-20T01:53:25.461955",
     "exception": false,
     "start_time": "2023-05-20T01:53:25.432857",
     "status": "completed"
    },
    "tags": []
   },
   "outputs": [
    {
     "name": "stdout",
     "output_type": "stream",
     "text": [
      "Image count without Background Class: 6552\n"
     ]
    }
   ],
   "source": [
    "count = 0\n",
    "for root_dir, cur_dir, files in os.walk(folderlocation+'train/'):\n",
    "    count += len(files)\n",
    "print('Image count without Background Class:', count)"
   ]
  },
  {
   "cell_type": "markdown",
   "id": "426f6328",
   "metadata": {
    "papermill": {
     "duration": 0.005945,
     "end_time": "2023-05-20T01:53:25.474100",
     "exception": false,
     "start_time": "2023-05-20T01:53:25.468155",
     "status": "completed"
    },
    "tags": []
   },
   "source": [
    "### Copy Background Data to train and validation folders"
   ]
  },
  {
   "cell_type": "code",
   "execution_count": 6,
   "id": "d5f7dcc5",
   "metadata": {
    "execution": {
     "iopub.execute_input": "2023-05-20T01:53:25.487878Z",
     "iopub.status.busy": "2023-05-20T01:53:25.487437Z",
     "iopub.status.idle": "2023-05-20T01:53:25.879792Z",
     "shell.execute_reply": "2023-05-20T01:53:25.878748Z"
    },
    "papermill": {
     "duration": 0.402108,
     "end_time": "2023-05-20T01:53:25.882440",
     "exception": false,
     "start_time": "2023-05-20T01:53:25.480332",
     "status": "completed"
    },
    "tags": []
   },
   "outputs": [],
   "source": [
    "image_index = 0\n",
    "for dirpath, dirnames, filenames in os.walk('./Background/'):\n",
    "    for fname in filenames:\n",
    "        if image_index == 2000: \n",
    "            shutil.copyfile(path, folderlocation + 'valid/'+str(999)+'/'+str(image_index) + fname[-9:])\n",
    "            #break \n",
    "        path = os.path.join(dirpath,fname)\n",
    "        shutil.copyfile(path, folderlocation + 'train/'+str(999)+'/'+str(image_index) + fname[-9:])\n",
    "        image_index = image_index +1"
   ]
  },
  {
   "cell_type": "code",
   "execution_count": 7,
   "id": "89e3fb61",
   "metadata": {
    "execution": {
     "iopub.execute_input": "2023-05-20T01:53:25.897079Z",
     "iopub.status.busy": "2023-05-20T01:53:25.896245Z",
     "iopub.status.idle": "2023-05-20T01:53:25.917704Z",
     "shell.execute_reply": "2023-05-20T01:53:25.916633Z"
    },
    "papermill": {
     "duration": 0.031164,
     "end_time": "2023-05-20T01:53:25.920158",
     "exception": false,
     "start_time": "2023-05-20T01:53:25.888994",
     "status": "completed"
    },
    "tags": []
   },
   "outputs": [
    {
     "name": "stdout",
     "output_type": "stream",
     "text": [
      "Image count with Background Class: 9553\n"
     ]
    }
   ],
   "source": [
    "count = 0\n",
    "for root_dir, cur_dir, files in os.walk(folderlocation+'train/'):\n",
    "    count += len(files)\n",
    "print('Image count with Background Class:', count)"
   ]
  },
  {
   "cell_type": "markdown",
   "id": "155ed6e8",
   "metadata": {
    "papermill": {
     "duration": 0.009672,
     "end_time": "2023-05-20T01:53:25.936106",
     "exception": false,
     "start_time": "2023-05-20T01:53:25.926434",
     "status": "completed"
    },
    "tags": []
   },
   "source": [
    "### Dataloaders"
   ]
  },
  {
   "cell_type": "code",
   "execution_count": 8,
   "id": "43871fdf",
   "metadata": {
    "execution": {
     "iopub.execute_input": "2023-05-20T01:53:25.949736Z",
     "iopub.status.busy": "2023-05-20T01:53:25.949455Z",
     "iopub.status.idle": "2023-05-20T01:53:26.967741Z",
     "shell.execute_reply": "2023-05-20T01:53:26.966820Z"
    },
    "papermill": {
     "duration": 1.027848,
     "end_time": "2023-05-20T01:53:26.970178",
     "exception": false,
     "start_time": "2023-05-20T01:53:25.942330",
     "status": "completed"
    },
    "tags": []
   },
   "outputs": [
    {
     "data": {
      "image/png": "[encoded data removed]",
      "text/plain": [
       "<Figure size 432x288 with 1 Axes>"
      ]
     },
     "metadata": {
      "needs_background": "light"
     },
     "output_type": "display_data"
    }
   ],
   "source": [
    "# Data augmentation and normalization for training\n",
    "# Just normalization for validation\n",
    "\n",
    "im_dimention = 224\n",
    "\n",
    "data_transforms = {\n",
    "    'train': transforms.Compose([\n",
    "        transforms.Resize((244,244)),\n",
    "        transforms.RandomRotation(15,),\n",
    "        transforms.RandomCrop(im_dimention),\n",
    "        transforms.RandomHorizontalFlip(),\n",
    "        transforms.ToTensor(),\n",
    "        transforms.Normalize(mean=[0.507, 0.487, 0.441], std=[0.267, 0.256, 0.276])\n",
    "    ]),\n",
    "    'valid': transforms.Compose([\n",
    "        transforms.Resize((im_dimention,im_dimention)),\n",
    "        transforms.ToTensor(),\n",
    "        transforms.Normalize(mean=[0.507, 0.487, 0.441], std=[0.267, 0.256, 0.276])\n",
    "    ]),\n",
    "    'test': transforms.Compose([\n",
    "        transforms.Resize((im_dimention,im_dimention)),\n",
    "        transforms.ToTensor(),\n",
    "        transforms.Normalize(mean=[0.507, 0.487, 0.441], std=[0.267, 0.256, 0.276])\n",
    "    ]),\n",
    "}\n",
    "\n",
    "image_datasets = {x: datasets.ImageFolder(os.path.join(folderlocation, x),\n",
    "                                          data_transforms[x])\n",
    "                  for x in ['train', 'valid']}\n",
    "dataloaders = {x: torch.utils.data.DataLoader(image_datasets[x], batch_size=24,\n",
    "                                             shuffle=True, num_workers=0)\n",
    "              for x in ['train', 'valid']}\n",
    "\n",
    "\n",
    "dataset_sizes = {x: len(image_datasets[x]) for x in ['train', 'valid']}\n",
    "class_names = image_datasets['train'].classes\n",
    "\n",
    "device = torch.device(\"cuda:0\" if torch.cuda.is_available() else \"cpu\")\n",
    "\n",
    "def imshow(inp, title=None):\n",
    "    \"\"\"Imshow for Tensor.\"\"\"\n",
    "    inp = inp.numpy().transpose((1, 2, 0))\n",
    "    mean = numpy.array([0.507, 0.487, 0.441])\n",
    "    std = numpy.array([0.267, 0.256, 0.276])\n",
    "    inp = std * inp + mean\n",
    "    inp = numpy.clip(inp, 0, 1)\n",
    "    plt.imshow(inp)\n",
    "    if title is not None:\n",
    "        plt.title(title)\n",
    "    plt.pause(0.001)  # pause a bit so that plots are updated\n",
    "\n",
    "# Get a batch of training data\n",
    "inputs, classes = next(iter(dataloaders['train']))\n",
    "\n",
    "# Make a grid from batch\n",
    "out = utils.make_grid(inputs)\n",
    "\n",
    "imshow(out)"
   ]
  },
  {
   "cell_type": "markdown",
   "id": "dfca07a6",
   "metadata": {
    "papermill": {
     "duration": 0.007914,
     "end_time": "2023-05-20T01:53:26.986515",
     "exception": false,
     "start_time": "2023-05-20T01:53:26.978601",
     "status": "completed"
    },
    "tags": []
   },
   "source": [
    "### Model and Training functions"
   ]
  },
  {
   "cell_type": "code",
   "execution_count": 9,
   "id": "1fe4a52b",
   "metadata": {
    "execution": {
     "iopub.execute_input": "2023-05-20T01:53:27.004337Z",
     "iopub.status.busy": "2023-05-20T01:53:27.003999Z",
     "iopub.status.idle": "2023-05-20T01:54:04.726949Z",
     "shell.execute_reply": "2023-05-20T01:54:04.725197Z"
    },
    "papermill": {
     "duration": 37.736957,
     "end_time": "2023-05-20T01:54:04.731667",
     "exception": false,
     "start_time": "2023-05-20T01:53:26.994710",
     "status": "completed"
    },
    "tags": []
   },
   "outputs": [
    {
     "data": {
      "application/vnd.jupyter.widget-view+json": {
       "model_id": "d7c1b27820c24c949c90d4448f70b6fb",
       "version_major": 2,
       "version_minor": 0
      },
      "text/plain": [
       "Downloading:   0%|          | 0.00/1.22G [00:00<?, ?B/s]"
      ]
     },
     "metadata": {},
     "output_type": "display_data"
    }
   ],
   "source": [
    "model_ft = timm.create_model('vit_large_patch16_224', pretrained=True, num_classes=Num_class+1)\n",
    "\n",
    "def train_model(model, criterion, optimizer, scheduler, num_epochs=25):\n",
    "    since = time.time()\n",
    "\n",
    "    best_model_wts = copy.deepcopy(model.state_dict())\n",
    "    best_acc = 0.0\n",
    "\n",
    "    for epoch in range(num_epochs):\n",
    "        print('Epoch {}/{}'.format(epoch, num_epochs - 1))\n",
    "        print('-' * 10)\n",
    "\n",
    "        # Each epoch has a training and validation phase\n",
    "        for phase in ['train', 'valid']:\n",
    "          \n",
    "            if phase == 'train':\n",
    "                model.train()  # Set model to training mode\n",
    "            else:\n",
    "                model.eval()   # Set model to evaluate mode\n",
    "\n",
    "            running_loss = 0.0\n",
    "            running_corrects = 0\n",
    "\n",
    "            # Iterate over data.\n",
    "            for inputs, labels in dataloaders[phase]:\n",
    "                inputs = inputs.to(device)\n",
    "                labels = labels.to(device)\n",
    "\n",
    "                # zero the parameter gradients\n",
    "                optimizer.zero_grad()\n",
    "                \n",
    "                # track history if only in train\n",
    "                with torch.set_grad_enabled(phase == 'train'):\n",
    "                    outputs = model(inputs)\n",
    "                    _, preds = torch.max(outputs, 1)\n",
    "                    loss = criterion(outputs, labels)\n",
    "\n",
    "                    # backward + optimize only if in training phase\n",
    "                    if phase == 'train':\n",
    "                        loss.backward()\n",
    "                        optimizer.step()\n",
    "\n",
    "                # statistics\n",
    "                running_loss += loss.item() * inputs.size(0)\n",
    "                running_corrects += torch.sum(preds == labels.data)\n",
    "            if phase == 'train':\n",
    "                scheduler.step()\n",
    "\n",
    "            epoch_loss = running_loss / dataset_sizes[phase]\n",
    "            epoch_acc = running_corrects.double() / dataset_sizes[phase]\n",
    "\n",
    "            print('{} Loss: {:.4f} Acc: {:.4f}'.format(\n",
    "                phase, epoch_loss, epoch_acc))\n",
    "\n",
    "            # deep copy the model\n",
    "            if phase == 'valid' and epoch_acc > best_acc:\n",
    "                best_acc = epoch_acc\n",
    "                best_model_wts = copy.deepcopy(model.state_dict())\n",
    "        print()\n",
    "\n",
    "    time_elapsed = time.time() - since\n",
    "    print('Training complete in {:.0f}m {:.0f}s'.format(\n",
    "        time_elapsed // 60, time_elapsed % 60))\n",
    "    print('Best val Acc: {:4f}'.format(best_acc))\n",
    "\n",
    "    # load best model weights\n",
    "    model.load_state_dict(best_model_wts)\n",
    "    return model"
   ]
  },
  {
   "cell_type": "markdown",
   "id": "0ea9cf05",
   "metadata": {
    "papermill": {
     "duration": 0.016531,
     "end_time": "2023-05-20T01:54:04.767161",
     "exception": false,
     "start_time": "2023-05-20T01:54:04.750630",
     "status": "completed"
    },
    "tags": []
   },
   "source": [
    "### Training"
   ]
  },
  {
   "cell_type": "code",
   "execution_count": 10,
   "id": "094c15cc",
   "metadata": {
    "execution": {
     "iopub.execute_input": "2023-05-20T01:54:04.799222Z",
     "iopub.status.busy": "2023-05-20T01:54:04.798698Z",
     "iopub.status.idle": "2023-05-20T02:15:10.348487Z",
     "shell.execute_reply": "2023-05-20T02:15:10.346191Z"
    },
    "papermill": {
     "duration": 1265.569271,
     "end_time": "2023-05-20T02:15:10.350928",
     "exception": false,
     "start_time": "2023-05-20T01:54:04.781657",
     "status": "completed"
    },
    "tags": []
   },
   "outputs": [
    {
     "name": "stdout",
     "output_type": "stream",
     "text": [
      "Epoch 0/1\n",
      "----------\n",
      "train Loss: 0.3479 Acc: 0.9399\n",
      "valid Loss: 0.0278 Acc: 0.9976\n",
      "\n",
      "Epoch 1/1\n",
      "----------\n",
      "train Loss: 0.0112 Acc: 0.9981\n",
      "valid Loss: 0.0234 Acc: 0.9976\n",
      "\n",
      "Training complete in 21m 2s\n",
      "Best val Acc: 0.997558\n"
     ]
    }
   ],
   "source": [
    "model_ft = model_ft.to(device)\n",
    "criterion = torch.nn.CrossEntropyLoss()\n",
    "\n",
    "optimizer_ft = torch.optim.SGD(model_ft.parameters(), lr=0.0005, momentum=0.9)\n",
    "exp_lr_scheduler = torch.optim.lr_scheduler.StepLR(optimizer_ft, step_size=7, gamma=0.1)\n",
    "model_ft = train_model(model_ft, criterion, optimizer_ft, exp_lr_scheduler, num_epochs=2) "
   ]
  },
  {
   "cell_type": "markdown",
   "id": "21a35c50",
   "metadata": {
    "papermill": {
     "duration": 0.008299,
     "end_time": "2023-05-20T02:15:10.368279",
     "exception": false,
     "start_time": "2023-05-20T02:15:10.359980",
     "status": "completed"
    },
    "tags": []
   },
   "source": [
    "# Save Model"
   ]
  },
  {
   "cell_type": "code",
   "execution_count": 11,
   "id": "439a18ec",
   "metadata": {
    "execution": {
     "iopub.execute_input": "2023-05-20T02:15:10.387719Z",
     "iopub.status.busy": "2023-05-20T02:15:10.386114Z",
     "iopub.status.idle": "2023-05-20T02:15:12.247784Z",
     "shell.execute_reply": "2023-05-20T02:15:12.246803Z"
    },
    "papermill": {
     "duration": 1.873276,
     "end_time": "2023-05-20T02:15:12.249919",
     "exception": false,
     "start_time": "2023-05-20T02:15:10.376643",
     "status": "completed"
    },
    "tags": []
   },
   "outputs": [
    {
     "data": {
      "text/plain": [
       "'\\n#Guideline for loading model in future \\ndevice = torch.device(\"cuda:0\" if torch.cuda.is_available() else \"cpu\")\\nmodel = models.wide_resnet101_2(pretrained=False) \\n        #We only need the structure to transfer parameters\\n        \\nnum_ftrs = model.fc.in_features\\nmodel.fc = nn.Linear(num_ftrs, Num_class)\\n\\nmodel.load_state_dict(torch.load(PATH2, map_location=device))\\n'"
      ]
     },
     "execution_count": 11,
     "metadata": {},
     "output_type": "execute_result"
    }
   ],
   "source": [
    "PATH = \"./model_background.pt\"\n",
    "torch.save(model_ft.state_dict(), PATH)\n",
    "\n",
    "'''\n",
    "#Guideline for loading model in future \n",
    "device = torch.device(\"cuda:0\" if torch.cuda.is_available() else \"cpu\")\n",
    "model = models.wide_resnet101_2(pretrained=False) \n",
    "        #We only need the structure to transfer parameters\n",
    "        \n",
    "num_ftrs = model.fc.in_features\n",
    "model.fc = nn.Linear(num_ftrs, Num_class)\n",
    "\n",
    "model.load_state_dict(torch.load(PATH2, map_location=device))\n",
    "'''"
   ]
  },
  {
   "cell_type": "markdown",
   "id": "2f57a841",
   "metadata": {
    "papermill": {
     "duration": 0.008514,
     "end_time": "2023-05-20T02:15:12.267280",
     "exception": false,
     "start_time": "2023-05-20T02:15:12.258766",
     "status": "completed"
    },
    "tags": []
   },
   "source": [
    "# Delete Downloaded Data"
   ]
  },
  {
   "cell_type": "code",
   "execution_count": 12,
   "id": "0b4d9ebb",
   "metadata": {
    "execution": {
     "iopub.execute_input": "2023-05-20T02:15:12.287319Z",
     "iopub.status.busy": "2023-05-20T02:15:12.286401Z",
     "iopub.status.idle": "2023-05-20T02:15:12.785432Z",
     "shell.execute_reply": "2023-05-20T02:15:12.784398Z"
    },
    "papermill": {
     "duration": 0.511554,
     "end_time": "2023-05-20T02:15:12.788256",
     "exception": false,
     "start_time": "2023-05-20T02:15:12.276702",
     "status": "completed"
    },
    "tags": []
   },
   "outputs": [],
   "source": [
    "shutil.rmtree('./Background/')\n",
    "shutil.rmtree('./flower_data/')"
   ]
  }
 ],
 "metadata": {
  "kernelspec": {
   "display_name": "Python 3",
   "language": "python",
   "name": "python3"
  },
  "language_info": {
   "codemirror_mode": {
    "name": "ipython",
    "version": 3
   },
   "file_extension": ".py",
   "mimetype": "text/x-python",
   "name": "python",
   "nbconvert_exporter": "python",
   "pygments_lexer": "ipython3",
   "version": "3.7.12"
  },
  "papermill": {
   "default_parameters": {},
   "duration": 1344.950295,
   "end_time": "2023-05-20T02:15:14.524690",
   "environment_variables": {},
   "exception": null,
   "input_path": "__notebook__.ipynb",
   "output_path": "__notebook__.ipynb",
   "parameters": {},
   "start_time": "2023-05-20T01:52:49.574395",
   "version": "2.3.4"
  },
  "widgets": {
   "application/vnd.jupyter.widget-state+json": {
    "state": {
     "122a47cb4fd7418a9e4444d1ab3a7ed2": {
      "model_module": "@jupyter-widgets/controls",
      "model_module_version": "1.5.0",
      "model_name": "FloatProgressModel",
      "state": {
       "_dom_classes": [],
       "_model_module": "@jupyter-widgets/controls",
       "_model_module_version": "1.5.0",
       "_model_name": "FloatProgressModel",
       "_view_count": null,
       "_view_module": "@jupyter-widgets/controls",
       "_view_module_version": "1.5.0",
       "_view_name": "ProgressView",
       "bar_style": "success",
       "description": "",
       "description_tooltip": null,
       "layout": "IPY_MODEL_2aa75a628e314a6a8ad185ceebb9f0f5",
       "max": 1217334682.0,
       "min": 0.0,
       "orientation": "horizontal",
       "style": "IPY_MODEL_20436be5f9384b8094796186904b430d",
       "value": 1217334682.0
      }
     },
     "19b3df552ceb4efaa70560b63abb5614": {
      "model_module": "@jupyter-widgets/base",
      "model_module_version": "1.2.0",
      "model_name": "LayoutModel",
      "state": {
       "_model_module": "@jupyter-widgets/base",
       "_model_module_version": "1.2.0",
       "_model_name": "LayoutModel",
       "_view_count": null,
       "_view_module": "@jupyter-widgets/base",
       "_view_module_version": "1.2.0",
       "_view_name": "LayoutView",
       "align_content": null,
       "align_items": null,
       "align_self": null,
       "border": null,
       "bottom": null,
       "display": null,
       "flex": null,
       "flex_flow": null,
       "grid_area": null,
       "grid_auto_columns": null,
       "grid_auto_flow": null,
       "grid_auto_rows": null,
       "grid_column": null,
       "grid_gap": null,
       "grid_row": null,
       "grid_template_areas": null,
       "grid_template_columns": null,
       "grid_template_rows": null,
       "height": null,
       "justify_content": null,
       "justify_items": null,
       "left": null,
       "margin": null,
       "max_height": null,
       "max_width": null,
       "min_height": null,
       "min_width": null,
       "object_fit": null,
       "object_position": null,
       "order": null,
       "overflow": null,
       "overflow_x": null,
       "overflow_y": null,
       "padding": null,
       "right": null,
       "top": null,
       "visibility": null,
       "width": null
      }
     },
     "20436be5f9384b8094796186904b430d": {
      "model_module": "@jupyter-widgets/controls",
      "model_module_version": "1.5.0",
      "model_name": "ProgressStyleModel",
      "state": {
       "_model_module": "@jupyter-widgets/controls",
       "_model_module_version": "1.5.0",
       "_model_name": "ProgressStyleModel",
       "_view_count": null,
       "_view_module": "@jupyter-widgets/base",
       "_view_module_version": "1.2.0",
       "_view_name": "StyleView",
       "bar_color": null,
       "description_width": ""
      }
     },
     "2aa75a628e314a6a8ad185ceebb9f0f5": {
      "model_module": "@jupyter-widgets/base",
      "model_module_version": "1.2.0",
      "model_name": "LayoutModel",
      "state": {
       "_model_module": "@jupyter-widgets/base",
       "_model_module_version": "1.2.0",
       "_model_name": "LayoutModel",
       "_view_count": null,
       "_view_module": "@jupyter-widgets/base",
       "_view_module_version": "1.2.0",
       "_view_name": "LayoutView",
       "align_content": null,
       "align_items": null,
       "align_self": null,
       "border": null,
       "bottom": null,
       "display": null,
       "flex": null,
       "flex_flow": null,
       "grid_area": null,
       "grid_auto_columns": null,
       "grid_auto_flow": null,
       "grid_auto_rows": null,
       "grid_column": null,
       "grid_gap": null,
       "grid_row": null,
       "grid_template_areas": null,
       "grid_template_columns": null,
       "grid_template_rows": null,
       "height": null,
       "justify_content": null,
       "justify_items": null,
       "left": null,
       "margin": null,
       "max_height": null,
       "max_width": null,
       "min_height": null,
       "min_width": null,
       "object_fit": null,
       "object_position": null,
       "order": null,
       "overflow": null,
       "overflow_x": null,
       "overflow_y": null,
       "padding": null,
       "right": null,
       "top": null,
       "visibility": null,
       "width": null
      }
     },
     "31ef88c53b9342599d8336e8e5eaf2f1": {
      "model_module": "@jupyter-widgets/controls",
      "model_module_version": "1.5.0",
      "model_name": "HTMLModel",
      "state": {
       "_dom_classes": [],
       "_model_module": "@jupyter-widgets/controls",
       "_model_module_version": "1.5.0",
       "_model_name": "HTMLModel",
       "_view_count": null,
       "_view_module": "@jupyter-widgets/controls",
       "_view_module_version": "1.5.0",
       "_view_name": "HTMLView",
       "description": "",
       "description_tooltip": null,
       "layout": "IPY_MODEL_ad2074eab4264ba8a3afa284d81fe45d",
       "placeholder": "​",
       "style": "IPY_MODEL_54fabcb8182844dc80980cb3c9dacc9a",
       "value": "Downloading: 100%"
      }
     },
     "54fabcb8182844dc80980cb3c9dacc9a": {
      "model_module": "@jupyter-widgets/controls",
      "model_module_version": "1.5.0",
      "model_name": "DescriptionStyleModel",
      "state": {
       "_model_module": "@jupyter-widgets/controls",
       "_model_module_version": "1.5.0",
       "_model_name": "DescriptionStyleModel",
       "_view_count": null,
       "_view_module": "@jupyter-widgets/base",
       "_view_module_version": "1.2.0",
       "_view_name": "StyleView",
       "description_width": ""
      }
     },
     "ad2074eab4264ba8a3afa284d81fe45d": {
      "model_module": "@jupyter-widgets/base",
      "model_module_version": "1.2.0",
      "model_name": "LayoutModel",
      "state": {
       "_model_module": "@jupyter-widgets/base",
       "_model_module_version": "1.2.0",
       "_model_name": "LayoutModel",
       "_view_count": null,
       "_view_module": "@jupyter-widgets/base",
       "_view_module_version": "1.2.0",
       "_view_name": "LayoutView",
       "align_content": null,
       "align_items": null,
       "align_self": null,
       "border": null,
       "bottom": null,
       "display": null,
       "flex": null,
       "flex_flow": null,
       "grid_area": null,
       "grid_auto_columns": null,
       "grid_auto_flow": null,
       "grid_auto_rows": null,
       "grid_column": null,
       "grid_gap": null,
       "grid_row": null,
       "grid_template_areas": null,
       "grid_template_columns": null,
       "grid_template_rows": null,
       "height": null,
       "justify_content": null,
       "justify_items": null,
       "left": null,
       "margin": null,
       "max_height": null,
       "max_width": null,
       "min_height": null,
       "min_width": null,
       "object_fit": null,
       "object_position": null,
       "order": null,
       "overflow": null,
       "overflow_x": null,
       "overflow_y": null,
       "padding": null,
       "right": null,
       "top": null,
       "visibility": null,
       "width": null
      }
     },
     "b8a73b22387349cbb436f5331d55de16": {
      "model_module": "@jupyter-widgets/base",
      "model_module_version": "1.2.0",
      "model_name": "LayoutModel",
      "state": {
       "_model_module": "@jupyter-widgets/base",
       "_model_module_version": "1.2.0",
       "_model_name": "LayoutModel",
       "_view_count": null,
       "_view_module": "@jupyter-widgets/base",
       "_view_module_version": "1.2.0",
       "_view_name": "LayoutView",
       "align_content": null,
       "align_items": null,
       "align_self": null,
       "border": null,
       "bottom": null,
       "display": null,
       "flex": null,
       "flex_flow": null,
       "grid_area": null,
       "grid_auto_columns": null,
       "grid_auto_flow": null,
       "grid_auto_rows": null,
       "grid_column": null,
       "grid_gap": null,
       "grid_row": null,
       "grid_template_areas": null,
       "grid_template_columns": null,
       "grid_template_rows": null,
       "height": null,
       "justify_content": null,
       "justify_items": null,
       "left": null,
       "margin": null,
       "max_height": null,
       "max_width": null,
       "min_height": null,
       "min_width": null,
       "object_fit": null,
       "object_position": null,
       "order": null,
       "overflow": null,
       "overflow_x": null,
       "overflow_y": null,
       "padding": null,
       "right": null,
       "top": null,
       "visibility": null,
       "width": null
      }
     },
     "c4a2e829cfe141958ebbbe204aff7dd3": {
      "model_module": "@jupyter-widgets/controls",
      "model_module_version": "1.5.0",
      "model_name": "DescriptionStyleModel",
      "state": {
       "_model_module": "@jupyter-widgets/controls",
       "_model_module_version": "1.5.0",
       "_model_name": "DescriptionStyleModel",
       "_view_count": null,
       "_view_module": "@jupyter-widgets/base",
       "_view_module_version": "1.2.0",
       "_view_name": "StyleView",
       "description_width": ""
      }
     },
     "d7c1b27820c24c949c90d4448f70b6fb": {
      "model_module": "@jupyter-widgets/controls",
      "model_module_version": "1.5.0",
      "model_name": "HBoxModel",
      "state": {
       "_dom_classes": [],
       "_model_module": "@jupyter-widgets/controls",
       "_model_module_version": "1.5.0",
       "_model_name": "HBoxModel",
       "_view_count": null,
       "_view_module": "@jupyter-widgets/controls",
       "_view_module_version": "1.5.0",
       "_view_name": "HBoxView",
       "box_style": "",
       "children": [
        "IPY_MODEL_31ef88c53b9342599d8336e8e5eaf2f1",
        "IPY_MODEL_122a47cb4fd7418a9e4444d1ab3a7ed2",
        "IPY_MODEL_e214e53750c34dc9b603424bee183fa7"
       ],
       "layout": "IPY_MODEL_19b3df552ceb4efaa70560b63abb5614"
      }
     },
     "e214e53750c34dc9b603424bee183fa7": {
      "model_module": "@jupyter-widgets/controls",
      "model_module_version": "1.5.0",
      "model_name": "HTMLModel",
      "state": {
       "_dom_classes": [],
       "_model_module": "@jupyter-widgets/controls",
       "_model_module_version": "1.5.0",
       "_model_name": "HTMLModel",
       "_view_count": null,
       "_view_module": "@jupyter-widgets/controls",
       "_view_module_version": "1.5.0",
       "_view_name": "HTMLView",
       "description": "",
       "description_tooltip": null,
       "layout": "IPY_MODEL_b8a73b22387349cbb436f5331d55de16",
       "placeholder": "​",
       "style": "IPY_MODEL_c4a2e829cfe141958ebbbe204aff7dd3",
       "value": " 1.22G/1.22G [00:30&lt;00:00, 39.2MB/s]"
      }
     }
    },
    "version_major": 2,
    "version_minor": 0
   }
  }
 },
 "nbformat": 4,
 "nbformat_minor": 5
}
