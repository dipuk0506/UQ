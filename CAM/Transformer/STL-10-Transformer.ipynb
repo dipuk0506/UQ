{
 "cells": [
  {
   "cell_type": "markdown",
   "id": "58c20bb7",
   "metadata": {
    "papermill": {
     "duration": 0.007153,
     "end_time": "2023-05-19T00:42:18.936303",
     "exception": false,
     "start_time": "2023-05-19T00:42:18.929150",
     "status": "completed"
    },
    "tags": []
   },
   "source": [
    "## We wrote this code with the help of the following scripts\n",
    "\n",
    "https://github.com/dipuk0506/SpinalNet/blob/master/Transfer%20Learning/Pytorch_data_to_folders.py\n",
    "\n",
    "https://github.com/dipuk0506/SpinalNet/blob/master/Transfer%20Learning/Transfer_Learning_STL10.py"
   ]
  },
  {
   "cell_type": "code",
   "execution_count": 1,
   "id": "fabd30ca",
   "metadata": {
    "execution": {
     "iopub.execute_input": "2023-05-19T00:42:18.949907Z",
     "iopub.status.busy": "2023-05-19T00:42:18.949314Z",
     "iopub.status.idle": "2023-05-19T00:42:33.576983Z",
     "shell.execute_reply": "2023-05-19T00:42:33.575743Z"
    },
    "papermill": {
     "duration": 14.637822,
     "end_time": "2023-05-19T00:42:33.580152",
     "exception": false,
     "start_time": "2023-05-19T00:42:18.942330",
     "status": "completed"
    },
    "tags": []
   },
   "outputs": [
    {
     "name": "stdout",
     "output_type": "stream",
     "text": [
      "Collecting timm\r\n",
      "  Downloading timm-0.9.2-py3-none-any.whl (2.2 MB)\r\n",
      "\u001b[2K     \u001b[90m━━━━━━━━━━━━━━━━━━━━━━━━━━━━━━━━━━━━━━━━\u001b[0m \u001b[32m2.2/2.2 MB\u001b[0m \u001b[31m24.0 MB/s\u001b[0m eta \u001b[36m0:00:00\u001b[0m\r\n",
      "\u001b[?25hRequirement already satisfied: torchvision in /opt/conda/lib/python3.7/site-packages (from timm) (0.12.0)\r\n",
      "Requirement already satisfied: huggingface-hub in /opt/conda/lib/python3.7/site-packages (from timm) (0.10.1)\r\n",
      "Requirement already satisfied: pyyaml in /opt/conda/lib/python3.7/site-packages (from timm) (6.0)\r\n",
      "Requirement already satisfied: torch>=1.7 in /opt/conda/lib/python3.7/site-packages (from timm) (1.11.0)\r\n",
      "Collecting safetensors\r\n",
      "  Downloading safetensors-0.3.1-cp37-cp37m-manylinux_2_17_x86_64.manylinux2014_x86_64.whl (1.3 MB)\r\n",
      "\u001b[2K     \u001b[90m━━━━━━━━━━━━━━━━━━━━━━━━━━━━━━━━━━━━━━━━\u001b[0m \u001b[32m1.3/1.3 MB\u001b[0m \u001b[31m56.5 MB/s\u001b[0m eta \u001b[36m0:00:00\u001b[0m\r\n",
      "\u001b[?25hRequirement already satisfied: typing-extensions in /opt/conda/lib/python3.7/site-packages (from torch>=1.7->timm) (4.1.1)\r\n",
      "Requirement already satisfied: importlib-metadata in /opt/conda/lib/python3.7/site-packages (from huggingface-hub->timm) (4.13.0)\r\n",
      "Requirement already satisfied: tqdm in /opt/conda/lib/python3.7/site-packages (from huggingface-hub->timm) (4.64.0)\r\n",
      "Requirement already satisfied: packaging>=20.9 in /opt/conda/lib/python3.7/site-packages (from huggingface-hub->timm) (21.3)\r\n",
      "Requirement already satisfied: requests in /opt/conda/lib/python3.7/site-packages (from huggingface-hub->timm) (2.28.1)\r\n",
      "Requirement already satisfied: filelock in /opt/conda/lib/python3.7/site-packages (from huggingface-hub->timm) (3.7.1)\r\n",
      "Requirement already satisfied: numpy in /opt/conda/lib/python3.7/site-packages (from torchvision->timm) (1.21.6)\r\n",
      "Requirement already satisfied: pillow!=8.3.*,>=5.3.0 in /opt/conda/lib/python3.7/site-packages (from torchvision->timm) (9.1.1)\r\n",
      "Requirement already satisfied: pyparsing!=3.0.5,>=2.0.2 in /opt/conda/lib/python3.7/site-packages (from packaging>=20.9->huggingface-hub->timm) (3.0.9)\r\n",
      "Requirement already satisfied: zipp>=0.5 in /opt/conda/lib/python3.7/site-packages (from importlib-metadata->huggingface-hub->timm) (3.8.0)\r\n",
      "Requirement already satisfied: charset-normalizer<3,>=2 in /opt/conda/lib/python3.7/site-packages (from requests->huggingface-hub->timm) (2.1.0)\r\n",
      "Requirement already satisfied: idna<4,>=2.5 in /opt/conda/lib/python3.7/site-packages (from requests->huggingface-hub->timm) (3.3)\r\n",
      "Requirement already satisfied: certifi>=2017.4.17 in /opt/conda/lib/python3.7/site-packages (from requests->huggingface-hub->timm) (2022.9.24)\r\n",
      "Requirement already satisfied: urllib3<1.27,>=1.21.1 in /opt/conda/lib/python3.7/site-packages (from requests->huggingface-hub->timm) (1.26.12)\r\n",
      "Installing collected packages: safetensors, timm\r\n",
      "Successfully installed safetensors-0.3.1 timm-0.9.2\r\n",
      "\u001b[33mWARNING: Running pip as the 'root' user can result in broken permissions and conflicting behaviour with the system package manager. It is recommended to use a virtual environment instead: https://pip.pypa.io/warnings/venv\u001b[0m\u001b[33m\r\n",
      "\u001b[0m"
     ]
    }
   ],
   "source": [
    "! pip install timm"
   ]
  },
  {
   "cell_type": "code",
   "execution_count": 2,
   "id": "873fc7c8",
   "metadata": {
    "execution": {
     "iopub.execute_input": "2023-05-19T00:42:33.595835Z",
     "iopub.status.busy": "2023-05-19T00:42:33.595488Z",
     "iopub.status.idle": "2023-05-19T00:42:37.712876Z",
     "shell.execute_reply": "2023-05-19T00:42:37.711668Z"
    },
    "papermill": {
     "duration": 4.128283,
     "end_time": "2023-05-19T00:42:37.715517",
     "exception": false,
     "start_time": "2023-05-19T00:42:33.587234",
     "status": "completed"
    },
    "tags": []
   },
   "outputs": [],
   "source": [
    "import torch, time, os, copy, random, imageio, os, shutil, numpy, zipfile,timm\n",
    "import matplotlib.pyplot as plt, pandas as pd, seaborn as sn, torch.nn as nn\n",
    "from torchvision import datasets, models, transforms, utils\n",
    "from sklearn.metrics import confusion_matrix"
   ]
  },
  {
   "cell_type": "markdown",
   "id": "eef43801",
   "metadata": {
    "papermill": {
     "duration": 0.006532,
     "end_time": "2023-05-19T00:42:37.729203",
     "exception": false,
     "start_time": "2023-05-19T00:42:37.722671",
     "status": "completed"
    },
    "tags": []
   },
   "source": [
    "### Create Directories and Extract Background Data"
   ]
  },
  {
   "cell_type": "code",
   "execution_count": 3,
   "id": "56298bee",
   "metadata": {
    "_cell_guid": "b1076dfc-b9ad-4769-8c92-a6c4dae69d19",
    "_uuid": "8f2839f25d086af736a60e9eeb907d3b93b6e0e5",
    "execution": {
     "iopub.execute_input": "2023-05-19T00:42:37.745102Z",
     "iopub.status.busy": "2023-05-19T00:42:37.744057Z",
     "iopub.status.idle": "2023-05-19T00:42:37.753182Z",
     "shell.execute_reply": "2023-05-19T00:42:37.752161Z"
    },
    "papermill": {
     "duration": 0.019531,
     "end_time": "2023-05-19T00:42:37.755407",
     "exception": false,
     "start_time": "2023-05-19T00:42:37.735876",
     "status": "completed"
    },
    "tags": []
   },
   "outputs": [],
   "source": [
    "Num_class=10\n",
    "folderlocation = './data/STL10/'\n",
    "\n",
    "def create_dir(folderlocation):\n",
    "    if not os.path.exists(folderlocation):\n",
    "        os.mkdir(folderlocation)\n",
    "    \n",
    "create_dir('./data/')\n",
    "create_dir(folderlocation)\n",
    "for iterf in ['train/', 'valid/', 'test/']:\n",
    "    create_dir(folderlocation + iterf)\n",
    "    for iter1 in range(Num_class): \n",
    "        create_dir(folderlocation + iterf + str(iter1)) "
   ]
  },
  {
   "cell_type": "markdown",
   "id": "c4befa28",
   "metadata": {
    "papermill": {
     "duration": 0.006652,
     "end_time": "2023-05-19T00:42:37.768702",
     "exception": false,
     "start_time": "2023-05-19T00:42:37.762050",
     "status": "completed"
    },
    "tags": []
   },
   "source": [
    "### Download STL-10 data and copy to folders"
   ]
  },
  {
   "cell_type": "code",
   "execution_count": 4,
   "id": "1f1afaf3",
   "metadata": {
    "execution": {
     "iopub.execute_input": "2023-05-19T00:42:37.785107Z",
     "iopub.status.busy": "2023-05-19T00:42:37.783501Z",
     "iopub.status.idle": "2023-05-19T00:45:25.713120Z",
     "shell.execute_reply": "2023-05-19T00:45:25.711868Z"
    },
    "papermill": {
     "duration": 167.943073,
     "end_time": "2023-05-19T00:45:25.718669",
     "exception": false,
     "start_time": "2023-05-19T00:42:37.775596",
     "status": "completed"
    },
    "tags": []
   },
   "outputs": [
    {
     "name": "stdout",
     "output_type": "stream",
     "text": [
      "Downloading http://ai.stanford.edu/~acoates/stl10/stl10_binary.tar.gz to /files/stl10_binary.tar.gz\n"
     ]
    },
    {
     "data": {
      "application/vnd.jupyter.widget-view+json": {
       "model_id": "e6494d25f8874171bfe20360e57e5714",
       "version_major": 2,
       "version_minor": 0
      },
      "text/plain": [
       "  0%|          | 0/2640397119 [00:00<?, ?it/s]"
      ]
     },
     "metadata": {},
     "output_type": "display_data"
    },
    {
     "name": "stdout",
     "output_type": "stream",
     "text": [
      "Extracting /files/stl10_binary.tar.gz to /files/\n",
      "Files already downloaded and verified\n"
     ]
    }
   ],
   "source": [
    "data_train = datasets.STL10('/files/', split='train', download=True,\n",
    "                             transform=transforms.Compose([ ]))\n",
    "        \n",
    "for iter1 in range(len(data_train)):\n",
    "    x, a = data_train[iter1] \n",
    "    if iter1%10 ==4:\n",
    "        imageio.imwrite(folderlocation + 'valid/'+str(a)+'/valid'+str(iter1)+'.png', x)\n",
    "    else:\n",
    "        imageio.imwrite(folderlocation + 'train/'+str(a)+'/train'+str(iter1)+'.png', x) \n",
    "        \n",
    "data_test = datasets.STL10('/files/', split='test', download=True,\n",
    "                             transform=transforms.Compose([ ]))\n",
    "\n",
    "for iter1 in range(len(data_test)):\n",
    "    x, a = data_test[iter1] \n",
    "    imageio.imwrite(folderlocation + 'test/'+str(a)+'/test'+str(iter1)+'.png', x)"
   ]
  },
  {
   "cell_type": "code",
   "execution_count": 5,
   "id": "70fe7445",
   "metadata": {
    "execution": {
     "iopub.execute_input": "2023-05-19T00:45:25.750916Z",
     "iopub.status.busy": "2023-05-19T00:45:25.750429Z",
     "iopub.status.idle": "2023-05-19T00:45:25.767192Z",
     "shell.execute_reply": "2023-05-19T00:45:25.766280Z"
    },
    "papermill": {
     "duration": 0.0311,
     "end_time": "2023-05-19T00:45:25.769841",
     "exception": false,
     "start_time": "2023-05-19T00:45:25.738741",
     "status": "completed"
    },
    "tags": []
   },
   "outputs": [
    {
     "name": "stdout",
     "output_type": "stream",
     "text": [
      "file count: 4500\n"
     ]
    }
   ],
   "source": [
    "count = 0\n",
    "for root_dir, cur_dir, files in os.walk('./data/STL10/train/'):\n",
    "    count += len(files)\n",
    "print('file count:', count)"
   ]
  },
  {
   "cell_type": "markdown",
   "id": "8195c682",
   "metadata": {
    "papermill": {
     "duration": 0.011683,
     "end_time": "2023-05-19T00:45:25.792409",
     "exception": false,
     "start_time": "2023-05-19T00:45:25.780726",
     "status": "completed"
    },
    "tags": []
   },
   "source": [
    "### Dataloaders"
   ]
  },
  {
   "cell_type": "code",
   "execution_count": 6,
   "id": "d2bf888d",
   "metadata": {
    "execution": {
     "iopub.execute_input": "2023-05-19T00:45:25.813978Z",
     "iopub.status.busy": "2023-05-19T00:45:25.813631Z",
     "iopub.status.idle": "2023-05-19T00:45:26.803221Z",
     "shell.execute_reply": "2023-05-19T00:45:26.802209Z"
    },
    "papermill": {
     "duration": 1.003763,
     "end_time": "2023-05-19T00:45:26.805866",
     "exception": false,
     "start_time": "2023-05-19T00:45:25.802103",
     "status": "completed"
    },
    "tags": []
   },
   "outputs": [
    {
     "data": {
      "image/png": "[encoded data removed]",
      "text/plain": [
       "<Figure size 432x288 with 1 Axes>"
      ]
     },
     "metadata": {
      "needs_background": "light"
     },
     "output_type": "display_data"
    }
   ],
   "source": [
    "# Data augmentation and normalization for training\n",
    "# Just normalization for validation\n",
    "\n",
    "im_dimention = 224\n",
    "\n",
    "data_transforms = {\n",
    "    'train': transforms.Compose([\n",
    "        transforms.Resize((244,244)),\n",
    "        transforms.RandomRotation(15,),\n",
    "        transforms.RandomCrop(im_dimention),\n",
    "        transforms.RandomHorizontalFlip(),\n",
    "        transforms.ToTensor(),\n",
    "        transforms.Normalize(mean=[0.507, 0.487, 0.441], std=[0.267, 0.256, 0.276])\n",
    "    ]),\n",
    "    'valid': transforms.Compose([\n",
    "        transforms.Resize((im_dimention,im_dimention)),\n",
    "        transforms.ToTensor(),\n",
    "        transforms.Normalize(mean=[0.507, 0.487, 0.441], std=[0.267, 0.256, 0.276])\n",
    "    ]),\n",
    "    'test': transforms.Compose([\n",
    "        transforms.Resize((im_dimention,im_dimention)),\n",
    "        transforms.ToTensor(),\n",
    "        transforms.Normalize(mean=[0.507, 0.487, 0.441], std=[0.267, 0.256, 0.276])\n",
    "    ]),\n",
    "}\n",
    "\n",
    "image_datasets = {x: datasets.ImageFolder(os.path.join(folderlocation, x),\n",
    "                                          data_transforms[x])\n",
    "                  for x in ['train', 'valid', 'test']}\n",
    "dataloaders = {x: torch.utils.data.DataLoader(image_datasets[x], batch_size=24,\n",
    "                                             shuffle=True, num_workers=0)\n",
    "              for x in ['train', 'valid']}\n",
    "\n",
    "dataloaders_test = {'test': torch.utils.data.DataLoader(image_datasets['test'], batch_size=24,\n",
    "                                             shuffle=False, num_workers=0)}\n",
    "\n",
    "dataset_sizes = {x: len(image_datasets[x]) for x in ['train', 'valid']}\n",
    "class_names = image_datasets['train'].classes\n",
    "\n",
    "device = torch.device(\"cuda:0\" if torch.cuda.is_available() else \"cpu\")\n",
    "\n",
    "def imshow(inp, title=None):\n",
    "    \"\"\"Imshow for Tensor.\"\"\"\n",
    "    inp = inp.numpy().transpose((1, 2, 0))\n",
    "    mean = numpy.array([0.507, 0.487, 0.441])\n",
    "    std = numpy.array([0.267, 0.256, 0.276])\n",
    "    inp = std * inp + mean\n",
    "    inp = numpy.clip(inp, 0, 1)\n",
    "    plt.imshow(inp)\n",
    "    if title is not None:\n",
    "        plt.title(title)\n",
    "    plt.pause(0.001)  # pause a bit so that plots are updated\n",
    "\n",
    "# Get a batch of training data\n",
    "inputs, classes = next(iter(dataloaders['train']))\n",
    "\n",
    "# Make a grid from batch\n",
    "out = utils.make_grid(inputs)\n",
    "\n",
    "imshow(out)"
   ]
  },
  {
   "cell_type": "markdown",
   "id": "08a0bdce",
   "metadata": {
    "papermill": {
     "duration": 0.008517,
     "end_time": "2023-05-19T00:45:26.823763",
     "exception": false,
     "start_time": "2023-05-19T00:45:26.815246",
     "status": "completed"
    },
    "tags": []
   },
   "source": [
    "### Model and Training functions"
   ]
  },
  {
   "cell_type": "code",
   "execution_count": 7,
   "id": "0408c1f0",
   "metadata": {
    "execution": {
     "iopub.execute_input": "2023-05-19T00:45:26.842959Z",
     "iopub.status.busy": "2023-05-19T00:45:26.842617Z",
     "iopub.status.idle": "2023-05-19T00:46:06.263132Z",
     "shell.execute_reply": "2023-05-19T00:46:06.262004Z"
    },
    "papermill": {
     "duration": 39.433266,
     "end_time": "2023-05-19T00:46:06.265781",
     "exception": false,
     "start_time": "2023-05-19T00:45:26.832515",
     "status": "completed"
    },
    "tags": []
   },
   "outputs": [
    {
     "data": {
      "application/vnd.jupyter.widget-view+json": {
       "model_id": "c85af50853b34c788b5eea5503cf7889",
       "version_major": 2,
       "version_minor": 0
      },
      "text/plain": [
       "Downloading:   0%|          | 0.00/1.22G [00:00<?, ?B/s]"
      ]
     },
     "metadata": {},
     "output_type": "display_data"
    }
   ],
   "source": [
    "model_ft = timm.create_model('vit_large_patch16_224', pretrained=True, num_classes=Num_class)\n",
    "\n",
    "\n",
    "def train_model(model, criterion, optimizer, scheduler, num_epochs=25):\n",
    "    since = time.time()\n",
    "\n",
    "    best_model_wts = copy.deepcopy(model.state_dict())\n",
    "    best_acc = 0.0\n",
    "\n",
    "    for epoch in range(num_epochs):\n",
    "        print('Epoch {}/{}'.format(epoch, num_epochs - 1))\n",
    "        print('-' * 10)\n",
    "\n",
    "        # Each epoch has a training and validation phase\n",
    "        for phase in ['train', 'valid']:\n",
    "          \n",
    "            if phase == 'train':\n",
    "                model.train()  # Set model to training mode\n",
    "            else:\n",
    "                model.eval()   # Set model to evaluate mode\n",
    "\n",
    "            running_loss = 0.0\n",
    "            running_corrects = 0\n",
    "\n",
    "            # Iterate over data.\n",
    "            for inputs, labels in dataloaders[phase]:\n",
    "                inputs = inputs.to(device)\n",
    "                labels = labels.to(device)\n",
    "\n",
    "                # zero the parameter gradients\n",
    "                optimizer.zero_grad()\n",
    "                \n",
    "                # track history if only in train\n",
    "                with torch.set_grad_enabled(phase == 'train'):\n",
    "                    outputs = model(inputs)\n",
    "                    _, preds = torch.max(outputs, 1)\n",
    "                    loss = criterion(outputs, labels)\n",
    "\n",
    "                    # backward + optimize only if in training phase\n",
    "                    if phase == 'train':\n",
    "                        loss.backward()\n",
    "                        optimizer.step()\n",
    "\n",
    "                # statistics\n",
    "                running_loss += loss.item() * inputs.size(0)\n",
    "                running_corrects += torch.sum(preds == labels.data)\n",
    "            if phase == 'train':\n",
    "                scheduler.step()\n",
    "\n",
    "            epoch_loss = running_loss / dataset_sizes[phase]\n",
    "            epoch_acc = running_corrects.double() / dataset_sizes[phase]\n",
    "\n",
    "            print('{} Loss: {:.4f} Acc: {:.4f}'.format(\n",
    "                phase, epoch_loss, epoch_acc))\n",
    "\n",
    "            # deep copy the model\n",
    "            if phase == 'valid' and epoch_acc > best_acc:\n",
    "                best_acc = epoch_acc\n",
    "                best_model_wts = copy.deepcopy(model.state_dict())\n",
    "        print()\n",
    "\n",
    "    time_elapsed = time.time() - since\n",
    "    print('Training complete in {:.0f}m {:.0f}s'.format(\n",
    "        time_elapsed // 60, time_elapsed % 60))\n",
    "    print('Best val Acc: {:4f}'.format(best_acc))\n",
    "\n",
    "    # load best model weights\n",
    "    model.load_state_dict(best_model_wts)\n",
    "    return model"
   ]
  },
  {
   "cell_type": "markdown",
   "id": "26841364",
   "metadata": {
    "papermill": {
     "duration": 0.009249,
     "end_time": "2023-05-19T00:46:06.284612",
     "exception": false,
     "start_time": "2023-05-19T00:46:06.275363",
     "status": "completed"
    },
    "tags": []
   },
   "source": [
    "### Training"
   ]
  },
  {
   "cell_type": "code",
   "execution_count": 8,
   "id": "7c2fff1b",
   "metadata": {
    "execution": {
     "iopub.execute_input": "2023-05-19T00:46:06.304811Z",
     "iopub.status.busy": "2023-05-19T00:46:06.303923Z",
     "iopub.status.idle": "2023-05-19T01:09:09.345793Z",
     "shell.execute_reply": "2023-05-19T01:09:09.344079Z"
    },
    "papermill": {
     "duration": 1383.054607,
     "end_time": "2023-05-19T01:09:09.348334",
     "exception": false,
     "start_time": "2023-05-19T00:46:06.293727",
     "status": "completed"
    },
    "tags": []
   },
   "outputs": [
    {
     "name": "stdout",
     "output_type": "stream",
     "text": [
      "Epoch 0/4\n",
      "----------\n",
      "train Loss: 0.1145 Acc: 0.9671\n",
      "valid Loss: 0.0141 Acc: 0.9920\n",
      "\n",
      "Epoch 1/4\n",
      "----------\n",
      "train Loss: 0.0068 Acc: 0.9982\n",
      "valid Loss: 0.0135 Acc: 0.9960\n",
      "\n",
      "Epoch 2/4\n",
      "----------\n",
      "train Loss: 0.0024 Acc: 0.9996\n",
      "valid Loss: 0.0126 Acc: 0.9960\n",
      "\n",
      "Epoch 3/4\n",
      "----------\n",
      "train Loss: 0.0009 Acc: 1.0000\n",
      "valid Loss: 0.0120 Acc: 0.9960\n",
      "\n",
      "Epoch 4/4\n",
      "----------\n",
      "train Loss: 0.0006 Acc: 1.0000\n",
      "valid Loss: 0.0098 Acc: 0.9960\n",
      "\n",
      "Training complete in 22m 59s\n",
      "Best val Acc: 0.996000\n"
     ]
    }
   ],
   "source": [
    "model_ft = model_ft.to(device)\n",
    "criterion = torch.nn.CrossEntropyLoss()\n",
    "\n",
    "# Observe that all parameters are being optimized\n",
    "optimizer_ft = torch.optim.SGD(model_ft.parameters(), lr=0.0005, momentum=0.9)\n",
    "\n",
    "# Decay LR by a factor of 0.1 every 7 epochs\n",
    "exp_lr_scheduler = torch.optim.lr_scheduler.StepLR(optimizer_ft, step_size=7, gamma=0.1)\n",
    "\n",
    "model_ft = train_model(model_ft, criterion, optimizer_ft, exp_lr_scheduler,\n",
    "                       num_epochs=5) # num_epochs=20 default"
   ]
  },
  {
   "cell_type": "markdown",
   "id": "2c5ba8fd",
   "metadata": {
    "papermill": {
     "duration": 0.009984,
     "end_time": "2023-05-19T01:09:09.368607",
     "exception": false,
     "start_time": "2023-05-19T01:09:09.358623",
     "status": "completed"
    },
    "tags": []
   },
   "source": [
    "### Testing"
   ]
  },
  {
   "cell_type": "code",
   "execution_count": 9,
   "id": "9065e34f",
   "metadata": {
    "execution": {
     "iopub.execute_input": "2023-05-19T01:09:09.389814Z",
     "iopub.status.busy": "2023-05-19T01:09:09.389483Z",
     "iopub.status.idle": "2023-05-19T01:11:54.495944Z",
     "shell.execute_reply": "2023-05-19T01:11:54.494908Z"
    },
    "papermill": {
     "duration": 165.120652,
     "end_time": "2023-05-19T01:11:54.499272",
     "exception": false,
     "start_time": "2023-05-19T01:09:09.378620",
     "status": "completed"
    },
    "tags": []
   },
   "outputs": [],
   "source": [
    "y_pred = []\n",
    "y_true = []\n",
    "output_all =[]\n",
    "\n",
    "# iterate over test data\n",
    "for inputs, labels in dataloaders_test['test']:\n",
    "        inputs = inputs.to(device)\n",
    "        labels = labels.to(device)\n",
    "        \n",
    "        output = model_ft(inputs) # Feed Network\n",
    "        output = (torch.max(torch.exp(output), 1)[1]).data.cpu().numpy()\n",
    "        y_pred.extend(output) # Append Predictions\n",
    "        \n",
    "        labels = labels.data.cpu().numpy()\n",
    "        y_true.extend(labels) # Save Labels"
   ]
  },
  {
   "cell_type": "markdown",
   "id": "50d0a195",
   "metadata": {
    "papermill": {
     "duration": 0.009742,
     "end_time": "2023-05-19T01:11:54.519442",
     "exception": false,
     "start_time": "2023-05-19T01:11:54.509700",
     "status": "completed"
    },
    "tags": []
   },
   "source": [
    "### Test Accuracy and Confusion Matrix"
   ]
  },
  {
   "cell_type": "code",
   "execution_count": 10,
   "id": "d4efee51",
   "metadata": {
    "execution": {
     "iopub.execute_input": "2023-05-19T01:11:54.541059Z",
     "iopub.status.busy": "2023-05-19T01:11:54.540183Z",
     "iopub.status.idle": "2023-05-19T01:11:56.245362Z",
     "shell.execute_reply": "2023-05-19T01:11:56.244310Z"
    },
    "papermill": {
     "duration": 1.718995,
     "end_time": "2023-05-19T01:11:56.248250",
     "exception": false,
     "start_time": "2023-05-19T01:11:54.529255",
     "status": "completed"
    },
    "tags": []
   },
   "outputs": [
    {
     "name": "stdout",
     "output_type": "stream",
     "text": [
      "Test Accuracy: 0.9955\n"
     ]
    },
    {
     "data": {
      "image/png": "[encoded data removed]",
      "text/plain": [
       "<Figure size 1500x900 with 2 Axes>"
      ]
     },
     "metadata": {
      "needs_background": "light"
     },
     "output_type": "display_data"
    }
   ],
   "source": [
    "test_accuracy = 0\n",
    "for iter1 in range(len(y_true)):\n",
    "    if y_true[iter1] == y_pred[iter1]:\n",
    "        test_accuracy = test_accuracy + 1\n",
    "\n",
    "print('Test Accuracy:',test_accuracy/len(y_true))\n",
    "\n",
    "# constant for classes\n",
    "classes = ('airplane', 'bird', 'car', 'cat', 'deer', 'dog', 'horse', 'monkey', 'ship', 'truck')\n",
    "\n",
    "# Build confusion matrix\n",
    "cf_matrix = confusion_matrix(y_true, y_pred)\n",
    "df_cm = pd.DataFrame(cf_matrix, index = [i for i in classes],\n",
    "                     columns = [i for i in classes])\n",
    "\n",
    "\n",
    "\n",
    "plt.figure(figsize = (10,6),dpi=150)\n",
    "plt.rcParams['font.size'] = '16'\n",
    "fig = sn.heatmap(df_cm, annot=True, fmt=\".0f\")\n",
    "plt.ylabel(\"Labels\")\n",
    "plt.xlabel(\"Predictions\")\n",
    "plt.show(fig)\n",
    "\n",
    "fig.figure.savefig('Confusion_test.pdf', bbox_inches = 'tight') "
   ]
  },
  {
   "cell_type": "markdown",
   "id": "c64a0778",
   "metadata": {
    "papermill": {
     "duration": 0.012226,
     "end_time": "2023-05-19T01:11:56.273012",
     "exception": false,
     "start_time": "2023-05-19T01:11:56.260786",
     "status": "completed"
    },
    "tags": []
   },
   "source": [
    "# Save Model"
   ]
  },
  {
   "cell_type": "code",
   "execution_count": 11,
   "id": "769ad2af",
   "metadata": {
    "execution": {
     "iopub.execute_input": "2023-05-19T01:11:56.298429Z",
     "iopub.status.busy": "2023-05-19T01:11:56.297451Z",
     "iopub.status.idle": "2023-05-19T01:11:58.260603Z",
     "shell.execute_reply": "2023-05-19T01:11:58.259478Z"
    },
    "papermill": {
     "duration": 1.978978,
     "end_time": "2023-05-19T01:11:58.263838",
     "exception": false,
     "start_time": "2023-05-19T01:11:56.284860",
     "status": "completed"
    },
    "tags": []
   },
   "outputs": [
    {
     "data": {
      "text/plain": [
       "'\\n#Guideline for loading model in future \\ndevice = torch.device(\"cuda:0\" if torch.cuda.is_available() else \"cpu\")\\nmodel = models.wide_resnet101_2(pretrained=False) \\n        #We only need the structure to transfer parameters\\n        \\nnum_ftrs = model.fc.in_features\\nmodel.fc = nn.Linear(num_ftrs, Num_class)\\n\\nmodel.load_state_dict(torch.load(PATH2, map_location=device))\\n'"
      ]
     },
     "execution_count": 11,
     "metadata": {},
     "output_type": "execute_result"
    }
   ],
   "source": [
    "PATH = \"./model.pt\"\n",
    "torch.save(model_ft.state_dict(), PATH)\n",
    "\n",
    "'''\n",
    "#Guideline for loading model in future \n",
    "device = torch.device(\"cuda:0\" if torch.cuda.is_available() else \"cpu\")\n",
    "model = models.wide_resnet101_2(pretrained=False) \n",
    "        #We only need the structure to transfer parameters\n",
    "        \n",
    "num_ftrs = model.fc.in_features\n",
    "model.fc = nn.Linear(num_ftrs, Num_class)\n",
    "\n",
    "model.load_state_dict(torch.load(PATH2, map_location=device))\n",
    "'''"
   ]
  },
  {
   "cell_type": "markdown",
   "id": "4c783225",
   "metadata": {
    "papermill": {
     "duration": 0.011511,
     "end_time": "2023-05-19T01:11:58.287565",
     "exception": false,
     "start_time": "2023-05-19T01:11:58.276054",
     "status": "completed"
    },
    "tags": []
   },
   "source": [
    "# Delete Downloaded Data"
   ]
  },
  {
   "cell_type": "code",
   "execution_count": 12,
   "id": "cc0b49ce",
   "metadata": {
    "execution": {
     "iopub.execute_input": "2023-05-19T01:11:58.312454Z",
     "iopub.status.busy": "2023-05-19T01:11:58.312149Z",
     "iopub.status.idle": "2023-05-19T01:11:58.955611Z",
     "shell.execute_reply": "2023-05-19T01:11:58.954137Z"
    },
    "papermill": {
     "duration": 0.660191,
     "end_time": "2023-05-19T01:11:58.959816",
     "exception": false,
     "start_time": "2023-05-19T01:11:58.299625",
     "status": "completed"
    },
    "tags": []
   },
   "outputs": [],
   "source": [
    "shutil.rmtree('./data/')"
   ]
  }
 ],
 "metadata": {
  "kernelspec": {
   "display_name": "Python 3",
   "language": "python",
   "name": "python3"
  },
  "language_info": {
   "codemirror_mode": {
    "name": "ipython",
    "version": 3
   },
   "file_extension": ".py",
   "mimetype": "text/x-python",
   "name": "python",
   "nbconvert_exporter": "python",
   "pygments_lexer": "ipython3",
   "version": "3.7.12"
  },
  "papermill": {
   "default_parameters": {},
   "duration": 1792.287852,
   "end_time": "2023-05-19T01:12:01.815819",
   "environment_variables": {},
   "exception": null,
   "input_path": "__notebook__.ipynb",
   "output_path": "__notebook__.ipynb",
   "parameters": {},
   "start_time": "2023-05-19T00:42:09.527967",
   "version": "2.3.4"
  },
  "widgets": {
   "application/vnd.jupyter.widget-state+json": {
    "state": {
     "0539a967c7f24d4e8b3e1c31867fb4c9": {
      "model_module": "@jupyter-widgets/base",
      "model_module_version": "1.2.0",
      "model_name": "LayoutModel",
      "state": {
       "_model_module": "@jupyter-widgets/base",
       "_model_module_version": "1.2.0",
       "_model_name": "LayoutModel",
       "_view_count": null,
       "_view_module": "@jupyter-widgets/base",
       "_view_module_version": "1.2.0",
       "_view_name": "LayoutView",
       "align_content": null,
       "align_items": null,
       "align_self": null,
       "border": null,
       "bottom": null,
       "display": null,
       "flex": null,
       "flex_flow": null,
       "grid_area": null,
       "grid_auto_columns": null,
       "grid_auto_flow": null,
       "grid_auto_rows": null,
       "grid_column": null,
       "grid_gap": null,
       "grid_row": null,
       "grid_template_areas": null,
       "grid_template_columns": null,
       "grid_template_rows": null,
       "height": null,
       "justify_content": null,
       "justify_items": null,
       "left": null,
       "margin": null,
       "max_height": null,
       "max_width": null,
       "min_height": null,
       "min_width": null,
       "object_fit": null,
       "object_position": null,
       "order": null,
       "overflow": null,
       "overflow_x": null,
       "overflow_y": null,
       "padding": null,
       "right": null,
       "top": null,
       "visibility": null,
       "width": null
      }
     },
     "0634d3ce839a44258e0c14bfac3c0b18": {
      "model_module": "@jupyter-widgets/controls",
      "model_module_version": "1.5.0",
      "model_name": "ProgressStyleModel",
      "state": {
       "_model_module": "@jupyter-widgets/controls",
       "_model_module_version": "1.5.0",
       "_model_name": "ProgressStyleModel",
       "_view_count": null,
       "_view_module": "@jupyter-widgets/base",
       "_view_module_version": "1.2.0",
       "_view_name": "StyleView",
       "bar_color": null,
       "description_width": ""
      }
     },
     "17480efb68b948afa7132d44c262bc2b": {
      "model_module": "@jupyter-widgets/controls",
      "model_module_version": "1.5.0",
      "model_name": "HTMLModel",
      "state": {
       "_dom_classes": [],
       "_model_module": "@jupyter-widgets/controls",
       "_model_module_version": "1.5.0",
       "_model_name": "HTMLModel",
       "_view_count": null,
       "_view_module": "@jupyter-widgets/controls",
       "_view_module_version": "1.5.0",
       "_view_name": "HTMLView",
       "description": "",
       "description_tooltip": null,
       "layout": "IPY_MODEL_bde6b36361444770adf89e396b26b8c6",
       "placeholder": "​",
       "style": "IPY_MODEL_fc5cf853d50d48a4bf30c81f7efd5aa7",
       "value": " 2640397312/? [01:08&lt;00:00, 39312357.25it/s]"
      }
     },
     "313b2e1664d74218b9b7344a97a2e3bc": {
      "model_module": "@jupyter-widgets/controls",
      "model_module_version": "1.5.0",
      "model_name": "HTMLModel",
      "state": {
       "_dom_classes": [],
       "_model_module": "@jupyter-widgets/controls",
       "_model_module_version": "1.5.0",
       "_model_name": "HTMLModel",
       "_view_count": null,
       "_view_module": "@jupyter-widgets/controls",
       "_view_module_version": "1.5.0",
       "_view_name": "HTMLView",
       "description": "",
       "description_tooltip": null,
       "layout": "IPY_MODEL_b8a9c3159575448297ca3e4e3ac6062e",
       "placeholder": "​",
       "style": "IPY_MODEL_ae4dc4d49f354922abdfdb880b505aff",
       "value": "Downloading: 100%"
      }
     },
     "383dfb7ba3a348968e34267f0e4afa6d": {
      "model_module": "@jupyter-widgets/controls",
      "model_module_version": "1.5.0",
      "model_name": "FloatProgressModel",
      "state": {
       "_dom_classes": [],
       "_model_module": "@jupyter-widgets/controls",
       "_model_module_version": "1.5.0",
       "_model_name": "FloatProgressModel",
       "_view_count": null,
       "_view_module": "@jupyter-widgets/controls",
       "_view_module_version": "1.5.0",
       "_view_name": "ProgressView",
       "bar_style": "success",
       "description": "",
       "description_tooltip": null,
       "layout": "IPY_MODEL_6c3c591f32de44e4b7cfb3776d8a998d",
       "max": 1217334682.0,
       "min": 0.0,
       "orientation": "horizontal",
       "style": "IPY_MODEL_0634d3ce839a44258e0c14bfac3c0b18",
       "value": 1217334682.0
      }
     },
     "6c3c591f32de44e4b7cfb3776d8a998d": {
      "model_module": "@jupyter-widgets/base",
      "model_module_version": "1.2.0",
      "model_name": "LayoutModel",
      "state": {
       "_model_module": "@jupyter-widgets/base",
       "_model_module_version": "1.2.0",
       "_model_name": "LayoutModel",
       "_view_count": null,
       "_view_module": "@jupyter-widgets/base",
       "_view_module_version": "1.2.0",
       "_view_name": "LayoutView",
       "align_content": null,
       "align_items": null,
       "align_self": null,
       "border": null,
       "bottom": null,
       "display": null,
       "flex": null,
       "flex_flow": null,
       "grid_area": null,
       "grid_auto_columns": null,
       "grid_auto_flow": null,
       "grid_auto_rows": null,
       "grid_column": null,
       "grid_gap": null,
       "grid_row": null,
       "grid_template_areas": null,
       "grid_template_columns": null,
       "grid_template_rows": null,
       "height": null,
       "justify_content": null,
       "justify_items": null,
       "left": null,
       "margin": null,
       "max_height": null,
       "max_width": null,
       "min_height": null,
       "min_width": null,
       "object_fit": null,
       "object_position": null,
       "order": null,
       "overflow": null,
       "overflow_x": null,
       "overflow_y": null,
       "padding": null,
       "right": null,
       "top": null,
       "visibility": null,
       "width": null
      }
     },
     "6df8222422b8463a800db600db654ed6": {
      "model_module": "@jupyter-widgets/controls",
      "model_module_version": "1.5.0",
      "model_name": "ProgressStyleModel",
      "state": {
       "_model_module": "@jupyter-widgets/controls",
       "_model_module_version": "1.5.0",
       "_model_name": "ProgressStyleModel",
       "_view_count": null,
       "_view_module": "@jupyter-widgets/base",
       "_view_module_version": "1.2.0",
       "_view_name": "StyleView",
       "bar_color": null,
       "description_width": ""
      }
     },
     "83e37958f8a1485d8af2e42bead14f35": {
      "model_module": "@jupyter-widgets/base",
      "model_module_version": "1.2.0",
      "model_name": "LayoutModel",
      "state": {
       "_model_module": "@jupyter-widgets/base",
       "_model_module_version": "1.2.0",
       "_model_name": "LayoutModel",
       "_view_count": null,
       "_view_module": "@jupyter-widgets/base",
       "_view_module_version": "1.2.0",
       "_view_name": "LayoutView",
       "align_content": null,
       "align_items": null,
       "align_self": null,
       "border": null,
       "bottom": null,
       "display": null,
       "flex": null,
       "flex_flow": null,
       "grid_area": null,
       "grid_auto_columns": null,
       "grid_auto_flow": null,
       "grid_auto_rows": null,
       "grid_column": null,
       "grid_gap": null,
       "grid_row": null,
       "grid_template_areas": null,
       "grid_template_columns": null,
       "grid_template_rows": null,
       "height": null,
       "justify_content": null,
       "justify_items": null,
       "left": null,
       "margin": null,
       "max_height": null,
       "max_width": null,
       "min_height": null,
       "min_width": null,
       "object_fit": null,
       "object_position": null,
       "order": null,
       "overflow": null,
       "overflow_x": null,
       "overflow_y": null,
       "padding": null,
       "right": null,
       "top": null,
       "visibility": null,
       "width": null
      }
     },
     "85b29952d7cb4ec7ac28351d28d542e8": {
      "model_module": "@jupyter-widgets/base",
      "model_module_version": "1.2.0",
      "model_name": "LayoutModel",
      "state": {
       "_model_module": "@jupyter-widgets/base",
       "_model_module_version": "1.2.0",
       "_model_name": "LayoutModel",
       "_view_count": null,
       "_view_module": "@jupyter-widgets/base",
       "_view_module_version": "1.2.0",
       "_view_name": "LayoutView",
       "align_content": null,
       "align_items": null,
       "align_self": null,
       "border": null,
       "bottom": null,
       "display": null,
       "flex": null,
       "flex_flow": null,
       "grid_area": null,
       "grid_auto_columns": null,
       "grid_auto_flow": null,
       "grid_auto_rows": null,
       "grid_column": null,
       "grid_gap": null,
       "grid_row": null,
       "grid_template_areas": null,
       "grid_template_columns": null,
       "grid_template_rows": null,
       "height": null,
       "justify_content": null,
       "justify_items": null,
       "left": null,
       "margin": null,
       "max_height": null,
       "max_width": null,
       "min_height": null,
       "min_width": null,
       "object_fit": null,
       "object_position": null,
       "order": null,
       "overflow": null,
       "overflow_x": null,
       "overflow_y": null,
       "padding": null,
       "right": null,
       "top": null,
       "visibility": null,
       "width": null
      }
     },
     "97dfb672839044638ed21b3e864b3de0": {
      "model_module": "@jupyter-widgets/base",
      "model_module_version": "1.2.0",
      "model_name": "LayoutModel",
      "state": {
       "_model_module": "@jupyter-widgets/base",
       "_model_module_version": "1.2.0",
       "_model_name": "LayoutModel",
       "_view_count": null,
       "_view_module": "@jupyter-widgets/base",
       "_view_module_version": "1.2.0",
       "_view_name": "LayoutView",
       "align_content": null,
       "align_items": null,
       "align_self": null,
       "border": null,
       "bottom": null,
       "display": null,
       "flex": null,
       "flex_flow": null,
       "grid_area": null,
       "grid_auto_columns": null,
       "grid_auto_flow": null,
       "grid_auto_rows": null,
       "grid_column": null,
       "grid_gap": null,
       "grid_row": null,
       "grid_template_areas": null,
       "grid_template_columns": null,
       "grid_template_rows": null,
       "height": null,
       "justify_content": null,
       "justify_items": null,
       "left": null,
       "margin": null,
       "max_height": null,
       "max_width": null,
       "min_height": null,
       "min_width": null,
       "object_fit": null,
       "object_position": null,
       "order": null,
       "overflow": null,
       "overflow_x": null,
       "overflow_y": null,
       "padding": null,
       "right": null,
       "top": null,
       "visibility": null,
       "width": null
      }
     },
     "9944ca74186746baa1e6cc6f2cd1e48e": {
      "model_module": "@jupyter-widgets/controls",
      "model_module_version": "1.5.0",
      "model_name": "HTMLModel",
      "state": {
       "_dom_classes": [],
       "_model_module": "@jupyter-widgets/controls",
       "_model_module_version": "1.5.0",
       "_model_name": "HTMLModel",
       "_view_count": null,
       "_view_module": "@jupyter-widgets/controls",
       "_view_module_version": "1.5.0",
       "_view_name": "HTMLView",
       "description": "",
       "description_tooltip": null,
       "layout": "IPY_MODEL_97dfb672839044638ed21b3e864b3de0",
       "placeholder": "​",
       "style": "IPY_MODEL_cd66a95be60c426ab8fe36c0677793a3",
       "value": " 1.22G/1.22G [00:32&lt;00:00, 40.6MB/s]"
      }
     },
     "9b72bb9ea3e84c2f8365afdf2663acd7": {
      "model_module": "@jupyter-widgets/controls",
      "model_module_version": "1.5.0",
      "model_name": "HTMLModel",
      "state": {
       "_dom_classes": [],
       "_model_module": "@jupyter-widgets/controls",
       "_model_module_version": "1.5.0",
       "_model_name": "HTMLModel",
       "_view_count": null,
       "_view_module": "@jupyter-widgets/controls",
       "_view_module_version": "1.5.0",
       "_view_name": "HTMLView",
       "description": "",
       "description_tooltip": null,
       "layout": "IPY_MODEL_85b29952d7cb4ec7ac28351d28d542e8",
       "placeholder": "​",
       "style": "IPY_MODEL_fb62b52535b44e98ba6557b4773ecb54",
       "value": ""
      }
     },
     "ae4dc4d49f354922abdfdb880b505aff": {
      "model_module": "@jupyter-widgets/controls",
      "model_module_version": "1.5.0",
      "model_name": "DescriptionStyleModel",
      "state": {
       "_model_module": "@jupyter-widgets/controls",
       "_model_module_version": "1.5.0",
       "_model_name": "DescriptionStyleModel",
       "_view_count": null,
       "_view_module": "@jupyter-widgets/base",
       "_view_module_version": "1.2.0",
       "_view_name": "StyleView",
       "description_width": ""
      }
     },
     "b8a9c3159575448297ca3e4e3ac6062e": {
      "model_module": "@jupyter-widgets/base",
      "model_module_version": "1.2.0",
      "model_name": "LayoutModel",
      "state": {
       "_model_module": "@jupyter-widgets/base",
       "_model_module_version": "1.2.0",
       "_model_name": "LayoutModel",
       "_view_count": null,
       "_view_module": "@jupyter-widgets/base",
       "_view_module_version": "1.2.0",
       "_view_name": "LayoutView",
       "align_content": null,
       "align_items": null,
       "align_self": null,
       "border": null,
       "bottom": null,
       "display": null,
       "flex": null,
       "flex_flow": null,
       "grid_area": null,
       "grid_auto_columns": null,
       "grid_auto_flow": null,
       "grid_auto_rows": null,
       "grid_column": null,
       "grid_gap": null,
       "grid_row": null,
       "grid_template_areas": null,
       "grid_template_columns": null,
       "grid_template_rows": null,
       "height": null,
       "justify_content": null,
       "justify_items": null,
       "left": null,
       "margin": null,
       "max_height": null,
       "max_width": null,
       "min_height": null,
       "min_width": null,
       "object_fit": null,
       "object_position": null,
       "order": null,
       "overflow": null,
       "overflow_x": null,
       "overflow_y": null,
       "padding": null,
       "right": null,
       "top": null,
       "visibility": null,
       "width": null
      }
     },
     "bde6b36361444770adf89e396b26b8c6": {
      "model_module": "@jupyter-widgets/base",
      "model_module_version": "1.2.0",
      "model_name": "LayoutModel",
      "state": {
       "_model_module": "@jupyter-widgets/base",
       "_model_module_version": "1.2.0",
       "_model_name": "LayoutModel",
       "_view_count": null,
       "_view_module": "@jupyter-widgets/base",
       "_view_module_version": "1.2.0",
       "_view_name": "LayoutView",
       "align_content": null,
       "align_items": null,
       "align_self": null,
       "border": null,
       "bottom": null,
       "display": null,
       "flex": null,
       "flex_flow": null,
       "grid_area": null,
       "grid_auto_columns": null,
       "grid_auto_flow": null,
       "grid_auto_rows": null,
       "grid_column": null,
       "grid_gap": null,
       "grid_row": null,
       "grid_template_areas": null,
       "grid_template_columns": null,
       "grid_template_rows": null,
       "height": null,
       "justify_content": null,
       "justify_items": null,
       "left": null,
       "margin": null,
       "max_height": null,
       "max_width": null,
       "min_height": null,
       "min_width": null,
       "object_fit": null,
       "object_position": null,
       "order": null,
       "overflow": null,
       "overflow_x": null,
       "overflow_y": null,
       "padding": null,
       "right": null,
       "top": null,
       "visibility": null,
       "width": null
      }
     },
     "c85af50853b34c788b5eea5503cf7889": {
      "model_module": "@jupyter-widgets/controls",
      "model_module_version": "1.5.0",
      "model_name": "HBoxModel",
      "state": {
       "_dom_classes": [],
       "_model_module": "@jupyter-widgets/controls",
       "_model_module_version": "1.5.0",
       "_model_name": "HBoxModel",
       "_view_count": null,
       "_view_module": "@jupyter-widgets/controls",
       "_view_module_version": "1.5.0",
       "_view_name": "HBoxView",
       "box_style": "",
       "children": [
        "IPY_MODEL_313b2e1664d74218b9b7344a97a2e3bc",
        "IPY_MODEL_383dfb7ba3a348968e34267f0e4afa6d",
        "IPY_MODEL_9944ca74186746baa1e6cc6f2cd1e48e"
       ],
       "layout": "IPY_MODEL_83e37958f8a1485d8af2e42bead14f35"
      }
     },
     "cb923dbffd7a41e49ea7a4ced524e0a8": {
      "model_module": "@jupyter-widgets/base",
      "model_module_version": "1.2.0",
      "model_name": "LayoutModel",
      "state": {
       "_model_module": "@jupyter-widgets/base",
       "_model_module_version": "1.2.0",
       "_model_name": "LayoutModel",
       "_view_count": null,
       "_view_module": "@jupyter-widgets/base",
       "_view_module_version": "1.2.0",
       "_view_name": "LayoutView",
       "align_content": null,
       "align_items": null,
       "align_self": null,
       "border": null,
       "bottom": null,
       "display": null,
       "flex": null,
       "flex_flow": null,
       "grid_area": null,
       "grid_auto_columns": null,
       "grid_auto_flow": null,
       "grid_auto_rows": null,
       "grid_column": null,
       "grid_gap": null,
       "grid_row": null,
       "grid_template_areas": null,
       "grid_template_columns": null,
       "grid_template_rows": null,
       "height": null,
       "justify_content": null,
       "justify_items": null,
       "left": null,
       "margin": null,
       "max_height": null,
       "max_width": null,
       "min_height": null,
       "min_width": null,
       "object_fit": null,
       "object_position": null,
       "order": null,
       "overflow": null,
       "overflow_x": null,
       "overflow_y": null,
       "padding": null,
       "right": null,
       "top": null,
       "visibility": null,
       "width": null
      }
     },
     "cd66a95be60c426ab8fe36c0677793a3": {
      "model_module": "@jupyter-widgets/controls",
      "model_module_version": "1.5.0",
      "model_name": "DescriptionStyleModel",
      "state": {
       "_model_module": "@jupyter-widgets/controls",
       "_model_module_version": "1.5.0",
       "_model_name": "DescriptionStyleModel",
       "_view_count": null,
       "_view_module": "@jupyter-widgets/base",
       "_view_module_version": "1.2.0",
       "_view_name": "StyleView",
       "description_width": ""
      }
     },
     "e6494d25f8874171bfe20360e57e5714": {
      "model_module": "@jupyter-widgets/controls",
      "model_module_version": "1.5.0",
      "model_name": "HBoxModel",
      "state": {
       "_dom_classes": [],
       "_model_module": "@jupyter-widgets/controls",
       "_model_module_version": "1.5.0",
       "_model_name": "HBoxModel",
       "_view_count": null,
       "_view_module": "@jupyter-widgets/controls",
       "_view_module_version": "1.5.0",
       "_view_name": "HBoxView",
       "box_style": "",
       "children": [
        "IPY_MODEL_9b72bb9ea3e84c2f8365afdf2663acd7",
        "IPY_MODEL_f9900cc94df649dd92a8f394927ab8ea",
        "IPY_MODEL_17480efb68b948afa7132d44c262bc2b"
       ],
       "layout": "IPY_MODEL_0539a967c7f24d4e8b3e1c31867fb4c9"
      }
     },
     "f9900cc94df649dd92a8f394927ab8ea": {
      "model_module": "@jupyter-widgets/controls",
      "model_module_version": "1.5.0",
      "model_name": "FloatProgressModel",
      "state": {
       "_dom_classes": [],
       "_model_module": "@jupyter-widgets/controls",
       "_model_module_version": "1.5.0",
       "_model_name": "FloatProgressModel",
       "_view_count": null,
       "_view_module": "@jupyter-widgets/controls",
       "_view_module_version": "1.5.0",
       "_view_name": "ProgressView",
       "bar_style": "success",
       "description": "",
       "description_tooltip": null,
       "layout": "IPY_MODEL_cb923dbffd7a41e49ea7a4ced524e0a8",
       "max": 2640397119.0,
       "min": 0.0,
       "orientation": "horizontal",
       "style": "IPY_MODEL_6df8222422b8463a800db600db654ed6",
       "value": 2640397119.0
      }
     },
     "fb62b52535b44e98ba6557b4773ecb54": {
      "model_module": "@jupyter-widgets/controls",
      "model_module_version": "1.5.0",
      "model_name": "DescriptionStyleModel",
      "state": {
       "_model_module": "@jupyter-widgets/controls",
       "_model_module_version": "1.5.0",
       "_model_name": "DescriptionStyleModel",
       "_view_count": null,
       "_view_module": "@jupyter-widgets/base",
       "_view_module_version": "1.2.0",
       "_view_name": "StyleView",
       "description_width": ""
      }
     },
     "fc5cf853d50d48a4bf30c81f7efd5aa7": {
      "model_module": "@jupyter-widgets/controls",
      "model_module_version": "1.5.0",
      "model_name": "DescriptionStyleModel",
      "state": {
       "_model_module": "@jupyter-widgets/controls",
       "_model_module_version": "1.5.0",
       "_model_name": "DescriptionStyleModel",
       "_view_count": null,
       "_view_module": "@jupyter-widgets/base",
       "_view_module_version": "1.2.0",
       "_view_name": "StyleView",
       "description_width": ""
      }
     }
    },
    "version_major": 2,
    "version_minor": 0
   }
  }
 },
 "nbformat": 4,
 "nbformat_minor": 5
}
