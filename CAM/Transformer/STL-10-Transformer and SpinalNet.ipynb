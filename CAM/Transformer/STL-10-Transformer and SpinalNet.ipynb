{
 "cells": [
  {
   "cell_type": "markdown",
   "id": "ff5c27fc",
   "metadata": {
    "papermill": {
     "duration": 0.010125,
     "end_time": "2023-05-19T11:18:05.664439",
     "exception": false,
     "start_time": "2023-05-19T11:18:05.654314",
     "status": "completed"
    },
    "tags": []
   },
   "source": [
    "## We wrote this code with the help of the following scripts\n",
    "\n",
    "https://github.com/dipuk0506/SpinalNet/blob/master/Transfer%20Learning/Pytorch_data_to_folders.py\n",
    "\n",
    "https://github.com/dipuk0506/SpinalNet/blob/master/Transfer%20Learning/Transfer_Learning_STL10.py"
   ]
  },
  {
   "cell_type": "code",
   "execution_count": 1,
   "id": "16bf103d",
   "metadata": {
    "execution": {
     "iopub.execute_input": "2023-05-19T11:18:05.685339Z",
     "iopub.status.busy": "2023-05-19T11:18:05.684779Z",
     "iopub.status.idle": "2023-05-19T11:18:19.595197Z",
     "shell.execute_reply": "2023-05-19T11:18:19.593970Z"
    },
    "papermill": {
     "duration": 13.924261,
     "end_time": "2023-05-19T11:18:19.598639",
     "exception": false,
     "start_time": "2023-05-19T11:18:05.674378",
     "status": "completed"
    },
    "tags": []
   },
   "outputs": [
    {
     "name": "stdout",
     "output_type": "stream",
     "text": [
      "Collecting timm\r\n",
      "  Downloading timm-0.9.2-py3-none-any.whl (2.2 MB)\r\n",
      "\u001b[2K     \u001b[90m━━━━━━━━━━━━━━━━━━━━━━━━━━━━━━━━━━━━━━━━\u001b[0m \u001b[32m2.2/2.2 MB\u001b[0m \u001b[31m34.4 MB/s\u001b[0m eta \u001b[36m0:00:00\u001b[0m\r\n",
      "\u001b[?25hRequirement already satisfied: torchvision in /opt/conda/lib/python3.7/site-packages (from timm) (0.12.0)\r\n",
      "Requirement already satisfied: torch>=1.7 in /opt/conda/lib/python3.7/site-packages (from timm) (1.11.0)\r\n",
      "Requirement already satisfied: pyyaml in /opt/conda/lib/python3.7/site-packages (from timm) (6.0)\r\n",
      "Collecting safetensors\r\n",
      "  Downloading safetensors-0.3.1-cp37-cp37m-manylinux_2_17_x86_64.manylinux2014_x86_64.whl (1.3 MB)\r\n",
      "\u001b[2K     \u001b[90m━━━━━━━━━━━━━━━━━━━━━━━━━━━━━━━━━━━━━━━━\u001b[0m \u001b[32m1.3/1.3 MB\u001b[0m \u001b[31m58.8 MB/s\u001b[0m eta \u001b[36m0:00:00\u001b[0m\r\n",
      "\u001b[?25hRequirement already satisfied: huggingface-hub in /opt/conda/lib/python3.7/site-packages (from timm) (0.10.1)\r\n",
      "Requirement already satisfied: typing-extensions in /opt/conda/lib/python3.7/site-packages (from torch>=1.7->timm) (4.1.1)\r\n",
      "Requirement already satisfied: requests in /opt/conda/lib/python3.7/site-packages (from huggingface-hub->timm) (2.28.1)\r\n",
      "Requirement already satisfied: tqdm in /opt/conda/lib/python3.7/site-packages (from huggingface-hub->timm) (4.64.0)\r\n",
      "Requirement already satisfied: importlib-metadata in /opt/conda/lib/python3.7/site-packages (from huggingface-hub->timm) (4.13.0)\r\n",
      "Requirement already satisfied: filelock in /opt/conda/lib/python3.7/site-packages (from huggingface-hub->timm) (3.7.1)\r\n",
      "Requirement already satisfied: packaging>=20.9 in /opt/conda/lib/python3.7/site-packages (from huggingface-hub->timm) (21.3)\r\n",
      "Requirement already satisfied: pillow!=8.3.*,>=5.3.0 in /opt/conda/lib/python3.7/site-packages (from torchvision->timm) (9.1.1)\r\n",
      "Requirement already satisfied: numpy in /opt/conda/lib/python3.7/site-packages (from torchvision->timm) (1.21.6)\r\n",
      "Requirement already satisfied: pyparsing!=3.0.5,>=2.0.2 in /opt/conda/lib/python3.7/site-packages (from packaging>=20.9->huggingface-hub->timm) (3.0.9)\r\n",
      "Requirement already satisfied: zipp>=0.5 in /opt/conda/lib/python3.7/site-packages (from importlib-metadata->huggingface-hub->timm) (3.8.0)\r\n",
      "Requirement already satisfied: charset-normalizer<3,>=2 in /opt/conda/lib/python3.7/site-packages (from requests->huggingface-hub->timm) (2.1.0)\r\n",
      "Requirement already satisfied: certifi>=2017.4.17 in /opt/conda/lib/python3.7/site-packages (from requests->huggingface-hub->timm) (2022.9.24)\r\n",
      "Requirement already satisfied: urllib3<1.27,>=1.21.1 in /opt/conda/lib/python3.7/site-packages (from requests->huggingface-hub->timm) (1.26.12)\r\n",
      "Requirement already satisfied: idna<4,>=2.5 in /opt/conda/lib/python3.7/site-packages (from requests->huggingface-hub->timm) (3.3)\r\n",
      "Installing collected packages: safetensors, timm\r\n",
      "Successfully installed safetensors-0.3.1 timm-0.9.2\r\n",
      "\u001b[33mWARNING: Running pip as the 'root' user can result in broken permissions and conflicting behaviour with the system package manager. It is recommended to use a virtual environment instead: https://pip.pypa.io/warnings/venv\u001b[0m\u001b[33m\r\n",
      "\u001b[0m"
     ]
    }
   ],
   "source": [
    "! pip install timm"
   ]
  },
  {
   "cell_type": "code",
   "execution_count": 2,
   "id": "f9bfbb08",
   "metadata": {
    "execution": {
     "iopub.execute_input": "2023-05-19T11:18:19.619013Z",
     "iopub.status.busy": "2023-05-19T11:18:19.618496Z",
     "iopub.status.idle": "2023-05-19T11:18:23.698270Z",
     "shell.execute_reply": "2023-05-19T11:18:23.697192Z"
    },
    "papermill": {
     "duration": 4.092548,
     "end_time": "2023-05-19T11:18:23.700978",
     "exception": false,
     "start_time": "2023-05-19T11:18:19.608430",
     "status": "completed"
    },
    "tags": []
   },
   "outputs": [],
   "source": [
    "import torch, time, os, copy, random, imageio, os, shutil, numpy, zipfile,timm\n",
    "import matplotlib.pyplot as plt, pandas as pd, seaborn as sn, torch.nn as nn\n",
    "from torchvision import datasets, models, transforms, utils\n",
    "from sklearn.metrics import confusion_matrix"
   ]
  },
  {
   "cell_type": "markdown",
   "id": "295dbb53",
   "metadata": {
    "papermill": {
     "duration": 0.006264,
     "end_time": "2023-05-19T11:18:23.713997",
     "exception": false,
     "start_time": "2023-05-19T11:18:23.707733",
     "status": "completed"
    },
    "tags": []
   },
   "source": [
    "### Create Directories and Extract Background Data"
   ]
  },
  {
   "cell_type": "code",
   "execution_count": 3,
   "id": "0b9eb5ba",
   "metadata": {
    "_cell_guid": "b1076dfc-b9ad-4769-8c92-a6c4dae69d19",
    "_uuid": "8f2839f25d086af736a60e9eeb907d3b93b6e0e5",
    "execution": {
     "iopub.execute_input": "2023-05-19T11:18:23.729168Z",
     "iopub.status.busy": "2023-05-19T11:18:23.727947Z",
     "iopub.status.idle": "2023-05-19T11:18:23.736667Z",
     "shell.execute_reply": "2023-05-19T11:18:23.735785Z"
    },
    "papermill": {
     "duration": 0.018418,
     "end_time": "2023-05-19T11:18:23.738809",
     "exception": false,
     "start_time": "2023-05-19T11:18:23.720391",
     "status": "completed"
    },
    "tags": []
   },
   "outputs": [],
   "source": [
    "Num_class=10\n",
    "folderlocation = './data/STL10/'\n",
    "\n",
    "def create_dir(folderlocation):\n",
    "    if not os.path.exists(folderlocation):\n",
    "        os.mkdir(folderlocation)\n",
    "    \n",
    "create_dir('./data/')\n",
    "create_dir(folderlocation)\n",
    "for iterf in ['train/', 'valid/', 'test/']:\n",
    "    create_dir(folderlocation + iterf)\n",
    "    for iter1 in range(Num_class): \n",
    "        create_dir(folderlocation + iterf + str(iter1)) "
   ]
  },
  {
   "cell_type": "markdown",
   "id": "4c0f1f79",
   "metadata": {
    "papermill": {
     "duration": 0.006196,
     "end_time": "2023-05-19T11:18:23.751413",
     "exception": false,
     "start_time": "2023-05-19T11:18:23.745217",
     "status": "completed"
    },
    "tags": []
   },
   "source": [
    "### Download STL-10 data and copy to folders"
   ]
  },
  {
   "cell_type": "code",
   "execution_count": 4,
   "id": "855346af",
   "metadata": {
    "execution": {
     "iopub.execute_input": "2023-05-19T11:18:23.765440Z",
     "iopub.status.busy": "2023-05-19T11:18:23.765151Z",
     "iopub.status.idle": "2023-05-19T11:20:42.125876Z",
     "shell.execute_reply": "2023-05-19T11:20:42.124886Z"
    },
    "papermill": {
     "duration": 138.370924,
     "end_time": "2023-05-19T11:20:42.128760",
     "exception": false,
     "start_time": "2023-05-19T11:18:23.757836",
     "status": "completed"
    },
    "tags": []
   },
   "outputs": [
    {
     "name": "stdout",
     "output_type": "stream",
     "text": [
      "Downloading http://ai.stanford.edu/~acoates/stl10/stl10_binary.tar.gz to /files/stl10_binary.tar.gz\n"
     ]
    },
    {
     "data": {
      "application/vnd.jupyter.widget-view+json": {
       "model_id": "edf4c2131df24f1aadcc6abbc8fd2288",
       "version_major": 2,
       "version_minor": 0
      },
      "text/plain": [
       "  0%|          | 0/2640397119 [00:00<?, ?it/s]"
      ]
     },
     "metadata": {},
     "output_type": "display_data"
    },
    {
     "name": "stdout",
     "output_type": "stream",
     "text": [
      "Extracting /files/stl10_binary.tar.gz to /files/\n",
      "Files already downloaded and verified\n"
     ]
    }
   ],
   "source": [
    "data_train = datasets.STL10('/files/', split='train', download=True,\n",
    "                             transform=transforms.Compose([ ]))\n",
    "        \n",
    "for iter1 in range(len(data_train)):\n",
    "    x, a = data_train[iter1] \n",
    "    if iter1%10 ==4:\n",
    "        imageio.imwrite(folderlocation + 'valid/'+str(a)+'/valid'+str(iter1)+'.png', x)\n",
    "    else:\n",
    "        imageio.imwrite(folderlocation + 'train/'+str(a)+'/train'+str(iter1)+'.png', x) \n",
    "        \n",
    "data_test = datasets.STL10('/files/', split='test', download=True,\n",
    "                             transform=transforms.Compose([ ]))\n",
    "\n",
    "for iter1 in range(len(data_test)):\n",
    "    x, a = data_test[iter1] \n",
    "    imageio.imwrite(folderlocation + 'test/'+str(a)+'/test'+str(iter1)+'.png', x)"
   ]
  },
  {
   "cell_type": "code",
   "execution_count": 5,
   "id": "9b81bb4d",
   "metadata": {
    "execution": {
     "iopub.execute_input": "2023-05-19T11:20:42.143948Z",
     "iopub.status.busy": "2023-05-19T11:20:42.143646Z",
     "iopub.status.idle": "2023-05-19T11:20:42.156426Z",
     "shell.execute_reply": "2023-05-19T11:20:42.155080Z"
    },
    "papermill": {
     "duration": 0.022784,
     "end_time": "2023-05-19T11:20:42.158653",
     "exception": false,
     "start_time": "2023-05-19T11:20:42.135869",
     "status": "completed"
    },
    "tags": []
   },
   "outputs": [
    {
     "name": "stdout",
     "output_type": "stream",
     "text": [
      "file count: 4500\n"
     ]
    }
   ],
   "source": [
    "count = 0\n",
    "for root_dir, cur_dir, files in os.walk('./data/STL10/train/'):\n",
    "    count += len(files)\n",
    "print('file count:', count)"
   ]
  },
  {
   "cell_type": "markdown",
   "id": "fd9eff90",
   "metadata": {
    "papermill": {
     "duration": 0.00653,
     "end_time": "2023-05-19T11:20:42.173085",
     "exception": false,
     "start_time": "2023-05-19T11:20:42.166555",
     "status": "completed"
    },
    "tags": []
   },
   "source": [
    "### Dataloaders"
   ]
  },
  {
   "cell_type": "code",
   "execution_count": 6,
   "id": "4bfb9d52",
   "metadata": {
    "execution": {
     "iopub.execute_input": "2023-05-19T11:20:42.187956Z",
     "iopub.status.busy": "2023-05-19T11:20:42.187683Z",
     "iopub.status.idle": "2023-05-19T11:20:43.124164Z",
     "shell.execute_reply": "2023-05-19T11:20:43.123240Z"
    },
    "papermill": {
     "duration": 0.946721,
     "end_time": "2023-05-19T11:20:43.126530",
     "exception": false,
     "start_time": "2023-05-19T11:20:42.179809",
     "status": "completed"
    },
    "tags": []
   },
   "outputs": [
    {
     "data": {
      "image/png": "[encoded data removed]",
      "text/plain": [
       "<Figure size 432x288 with 1 Axes>"
      ]
     },
     "metadata": {
      "needs_background": "light"
     },
     "output_type": "display_data"
    }
   ],
   "source": [
    "# Data augmentation and normalization for training\n",
    "# Just normalization for validation\n",
    "\n",
    "im_dimention = 224\n",
    "\n",
    "data_transforms = {\n",
    "    'train': transforms.Compose([\n",
    "        transforms.Resize((244,244)),\n",
    "        transforms.RandomRotation(15,),\n",
    "        transforms.RandomCrop(im_dimention),\n",
    "        transforms.RandomHorizontalFlip(),\n",
    "        transforms.ToTensor(),\n",
    "        transforms.Normalize(mean=[0.507, 0.487, 0.441], std=[0.267, 0.256, 0.276])\n",
    "    ]),\n",
    "    'valid': transforms.Compose([\n",
    "        transforms.Resize((im_dimention,im_dimention)),\n",
    "        transforms.ToTensor(),\n",
    "        transforms.Normalize(mean=[0.507, 0.487, 0.441], std=[0.267, 0.256, 0.276])\n",
    "    ]),\n",
    "    'test': transforms.Compose([\n",
    "        transforms.Resize((im_dimention,im_dimention)),\n",
    "        transforms.ToTensor(),\n",
    "        transforms.Normalize(mean=[0.507, 0.487, 0.441], std=[0.267, 0.256, 0.276])\n",
    "    ]),\n",
    "}\n",
    "\n",
    "image_datasets = {x: datasets.ImageFolder(os.path.join(folderlocation, x),\n",
    "                                          data_transforms[x])\n",
    "                  for x in ['train', 'valid', 'test']}\n",
    "dataloaders = {x: torch.utils.data.DataLoader(image_datasets[x], batch_size=24,\n",
    "                                             shuffle=True, num_workers=0)\n",
    "              for x in ['train', 'valid']}\n",
    "\n",
    "dataloaders_test = {'test': torch.utils.data.DataLoader(image_datasets['test'], batch_size=24,\n",
    "                                             shuffle=False, num_workers=0)}\n",
    "\n",
    "dataset_sizes = {x: len(image_datasets[x]) for x in ['train', 'valid']}\n",
    "class_names = image_datasets['train'].classes\n",
    "\n",
    "device = torch.device(\"cuda:0\" if torch.cuda.is_available() else \"cpu\")\n",
    "\n",
    "def imshow(inp, title=None):\n",
    "    \"\"\"Imshow for Tensor.\"\"\"\n",
    "    inp = inp.numpy().transpose((1, 2, 0))\n",
    "    mean = numpy.array([0.507, 0.487, 0.441])\n",
    "    std = numpy.array([0.267, 0.256, 0.276])\n",
    "    inp = std * inp + mean\n",
    "    inp = numpy.clip(inp, 0, 1)\n",
    "    plt.imshow(inp)\n",
    "    if title is not None:\n",
    "        plt.title(title)\n",
    "    plt.pause(0.001)  # pause a bit so that plots are updated\n",
    "\n",
    "# Get a batch of training data\n",
    "inputs, classes = next(iter(dataloaders['train']))\n",
    "\n",
    "# Make a grid from batch\n",
    "out = utils.make_grid(inputs)\n",
    "\n",
    "imshow(out)"
   ]
  },
  {
   "cell_type": "markdown",
   "id": "06903545",
   "metadata": {
    "papermill": {
     "duration": 0.008189,
     "end_time": "2023-05-19T11:20:43.143409",
     "exception": false,
     "start_time": "2023-05-19T11:20:43.135220",
     "status": "completed"
    },
    "tags": []
   },
   "source": [
    "### Model and Training functions"
   ]
  },
  {
   "cell_type": "code",
   "execution_count": 7,
   "id": "ddc6f3a4",
   "metadata": {
    "execution": {
     "iopub.execute_input": "2023-05-19T11:20:43.161797Z",
     "iopub.status.busy": "2023-05-19T11:20:43.161445Z",
     "iopub.status.idle": "2023-05-19T11:21:20.508384Z",
     "shell.execute_reply": "2023-05-19T11:21:20.507272Z"
    },
    "papermill": {
     "duration": 37.359532,
     "end_time": "2023-05-19T11:21:20.511342",
     "exception": false,
     "start_time": "2023-05-19T11:20:43.151810",
     "status": "completed"
    },
    "tags": []
   },
   "outputs": [
    {
     "data": {
      "application/vnd.jupyter.widget-view+json": {
       "model_id": "c49834dc89c54857a287ab48ea097bc9",
       "version_major": 2,
       "version_minor": 0
      },
      "text/plain": [
       "Downloading:   0%|          | 0.00/1.22G [00:00<?, ?B/s]"
      ]
     },
     "metadata": {},
     "output_type": "display_data"
    }
   ],
   "source": [
    "layer_width = 40\n",
    "model_ft = timm.create_model('vit_large_patch16_224', pretrained=True, num_classes=Num_class)\n",
    "#models.wide_resnet101_2(pretrained=True)\n",
    "num_ftrs = model_ft.head.in_features\n",
    "half_in_size = round(num_ftrs/2)\n",
    "\n",
    "class SpinalNet(nn.Module):\n",
    "    def __init__(self):\n",
    "        super(SpinalNet, self).__init__()\n",
    "        self.fc_spinal_layer1 = nn.Sequential(\n",
    "            nn.Dropout(p = 0.5), nn.Linear(half_in_size, layer_width),\n",
    "            nn.BatchNorm1d(layer_width), nn.ReLU(inplace=True),)\n",
    "        self.fc_spinal_layer2 = nn.Sequential(\n",
    "            nn.Dropout(p = 0.5), nn.Linear(half_in_size+layer_width, layer_width),\n",
    "            nn.BatchNorm1d(layer_width), nn.ReLU(inplace=True),)\n",
    "        self.fc_spinal_layer3 = nn.Sequential(\n",
    "            nn.Dropout(p = 0.5), nn.Linear(half_in_size+layer_width, layer_width),\n",
    "            nn.BatchNorm1d(layer_width), nn.ReLU(inplace=True),)\n",
    "        self.fc_spinal_layer4 = nn.Sequential(\n",
    "            nn.Dropout(p = 0.5), nn.Linear(half_in_size+layer_width, layer_width),\n",
    "            nn.BatchNorm1d(layer_width), nn.ReLU(inplace=True),)\n",
    "        self.fc_out = nn.Sequential(\n",
    "            nn.Dropout(p = 0.5), nn.Linear(layer_width*4, Num_class+1),)\n",
    "        \n",
    "    def forward(self, x):\n",
    "        x1 = self.fc_spinal_layer1(x[:, 0:half_in_size])\n",
    "        x2 = self.fc_spinal_layer2(torch.cat([ x[:,half_in_size:2*half_in_size], x1], dim=1))\n",
    "        x3 = self.fc_spinal_layer3(torch.cat([ x[:,0:half_in_size], x2], dim=1))\n",
    "        x4 = self.fc_spinal_layer4(torch.cat([ x[:,half_in_size:2*half_in_size], x3], dim=1))\n",
    "        \n",
    "        x = torch.cat([x1, x2], dim=1)\n",
    "        x = torch.cat([x, x3], dim=1)\n",
    "        x = torch.cat([x, x4], dim=1)\n",
    "        x = self.fc_out(x)\n",
    "        return x\n",
    "\n",
    "model_ft.head = SpinalNet()\n",
    "\n",
    "def train_model(model, criterion, optimizer, scheduler, num_epochs=25):\n",
    "    since = time.time()\n",
    "\n",
    "    best_model_wts = copy.deepcopy(model.state_dict())\n",
    "    best_acc = 0.0\n",
    "\n",
    "    for epoch in range(num_epochs):\n",
    "        print('Epoch {}/{}'.format(epoch, num_epochs - 1))\n",
    "        print('-' * 10)\n",
    "\n",
    "        # Each epoch has a training and validation phase\n",
    "        for phase in ['train', 'valid']:\n",
    "          \n",
    "            if phase == 'train':\n",
    "                model.train()  # Set model to training mode\n",
    "            else:\n",
    "                model.eval()   # Set model to evaluate mode\n",
    "\n",
    "            running_loss = 0.0\n",
    "            running_corrects = 0\n",
    "\n",
    "            # Iterate over data.\n",
    "            for inputs, labels in dataloaders[phase]:\n",
    "                inputs = inputs.to(device)\n",
    "                labels = labels.to(device)\n",
    "\n",
    "                # zero the parameter gradients\n",
    "                optimizer.zero_grad()\n",
    "                \n",
    "                # track history if only in train\n",
    "                with torch.set_grad_enabled(phase == 'train'):\n",
    "                    outputs = model(inputs)\n",
    "                    _, preds = torch.max(outputs, 1)\n",
    "                    loss = criterion(outputs, labels)\n",
    "\n",
    "                    # backward + optimize only if in training phase\n",
    "                    if phase == 'train':\n",
    "                        loss.backward()\n",
    "                        optimizer.step()\n",
    "\n",
    "                # statistics\n",
    "                running_loss += loss.item() * inputs.size(0)\n",
    "                running_corrects += torch.sum(preds == labels.data)\n",
    "            if phase == 'train':\n",
    "                scheduler.step()\n",
    "\n",
    "            epoch_loss = running_loss / dataset_sizes[phase]\n",
    "            epoch_acc = running_corrects.double() / dataset_sizes[phase]\n",
    "\n",
    "            print('{} Loss: {:.4f} Acc: {:.4f}'.format(\n",
    "                phase, epoch_loss, epoch_acc))\n",
    "\n",
    "            # deep copy the model\n",
    "            if phase == 'valid' and epoch_acc > best_acc:\n",
    "                best_acc = epoch_acc\n",
    "                best_model_wts = copy.deepcopy(model.state_dict())\n",
    "        print()\n",
    "\n",
    "    time_elapsed = time.time() - since\n",
    "    print('Training complete in {:.0f}m {:.0f}s'.format(\n",
    "        time_elapsed // 60, time_elapsed % 60))\n",
    "    print('Best val Acc: {:4f}'.format(best_acc))\n",
    "\n",
    "    # load best model weights\n",
    "    model.load_state_dict(best_model_wts)\n",
    "    return model"
   ]
  },
  {
   "cell_type": "markdown",
   "id": "0f55ccd7",
   "metadata": {
    "papermill": {
     "duration": 0.0087,
     "end_time": "2023-05-19T11:21:20.529584",
     "exception": false,
     "start_time": "2023-05-19T11:21:20.520884",
     "status": "completed"
    },
    "tags": []
   },
   "source": [
    "### Training"
   ]
  },
  {
   "cell_type": "code",
   "execution_count": 8,
   "id": "4e6bde82",
   "metadata": {
    "execution": {
     "iopub.execute_input": "2023-05-19T11:21:20.548869Z",
     "iopub.status.busy": "2023-05-19T11:21:20.548491Z",
     "iopub.status.idle": "2023-05-19T11:44:22.649339Z",
     "shell.execute_reply": "2023-05-19T11:44:22.648027Z"
    },
    "papermill": {
     "duration": 1382.113287,
     "end_time": "2023-05-19T11:44:22.651815",
     "exception": false,
     "start_time": "2023-05-19T11:21:20.538528",
     "status": "completed"
    },
    "tags": []
   },
   "outputs": [
    {
     "name": "stdout",
     "output_type": "stream",
     "text": [
      "Epoch 0/4\n",
      "----------\n",
      "train Loss: 1.5444 Acc: 0.5809\n",
      "valid Loss: 0.3754 Acc: 0.9940\n",
      "\n",
      "Epoch 1/4\n",
      "----------\n",
      "train Loss: 0.3164 Acc: 0.9909\n",
      "valid Loss: 0.1044 Acc: 0.9960\n",
      "\n",
      "Epoch 2/4\n",
      "----------\n",
      "train Loss: 0.1490 Acc: 0.9964\n",
      "valid Loss: 0.0624 Acc: 0.9920\n",
      "\n",
      "Epoch 3/4\n",
      "----------\n",
      "train Loss: 0.0976 Acc: 0.9969\n",
      "valid Loss: 0.0434 Acc: 0.9940\n",
      "\n",
      "Epoch 4/4\n",
      "----------\n",
      "train Loss: 0.0714 Acc: 0.9984\n",
      "valid Loss: 0.0349 Acc: 0.9960\n",
      "\n",
      "Training complete in 22m 59s\n",
      "Best val Acc: 0.996000\n"
     ]
    }
   ],
   "source": [
    "model_ft = model_ft.to(device)\n",
    "criterion = torch.nn.CrossEntropyLoss()\n",
    "\n",
    "optimizer_ft = torch.optim.SGD(model_ft.parameters(), lr=0.0005, momentum=0.9)\n",
    "exp_lr_scheduler = torch.optim.lr_scheduler.StepLR(optimizer_ft, step_size=7, gamma=0.1)\n",
    "model_ft = train_model(model_ft, criterion, optimizer_ft, exp_lr_scheduler,\n",
    "                       num_epochs=5) "
   ]
  },
  {
   "cell_type": "markdown",
   "id": "f642dcf9",
   "metadata": {
    "papermill": {
     "duration": 0.009377,
     "end_time": "2023-05-19T11:44:22.670811",
     "exception": false,
     "start_time": "2023-05-19T11:44:22.661434",
     "status": "completed"
    },
    "tags": []
   },
   "source": [
    "### Testing by Discarding the Background Class "
   ]
  },
  {
   "cell_type": "code",
   "execution_count": 9,
   "id": "d1532f9a",
   "metadata": {
    "execution": {
     "iopub.execute_input": "2023-05-19T11:44:22.692208Z",
     "iopub.status.busy": "2023-05-19T11:44:22.690611Z",
     "iopub.status.idle": "2023-05-19T11:47:07.558696Z",
     "shell.execute_reply": "2023-05-19T11:47:07.557594Z"
    },
    "papermill": {
     "duration": 164.881887,
     "end_time": "2023-05-19T11:47:07.561933",
     "exception": false,
     "start_time": "2023-05-19T11:44:22.680046",
     "status": "completed"
    },
    "tags": []
   },
   "outputs": [],
   "source": [
    "y_pred = []\n",
    "y_true = []\n",
    "output_all =[]\n",
    "\n",
    "# iterate over test data\n",
    "for inputs, labels in dataloaders_test['test']:\n",
    "        inputs = inputs.to(device)\n",
    "        labels = labels.to(device)\n",
    "        \n",
    "        output = model_ft(inputs) # Feed Network\n",
    "        output = (torch.max(torch.exp(output), 1)[1]).data.cpu().numpy()\n",
    "        y_pred.extend(output) # Save Prediction\n",
    "        \n",
    "        labels = labels.data.cpu().numpy()\n",
    "        y_true.extend(labels) # Save Truth"
   ]
  },
  {
   "cell_type": "markdown",
   "id": "2bf99b34",
   "metadata": {
    "papermill": {
     "duration": 0.00937,
     "end_time": "2023-05-19T11:47:07.581754",
     "exception": false,
     "start_time": "2023-05-19T11:47:07.572384",
     "status": "completed"
    },
    "tags": []
   },
   "source": [
    "### Test Accuracy and Confusion Matrix"
   ]
  },
  {
   "cell_type": "code",
   "execution_count": 10,
   "id": "420074fb",
   "metadata": {
    "execution": {
     "iopub.execute_input": "2023-05-19T11:47:07.602424Z",
     "iopub.status.busy": "2023-05-19T11:47:07.602054Z",
     "iopub.status.idle": "2023-05-19T11:47:09.247050Z",
     "shell.execute_reply": "2023-05-19T11:47:09.245819Z"
    },
    "papermill": {
     "duration": 1.658553,
     "end_time": "2023-05-19T11:47:09.249934",
     "exception": false,
     "start_time": "2023-05-19T11:47:07.591381",
     "status": "completed"
    },
    "tags": []
   },
   "outputs": [
    {
     "name": "stdout",
     "output_type": "stream",
     "text": [
      "Test Accuracy: 0.996125\n"
     ]
    },
    {
     "data": {
      "image/png": "[encoded data removed]",
      "text/plain": [
       "<Figure size 1500x900 with 2 Axes>"
      ]
     },
     "metadata": {
      "needs_background": "light"
     },
     "output_type": "display_data"
    }
   ],
   "source": [
    "test_accuracy = 0\n",
    "for iter1 in range(len(y_true)):\n",
    "    if y_true[iter1] == y_pred[iter1]:\n",
    "        test_accuracy = test_accuracy + 1\n",
    "\n",
    "print('Test Accuracy:',test_accuracy/len(y_true))\n",
    "\n",
    "# constant for classes\n",
    "classes = ('airplane', 'bird', 'car', 'cat', 'deer', 'dog', 'horse', 'monkey', 'ship', 'truck')\n",
    "\n",
    "# Build confusion matrix\n",
    "cf_matrix = confusion_matrix(y_true, y_pred)\n",
    "df_cm = pd.DataFrame(cf_matrix, index = [i for i in classes],\n",
    "                     columns = [i for i in classes])\n",
    "\n",
    "\n",
    "\n",
    "plt.figure(figsize = (10,6),dpi=150)\n",
    "plt.rcParams['font.size'] = '16'\n",
    "fig = sn.heatmap(df_cm, annot=True, fmt=\".0f\")\n",
    "plt.ylabel(\"Labels\")\n",
    "plt.xlabel(\"Predictions\")\n",
    "plt.show(fig)\n",
    "\n",
    "fig.figure.savefig('Confusion_test.pdf', bbox_inches = 'tight') "
   ]
  },
  {
   "cell_type": "markdown",
   "id": "7905eccd",
   "metadata": {
    "papermill": {
     "duration": 0.010974,
     "end_time": "2023-05-19T11:47:09.272923",
     "exception": false,
     "start_time": "2023-05-19T11:47:09.261949",
     "status": "completed"
    },
    "tags": []
   },
   "source": [
    "# Save Model"
   ]
  },
  {
   "cell_type": "code",
   "execution_count": 11,
   "id": "4fad01dc",
   "metadata": {
    "execution": {
     "iopub.execute_input": "2023-05-19T11:47:09.296485Z",
     "iopub.status.busy": "2023-05-19T11:47:09.296174Z",
     "iopub.status.idle": "2023-05-19T11:47:11.217875Z",
     "shell.execute_reply": "2023-05-19T11:47:11.216887Z"
    },
    "papermill": {
     "duration": 1.936529,
     "end_time": "2023-05-19T11:47:11.220512",
     "exception": false,
     "start_time": "2023-05-19T11:47:09.283983",
     "status": "completed"
    },
    "tags": []
   },
   "outputs": [
    {
     "data": {
      "text/plain": [
       "'\\n#Guideline for loading model in future \\ndevice = torch.device(\"cuda:0\" if torch.cuda.is_available() else \"cpu\")\\nmodel = timm.create_model(\\'vit_large_patch16_224\\', pretrained=True, num_classes=Num_class)\\n        #We only need the structure to transfer parameters\\n        \\nnum_ftrs = model.head.in_features\\nmodel.head = SpinalNet()\\n\\nmodel.load_state_dict(torch.load(PATH2, map_location=device))\\n'"
      ]
     },
     "execution_count": 11,
     "metadata": {},
     "output_type": "execute_result"
    }
   ],
   "source": [
    "PATH = \"./model.pt\"\n",
    "torch.save(model_ft.state_dict(), PATH)\n",
    "\n",
    "'''\n",
    "#Guideline for loading model in future \n",
    "device = torch.device(\"cuda:0\" if torch.cuda.is_available() else \"cpu\")\n",
    "model = timm.create_model('vit_large_patch16_224', pretrained=True, num_classes=Num_class)\n",
    "        #We only need the structure to transfer parameters\n",
    "        \n",
    "num_ftrs = model.head.in_features\n",
    "model.head = SpinalNet()\n",
    "\n",
    "model.load_state_dict(torch.load(PATH2, map_location=device))\n",
    "'''"
   ]
  },
  {
   "cell_type": "markdown",
   "id": "d74d40ed",
   "metadata": {
    "papermill": {
     "duration": 0.010971,
     "end_time": "2023-05-19T11:47:11.242868",
     "exception": false,
     "start_time": "2023-05-19T11:47:11.231897",
     "status": "completed"
    },
    "tags": []
   },
   "source": [
    "# Delete Downloaded Data"
   ]
  },
  {
   "cell_type": "code",
   "execution_count": 12,
   "id": "44cfde06",
   "metadata": {
    "execution": {
     "iopub.execute_input": "2023-05-19T11:47:11.266247Z",
     "iopub.status.busy": "2023-05-19T11:47:11.265930Z",
     "iopub.status.idle": "2023-05-19T11:47:11.695836Z",
     "shell.execute_reply": "2023-05-19T11:47:11.694805Z"
    },
    "papermill": {
     "duration": 0.444953,
     "end_time": "2023-05-19T11:47:11.698844",
     "exception": false,
     "start_time": "2023-05-19T11:47:11.253891",
     "status": "completed"
    },
    "tags": []
   },
   "outputs": [],
   "source": [
    "shutil.rmtree('./data/')"
   ]
  }
 ],
 "metadata": {
  "kernelspec": {
   "display_name": "Python 3",
   "language": "python",
   "name": "python3"
  },
  "language_info": {
   "codemirror_mode": {
    "name": "ipython",
    "version": 3
   },
   "file_extension": ".py",
   "mimetype": "text/x-python",
   "name": "python",
   "nbconvert_exporter": "python",
   "pygments_lexer": "ipython3",
   "version": "3.7.12"
  },
  "papermill": {
   "default_parameters": {},
   "duration": 1757.2959,
   "end_time": "2023-05-19T11:47:13.900089",
   "environment_variables": {},
   "exception": null,
   "input_path": "__notebook__.ipynb",
   "output_path": "__notebook__.ipynb",
   "parameters": {},
   "start_time": "2023-05-19T11:17:56.604189",
   "version": "2.3.4"
  },
  "widgets": {
   "application/vnd.jupyter.widget-state+json": {
    "state": {
     "1d8e0288aefd420bb263dd274f775fa1": {
      "model_module": "@jupyter-widgets/base",
      "model_module_version": "1.2.0",
      "model_name": "LayoutModel",
      "state": {
       "_model_module": "@jupyter-widgets/base",
       "_model_module_version": "1.2.0",
       "_model_name": "LayoutModel",
       "_view_count": null,
       "_view_module": "@jupyter-widgets/base",
       "_view_module_version": "1.2.0",
       "_view_name": "LayoutView",
       "align_content": null,
       "align_items": null,
       "align_self": null,
       "border": null,
       "bottom": null,
       "display": null,
       "flex": null,
       "flex_flow": null,
       "grid_area": null,
       "grid_auto_columns": null,
       "grid_auto_flow": null,
       "grid_auto_rows": null,
       "grid_column": null,
       "grid_gap": null,
       "grid_row": null,
       "grid_template_areas": null,
       "grid_template_columns": null,
       "grid_template_rows": null,
       "height": null,
       "justify_content": null,
       "justify_items": null,
       "left": null,
       "margin": null,
       "max_height": null,
       "max_width": null,
       "min_height": null,
       "min_width": null,
       "object_fit": null,
       "object_position": null,
       "order": null,
       "overflow": null,
       "overflow_x": null,
       "overflow_y": null,
       "padding": null,
       "right": null,
       "top": null,
       "visibility": null,
       "width": null
      }
     },
     "21e92e6e1efb48989fefd41aba4852c6": {
      "model_module": "@jupyter-widgets/base",
      "model_module_version": "1.2.0",
      "model_name": "LayoutModel",
      "state": {
       "_model_module": "@jupyter-widgets/base",
       "_model_module_version": "1.2.0",
       "_model_name": "LayoutModel",
       "_view_count": null,
       "_view_module": "@jupyter-widgets/base",
       "_view_module_version": "1.2.0",
       "_view_name": "LayoutView",
       "align_content": null,
       "align_items": null,
       "align_self": null,
       "border": null,
       "bottom": null,
       "display": null,
       "flex": null,
       "flex_flow": null,
       "grid_area": null,
       "grid_auto_columns": null,
       "grid_auto_flow": null,
       "grid_auto_rows": null,
       "grid_column": null,
       "grid_gap": null,
       "grid_row": null,
       "grid_template_areas": null,
       "grid_template_columns": null,
       "grid_template_rows": null,
       "height": null,
       "justify_content": null,
       "justify_items": null,
       "left": null,
       "margin": null,
       "max_height": null,
       "max_width": null,
       "min_height": null,
       "min_width": null,
       "object_fit": null,
       "object_position": null,
       "order": null,
       "overflow": null,
       "overflow_x": null,
       "overflow_y": null,
       "padding": null,
       "right": null,
       "top": null,
       "visibility": null,
       "width": null
      }
     },
     "2a1bc2b468b04ab482b5d58919e52375": {
      "model_module": "@jupyter-widgets/controls",
      "model_module_version": "1.5.0",
      "model_name": "DescriptionStyleModel",
      "state": {
       "_model_module": "@jupyter-widgets/controls",
       "_model_module_version": "1.5.0",
       "_model_name": "DescriptionStyleModel",
       "_view_count": null,
       "_view_module": "@jupyter-widgets/base",
       "_view_module_version": "1.2.0",
       "_view_name": "StyleView",
       "description_width": ""
      }
     },
     "3ffacba32e794740b813f29fc47e94c6": {
      "model_module": "@jupyter-widgets/base",
      "model_module_version": "1.2.0",
      "model_name": "LayoutModel",
      "state": {
       "_model_module": "@jupyter-widgets/base",
       "_model_module_version": "1.2.0",
       "_model_name": "LayoutModel",
       "_view_count": null,
       "_view_module": "@jupyter-widgets/base",
       "_view_module_version": "1.2.0",
       "_view_name": "LayoutView",
       "align_content": null,
       "align_items": null,
       "align_self": null,
       "border": null,
       "bottom": null,
       "display": null,
       "flex": null,
       "flex_flow": null,
       "grid_area": null,
       "grid_auto_columns": null,
       "grid_auto_flow": null,
       "grid_auto_rows": null,
       "grid_column": null,
       "grid_gap": null,
       "grid_row": null,
       "grid_template_areas": null,
       "grid_template_columns": null,
       "grid_template_rows": null,
       "height": null,
       "justify_content": null,
       "justify_items": null,
       "left": null,
       "margin": null,
       "max_height": null,
       "max_width": null,
       "min_height": null,
       "min_width": null,
       "object_fit": null,
       "object_position": null,
       "order": null,
       "overflow": null,
       "overflow_x": null,
       "overflow_y": null,
       "padding": null,
       "right": null,
       "top": null,
       "visibility": null,
       "width": null
      }
     },
     "4ff33e26bd49475e9477d5fda82cc54f": {
      "model_module": "@jupyter-widgets/controls",
      "model_module_version": "1.5.0",
      "model_name": "FloatProgressModel",
      "state": {
       "_dom_classes": [],
       "_model_module": "@jupyter-widgets/controls",
       "_model_module_version": "1.5.0",
       "_model_name": "FloatProgressModel",
       "_view_count": null,
       "_view_module": "@jupyter-widgets/controls",
       "_view_module_version": "1.5.0",
       "_view_name": "ProgressView",
       "bar_style": "success",
       "description": "",
       "description_tooltip": null,
       "layout": "IPY_MODEL_7a846430c6b94ef9b0a1b36d52b669c7",
       "max": 2640397119.0,
       "min": 0.0,
       "orientation": "horizontal",
       "style": "IPY_MODEL_da17490712504475973836e97bc4301b",
       "value": 2640397119.0
      }
     },
     "5a8309dd36174844933f65e5f7da3951": {
      "model_module": "@jupyter-widgets/controls",
      "model_module_version": "1.5.0",
      "model_name": "HTMLModel",
      "state": {
       "_dom_classes": [],
       "_model_module": "@jupyter-widgets/controls",
       "_model_module_version": "1.5.0",
       "_model_name": "HTMLModel",
       "_view_count": null,
       "_view_module": "@jupyter-widgets/controls",
       "_view_module_version": "1.5.0",
       "_view_name": "HTMLView",
       "description": "",
       "description_tooltip": null,
       "layout": "IPY_MODEL_dabef6c1dcda48f9b7809a1a16b1b917",
       "placeholder": "​",
       "style": "IPY_MODEL_fb62927ea9b04655a2caa2df0b3b9343",
       "value": "Downloading: 100%"
      }
     },
     "5bb6443c34ae41948e9c71454026c4d3": {
      "model_module": "@jupyter-widgets/base",
      "model_module_version": "1.2.0",
      "model_name": "LayoutModel",
      "state": {
       "_model_module": "@jupyter-widgets/base",
       "_model_module_version": "1.2.0",
       "_model_name": "LayoutModel",
       "_view_count": null,
       "_view_module": "@jupyter-widgets/base",
       "_view_module_version": "1.2.0",
       "_view_name": "LayoutView",
       "align_content": null,
       "align_items": null,
       "align_self": null,
       "border": null,
       "bottom": null,
       "display": null,
       "flex": null,
       "flex_flow": null,
       "grid_area": null,
       "grid_auto_columns": null,
       "grid_auto_flow": null,
       "grid_auto_rows": null,
       "grid_column": null,
       "grid_gap": null,
       "grid_row": null,
       "grid_template_areas": null,
       "grid_template_columns": null,
       "grid_template_rows": null,
       "height": null,
       "justify_content": null,
       "justify_items": null,
       "left": null,
       "margin": null,
       "max_height": null,
       "max_width": null,
       "min_height": null,
       "min_width": null,
       "object_fit": null,
       "object_position": null,
       "order": null,
       "overflow": null,
       "overflow_x": null,
       "overflow_y": null,
       "padding": null,
       "right": null,
       "top": null,
       "visibility": null,
       "width": null
      }
     },
     "5c0850f603384f3cb638b4688d175d60": {
      "model_module": "@jupyter-widgets/controls",
      "model_module_version": "1.5.0",
      "model_name": "DescriptionStyleModel",
      "state": {
       "_model_module": "@jupyter-widgets/controls",
       "_model_module_version": "1.5.0",
       "_model_name": "DescriptionStyleModel",
       "_view_count": null,
       "_view_module": "@jupyter-widgets/base",
       "_view_module_version": "1.2.0",
       "_view_name": "StyleView",
       "description_width": ""
      }
     },
     "6095cc59317b4c50be30293a24e53547": {
      "model_module": "@jupyter-widgets/controls",
      "model_module_version": "1.5.0",
      "model_name": "DescriptionStyleModel",
      "state": {
       "_model_module": "@jupyter-widgets/controls",
       "_model_module_version": "1.5.0",
       "_model_name": "DescriptionStyleModel",
       "_view_count": null,
       "_view_module": "@jupyter-widgets/base",
       "_view_module_version": "1.2.0",
       "_view_name": "StyleView",
       "description_width": ""
      }
     },
     "7a846430c6b94ef9b0a1b36d52b669c7": {
      "model_module": "@jupyter-widgets/base",
      "model_module_version": "1.2.0",
      "model_name": "LayoutModel",
      "state": {
       "_model_module": "@jupyter-widgets/base",
       "_model_module_version": "1.2.0",
       "_model_name": "LayoutModel",
       "_view_count": null,
       "_view_module": "@jupyter-widgets/base",
       "_view_module_version": "1.2.0",
       "_view_name": "LayoutView",
       "align_content": null,
       "align_items": null,
       "align_self": null,
       "border": null,
       "bottom": null,
       "display": null,
       "flex": null,
       "flex_flow": null,
       "grid_area": null,
       "grid_auto_columns": null,
       "grid_auto_flow": null,
       "grid_auto_rows": null,
       "grid_column": null,
       "grid_gap": null,
       "grid_row": null,
       "grid_template_areas": null,
       "grid_template_columns": null,
       "grid_template_rows": null,
       "height": null,
       "justify_content": null,
       "justify_items": null,
       "left": null,
       "margin": null,
       "max_height": null,
       "max_width": null,
       "min_height": null,
       "min_width": null,
       "object_fit": null,
       "object_position": null,
       "order": null,
       "overflow": null,
       "overflow_x": null,
       "overflow_y": null,
       "padding": null,
       "right": null,
       "top": null,
       "visibility": null,
       "width": null
      }
     },
     "7cf592f8b6fb4bf6966544786f4dce49": {
      "model_module": "@jupyter-widgets/controls",
      "model_module_version": "1.5.0",
      "model_name": "HTMLModel",
      "state": {
       "_dom_classes": [],
       "_model_module": "@jupyter-widgets/controls",
       "_model_module_version": "1.5.0",
       "_model_name": "HTMLModel",
       "_view_count": null,
       "_view_module": "@jupyter-widgets/controls",
       "_view_module_version": "1.5.0",
       "_view_name": "HTMLView",
       "description": "",
       "description_tooltip": null,
       "layout": "IPY_MODEL_ea3afbc9200547069d559593248efaa9",
       "placeholder": "​",
       "style": "IPY_MODEL_2a1bc2b468b04ab482b5d58919e52375",
       "value": " 2640397312/? [00:42&lt;00:00, 54050762.28it/s]"
      }
     },
     "c49834dc89c54857a287ab48ea097bc9": {
      "model_module": "@jupyter-widgets/controls",
      "model_module_version": "1.5.0",
      "model_name": "HBoxModel",
      "state": {
       "_dom_classes": [],
       "_model_module": "@jupyter-widgets/controls",
       "_model_module_version": "1.5.0",
       "_model_name": "HBoxModel",
       "_view_count": null,
       "_view_module": "@jupyter-widgets/controls",
       "_view_module_version": "1.5.0",
       "_view_name": "HBoxView",
       "box_style": "",
       "children": [
        "IPY_MODEL_5a8309dd36174844933f65e5f7da3951",
        "IPY_MODEL_e5d323d948974ebabe1b74c2558433fb",
        "IPY_MODEL_dd386e3d9f0f45f4b5944a7c8c571ff8"
       ],
       "layout": "IPY_MODEL_3ffacba32e794740b813f29fc47e94c6"
      }
     },
     "c97be20ee77d4dd19a6793cb6f49242d": {
      "model_module": "@jupyter-widgets/controls",
      "model_module_version": "1.5.0",
      "model_name": "ProgressStyleModel",
      "state": {
       "_model_module": "@jupyter-widgets/controls",
       "_model_module_version": "1.5.0",
       "_model_name": "ProgressStyleModel",
       "_view_count": null,
       "_view_module": "@jupyter-widgets/base",
       "_view_module_version": "1.2.0",
       "_view_name": "StyleView",
       "bar_color": null,
       "description_width": ""
      }
     },
     "c984a6a90a6e4a258da60d8f0409548c": {
      "model_module": "@jupyter-widgets/controls",
      "model_module_version": "1.5.0",
      "model_name": "HTMLModel",
      "state": {
       "_dom_classes": [],
       "_model_module": "@jupyter-widgets/controls",
       "_model_module_version": "1.5.0",
       "_model_name": "HTMLModel",
       "_view_count": null,
       "_view_module": "@jupyter-widgets/controls",
       "_view_module_version": "1.5.0",
       "_view_name": "HTMLView",
       "description": "",
       "description_tooltip": null,
       "layout": "IPY_MODEL_e161f35784cd4655b4334389f1cf28a8",
       "placeholder": "​",
       "style": "IPY_MODEL_5c0850f603384f3cb638b4688d175d60",
       "value": ""
      }
     },
     "da17490712504475973836e97bc4301b": {
      "model_module": "@jupyter-widgets/controls",
      "model_module_version": "1.5.0",
      "model_name": "ProgressStyleModel",
      "state": {
       "_model_module": "@jupyter-widgets/controls",
       "_model_module_version": "1.5.0",
       "_model_name": "ProgressStyleModel",
       "_view_count": null,
       "_view_module": "@jupyter-widgets/base",
       "_view_module_version": "1.2.0",
       "_view_name": "StyleView",
       "bar_color": null,
       "description_width": ""
      }
     },
     "dabef6c1dcda48f9b7809a1a16b1b917": {
      "model_module": "@jupyter-widgets/base",
      "model_module_version": "1.2.0",
      "model_name": "LayoutModel",
      "state": {
       "_model_module": "@jupyter-widgets/base",
       "_model_module_version": "1.2.0",
       "_model_name": "LayoutModel",
       "_view_count": null,
       "_view_module": "@jupyter-widgets/base",
       "_view_module_version": "1.2.0",
       "_view_name": "LayoutView",
       "align_content": null,
       "align_items": null,
       "align_self": null,
       "border": null,
       "bottom": null,
       "display": null,
       "flex": null,
       "flex_flow": null,
       "grid_area": null,
       "grid_auto_columns": null,
       "grid_auto_flow": null,
       "grid_auto_rows": null,
       "grid_column": null,
       "grid_gap": null,
       "grid_row": null,
       "grid_template_areas": null,
       "grid_template_columns": null,
       "grid_template_rows": null,
       "height": null,
       "justify_content": null,
       "justify_items": null,
       "left": null,
       "margin": null,
       "max_height": null,
       "max_width": null,
       "min_height": null,
       "min_width": null,
       "object_fit": null,
       "object_position": null,
       "order": null,
       "overflow": null,
       "overflow_x": null,
       "overflow_y": null,
       "padding": null,
       "right": null,
       "top": null,
       "visibility": null,
       "width": null
      }
     },
     "dd386e3d9f0f45f4b5944a7c8c571ff8": {
      "model_module": "@jupyter-widgets/controls",
      "model_module_version": "1.5.0",
      "model_name": "HTMLModel",
      "state": {
       "_dom_classes": [],
       "_model_module": "@jupyter-widgets/controls",
       "_model_module_version": "1.5.0",
       "_model_name": "HTMLModel",
       "_view_count": null,
       "_view_module": "@jupyter-widgets/controls",
       "_view_module_version": "1.5.0",
       "_view_name": "HTMLView",
       "description": "",
       "description_tooltip": null,
       "layout": "IPY_MODEL_5bb6443c34ae41948e9c71454026c4d3",
       "placeholder": "​",
       "style": "IPY_MODEL_6095cc59317b4c50be30293a24e53547",
       "value": " 1.22G/1.22G [00:30&lt;00:00, 41.1MB/s]"
      }
     },
     "e161f35784cd4655b4334389f1cf28a8": {
      "model_module": "@jupyter-widgets/base",
      "model_module_version": "1.2.0",
      "model_name": "LayoutModel",
      "state": {
       "_model_module": "@jupyter-widgets/base",
       "_model_module_version": "1.2.0",
       "_model_name": "LayoutModel",
       "_view_count": null,
       "_view_module": "@jupyter-widgets/base",
       "_view_module_version": "1.2.0",
       "_view_name": "LayoutView",
       "align_content": null,
       "align_items": null,
       "align_self": null,
       "border": null,
       "bottom": null,
       "display": null,
       "flex": null,
       "flex_flow": null,
       "grid_area": null,
       "grid_auto_columns": null,
       "grid_auto_flow": null,
       "grid_auto_rows": null,
       "grid_column": null,
       "grid_gap": null,
       "grid_row": null,
       "grid_template_areas": null,
       "grid_template_columns": null,
       "grid_template_rows": null,
       "height": null,
       "justify_content": null,
       "justify_items": null,
       "left": null,
       "margin": null,
       "max_height": null,
       "max_width": null,
       "min_height": null,
       "min_width": null,
       "object_fit": null,
       "object_position": null,
       "order": null,
       "overflow": null,
       "overflow_x": null,
       "overflow_y": null,
       "padding": null,
       "right": null,
       "top": null,
       "visibility": null,
       "width": null
      }
     },
     "e5d323d948974ebabe1b74c2558433fb": {
      "model_module": "@jupyter-widgets/controls",
      "model_module_version": "1.5.0",
      "model_name": "FloatProgressModel",
      "state": {
       "_dom_classes": [],
       "_model_module": "@jupyter-widgets/controls",
       "_model_module_version": "1.5.0",
       "_model_name": "FloatProgressModel",
       "_view_count": null,
       "_view_module": "@jupyter-widgets/controls",
       "_view_module_version": "1.5.0",
       "_view_name": "ProgressView",
       "bar_style": "success",
       "description": "",
       "description_tooltip": null,
       "layout": "IPY_MODEL_1d8e0288aefd420bb263dd274f775fa1",
       "max": 1217334682.0,
       "min": 0.0,
       "orientation": "horizontal",
       "style": "IPY_MODEL_c97be20ee77d4dd19a6793cb6f49242d",
       "value": 1217334682.0
      }
     },
     "ea3afbc9200547069d559593248efaa9": {
      "model_module": "@jupyter-widgets/base",
      "model_module_version": "1.2.0",
      "model_name": "LayoutModel",
      "state": {
       "_model_module": "@jupyter-widgets/base",
       "_model_module_version": "1.2.0",
       "_model_name": "LayoutModel",
       "_view_count": null,
       "_view_module": "@jupyter-widgets/base",
       "_view_module_version": "1.2.0",
       "_view_name": "LayoutView",
       "align_content": null,
       "align_items": null,
       "align_self": null,
       "border": null,
       "bottom": null,
       "display": null,
       "flex": null,
       "flex_flow": null,
       "grid_area": null,
       "grid_auto_columns": null,
       "grid_auto_flow": null,
       "grid_auto_rows": null,
       "grid_column": null,
       "grid_gap": null,
       "grid_row": null,
       "grid_template_areas": null,
       "grid_template_columns": null,
       "grid_template_rows": null,
       "height": null,
       "justify_content": null,
       "justify_items": null,
       "left": null,
       "margin": null,
       "max_height": null,
       "max_width": null,
       "min_height": null,
       "min_width": null,
       "object_fit": null,
       "object_position": null,
       "order": null,
       "overflow": null,
       "overflow_x": null,
       "overflow_y": null,
       "padding": null,
       "right": null,
       "top": null,
       "visibility": null,
       "width": null
      }
     },
     "edf4c2131df24f1aadcc6abbc8fd2288": {
      "model_module": "@jupyter-widgets/controls",
      "model_module_version": "1.5.0",
      "model_name": "HBoxModel",
      "state": {
       "_dom_classes": [],
       "_model_module": "@jupyter-widgets/controls",
       "_model_module_version": "1.5.0",
       "_model_name": "HBoxModel",
       "_view_count": null,
       "_view_module": "@jupyter-widgets/controls",
       "_view_module_version": "1.5.0",
       "_view_name": "HBoxView",
       "box_style": "",
       "children": [
        "IPY_MODEL_c984a6a90a6e4a258da60d8f0409548c",
        "IPY_MODEL_4ff33e26bd49475e9477d5fda82cc54f",
        "IPY_MODEL_7cf592f8b6fb4bf6966544786f4dce49"
       ],
       "layout": "IPY_MODEL_21e92e6e1efb48989fefd41aba4852c6"
      }
     },
     "fb62927ea9b04655a2caa2df0b3b9343": {
      "model_module": "@jupyter-widgets/controls",
      "model_module_version": "1.5.0",
      "model_name": "DescriptionStyleModel",
      "state": {
       "_model_module": "@jupyter-widgets/controls",
       "_model_module_version": "1.5.0",
       "_model_name": "DescriptionStyleModel",
       "_view_count": null,
       "_view_module": "@jupyter-widgets/base",
       "_view_module_version": "1.2.0",
       "_view_name": "StyleView",
       "description_width": ""
      }
     }
    },
    "version_major": 2,
    "version_minor": 0
   }
  }
 },
 "nbformat": 4,
 "nbformat_minor": 5
}
