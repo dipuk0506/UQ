{
 "cells": [
  {
   "cell_type": "markdown",
   "id": "43b1989d",
   "metadata": {
    "papermill": {
     "duration": 0.018305,
     "end_time": "2022-08-09T02:29:14.426116",
     "exception": false,
     "start_time": "2022-08-09T02:29:14.407811",
     "status": "completed"
    },
    "tags": []
   },
   "source": [
    "# UB NN Training\n",
    "## Loading Dataset"
   ]
  },
  {
   "cell_type": "code",
   "execution_count": 1,
   "id": "3a2f9c18",
   "metadata": {
    "execution": {
     "iopub.execute_input": "2022-08-09T02:29:14.461747Z",
     "iopub.status.busy": "2022-08-09T02:29:14.461412Z",
     "iopub.status.idle": "2022-08-09T02:29:14.512857Z",
     "shell.execute_reply": "2022-08-09T02:29:14.511985Z"
    },
    "papermill": {
     "duration": 0.072591,
     "end_time": "2022-08-09T02:29:14.515883",
     "exception": false,
     "start_time": "2022-08-09T02:29:14.443292",
     "status": "completed"
    },
    "tags": []
   },
   "outputs": [
    {
     "data": {
      "text/html": [
       "<div>\n",
       "<style scoped>\n",
       "    .dataframe tbody tr th:only-of-type {\n",
       "        vertical-align: middle;\n",
       "    }\n",
       "\n",
       "    .dataframe tbody tr th {\n",
       "        vertical-align: top;\n",
       "    }\n",
       "\n",
       "    .dataframe thead th {\n",
       "        text-align: right;\n",
       "    }\n",
       "</style>\n",
       "<table border=\"1\" class=\"dataframe\">\n",
       "  <thead>\n",
       "    <tr style=\"text-align: right;\">\n",
       "      <th></th>\n",
       "      <th>y(t-4)</th>\n",
       "      <th>y(t-3)</th>\n",
       "      <th>y(t-2)</th>\n",
       "      <th>y(t-1)</th>\n",
       "      <th>Hour</th>\n",
       "      <th>Day</th>\n",
       "      <th>y(t)</th>\n",
       "    </tr>\n",
       "  </thead>\n",
       "  <tbody>\n",
       "    <tr>\n",
       "      <th>0</th>\n",
       "      <td>1529.0</td>\n",
       "      <td>1561.0</td>\n",
       "      <td>1573.0</td>\n",
       "      <td>1559.0</td>\n",
       "      <td>16.835556</td>\n",
       "      <td>177.0</td>\n",
       "      <td>1565.0</td>\n",
       "    </tr>\n",
       "    <tr>\n",
       "      <th>1</th>\n",
       "      <td>1561.0</td>\n",
       "      <td>1573.0</td>\n",
       "      <td>1559.0</td>\n",
       "      <td>1565.0</td>\n",
       "      <td>16.916944</td>\n",
       "      <td>177.0</td>\n",
       "      <td>1587.0</td>\n",
       "    </tr>\n",
       "    <tr>\n",
       "      <th>2</th>\n",
       "      <td>1684.0</td>\n",
       "      <td>1695.0</td>\n",
       "      <td>1750.0</td>\n",
       "      <td>1800.0</td>\n",
       "      <td>17.666944</td>\n",
       "      <td>177.0</td>\n",
       "      <td>1838.0</td>\n",
       "    </tr>\n",
       "    <tr>\n",
       "      <th>3</th>\n",
       "      <td>1695.0</td>\n",
       "      <td>1750.0</td>\n",
       "      <td>1800.0</td>\n",
       "      <td>1838.0</td>\n",
       "      <td>17.750556</td>\n",
       "      <td>177.0</td>\n",
       "      <td>1836.0</td>\n",
       "    </tr>\n",
       "    <tr>\n",
       "      <th>4</th>\n",
       "      <td>1812.0</td>\n",
       "      <td>1805.0</td>\n",
       "      <td>1769.0</td>\n",
       "      <td>1758.0</td>\n",
       "      <td>18.500278</td>\n",
       "      <td>177.0</td>\n",
       "      <td>1773.0</td>\n",
       "    </tr>\n",
       "  </tbody>\n",
       "</table>\n",
       "</div>"
      ],
      "text/plain": [
       "   y(t-4)  y(t-3)  y(t-2)  y(t-1)       Hour    Day    y(t)\n",
       "0  1529.0  1561.0  1573.0  1559.0  16.835556  177.0  1565.0\n",
       "1  1561.0  1573.0  1559.0  1565.0  16.916944  177.0  1587.0\n",
       "2  1684.0  1695.0  1750.0  1800.0  17.666944  177.0  1838.0\n",
       "3  1695.0  1750.0  1800.0  1838.0  17.750556  177.0  1836.0\n",
       "4  1812.0  1805.0  1769.0  1758.0  18.500278  177.0  1773.0"
      ]
     },
     "execution_count": 1,
     "metadata": {},
     "output_type": "execute_result"
    }
   ],
   "source": [
    "train_csv_path = '../input/electricity-uk-grid-data-preparation/Wind_train.csv'\n",
    "test_csv_path = '../input/electricity-uk-grid-data-preparation/Wind_test.csv'\n",
    "val_csv_path = '../input/electricity-uk-grid-data-preparation/Wind_val.csv'\n",
    "\n",
    "\n",
    "import matplotlib.pyplot as plt\n",
    "import numpy as np\n",
    "import pandas as pd\n",
    "train_df = pd.read_csv(train_csv_path)\n",
    "train_df.head()"
   ]
  },
  {
   "cell_type": "markdown",
   "id": "0f3fdc2a",
   "metadata": {
    "papermill": {
     "duration": 0.016993,
     "end_time": "2022-08-09T02:29:14.551357",
     "exception": false,
     "start_time": "2022-08-09T02:29:14.534364",
     "status": "completed"
    },
    "tags": []
   },
   "source": [
    "## Loading Similarity Information"
   ]
  },
  {
   "cell_type": "code",
   "execution_count": 2,
   "id": "8e36e8ca",
   "metadata": {
    "execution": {
     "iopub.execute_input": "2022-08-09T02:29:14.587631Z",
     "iopub.status.busy": "2022-08-09T02:29:14.587099Z",
     "iopub.status.idle": "2022-08-09T02:29:15.555081Z",
     "shell.execute_reply": "2022-08-09T02:29:15.554188Z"
    },
    "papermill": {
     "duration": 0.988914,
     "end_time": "2022-08-09T02:29:15.557537",
     "exception": false,
     "start_time": "2022-08-09T02:29:14.568623",
     "status": "completed"
    },
    "tags": []
   },
   "outputs": [
    {
     "name": "stdout",
     "output_type": "stream",
     "text": [
      "Number of Similar Samples Considered 100\n",
      "Target Shape (4000,) Similar Samples Matrix Shape: (4000, 100)\n"
     ]
    }
   ],
   "source": [
    "import pickle as pkl\n",
    "\n",
    "fileName =  '../input/a1-data-to-similar-events/Similarity'\n",
    "fileObject2 = open(fileName, 'rb')\n",
    "Imported_data = pkl.load(fileObject2)\n",
    "fileObject2.close()\n",
    "\n",
    "#print('Similarity Thresholds:',Imported_data[:,0])\n",
    "\n",
    "#print('Most Similarity at:',Imported_data[:,1])\n",
    "\n",
    "Similar_event_count = len(Imported_data[0,:])-1\n",
    "print('Number of Similar Samples Considered', Similar_event_count)\n",
    "\n",
    "Similarity_thresholds = Imported_data[:,0]\n",
    "\n",
    "Sample_density = Similar_event_count/ Similarity_thresholds/100\n",
    "#Sample_density = number of samples with less than 1% (of range) deviation\n",
    "\n",
    "Similar_samples = Imported_data[:,1:Similar_event_count+1]\n",
    "\n",
    "print('Target Shape', Sample_density.shape, 'Similar Samples Matrix Shape:', Similar_samples.shape)\n",
    "\n",
    "input_=[]\n",
    "output_=[]\n",
    "for row in train_df.iloc:\n",
    "    input_.append((row[0:len(row)-1]).astype(float))\n",
    "    output_.append(row[-1])"
   ]
  },
  {
   "cell_type": "markdown",
   "id": "e75f013e",
   "metadata": {
    "papermill": {
     "duration": 0.017408,
     "end_time": "2022-08-09T02:29:15.592791",
     "exception": false,
     "start_time": "2022-08-09T02:29:15.575383",
     "status": "completed"
    },
    "tags": []
   },
   "source": [
    "## Load UB Correction Model"
   ]
  },
  {
   "cell_type": "code",
   "execution_count": 3,
   "id": "8a740805",
   "metadata": {
    "execution": {
     "iopub.execute_input": "2022-08-09T02:29:15.629947Z",
     "iopub.status.busy": "2022-08-09T02:29:15.629500Z",
     "iopub.status.idle": "2022-08-09T02:29:17.040219Z",
     "shell.execute_reply": "2022-08-09T02:29:17.039546Z"
    },
    "papermill": {
     "duration": 1.432036,
     "end_time": "2022-08-09T02:29:17.042575",
     "exception": false,
     "start_time": "2022-08-09T02:29:15.610539",
     "status": "completed"
    },
    "tags": []
   },
   "outputs": [
    {
     "data": {
      "text/plain": [
       "<All keys matched successfully>"
      ]
     },
     "execution_count": 3,
     "metadata": {},
     "output_type": "execute_result"
    }
   ],
   "source": [
    "import torch\n",
    "from torch.autograd import Variable\n",
    "import torch.nn.functional as F\n",
    "import torch.utils.data as Data\n",
    "\n",
    "PATH = '../input/a4-bound-correction-nn-training/best_model.pt'\n",
    "\n",
    "num_input = 1\n",
    "class Net(torch.nn.Module):\n",
    "    def __init__(self, n_feature, n_hidden, n_output):\n",
    "        super(Net, self).__init__()\n",
    "        self.hidden = torch.nn.Linear(n_feature, n_hidden)   # hidden layer\n",
    "        self.hidden2 = torch.nn.Linear(n_hidden, n_hidden)   # hidden layer\n",
    "        self.predict = torch.nn.Linear(n_hidden, n_output)   # output layer\n",
    "\n",
    "    def forward(self, x):\n",
    "        x = F.relu(self.hidden(x))      # activation function for hidden layer\n",
    "        x = F.relu(self.hidden2(x))\n",
    "        x = self.predict(x)             # linear output\n",
    "        return x\n",
    "net_load = Net(n_feature=num_input, n_hidden=400, n_output=1)     # define the network\n",
    "#net_load = net_load.to(device)\n",
    "\n",
    "net_load.load_state_dict(torch.load(PATH))\n",
    "\n"
   ]
  },
  {
   "cell_type": "code",
   "execution_count": 4,
   "id": "6268a3aa",
   "metadata": {
    "execution": {
     "iopub.execute_input": "2022-08-09T02:29:17.080736Z",
     "iopub.status.busy": "2022-08-09T02:29:17.080191Z",
     "iopub.status.idle": "2022-08-09T02:29:17.184705Z",
     "shell.execute_reply": "2022-08-09T02:29:17.183699Z"
    },
    "papermill": {
     "duration": 0.126157,
     "end_time": "2022-08-09T02:29:17.187036",
     "exception": false,
     "start_time": "2022-08-09T02:29:17.060879",
     "status": "completed"
    },
    "tags": []
   },
   "outputs": [
    {
     "name": "stdout",
     "output_type": "stream",
     "text": [
      "tensor([[0.7314]], grad_fn=<AddBackward0>)\n"
     ]
    }
   ],
   "source": [
    "Uncertainty_Bound = torch.tensor(0.80) # The expected UB\n",
    "\n",
    "f = open('../input/a4-bound-correction-nn-training/min_x.pckl', 'rb')\n",
    "min_UBx = pkl.load(f)\n",
    "f.close()\n",
    "\n",
    "f = open('../input/a4-bound-correction-nn-training/max_x.pckl', 'rb')\n",
    "max_UBx = pkl.load(f)\n",
    "f.close()\n",
    "\n",
    "Uncertainty_Bound = (Uncertainty_Bound-min_UBx)/(max_UBx-min_UBx) # Normalizing\n",
    "\n",
    "new_shape = (Uncertainty_Bound.shape[0], 1)\n",
    "Uncertainty_Bound = Uncertainty_Bound.view(new_shape)\n",
    "\n",
    "Uncertainty_Bound_corrected = net_load(Uncertainty_Bound)\n",
    "\n",
    "f = open('../input/a4-bound-correction-nn-training/min_y.pckl', 'rb')\n",
    "min_UBy = pkl.load(f)\n",
    "f.close()\n",
    "\n",
    "f = open('../input/a4-bound-correction-nn-training/max_y.pckl', 'rb')\n",
    "max_UBy = pkl.load(f)\n",
    "f.close()\n",
    "\n",
    "Uncertainty_Bound_corrected = Uncertainty_Bound_corrected*(max_UBy-min_UBy)+min_UBy # DeNormalizing\n",
    "\n",
    "if Uncertainty_Bound_corrected>1:\n",
    "    Uncertainty_Bound_corrected = torch.Tensor([1])\n",
    "if Uncertainty_Bound_corrected<0:\n",
    "    Uncertainty_Bound_corrected = torch.Tensor([0])\n",
    "\n",
    "print(Uncertainty_Bound_corrected)\n"
   ]
  },
  {
   "cell_type": "markdown",
   "id": "52396197",
   "metadata": {
    "papermill": {
     "duration": 0.017938,
     "end_time": "2022-08-09T02:29:17.223343",
     "exception": false,
     "start_time": "2022-08-09T02:29:17.205405",
     "status": "completed"
    },
    "tags": []
   },
   "source": [
    "## Applying Corrected UB to Traditional System"
   ]
  },
  {
   "cell_type": "code",
   "execution_count": 5,
   "id": "82a2e6dd",
   "metadata": {
    "execution": {
     "iopub.execute_input": "2022-08-09T02:29:17.261289Z",
     "iopub.status.busy": "2022-08-09T02:29:17.261002Z",
     "iopub.status.idle": "2022-08-09T02:29:17.796082Z",
     "shell.execute_reply": "2022-08-09T02:29:17.795420Z"
    },
    "papermill": {
     "duration": 0.556669,
     "end_time": "2022-08-09T02:29:17.798203",
     "exception": false,
     "start_time": "2022-08-09T02:29:17.241534",
     "status": "completed"
    },
    "tags": []
   },
   "outputs": [
    {
     "name": "stdout",
     "output_type": "stream",
     "text": [
      "Statistical UB location: 0.7965\n"
     ]
    }
   ],
   "source": [
    "higher_count=0;\n",
    "bound_values = []\n",
    "for iter1 in range(len(output_)):\n",
    "    indexes=Similar_samples[iter1];\n",
    "    Probability_density =[]\n",
    "    for iter2 in indexes:\n",
    "        Probability_density.append(output_[iter2.astype(np.int64)])\n",
    "    Probability_density = np.sort(Probability_density)\n",
    "    #print(Probability_density)\n",
    "    #plt.plot(Probability_density)\n",
    "    #break\n",
    "    prediction_bound = Probability_density[np.round(Similar_event_count*Uncertainty_Bound_corrected.detach().numpy()).astype(np.int64)-1]\n",
    "    bound_values.append(prediction_bound)\n",
    "    if prediction_bound > output_[iter1]:\n",
    "        higher_count = higher_count + 1;\n",
    "        \n",
    "print('Statistical UB location:', higher_count/len(output_))"
   ]
  },
  {
   "cell_type": "markdown",
   "id": "eafa2dcf",
   "metadata": {
    "papermill": {
     "duration": 0.018311,
     "end_time": "2022-08-09T02:29:17.835478",
     "exception": false,
     "start_time": "2022-08-09T02:29:17.817167",
     "status": "completed"
    },
    "tags": []
   },
   "source": [
    "## Data Preparation for NN Training"
   ]
  },
  {
   "cell_type": "code",
   "execution_count": 6,
   "id": "5be72f19",
   "metadata": {
    "execution": {
     "iopub.execute_input": "2022-08-09T02:29:17.875219Z",
     "iopub.status.busy": "2022-08-09T02:29:17.874390Z",
     "iopub.status.idle": "2022-08-09T02:29:18.008631Z",
     "shell.execute_reply": "2022-08-09T02:29:18.007711Z"
    },
    "papermill": {
     "duration": 0.156543,
     "end_time": "2022-08-09T02:29:18.010790",
     "exception": false,
     "start_time": "2022-08-09T02:29:17.854247",
     "status": "completed"
    },
    "tags": []
   },
   "outputs": [
    {
     "name": "stdout",
     "output_type": "stream",
     "text": [
      "Shapes: torch.Size([400, 6]) torch.Size([400, 1])\n",
      "tensor(2462.) tensor(91.) tensor([2790.0000, 2768.0000, 2758.0000, 2748.0000,   23.7514,  245.0000]) tensor([2.1000e+01, 2.2000e+01, 2.2000e+01, 4.0000e+01, 2.7778e-04, 1.7700e+02])\n",
      "tensor([2769.0000, 2746.0000, 2736.0000, 2708.0000,   23.7511,   68.0000]) tensor(2371.)\n"
     ]
    }
   ],
   "source": [
    "x=[]\n",
    "y=[]\n",
    "i_val=[]\n",
    "o_val=[]\n",
    "for iter1 in range(len(output_)):\n",
    "    if iter1%10==0:\n",
    "        x.append(input_[iter1])\n",
    "        y.append(bound_values[iter1])\n",
    "        continue\n",
    "    i_val.append(input_[iter1])\n",
    "    o_val.append(bound_values[iter1])\n",
    "\n",
    "x = torch.tensor(x).float()  \n",
    "y = torch.tensor(y).float() \n",
    "\n",
    "new_shape = (len(y), 1)\n",
    "y = y.view(new_shape)\n",
    "print('Shapes:', x.shape, y.shape)\n",
    "\n",
    "i_val = torch.tensor(i_val).float()  \n",
    "o_val = torch.tensor(o_val).float()   \n",
    "new_shape = (len(o_val), 1)\n",
    "o_val = o_val.view(new_shape)\n",
    "\n",
    "\n",
    "max_y = torch.max(y[:,0])\n",
    "min_y =torch.min(y[:,0])\n",
    "\n",
    "max_x = torch.max(x,dim=0)\n",
    "min_x = torch.min(x,dim=0)\n",
    "\n",
    "print(max_y, min_y, max_x.values, min_x.values)\n",
    "\n",
    "range_y = max_y - min_y\n",
    "range_x = max_x.values - min_x.values\n",
    "\n",
    "print(range_x, range_y)\n",
    "\n",
    "    #Normalizing\n",
    "x = (x - min_x.values)/range_x\n",
    "y = (y - min_y)/range_y\n",
    "\n",
    "    #Normalizing\n",
    "i_val = (i_val - min_x.values)/range_x\n",
    "o_val = (o_val - min_y)/range_y"
   ]
  },
  {
   "cell_type": "markdown",
   "id": "083c291d",
   "metadata": {
    "papermill": {
     "duration": 0.02023,
     "end_time": "2022-08-09T02:29:18.051360",
     "exception": false,
     "start_time": "2022-08-09T02:29:18.031130",
     "status": "completed"
    },
    "tags": []
   },
   "source": [
    "##  NN Training for Direct Input to UB"
   ]
  },
  {
   "cell_type": "code",
   "execution_count": 7,
   "id": "5c553a94",
   "metadata": {
    "execution": {
     "iopub.execute_input": "2022-08-09T02:29:18.092140Z",
     "iopub.status.busy": "2022-08-09T02:29:18.091797Z",
     "iopub.status.idle": "2022-08-09T02:29:26.777137Z",
     "shell.execute_reply": "2022-08-09T02:29:26.776031Z"
    },
    "papermill": {
     "duration": 8.708279,
     "end_time": "2022-08-09T02:29:26.779553",
     "exception": false,
     "start_time": "2022-08-09T02:29:18.071274",
     "status": "completed"
    },
    "tags": []
   },
   "outputs": [
    {
     "name": "stdout",
     "output_type": "stream",
     "text": [
      "Net(\n",
      "  (hidden): Linear(in_features=6, out_features=500, bias=True)\n",
      "  (hidden2): Linear(in_features=500, out_features=500, bias=True)\n",
      "  (predict): Linear(in_features=500, out_features=1, bias=True)\n",
      ")\n",
      "Epoch [200/1000], Loss: 0.0053, Minimum Loss 0.005298, Val Loss 0.005392  \n",
      "Epoch [400/1000], Loss: 0.0032, Minimum Loss 0.003133, Val Loss 0.003564  \n",
      "Epoch [600/1000], Loss: 0.0024, Minimum Loss 0.002403, Val Loss 0.003021  \n",
      "Epoch [800/1000], Loss: 0.0021, Minimum Loss 0.002052, Val Loss 0.002687  \n",
      "Epoch [1000/1000], Loss: 0.0019, Minimum Loss 0.001822, Val Loss 0.002511  \n"
     ]
    }
   ],
   "source": [
    "# torch can only train on Variable, so convert them to Variable\n",
    "x, y = Variable(x), Variable(y)\n",
    "num_input = len(row)-1\n",
    " \n",
    "class Net(torch.nn.Module):\n",
    "    def __init__(self, n_feature, n_hidden, n_output):\n",
    "        super(Net, self).__init__()\n",
    "        self.hidden = torch.nn.Linear(n_feature, n_hidden)   # hidden layer\n",
    "        self.hidden2 = torch.nn.Linear(n_hidden, n_hidden)   # hidden layer\n",
    "        self.predict = torch.nn.Linear(n_hidden, n_output)   # output layer\n",
    "\n",
    "    def forward(self, x):\n",
    "        x = F.relu(self.hidden(x))      # activation function for hidden layer\n",
    "        x = F.relu(self.hidden2(x))\n",
    "        x = self.predict(x)             # linear output\n",
    "        return x\n",
    "\n",
    "    \n",
    "# use the same net as before      \n",
    "net = Net(n_feature=num_input, n_hidden=500, n_output=1)     # define the network\n",
    "print(net)  # net architecture\n",
    "optimizer = torch.optim.Adam(net.parameters(), lr=0.05)\n",
    "loss_func = torch.nn.MSELoss()  # this is for regression mean squared loss\n",
    "\n",
    "\n",
    "minimum_train_loss = 1e5\n",
    "minimum_val_loss = 1e5\n",
    "EPOCH = 1000\n",
    "\n",
    "# start training\n",
    "for epoch in range(EPOCH):\n",
    "  \n",
    "    prediction = net(x)     # input x and predict based on x\n",
    "\n",
    "    loss = loss_func(prediction, y)     # must be (1. nn output, 2. target)\n",
    "\n",
    "    optimizer.zero_grad()   # clear gradients for next train\n",
    "    loss.backward()         # backpropagation, compute gradients\n",
    "    optimizer.step()        # apply gradients\n",
    "    \n",
    "    if loss<minimum_train_loss:\n",
    "        minimum_train_loss =loss\n",
    "        net_opt = net\n",
    "    \n",
    "    if epoch%200 == 199:\n",
    "        prediction = net_opt(i_val)\n",
    "        loss_val = loss_func(prediction, o_val)\n",
    "        if loss_val<minimum_val_loss:\n",
    "            minimum_val_loss = loss_val\n",
    "            net_opt_val = net_opt\n",
    "        print (\"Epoch [{}/{}], Loss: {:.4f}, Minimum Loss {:.6f}, Val Loss {:.6f}  \"  .format(epoch+1, EPOCH, loss, minimum_train_loss, minimum_val_loss))"
   ]
  },
  {
   "cell_type": "markdown",
   "id": "e8ea5205",
   "metadata": {
    "papermill": {
     "duration": 0.021114,
     "end_time": "2022-08-09T02:29:26.824071",
     "exception": false,
     "start_time": "2022-08-09T02:29:26.802957",
     "status": "completed"
    },
    "tags": []
   },
   "source": [
    "## Statistical performance of NN on Training Set"
   ]
  },
  {
   "cell_type": "code",
   "execution_count": 8,
   "id": "3c07df9e",
   "metadata": {
    "execution": {
     "iopub.execute_input": "2022-08-09T02:29:26.868173Z",
     "iopub.status.busy": "2022-08-09T02:29:26.867837Z",
     "iopub.status.idle": "2022-08-09T02:29:27.839535Z",
     "shell.execute_reply": "2022-08-09T02:29:27.838620Z"
    },
    "papermill": {
     "duration": 0.996775,
     "end_time": "2022-08-09T02:29:27.842140",
     "exception": false,
     "start_time": "2022-08-09T02:29:26.845365",
     "status": "completed"
    },
    "tags": []
   },
   "outputs": [
    {
     "name": "stdout",
     "output_type": "stream",
     "text": [
      "Statistical UB location for Direct NN: 0.76925\n"
     ]
    }
   ],
   "source": [
    "higher_count=0;\n",
    "\n",
    "for iter1 in range(len(output_)):\n",
    "    Net_input = torch.tensor(input_[iter1]).float() \n",
    "    Net_input = (Net_input - min_x.values)/range_x # Normalizing\n",
    "    \n",
    "    prediction_bound = net_opt_val(Net_input) # Apply Net\n",
    "    \n",
    "    prediction_bound = prediction_bound*range_y+min_y # Denormalizing    \n",
    "    \n",
    "    if prediction_bound > output_[iter1]:\n",
    "        higher_count = higher_count + 1;\n",
    "        \n",
    "print('Statistical UB location for Direct NN:', higher_count/len(output_))"
   ]
  },
  {
   "cell_type": "markdown",
   "id": "33e76a9e",
   "metadata": {
    "papermill": {
     "duration": 0.021567,
     "end_time": "2022-08-09T02:29:27.885401",
     "exception": false,
     "start_time": "2022-08-09T02:29:27.863834",
     "status": "completed"
    },
    "tags": []
   },
   "source": [
    "## Statistical performance of NN on Validation Set"
   ]
  },
  {
   "cell_type": "code",
   "execution_count": 9,
   "id": "2bf2b7f2",
   "metadata": {
    "execution": {
     "iopub.execute_input": "2022-08-09T02:29:27.931190Z",
     "iopub.status.busy": "2022-08-09T02:29:27.930393Z",
     "iopub.status.idle": "2022-08-09T02:29:30.056452Z",
     "shell.execute_reply": "2022-08-09T02:29:30.055497Z"
    },
    "papermill": {
     "duration": 2.15149,
     "end_time": "2022-08-09T02:29:30.058774",
     "exception": false,
     "start_time": "2022-08-09T02:29:27.907284",
     "status": "completed"
    },
    "tags": []
   },
   "outputs": [
    {
     "name": "stdout",
     "output_type": "stream",
     "text": [
      "Statistical UB location for Direct NN: 0.755\n"
     ]
    }
   ],
   "source": [
    "input_=[]\n",
    "output_=[]\n",
    "val_df = pd.read_csv(val_csv_path)\n",
    "\n",
    "for row in val_df.iloc:\n",
    "    input_.append((row[0:len(row)-1]).astype(float))\n",
    "    output_.append(row[-1])\n",
    "    \n",
    "higher_count=0;\n",
    "\n",
    "for iter1 in range(len(output_)):\n",
    "    Net_input = torch.tensor(input_[iter1]).float() \n",
    "    Net_input = (Net_input - min_x.values)/range_x # Normalizing\n",
    "    \n",
    "    prediction_bound = net_opt_val(Net_input) # Apply Net\n",
    "    \n",
    "    prediction_bound = prediction_bound*range_y+min_y # Denormalizing    \n",
    "    \n",
    "    if prediction_bound > output_[iter1]:\n",
    "        higher_count = higher_count + 1;\n",
    "        \n",
    "print('Statistical UB location for Direct NN:', higher_count/len(output_))"
   ]
  },
  {
   "cell_type": "markdown",
   "id": "d1e926e8",
   "metadata": {
    "papermill": {
     "duration": 0.022417,
     "end_time": "2022-08-09T02:29:30.103837",
     "exception": false,
     "start_time": "2022-08-09T02:29:30.081420",
     "status": "completed"
    },
    "tags": []
   },
   "source": [
    "## Statistical performance of NN on Test Set"
   ]
  },
  {
   "cell_type": "code",
   "execution_count": 10,
   "id": "6b02c020",
   "metadata": {
    "execution": {
     "iopub.execute_input": "2022-08-09T02:29:30.149437Z",
     "iopub.status.busy": "2022-08-09T02:29:30.149143Z",
     "iopub.status.idle": "2022-08-09T02:29:36.058556Z",
     "shell.execute_reply": "2022-08-09T02:29:36.057537Z"
    },
    "papermill": {
     "duration": 5.935277,
     "end_time": "2022-08-09T02:29:36.061272",
     "exception": false,
     "start_time": "2022-08-09T02:29:30.125995",
     "status": "completed"
    },
    "tags": []
   },
   "outputs": [
    {
     "name": "stdout",
     "output_type": "stream",
     "text": [
      "Statistical UB location for Direct NN: 0.7631666666666667\n"
     ]
    }
   ],
   "source": [
    "input_ = []\n",
    "output_ = []\n",
    "test_df = pd.read_csv(test_csv_path)\n",
    "\n",
    "for row in test_df.iloc:\n",
    "    input_.append((row[0:len(row)-1]).astype(float))\n",
    "    output_.append(row[-1])\n",
    "    \n",
    "higher_count=0;\n",
    "prediction_ = []\n",
    "#x_0 = []\n",
    "\n",
    "for iter1 in range(len(output_)):\n",
    "    x_in = input_[iter1]\n",
    "    #x_0.append(x_in[4])\n",
    "    Net_input = torch.tensor(x_in).float() \n",
    "    Net_input = (Net_input - min_x.values)/range_x # Normalizing\n",
    "    \n",
    "    prediction_bound = net_opt_val(Net_input) # Apply Net\n",
    "    \n",
    "    prediction_bound = prediction_bound*range_y+min_y # Denormalizing    \n",
    "    prediction_.append(float(prediction_bound))\n",
    "    if prediction_bound > output_[iter1]:\n",
    "        higher_count = higher_count + 1;\n",
    "        \n",
    "print('Statistical UB location for Direct NN:', higher_count/len(output_))"
   ]
  },
  {
   "cell_type": "code",
   "execution_count": 11,
   "id": "7c76455d",
   "metadata": {
    "execution": {
     "iopub.execute_input": "2022-08-09T02:29:36.108375Z",
     "iopub.status.busy": "2022-08-09T02:29:36.108091Z",
     "iopub.status.idle": "2022-08-09T02:29:36.111586Z",
     "shell.execute_reply": "2022-08-09T02:29:36.110706Z"
    },
    "papermill": {
     "duration": 0.029702,
     "end_time": "2022-08-09T02:29:36.113698",
     "exception": false,
     "start_time": "2022-08-09T02:29:36.083996",
     "status": "completed"
    },
    "tags": []
   },
   "outputs": [],
   "source": [
    "#plt.scatter(x_0,output_, s=0.5)\n",
    "#plt.scatter(x_0, prediction_, color='g', s=0.05) # lower boundary prediction\n",
    "#plt.show()"
   ]
  }
 ],
 "metadata": {
  "kernelspec": {
   "display_name": "Python 3",
   "language": "python",
   "name": "python3"
  },
  "language_info": {
   "codemirror_mode": {
    "name": "ipython",
    "version": 3
   },
   "file_extension": ".py",
   "mimetype": "text/x-python",
   "name": "python",
   "nbconvert_exporter": "python",
   "pygments_lexer": "ipython3",
   "version": "3.7.12"
  },
  "papermill": {
   "default_parameters": {},
   "duration": 32.09993,
   "end_time": "2022-08-09T02:29:36.957583",
   "environment_variables": {},
   "exception": null,
   "input_path": "__notebook__.ipynb",
   "output_path": "__notebook__.ipynb",
   "parameters": {},
   "start_time": "2022-08-09T02:29:04.857653",
   "version": "2.3.4"
  }
 },
 "nbformat": 4,
 "nbformat_minor": 5
}
