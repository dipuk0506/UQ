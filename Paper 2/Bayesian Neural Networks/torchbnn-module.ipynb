{
 "cells": [
  {
   "cell_type": "markdown",
   "id": "a59a87a9",
   "metadata": {
    "papermill": {
     "duration": 0.005751,
     "end_time": "2022-05-30T09:35:24.755706",
     "exception": false,
     "start_time": "2022-05-30T09:35:24.749955",
     "status": "completed"
    },
    "tags": []
   },
   "source": [
    "# Investigation of torchbnn module\n",
    "\n",
    "## Source:\n",
    "### This code is written with the help of following notebook. \n",
    "#### Title: Bayesian-Neural-Network-Pytorch\n",
    "#### Link: https://github.com/Harry24k/bayesian-neural-network-pytorch"
   ]
  },
  {
   "cell_type": "code",
   "execution_count": 1,
   "id": "d8f1377e",
   "metadata": {
    "execution": {
     "iopub.execute_input": "2022-05-30T09:35:24.770416Z",
     "iopub.status.busy": "2022-05-30T09:35:24.769774Z",
     "iopub.status.idle": "2022-05-30T09:35:37.473741Z",
     "shell.execute_reply": "2022-05-30T09:35:37.472274Z"
    },
    "papermill": {
     "duration": 12.713312,
     "end_time": "2022-05-30T09:35:37.476498",
     "exception": false,
     "start_time": "2022-05-30T09:35:24.763186",
     "status": "completed"
    },
    "tags": []
   },
   "outputs": [
    {
     "name": "stdout",
     "output_type": "stream",
     "text": [
      "Collecting torchbnn\r\n",
      "  Downloading torchbnn-1.2-py3-none-any.whl (12 kB)\r\n",
      "Installing collected packages: torchbnn\r\n",
      "Successfully installed torchbnn-1.2\r\n",
      "\u001b[33mWARNING: Running pip as the 'root' user can result in broken permissions and conflicting behaviour with the system package manager. It is recommended to use a virtual environment instead: https://pip.pypa.io/warnings/venv\u001b[0m\u001b[33m\r\n",
      "\u001b[0m"
     ]
    }
   ],
   "source": [
    "! pip install torchbnn"
   ]
  },
  {
   "cell_type": "code",
   "execution_count": 2,
   "id": "b124b41d",
   "metadata": {
    "execution": {
     "iopub.execute_input": "2022-05-30T09:35:37.488626Z",
     "iopub.status.busy": "2022-05-30T09:35:37.488185Z",
     "iopub.status.idle": "2022-05-30T09:35:40.249070Z",
     "shell.execute_reply": "2022-05-30T09:35:40.248124Z"
    },
    "papermill": {
     "duration": 2.769829,
     "end_time": "2022-05-30T09:35:40.251577",
     "exception": false,
     "start_time": "2022-05-30T09:35:37.481748",
     "status": "completed"
    },
    "tags": []
   },
   "outputs": [],
   "source": [
    "import numpy as np\n",
    "from sklearn import datasets\n",
    "\n",
    "import torch\n",
    "import torch.nn as nn\n",
    "import torch.optim as optim\n",
    "import torchbnn as bnn\n",
    "from torch.autograd import Variable\n",
    "\n",
    "import pandas as pd\n",
    "import matplotlib.pyplot as plt\n",
    "import time\n",
    "%matplotlib inline"
   ]
  },
  {
   "cell_type": "markdown",
   "id": "37d0cdba",
   "metadata": {
    "papermill": {
     "duration": 0.004836,
     "end_time": "2022-05-30T09:35:40.261553",
     "exception": false,
     "start_time": "2022-05-30T09:35:40.256717",
     "status": "completed"
    },
    "tags": []
   },
   "source": [
    "# Considerations"
   ]
  },
  {
   "cell_type": "code",
   "execution_count": 3,
   "id": "0fea6023",
   "metadata": {
    "execution": {
     "iopub.execute_input": "2022-05-30T09:35:40.274161Z",
     "iopub.status.busy": "2022-05-30T09:35:40.272964Z",
     "iopub.status.idle": "2022-05-30T09:35:40.277557Z",
     "shell.execute_reply": "2022-05-30T09:35:40.276928Z"
    },
    "papermill": {
     "duration": 0.012742,
     "end_time": "2022-05-30T09:35:40.279318",
     "exception": false,
     "start_time": "2022-05-30T09:35:40.266576",
     "status": "completed"
    },
    "tags": []
   },
   "outputs": [],
   "source": [
    "hidden1=500 \n",
    "hidden2=500\n",
    "training_iteration = 10000"
   ]
  },
  {
   "cell_type": "markdown",
   "id": "2e0445b4",
   "metadata": {
    "papermill": {
     "duration": 0.004719,
     "end_time": "2022-05-30T09:35:40.289203",
     "exception": false,
     "start_time": "2022-05-30T09:35:40.284484",
     "status": "completed"
    },
    "tags": []
   },
   "source": [
    "# Data"
   ]
  },
  {
   "cell_type": "code",
   "execution_count": 4,
   "id": "e3da95e2",
   "metadata": {
    "execution": {
     "iopub.execute_input": "2022-05-30T09:35:40.301208Z",
     "iopub.status.busy": "2022-05-30T09:35:40.300182Z",
     "iopub.status.idle": "2022-05-30T09:35:40.372699Z",
     "shell.execute_reply": "2022-05-30T09:35:40.371830Z"
    },
    "papermill": {
     "duration": 0.080517,
     "end_time": "2022-05-30T09:35:40.374631",
     "exception": false,
     "start_time": "2022-05-30T09:35:40.294114",
     "status": "completed"
    },
    "tags": []
   },
   "outputs": [
    {
     "data": {
      "text/html": [
       "<div>\n",
       "<style scoped>\n",
       "    .dataframe tbody tr th:only-of-type {\n",
       "        vertical-align: middle;\n",
       "    }\n",
       "\n",
       "    .dataframe tbody tr th {\n",
       "        vertical-align: top;\n",
       "    }\n",
       "\n",
       "    .dataframe thead th {\n",
       "        text-align: right;\n",
       "    }\n",
       "</style>\n",
       "<table border=\"1\" class=\"dataframe\">\n",
       "  <thead>\n",
       "    <tr style=\"text-align: right;\">\n",
       "      <th></th>\n",
       "      <th>Input1</th>\n",
       "      <th>Input2</th>\n",
       "      <th>Input3</th>\n",
       "      <th>Output</th>\n",
       "    </tr>\n",
       "  </thead>\n",
       "  <tbody>\n",
       "    <tr>\n",
       "      <th>0</th>\n",
       "      <td>2.659116</td>\n",
       "      <td>4.673695</td>\n",
       "      <td>1.231898</td>\n",
       "      <td>-1.010633</td>\n",
       "    </tr>\n",
       "    <tr>\n",
       "      <th>1</th>\n",
       "      <td>6.172297</td>\n",
       "      <td>0.308095</td>\n",
       "      <td>6.197296</td>\n",
       "      <td>0.140169</td>\n",
       "    </tr>\n",
       "    <tr>\n",
       "      <th>2</th>\n",
       "      <td>1.620350</td>\n",
       "      <td>3.752477</td>\n",
       "      <td>3.010036</td>\n",
       "      <td>0.014108</td>\n",
       "    </tr>\n",
       "    <tr>\n",
       "      <th>3</th>\n",
       "      <td>6.269573</td>\n",
       "      <td>3.173038</td>\n",
       "      <td>6.019555</td>\n",
       "      <td>-0.016590</td>\n",
       "    </tr>\n",
       "    <tr>\n",
       "      <th>4</th>\n",
       "      <td>3.946378</td>\n",
       "      <td>3.264015</td>\n",
       "      <td>2.245954</td>\n",
       "      <td>1.222183</td>\n",
       "    </tr>\n",
       "  </tbody>\n",
       "</table>\n",
       "</div>"
      ],
      "text/plain": [
       "     Input1    Input2    Input3    Output\n",
       "0  2.659116  4.673695  1.231898 -1.010633\n",
       "1  6.172297  0.308095  6.197296  0.140169\n",
       "2  1.620350  3.752477  3.010036  0.014108\n",
       "3  6.269573  3.173038  6.019555 -0.016590\n",
       "4  3.946378  3.264015  2.245954  1.222183"
      ]
     },
     "execution_count": 4,
     "metadata": {},
     "output_type": "execute_result"
    }
   ],
   "source": [
    "train_csv_path = '../input/toy-dataset-for-regression-and-uq/Data3_Train.csv'\n",
    "test_csv_path = '../input/toy-dataset-for-regression-and-uq/Data3_Test.csv'\n",
    "val_csv_path = '../input/toy-dataset-for-regression-and-uq/Data3_Val.csv'\n",
    "\n",
    "train_df = pd.read_csv(train_csv_path)\n",
    "val_df = pd.read_csv(val_csv_path)\n",
    "train_df.head()"
   ]
  },
  {
   "cell_type": "code",
   "execution_count": 5,
   "id": "e88db413",
   "metadata": {
    "execution": {
     "iopub.execute_input": "2022-05-30T09:35:40.387072Z",
     "iopub.status.busy": "2022-05-30T09:35:40.386441Z",
     "iopub.status.idle": "2022-05-30T09:35:41.840933Z",
     "shell.execute_reply": "2022-05-30T09:35:41.840207Z"
    },
    "papermill": {
     "duration": 1.463093,
     "end_time": "2022-05-30T09:35:41.843132",
     "exception": false,
     "start_time": "2022-05-30T09:35:40.380039",
     "status": "completed"
    },
    "tags": []
   },
   "outputs": [
    {
     "name": "stdout",
     "output_type": "stream",
     "text": [
      "3\n",
      "tensor(1.4626) tensor(-1.4431) tensor([6.2822, 6.2817, 6.2823]) tensor([4.0563e-04, 6.2234e-05, 9.0123e-04])\n",
      "tensor([6.2818, 6.2816, 6.2814]) tensor(2.9057)\n"
     ]
    }
   ],
   "source": [
    "input_=[]\n",
    "output_=[]\n",
    "for row in train_df.iloc:\n",
    "    input_.append((row[0:len(row)-1]).astype(float))\n",
    "    output_.append(row[-1])\n",
    "    \n",
    "i_val=[]\n",
    "o_val=[]\n",
    "for row in val_df.iloc:\n",
    "    i_val.append((row[0:len(row)-1]).astype(float))\n",
    "    o_val.append(row[-1])\n",
    "    \n",
    "num_input = len(row)-1;\n",
    "print(num_input)\n",
    "\n",
    "\n",
    "\n",
    "\n",
    "x = torch.tensor(input_).float()  \n",
    "y = torch.tensor(output_).float()   \n",
    "new_shape = (len(y), 1)\n",
    "y = y.view(new_shape)\n",
    "\n",
    "\n",
    "i_val = torch.tensor(i_val).float()  \n",
    "o_val = torch.tensor(o_val).float()   \n",
    "new_shape = (len(o_val), 1)\n",
    "o_val = o_val.view(new_shape)\n",
    "\n",
    "\n",
    "\n",
    "max_y = torch.max(y[:,0])\n",
    "min_y =torch.min(y[:,0])\n",
    "\n",
    "max_x = torch.max(x,dim=0)\n",
    "min_x = torch.min(x,dim=0)\n",
    "\n",
    "print(max_y, min_y, max_x.values, min_x.values)\n",
    "\n",
    "range_y = max_y - min_y\n",
    "range_x = max_x.values - min_x.values\n",
    "\n",
    "print(range_x, range_y)\n",
    "\n",
    "    #Normalizing\n",
    "x = (x - min_x.values)/range_x\n",
    "y = (y - min_y)/range_y\n",
    "\n",
    "    #Normalizing\n",
    "i_val = (i_val - min_x.values)/range_x\n",
    "o_val = (o_val - min_y)/range_y"
   ]
  },
  {
   "cell_type": "markdown",
   "id": "9df47420",
   "metadata": {
    "papermill": {
     "duration": 0.005175,
     "end_time": "2022-05-30T09:35:41.853710",
     "exception": false,
     "start_time": "2022-05-30T09:35:41.848535",
     "status": "completed"
    },
    "tags": []
   },
   "source": [
    "# Model"
   ]
  },
  {
   "cell_type": "code",
   "execution_count": 6,
   "id": "e4ec86e0",
   "metadata": {
    "execution": {
     "iopub.execute_input": "2022-05-30T09:35:41.866850Z",
     "iopub.status.busy": "2022-05-30T09:35:41.866061Z",
     "iopub.status.idle": "2022-05-30T09:35:41.881316Z",
     "shell.execute_reply": "2022-05-30T09:35:41.880419Z"
    },
    "papermill": {
     "duration": 0.024756,
     "end_time": "2022-05-30T09:35:41.884028",
     "exception": false,
     "start_time": "2022-05-30T09:35:41.859272",
     "status": "completed"
    },
    "tags": []
   },
   "outputs": [],
   "source": [
    "model = nn.Sequential(\n",
    "    bnn.BayesLinear(prior_mu=0, prior_sigma=0.1, in_features=num_input, out_features=hidden1),\n",
    "    nn.ReLU(),\n",
    "    bnn.BayesLinear(prior_mu=0, prior_sigma=0.1, in_features=hidden1, out_features=hidden2),\n",
    "    nn.ReLU(),\n",
    "    bnn.BayesLinear(prior_mu=0, prior_sigma=0.1, in_features=hidden2, out_features=1),\n",
    ")\n",
    "\n",
    "mse_loss = nn.MSELoss()\n",
    "kl_loss = bnn.BKLLoss(reduction='mean', last_layer_only=False)\n",
    "kl_weight = 0.01\n",
    "\n",
    "optimizer = optim.Adam(model.parameters(), lr=0.01)"
   ]
  },
  {
   "cell_type": "markdown",
   "id": "5c4f8b90",
   "metadata": {
    "papermill": {
     "duration": 0.005041,
     "end_time": "2022-05-30T09:35:41.894486",
     "exception": false,
     "start_time": "2022-05-30T09:35:41.889445",
     "status": "completed"
    },
    "tags": []
   },
   "source": [
    "# Train"
   ]
  },
  {
   "cell_type": "code",
   "execution_count": 7,
   "id": "14e42c15",
   "metadata": {
    "execution": {
     "iopub.execute_input": "2022-05-30T09:35:41.907039Z",
     "iopub.status.busy": "2022-05-30T09:35:41.906465Z",
     "iopub.status.idle": "2022-05-30T09:50:38.344888Z",
     "shell.execute_reply": "2022-05-30T09:50:38.343933Z"
    },
    "papermill": {
     "duration": 896.455359,
     "end_time": "2022-05-30T09:50:38.355202",
     "exception": false,
     "start_time": "2022-05-30T09:35:41.899843",
     "status": "completed"
    },
    "tags": []
   },
   "outputs": [
    {
     "name": "stdout",
     "output_type": "stream",
     "text": [
      "Training Iteration: 10000\n",
      "1.0 %  Complete\n",
      "6.0 %  Complete\n",
      "11.0 %  Complete\n",
      "16.0 %  Complete\n",
      "21.0 %  Complete\n",
      "26.0 %  Complete\n",
      "31.0 %  Complete\n",
      "36.0 %  Complete\n",
      "41.0 %  Complete\n",
      "46.0 %  Complete\n",
      "51.0 %  Complete\n",
      "56.00000000000001 %  Complete\n",
      "61.0 %  Complete\n",
      "66.0 %  Complete\n",
      "71.0 %  Complete\n",
      "76.0 %  Complete\n",
      "81.0 %  Complete\n",
      "86.0 %  Complete\n",
      "91.0 %  Complete\n",
      "96.0 %  Complete\n",
      "100% Complete in 14m 56s\n",
      "- MSE : 0.00, KL : 0.03\n"
     ]
    }
   ],
   "source": [
    "kl_weight = 0.1\n",
    "since = time.time()\n",
    "\n",
    "print(\"Training Iteration:\",training_iteration)\n",
    "\n",
    "for step in range(training_iteration):\n",
    "    pre = model(x)\n",
    "    mse = mse_loss(pre, y)\n",
    "    kl = kl_loss(model)\n",
    "    cost = mse + kl_weight*kl\n",
    "    \n",
    "    optimizer.zero_grad()\n",
    "    cost.backward()\n",
    "    optimizer.step()\n",
    "    if step%500==100:   \n",
    "        print(step/training_iteration*100, '%' '  Complete')\n",
    "        time_elapsed = time.time() - since\n",
    "\n",
    "time_elapsed = time.time() - since\n",
    "print('100% Complete in {:.0f}m {:.0f}s'.format(time_elapsed // 60, time_elapsed % 60))  \n",
    "        \n",
    "print('- MSE : %2.2f, KL : %2.2f' % (mse.item(), kl.item()))"
   ]
  },
  {
   "cell_type": "markdown",
   "id": "06b852dc",
   "metadata": {
    "papermill": {
     "duration": 0.007082,
     "end_time": "2022-05-30T09:50:38.369574",
     "exception": false,
     "start_time": "2022-05-30T09:50:38.362492",
     "status": "completed"
    },
    "tags": []
   },
   "source": [
    "# Test"
   ]
  },
  {
   "cell_type": "code",
   "execution_count": 8,
   "id": "3a871bfa",
   "metadata": {
    "execution": {
     "iopub.execute_input": "2022-05-30T09:50:38.385694Z",
     "iopub.status.busy": "2022-05-30T09:50:38.385332Z",
     "iopub.status.idle": "2022-05-30T09:50:38.389830Z",
     "shell.execute_reply": "2022-05-30T09:50:38.388867Z"
    },
    "papermill": {
     "duration": 0.014962,
     "end_time": "2022-05-30T09:50:38.392191",
     "exception": false,
     "start_time": "2022-05-30T09:50:38.377229",
     "status": "completed"
    },
    "tags": []
   },
   "outputs": [],
   "source": [
    "x_test = i_val\n",
    "y_test = o_val\n",
    "\n",
    "y_test = torch.unsqueeze(y_test, dim=1)"
   ]
  },
  {
   "cell_type": "code",
   "execution_count": 9,
   "id": "ef8936c9",
   "metadata": {
    "execution": {
     "iopub.execute_input": "2022-05-30T09:50:38.407015Z",
     "iopub.status.busy": "2022-05-30T09:50:38.406665Z",
     "iopub.status.idle": "2022-05-30T09:50:38.880220Z",
     "shell.execute_reply": "2022-05-30T09:50:38.879329Z"
    },
    "papermill": {
     "duration": 0.483162,
     "end_time": "2022-05-30T09:50:38.882062",
     "exception": false,
     "start_time": "2022-05-30T09:50:38.398900",
     "status": "completed"
    },
    "tags": []
   },
   "outputs": [
    {
     "data": {
      "image/png": "[encoded data removed]",
      "text/plain": [
       "<Figure size 432x288 with 1 Axes>"
      ]
     },
     "metadata": {
      "needs_background": "light"
     },
     "output_type": "display_data"
    }
   ],
   "source": [
    "plt.xlabel(r'$x$')\n",
    "plt.ylabel(r'$y$')\n",
    "\n",
    "plt.scatter(x_test[:,0].data.numpy(), y_test.data.numpy(), color='k', s=2) \n",
    "\n",
    "for iter in range(1):\n",
    "    y_predict = model(x_test)\n",
    "    plt.scatter(x_test[:,0].data.numpy(), y_predict.data.numpy(), color='g', s=2)\n",
    "\n",
    "plt.legend()\n",
    "plt.show()"
   ]
  },
  {
   "cell_type": "code",
   "execution_count": 10,
   "id": "a1526fa7",
   "metadata": {
    "execution": {
     "iopub.execute_input": "2022-05-30T09:50:38.899508Z",
     "iopub.status.busy": "2022-05-30T09:50:38.898740Z",
     "iopub.status.idle": "2022-05-30T09:50:39.628727Z",
     "shell.execute_reply": "2022-05-30T09:50:39.627201Z"
    },
    "papermill": {
     "duration": 0.741316,
     "end_time": "2022-05-30T09:50:39.631223",
     "exception": false,
     "start_time": "2022-05-30T09:50:38.889907",
     "status": "completed"
    },
    "tags": []
   },
   "outputs": [
    {
     "data": {
      "image/png": "[encoded data removed]",
      "text/plain": [
       "<Figure size 432x288 with 1 Axes>"
      ]
     },
     "metadata": {
      "needs_background": "light"
     },
     "output_type": "display_data"
    }
   ],
   "source": [
    "plt.xlabel(r'$x$')\n",
    "plt.ylabel(r'$y$')\n",
    "\n",
    "plt.scatter(x_test[:,0].data.numpy(), y_test.data.numpy(), color='k', s=2) \n",
    "\n",
    "for iter in range(10):\n",
    "    y_predict = model(x_test)\n",
    "    plt.scatter(x_test[:,0].data.numpy(), y_predict.data.numpy(), color='r', s=0.2)\n",
    "\n",
    "plt.legend()\n",
    "plt.show()"
   ]
  }
 ],
 "metadata": {
  "kernelspec": {
   "display_name": "Python 3",
   "language": "python",
   "name": "python3"
  },
  "language_info": {
   "codemirror_mode": {
    "name": "ipython",
    "version": 3
   },
   "file_extension": ".py",
   "mimetype": "text/x-python",
   "name": "python",
   "nbconvert_exporter": "python",
   "pygments_lexer": "ipython3",
   "version": "3.7.12"
  },
  "papermill": {
   "default_parameters": {},
   "duration": 926.099086,
   "end_time": "2022-05-30T09:50:40.564378",
   "environment_variables": {},
   "exception": null,
   "input_path": "__notebook__.ipynb",
   "output_path": "__notebook__.ipynb",
   "parameters": {},
   "start_time": "2022-05-30T09:35:14.465292",
   "version": "2.3.4"
  }
 },
 "nbformat": 4,
 "nbformat_minor": 5
}
