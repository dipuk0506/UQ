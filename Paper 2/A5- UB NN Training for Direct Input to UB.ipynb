{
 "cells": [
  {
   "cell_type": "markdown",
   "id": "dffada48",
   "metadata": {
    "papermill": {
     "duration": 0.019538,
     "end_time": "2022-04-21T13:34:48.178863",
     "exception": false,
     "start_time": "2022-04-21T13:34:48.159325",
     "status": "completed"
    },
    "tags": []
   },
   "source": [
    "# UB NN Training\n",
    "## Loading Dataset"
   ]
  },
  {
   "cell_type": "code",
   "execution_count": 1,
   "id": "7bd20b0c",
   "metadata": {
    "execution": {
     "iopub.execute_input": "2022-04-21T13:34:48.216492Z",
     "iopub.status.busy": "2022-04-21T13:34:48.215854Z",
     "iopub.status.idle": "2022-04-21T13:34:48.271827Z",
     "shell.execute_reply": "2022-04-21T13:34:48.270758Z"
    },
    "papermill": {
     "duration": 0.078213,
     "end_time": "2022-04-21T13:34:48.274904",
     "exception": false,
     "start_time": "2022-04-21T13:34:48.196691",
     "status": "completed"
    },
    "tags": []
   },
   "outputs": [
    {
     "data": {
      "text/html": [
       "<div>\n",
       "<style scoped>\n",
       "    .dataframe tbody tr th:only-of-type {\n",
       "        vertical-align: middle;\n",
       "    }\n",
       "\n",
       "    .dataframe tbody tr th {\n",
       "        vertical-align: top;\n",
       "    }\n",
       "\n",
       "    .dataframe thead th {\n",
       "        text-align: right;\n",
       "    }\n",
       "</style>\n",
       "<table border=\"1\" class=\"dataframe\">\n",
       "  <thead>\n",
       "    <tr style=\"text-align: right;\">\n",
       "      <th></th>\n",
       "      <th>Input1</th>\n",
       "      <th>Input2</th>\n",
       "      <th>Input3</th>\n",
       "      <th>Output</th>\n",
       "    </tr>\n",
       "  </thead>\n",
       "  <tbody>\n",
       "    <tr>\n",
       "      <th>0</th>\n",
       "      <td>2.659116</td>\n",
       "      <td>4.673695</td>\n",
       "      <td>1.231898</td>\n",
       "      <td>-1.010633</td>\n",
       "    </tr>\n",
       "    <tr>\n",
       "      <th>1</th>\n",
       "      <td>6.172297</td>\n",
       "      <td>0.308095</td>\n",
       "      <td>6.197296</td>\n",
       "      <td>0.140169</td>\n",
       "    </tr>\n",
       "    <tr>\n",
       "      <th>2</th>\n",
       "      <td>1.620350</td>\n",
       "      <td>3.752477</td>\n",
       "      <td>3.010036</td>\n",
       "      <td>0.014108</td>\n",
       "    </tr>\n",
       "    <tr>\n",
       "      <th>3</th>\n",
       "      <td>6.269573</td>\n",
       "      <td>3.173038</td>\n",
       "      <td>6.019555</td>\n",
       "      <td>-0.016590</td>\n",
       "    </tr>\n",
       "    <tr>\n",
       "      <th>4</th>\n",
       "      <td>3.946378</td>\n",
       "      <td>3.264015</td>\n",
       "      <td>2.245954</td>\n",
       "      <td>1.222183</td>\n",
       "    </tr>\n",
       "  </tbody>\n",
       "</table>\n",
       "</div>"
      ],
      "text/plain": [
       "     Input1    Input2    Input3    Output\n",
       "0  2.659116  4.673695  1.231898 -1.010633\n",
       "1  6.172297  0.308095  6.197296  0.140169\n",
       "2  1.620350  3.752477  3.010036  0.014108\n",
       "3  6.269573  3.173038  6.019555 -0.016590\n",
       "4  3.946378  3.264015  2.245954  1.222183"
      ]
     },
     "execution_count": 1,
     "metadata": {},
     "output_type": "execute_result"
    }
   ],
   "source": [
    "train_csv_path = '../input/toy-dataset-for-regression-and-uq/Data3_Train.csv'\n",
    "test_csv_path = '../input/toy-dataset-for-regression-and-uq/Data3_Test.csv'\n",
    "val_csv_path = '../input/toy-dataset-for-regression-and-uq/Data3_Val.csv'\n",
    "\n",
    "\n",
    "import matplotlib.pyplot as plt\n",
    "import numpy as np\n",
    "import pandas as pd\n",
    "train_df = pd.read_csv(train_csv_path)\n",
    "train_df.head()"
   ]
  },
  {
   "cell_type": "markdown",
   "id": "1735fe92",
   "metadata": {
    "papermill": {
     "duration": 0.018223,
     "end_time": "2022-04-21T13:34:48.311717",
     "exception": false,
     "start_time": "2022-04-21T13:34:48.293494",
     "status": "completed"
    },
    "tags": []
   },
   "source": [
    "## Loading Similarity Information"
   ]
  },
  {
   "cell_type": "code",
   "execution_count": 2,
   "id": "a986f60e",
   "metadata": {
    "execution": {
     "iopub.execute_input": "2022-04-21T13:34:48.350317Z",
     "iopub.status.busy": "2022-04-21T13:34:48.349914Z",
     "iopub.status.idle": "2022-04-21T13:34:49.523469Z",
     "shell.execute_reply": "2022-04-21T13:34:49.522477Z"
    },
    "papermill": {
     "duration": 1.195631,
     "end_time": "2022-04-21T13:34:49.525869",
     "exception": false,
     "start_time": "2022-04-21T13:34:48.330238",
     "status": "completed"
    },
    "tags": []
   },
   "outputs": [
    {
     "name": "stdout",
     "output_type": "stream",
     "text": [
      "Number of Similar Samples Considered 100\n",
      "Target Shape (5000,) Similar Samples Matrix Shape: (5000, 100)\n"
     ]
    }
   ],
   "source": [
    "import pickle as pkl\n",
    "\n",
    "fileName =  '../input/a1-data-to-similar-events/Similarity'\n",
    "fileObject2 = open(fileName, 'rb')\n",
    "Imported_data = pkl.load(fileObject2)\n",
    "fileObject2.close()\n",
    "\n",
    "#print('Similarity Thresholds:',Imported_data[:,0])\n",
    "\n",
    "#print('Most Similarity at:',Imported_data[:,1])\n",
    "\n",
    "Similar_event_count = len(Imported_data[0,:])-1\n",
    "print('Number of Similar Samples Considered', Similar_event_count)\n",
    "\n",
    "Similarity_thresholds = Imported_data[:,0]\n",
    "\n",
    "Sample_density = Similar_event_count/ Similarity_thresholds/100\n",
    "#Sample_density = number of samples with less than 1% (of range) deviation\n",
    "\n",
    "Similar_samples = Imported_data[:,1:Similar_event_count+1]\n",
    "\n",
    "print('Target Shape', Sample_density.shape, 'Similar Samples Matrix Shape:', Similar_samples.shape)\n",
    "\n",
    "input_=[]\n",
    "output_=[]\n",
    "for row in train_df.iloc:\n",
    "    input_.append((row[0:len(row)-1]).astype(float))\n",
    "    output_.append(row[-1])"
   ]
  },
  {
   "cell_type": "markdown",
   "id": "2a6cadeb",
   "metadata": {
    "papermill": {
     "duration": 0.017347,
     "end_time": "2022-04-21T13:34:49.562296",
     "exception": false,
     "start_time": "2022-04-21T13:34:49.544949",
     "status": "completed"
    },
    "tags": []
   },
   "source": [
    "## Load UB Correction Model"
   ]
  },
  {
   "cell_type": "code",
   "execution_count": 3,
   "id": "24c03b58",
   "metadata": {
    "execution": {
     "iopub.execute_input": "2022-04-21T13:34:49.599424Z",
     "iopub.status.busy": "2022-04-21T13:34:49.599040Z",
     "iopub.status.idle": "2022-04-21T13:34:51.154972Z",
     "shell.execute_reply": "2022-04-21T13:34:51.154297Z"
    },
    "papermill": {
     "duration": 1.577115,
     "end_time": "2022-04-21T13:34:51.156961",
     "exception": false,
     "start_time": "2022-04-21T13:34:49.579846",
     "status": "completed"
    },
    "tags": []
   },
   "outputs": [
    {
     "data": {
      "text/plain": [
       "<All keys matched successfully>"
      ]
     },
     "execution_count": 3,
     "metadata": {},
     "output_type": "execute_result"
    }
   ],
   "source": [
    "import torch\n",
    "from torch.autograd import Variable\n",
    "import torch.nn.functional as F\n",
    "import torch.utils.data as Data\n",
    "\n",
    "PATH = '../input/a4-bound-correction-nn-training/best_model.pt'\n",
    "\n",
    "num_input = 1\n",
    "class Net(torch.nn.Module):\n",
    "    def __init__(self, n_feature, n_hidden, n_output):\n",
    "        super(Net, self).__init__()\n",
    "        self.hidden = torch.nn.Linear(n_feature, n_hidden)   # hidden layer\n",
    "        self.hidden2 = torch.nn.Linear(n_hidden, n_hidden)   # hidden layer\n",
    "        self.predict = torch.nn.Linear(n_hidden, n_output)   # output layer\n",
    "\n",
    "    def forward(self, x):\n",
    "        x = F.relu(self.hidden(x))      # activation function for hidden layer\n",
    "        x = F.relu(self.hidden2(x))\n",
    "        x = self.predict(x)             # linear output\n",
    "        return x\n",
    "net_load = Net(n_feature=num_input, n_hidden=400, n_output=1)     # define the network\n",
    "#net_load = net_load.to(device)\n",
    "\n",
    "net_load.load_state_dict(torch.load(PATH))\n",
    "\n"
   ]
  },
  {
   "cell_type": "code",
   "execution_count": 4,
   "id": "dae95c69",
   "metadata": {
    "execution": {
     "iopub.execute_input": "2022-04-21T13:34:51.197038Z",
     "iopub.status.busy": "2022-04-21T13:34:51.196507Z",
     "iopub.status.idle": "2022-04-21T13:34:51.297093Z",
     "shell.execute_reply": "2022-04-21T13:34:51.295333Z"
    },
    "papermill": {
     "duration": 0.123285,
     "end_time": "2022-04-21T13:34:51.299596",
     "exception": false,
     "start_time": "2022-04-21T13:34:51.176311",
     "status": "completed"
    },
    "tags": []
   },
   "outputs": [
    {
     "name": "stdout",
     "output_type": "stream",
     "text": [
      "tensor([[0.7478]], grad_fn=<AddBackward0>)\n"
     ]
    }
   ],
   "source": [
    "Uncertainty_Bound = torch.tensor(0.80) # The expected UB\n",
    "\n",
    "f = open('../input/a4-bound-correction-nn-training/min_x.pckl', 'rb')\n",
    "min_UBx = pkl.load(f)\n",
    "f.close()\n",
    "\n",
    "f = open('../input/a4-bound-correction-nn-training/max_x.pckl', 'rb')\n",
    "max_UBx = pkl.load(f)\n",
    "f.close()\n",
    "\n",
    "Uncertainty_Bound = (Uncertainty_Bound-min_UBx)/(max_UBx-min_UBx) # Normalizing\n",
    "\n",
    "new_shape = (Uncertainty_Bound.shape[0], 1)\n",
    "Uncertainty_Bound = Uncertainty_Bound.view(new_shape)\n",
    "\n",
    "Uncertainty_Bound_corrected = net_load(Uncertainty_Bound)\n",
    "\n",
    "f = open('../input/a4-bound-correction-nn-training/min_y.pckl', 'rb')\n",
    "min_UBy = pkl.load(f)\n",
    "f.close()\n",
    "\n",
    "f = open('../input/a4-bound-correction-nn-training/max_y.pckl', 'rb')\n",
    "max_UBy = pkl.load(f)\n",
    "f.close()\n",
    "\n",
    "Uncertainty_Bound_corrected = Uncertainty_Bound_corrected*(max_UBy-min_UBy)+min_UBy # DeNormalizing\n",
    "\n",
    "print(Uncertainty_Bound_corrected)\n"
   ]
  },
  {
   "cell_type": "markdown",
   "id": "e63684a4",
   "metadata": {
    "papermill": {
     "duration": 0.01808,
     "end_time": "2022-04-21T13:34:51.336557",
     "exception": false,
     "start_time": "2022-04-21T13:34:51.318477",
     "status": "completed"
    },
    "tags": []
   },
   "source": [
    "## Applying Corrected UB to Traditional System"
   ]
  },
  {
   "cell_type": "code",
   "execution_count": 5,
   "id": "3e37ff3e",
   "metadata": {
    "execution": {
     "iopub.execute_input": "2022-04-21T13:34:51.377037Z",
     "iopub.status.busy": "2022-04-21T13:34:51.375922Z",
     "iopub.status.idle": "2022-04-21T13:34:52.391076Z",
     "shell.execute_reply": "2022-04-21T13:34:52.390096Z"
    },
    "papermill": {
     "duration": 1.037954,
     "end_time": "2022-04-21T13:34:52.393698",
     "exception": false,
     "start_time": "2022-04-21T13:34:51.355744",
     "status": "completed"
    },
    "tags": []
   },
   "outputs": [
    {
     "name": "stdout",
     "output_type": "stream",
     "text": [
      "Statistical UB location: 0.8024\n"
     ]
    }
   ],
   "source": [
    "higher_count=0;\n",
    "bound_values = []\n",
    "for iter1 in range(len(output_)):\n",
    "    indexes=Similar_samples[iter1];\n",
    "    Probability_density =[]\n",
    "    for iter2 in indexes:\n",
    "        Probability_density.append(output_[iter2.astype(np.int64)])\n",
    "    Probability_density = np.sort(Probability_density)\n",
    "    prediction_bound = Probability_density[np.round(Similar_event_count*Uncertainty_Bound_corrected.detach().numpy()).astype(np.int64)-1]\n",
    "    bound_values.append(prediction_bound)\n",
    "    if prediction_bound > output_[iter1]:\n",
    "        higher_count = higher_count + 1;\n",
    "        \n",
    "print('Statistical UB location:', higher_count/len(output_))"
   ]
  },
  {
   "cell_type": "markdown",
   "id": "26e7d231",
   "metadata": {
    "papermill": {
     "duration": 0.018956,
     "end_time": "2022-04-21T13:34:52.431349",
     "exception": false,
     "start_time": "2022-04-21T13:34:52.412393",
     "status": "completed"
    },
    "tags": []
   },
   "source": [
    "## Data Preparation for NN Training"
   ]
  },
  {
   "cell_type": "code",
   "execution_count": 6,
   "id": "2cf12d40",
   "metadata": {
    "execution": {
     "iopub.execute_input": "2022-04-21T13:34:52.470982Z",
     "iopub.status.busy": "2022-04-21T13:34:52.470220Z",
     "iopub.status.idle": "2022-04-21T13:34:52.706428Z",
     "shell.execute_reply": "2022-04-21T13:34:52.705747Z"
    },
    "papermill": {
     "duration": 0.259379,
     "end_time": "2022-04-21T13:34:52.709448",
     "exception": false,
     "start_time": "2022-04-21T13:34:52.450069",
     "status": "completed"
    },
    "tags": []
   },
   "outputs": [
    {
     "name": "stdout",
     "output_type": "stream",
     "text": [
      "Shapes: torch.Size([5000, 3]) torch.Size([5000, 1])\n",
      "tensor(1.1962) tensor(-0.9873) tensor([6.2822, 6.2817, 6.2823]) tensor([4.0563e-04, 6.2234e-05, 9.0123e-04])\n",
      "tensor([6.2818, 6.2816, 6.2814]) tensor(2.1834)\n"
     ]
    }
   ],
   "source": [
    "x=[]\n",
    "y=[]\n",
    "i_val=[]\n",
    "o_val=[]\n",
    "for iter1 in range(len(output_)):\n",
    "    if iter1%10==0:\n",
    "        x.append(input_[iter1])\n",
    "        y.append(bound_values[iter1])\n",
    "        continue\n",
    "    i_val.append(input_[iter1])\n",
    "    o_val.append(bound_values[iter1])\n",
    "x = input_\n",
    "y = bound_values\n",
    "x = torch.tensor(x).float()  \n",
    "y = torch.tensor(y).float() \n",
    "\n",
    "new_shape = (len(y), 1)\n",
    "y = y.view(new_shape)\n",
    "print('Shapes:', x.shape, y.shape)\n",
    "\n",
    "i_val = torch.tensor(i_val).float()  \n",
    "o_val = torch.tensor(o_val).float()   \n",
    "new_shape = (len(o_val), 1)\n",
    "o_val = o_val.view(new_shape)\n",
    "\n",
    "\n",
    "max_y = torch.max(y[:,0])\n",
    "min_y =torch.min(y[:,0])\n",
    "\n",
    "max_x = torch.max(x,dim=0)\n",
    "min_x = torch.min(x,dim=0)\n",
    "\n",
    "print(max_y, min_y, max_x.values, min_x.values)\n",
    "\n",
    "range_y = max_y - min_y\n",
    "range_x = max_x.values - min_x.values\n",
    "\n",
    "print(range_x, range_y)\n",
    "\n",
    "    #Normalizing\n",
    "x = (x - min_x.values)/range_x\n",
    "y = (y - min_y)/range_y\n",
    "\n",
    "    #Normalizing\n",
    "i_val = (i_val - min_x.values)/range_x\n",
    "o_val = (o_val - min_y)/range_y"
   ]
  },
  {
   "cell_type": "markdown",
   "id": "aec91563",
   "metadata": {
    "papermill": {
     "duration": 0.018843,
     "end_time": "2022-04-21T13:34:52.748818",
     "exception": false,
     "start_time": "2022-04-21T13:34:52.729975",
     "status": "completed"
    },
    "tags": []
   },
   "source": [
    "##  NN Training for Direct Input to UB"
   ]
  },
  {
   "cell_type": "code",
   "execution_count": 7,
   "id": "4f6e7cf0",
   "metadata": {
    "execution": {
     "iopub.execute_input": "2022-04-21T13:34:52.792094Z",
     "iopub.status.busy": "2022-04-21T13:34:52.791213Z",
     "iopub.status.idle": "2022-04-21T13:35:56.192974Z",
     "shell.execute_reply": "2022-04-21T13:35:56.192119Z"
    },
    "papermill": {
     "duration": 63.42673,
     "end_time": "2022-04-21T13:35:56.195716",
     "exception": false,
     "start_time": "2022-04-21T13:34:52.768986",
     "status": "completed"
    },
    "tags": []
   },
   "outputs": [
    {
     "name": "stdout",
     "output_type": "stream",
     "text": [
      "Net(\n",
      "  (hidden): Linear(in_features=3, out_features=400, bias=True)\n",
      "  (hidden2): Linear(in_features=400, out_features=400, bias=True)\n",
      "  (predict): Linear(in_features=400, out_features=1, bias=True)\n",
      ")\n",
      "Epoch [200/1000], Loss: 0.0148, Minimum Loss 0.014761, Val Loss 0.014542  \n",
      "Epoch [400/1000], Loss: 0.0134, Minimum Loss 0.013311, Val Loss 0.013295  \n",
      "Epoch [600/1000], Loss: 0.0129, Minimum Loss 0.011812, Val Loss 0.012780  \n",
      "Epoch [800/1000], Loss: 0.0076, Minimum Loss 0.007564, Val Loss 0.007400  \n",
      "Epoch [1000/1000], Loss: 0.0056, Minimum Loss 0.005527, Val Loss 0.005431  \n"
     ]
    }
   ],
   "source": [
    "# torch can only train on Variable, so convert them to Variable\n",
    "x, y = Variable(x), Variable(y)\n",
    "num_input=3\n",
    " \n",
    "class Net(torch.nn.Module):\n",
    "    def __init__(self, n_feature, n_hidden, n_output):\n",
    "        super(Net, self).__init__()\n",
    "        self.hidden = torch.nn.Linear(n_feature, n_hidden)   # hidden layer\n",
    "        self.hidden2 = torch.nn.Linear(n_hidden, n_hidden)   # hidden layer\n",
    "        self.predict = torch.nn.Linear(n_hidden, n_output)   # output layer\n",
    "\n",
    "    def forward(self, x):\n",
    "        x = F.relu(self.hidden(x))      # activation function for hidden layer\n",
    "        x = F.relu(self.hidden2(x))\n",
    "        x = self.predict(x)             # linear output\n",
    "        return x\n",
    "\n",
    "    \n",
    "# use the same net as before      \n",
    "net = Net(n_feature=num_input, n_hidden=400, n_output=1)     # define the network\n",
    "print(net)  # net architecture\n",
    "optimizer = torch.optim.Adam(net.parameters(), lr=0.05)\n",
    "loss_func = torch.nn.MSELoss()  # this is for regression mean squared loss\n",
    "\n",
    "\n",
    "minimum_train_loss = 1e5\n",
    "minimum_val_loss = 1e5\n",
    "EPOCH = 1000\n",
    "\n",
    "# start training\n",
    "for epoch in range(EPOCH):\n",
    "  \n",
    "    prediction = net(x)     # input x and predict based on x\n",
    "\n",
    "    loss = loss_func(prediction, y)     # must be (1. nn output, 2. target)\n",
    "\n",
    "    optimizer.zero_grad()   # clear gradients for next train\n",
    "    loss.backward()         # backpropagation, compute gradients\n",
    "    optimizer.step()        # apply gradients\n",
    "    \n",
    "    if loss<minimum_train_loss:\n",
    "        minimum_train_loss =loss\n",
    "        net_opt = net\n",
    "    \n",
    "    if epoch%200 == 199:\n",
    "        prediction = net_opt(i_val)\n",
    "        loss_val = loss_func(prediction, o_val)\n",
    "        if loss_val<minimum_val_loss:\n",
    "            minimum_val_loss = loss_val\n",
    "            net_opt_val = net_opt\n",
    "        print (\"Epoch [{}/{}], Loss: {:.4f}, Minimum Loss {:.6f}, Val Loss {:.6f}  \"  .format(epoch+1, EPOCH, loss, minimum_train_loss, minimum_val_loss))"
   ]
  },
  {
   "cell_type": "markdown",
   "id": "68f11600",
   "metadata": {
    "papermill": {
     "duration": 0.021557,
     "end_time": "2022-04-21T13:35:56.240770",
     "exception": false,
     "start_time": "2022-04-21T13:35:56.219213",
     "status": "completed"
    },
    "tags": []
   },
   "source": [
    "## Statistical performance of NN on Training Set"
   ]
  },
  {
   "cell_type": "code",
   "execution_count": 8,
   "id": "1399d669",
   "metadata": {
    "execution": {
     "iopub.execute_input": "2022-04-21T13:35:56.286456Z",
     "iopub.status.busy": "2022-04-21T13:35:56.286158Z",
     "iopub.status.idle": "2022-04-21T13:35:57.520576Z",
     "shell.execute_reply": "2022-04-21T13:35:57.519395Z"
    },
    "papermill": {
     "duration": 1.26012,
     "end_time": "2022-04-21T13:35:57.522905",
     "exception": false,
     "start_time": "2022-04-21T13:35:56.262785",
     "status": "completed"
    },
    "tags": []
   },
   "outputs": [
    {
     "name": "stdout",
     "output_type": "stream",
     "text": [
      "Statistical UB location for Direct NN: 0.8186\n"
     ]
    }
   ],
   "source": [
    "higher_count=0;\n",
    "\n",
    "for iter1 in range(len(output_)):\n",
    "    Net_input = torch.tensor(input_[iter1]).float() \n",
    "    Net_input = (Net_input - min_x.values)/range_x # Normalizing\n",
    "    \n",
    "    prediction_bound = net_opt_val(Net_input) # Apply Net\n",
    "    \n",
    "    prediction_bound = prediction_bound*range_y+min_y # Denormalizing    \n",
    "    \n",
    "    if prediction_bound > output_[iter1]:\n",
    "        higher_count = higher_count + 1;\n",
    "        \n",
    "print('Statistical UB location for Direct NN:', higher_count/len(output_))"
   ]
  },
  {
   "cell_type": "markdown",
   "id": "40531239",
   "metadata": {
    "papermill": {
     "duration": 0.021268,
     "end_time": "2022-04-21T13:35:57.566058",
     "exception": false,
     "start_time": "2022-04-21T13:35:57.544790",
     "status": "completed"
    },
    "tags": []
   },
   "source": [
    "## Statistical performance of NN on Validation Set"
   ]
  },
  {
   "cell_type": "code",
   "execution_count": 9,
   "id": "0e1701ce",
   "metadata": {
    "execution": {
     "iopub.execute_input": "2022-04-21T13:35:57.611851Z",
     "iopub.status.busy": "2022-04-21T13:35:57.611086Z",
     "iopub.status.idle": "2022-04-21T13:35:58.648038Z",
     "shell.execute_reply": "2022-04-21T13:35:58.647169Z"
    },
    "papermill": {
     "duration": 1.063572,
     "end_time": "2022-04-21T13:35:58.651367",
     "exception": false,
     "start_time": "2022-04-21T13:35:57.587795",
     "status": "completed"
    },
    "tags": []
   },
   "outputs": [
    {
     "name": "stdout",
     "output_type": "stream",
     "text": [
      "Statistical UB location for Direct NN: 0.8185\n"
     ]
    }
   ],
   "source": [
    "input_=[]\n",
    "output_=[]\n",
    "val_df = pd.read_csv(val_csv_path)\n",
    "\n",
    "for row in val_df.iloc:\n",
    "    input_.append((row[0:len(row)-1]).astype(float))\n",
    "    output_.append(row[-1])\n",
    "    \n",
    "higher_count=0;\n",
    "\n",
    "for iter1 in range(len(output_)):\n",
    "    Net_input = torch.tensor(input_[iter1]).float() \n",
    "    Net_input = (Net_input - min_x.values)/range_x # Normalizing\n",
    "    \n",
    "    prediction_bound = net_opt_val(Net_input) # Apply Net\n",
    "    \n",
    "    prediction_bound = prediction_bound*range_y+min_y # Denormalizing    \n",
    "    \n",
    "    if prediction_bound > output_[iter1]:\n",
    "        higher_count = higher_count + 1;\n",
    "        \n",
    "print('Statistical UB location for Direct NN:', higher_count/len(output_))"
   ]
  },
  {
   "cell_type": "markdown",
   "id": "e74c88b7",
   "metadata": {
    "papermill": {
     "duration": 0.022235,
     "end_time": "2022-04-21T13:35:58.697187",
     "exception": false,
     "start_time": "2022-04-21T13:35:58.674952",
     "status": "completed"
    },
    "tags": []
   },
   "source": [
    "## Statistical performance of NN on Test Set"
   ]
  },
  {
   "cell_type": "code",
   "execution_count": 10,
   "id": "1ff3a578",
   "metadata": {
    "execution": {
     "iopub.execute_input": "2022-04-21T13:35:58.744175Z",
     "iopub.status.busy": "2022-04-21T13:35:58.743486Z",
     "iopub.status.idle": "2022-04-21T13:35:59.631054Z",
     "shell.execute_reply": "2022-04-21T13:35:59.630172Z"
    },
    "papermill": {
     "duration": 0.914501,
     "end_time": "2022-04-21T13:35:59.633770",
     "exception": false,
     "start_time": "2022-04-21T13:35:58.719269",
     "status": "completed"
    },
    "tags": []
   },
   "outputs": [
    {
     "name": "stdout",
     "output_type": "stream",
     "text": [
      "Statistical UB location for Direct NN: 0.8135\n"
     ]
    }
   ],
   "source": [
    "input_=[]\n",
    "output_=[]\n",
    "test_df = pd.read_csv(test_csv_path)\n",
    "\n",
    "for row in test_df.iloc:\n",
    "    input_.append((row[0:len(row)-1]).astype(float))\n",
    "    output_.append(row[-1])\n",
    "    \n",
    "higher_count=0;\n",
    "\n",
    "for iter1 in range(len(output_)):\n",
    "    Net_input = torch.tensor(input_[iter1]).float() \n",
    "    Net_input = (Net_input - min_x.values)/range_x # Normalizing\n",
    "    \n",
    "    prediction_bound = net_opt_val(Net_input) # Apply Net\n",
    "    \n",
    "    prediction_bound = prediction_bound*range_y+min_y # Denormalizing    \n",
    "    \n",
    "    if prediction_bound > output_[iter1]:\n",
    "        higher_count = higher_count + 1;\n",
    "        \n",
    "print('Statistical UB location for Direct NN:', higher_count/len(output_))"
   ]
  }
 ],
 "metadata": {
  "kernelspec": {
   "display_name": "Python 3",
   "language": "python",
   "name": "python3"
  },
  "language_info": {
   "codemirror_mode": {
    "name": "ipython",
    "version": 3
   },
   "file_extension": ".py",
   "mimetype": "text/x-python",
   "name": "python",
   "nbconvert_exporter": "python",
   "pygments_lexer": "ipython3",
   "version": "3.7.12"
  },
  "papermill": {
   "default_parameters": {},
   "duration": 83.710261,
   "end_time": "2022-04-21T13:36:00.779683",
   "environment_variables": {},
   "exception": null,
   "input_path": "__notebook__.ipynb",
   "output_path": "__notebook__.ipynb",
   "parameters": {},
   "start_time": "2022-04-21T13:34:37.069422",
   "version": "2.3.4"
  }
 },
 "nbformat": 4,
 "nbformat_minor": 5
}
