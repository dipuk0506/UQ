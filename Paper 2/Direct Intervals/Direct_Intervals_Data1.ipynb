{
 "cells": [
  {
   "cell_type": "markdown",
   "id": "2ad3efd0",
   "metadata": {
    "papermill": {
     "duration": 0.00585,
     "end_time": "2022-06-12T06:05:58.889988",
     "exception": false,
     "start_time": "2022-06-12T06:05:58.884138",
     "status": "completed"
    },
    "tags": []
   },
   "source": [
    "# Distribution Free Direct Intervals \n",
    "\n",
    "### This notebook is written with the help of following repository:\n",
    "### https://github.com/TeaPearce/Deep_Learning_Prediction_Intervals\n",
    "\n",
    "### We have changed the code to PyTorch. Also, changed the cost function.\n",
    "\n",
    "### Source of data\n",
    "### https://www.kaggle.com/code/dipuk0506/toy-dataset-for-regression-and-uq\n",
    "\n",
    "## References:\n",
    "[Code Concept] Pearce, T., Brintrup, A., Zaki, M., & Neely, A. (2018, July). High-quality prediction intervals for deep learning: A distribution-free, ensembled approach. In International conference on machine learning (pp. 4075-4084). PMLR.\n",
    "\n",
    "[Cost Function] Kabir, H. D., Khosravi, A., Kavousi-Fard, A., Nahavandi, S., & Srinivasan, D. (2021). Optimal uncertainty-guided neural network training. Applied Soft Computing, 99, 106878.\n",
    "\n",
    "[Data Set] Kabir, H. M. D., Abdar, M., Khosravi, A., Nahavandi, D., Mohamed, S., Srinivasan, D., ... & Suganthan, P. N. (2021). Synthetic Datasets for Numeric Uncertainty Quantification.\n",
    "\n",
    "[Pre-Train with Margin] Kabir, HM Dipu, et al. \"Neural network training for uncertainty quantification over time-range.\" IEEE Transactions on Emerging Topics in Computational Intelligence 5.5 (2020): 768-779.\n"
   ]
  },
  {
   "cell_type": "markdown",
   "id": "6c31edfe",
   "metadata": {
    "papermill": {
     "duration": 0.003756,
     "end_time": "2022-06-12T06:05:58.901529",
     "exception": false,
     "start_time": "2022-06-12T06:05:58.897773",
     "status": "completed"
    },
    "tags": []
   },
   "source": [
    "## 0. Modules"
   ]
  },
  {
   "cell_type": "code",
   "execution_count": 1,
   "id": "8a2d1ec8",
   "metadata": {
    "execution": {
     "iopub.execute_input": "2022-06-12T06:05:58.912907Z",
     "iopub.status.busy": "2022-06-12T06:05:58.911551Z",
     "iopub.status.idle": "2022-06-12T06:06:07.574403Z",
     "shell.execute_reply": "2022-06-12T06:06:07.573195Z"
    },
    "papermill": {
     "duration": 8.672097,
     "end_time": "2022-06-12T06:06:07.577699",
     "exception": false,
     "start_time": "2022-06-12T06:05:58.905602",
     "status": "completed"
    },
    "tags": []
   },
   "outputs": [],
   "source": [
    "import numpy as np\n",
    "import matplotlib.pyplot as plt\n",
    "import tensorflow as tf\n",
    "import pandas as pd\n",
    "import torch\n",
    "import torch.nn.functional as F\n",
    "import matplotlib.pyplot as plt\n",
    "import time"
   ]
  },
  {
   "cell_type": "markdown",
   "id": "b5d08e22",
   "metadata": {
    "papermill": {
     "duration": 0.003824,
     "end_time": "2022-06-12T06:06:07.585970",
     "exception": false,
     "start_time": "2022-06-12T06:06:07.582146",
     "status": "completed"
    },
    "tags": []
   },
   "source": [
    "## Considerations"
   ]
  },
  {
   "cell_type": "code",
   "execution_count": 2,
   "id": "c03a774c",
   "metadata": {
    "execution": {
     "iopub.execute_input": "2022-06-12T06:06:07.596649Z",
     "iopub.status.busy": "2022-06-12T06:06:07.595834Z",
     "iopub.status.idle": "2022-06-12T06:06:07.602009Z",
     "shell.execute_reply": "2022-06-12T06:06:07.600798Z"
    },
    "papermill": {
     "duration": 0.014136,
     "end_time": "2022-06-12T06:06:07.604257",
     "exception": false,
     "start_time": "2022-06-12T06:06:07.590121",
     "status": "completed"
    },
    "tags": []
   },
   "outputs": [],
   "source": [
    "# Training\n",
    "EPOCH_initial = 1000\n",
    "EPOCH = 5000\n",
    "Error_th = 1e-3\n",
    "Margin =0.25\n",
    "\n",
    "# NN\n",
    "hidden =1000\n",
    "\n",
    "# hyperparameters of cost function\n",
    "alpha_ = 0.05  # capturing (1-alpha)% of samples\n",
    "delta_ = alpha_/50 # delts in loss fn\n",
    "beta_1 = 1000 # PICP mismatch penalty\n",
    "beta_2 = 200 # Bound swap penalty\n",
    "rho_ = 1 # weight on PINAFD"
   ]
  },
  {
   "cell_type": "markdown",
   "id": "9cedf92e",
   "metadata": {
    "papermill": {
     "duration": 0.003861,
     "end_time": "2022-06-12T06:06:07.612300",
     "exception": false,
     "start_time": "2022-06-12T06:06:07.608439",
     "status": "completed"
    },
    "tags": []
   },
   "source": [
    "## 1. Data"
   ]
  },
  {
   "cell_type": "code",
   "execution_count": 3,
   "id": "97dc8eda",
   "metadata": {
    "execution": {
     "iopub.execute_input": "2022-06-12T06:06:07.622870Z",
     "iopub.status.busy": "2022-06-12T06:06:07.622339Z",
     "iopub.status.idle": "2022-06-12T06:06:07.687700Z",
     "shell.execute_reply": "2022-06-12T06:06:07.686762Z"
    },
    "papermill": {
     "duration": 0.073335,
     "end_time": "2022-06-12T06:06:07.690219",
     "exception": false,
     "start_time": "2022-06-12T06:06:07.616884",
     "status": "completed"
    },
    "tags": []
   },
   "outputs": [
    {
     "data": {
      "text/html": [
       "<div>\n",
       "<style scoped>\n",
       "    .dataframe tbody tr th:only-of-type {\n",
       "        vertical-align: middle;\n",
       "    }\n",
       "\n",
       "    .dataframe tbody tr th {\n",
       "        vertical-align: top;\n",
       "    }\n",
       "\n",
       "    .dataframe thead th {\n",
       "        text-align: right;\n",
       "    }\n",
       "</style>\n",
       "<table border=\"1\" class=\"dataframe\">\n",
       "  <thead>\n",
       "    <tr style=\"text-align: right;\">\n",
       "      <th></th>\n",
       "      <th>Input1</th>\n",
       "      <th>Output</th>\n",
       "    </tr>\n",
       "  </thead>\n",
       "  <tbody>\n",
       "    <tr>\n",
       "      <th>0</th>\n",
       "      <td>0.000000</td>\n",
       "      <td>0.037112</td>\n",
       "    </tr>\n",
       "    <tr>\n",
       "      <th>1</th>\n",
       "      <td>0.001257</td>\n",
       "      <td>0.005684</td>\n",
       "    </tr>\n",
       "    <tr>\n",
       "      <th>2</th>\n",
       "      <td>0.002513</td>\n",
       "      <td>-0.017941</td>\n",
       "    </tr>\n",
       "    <tr>\n",
       "      <th>3</th>\n",
       "      <td>0.003770</td>\n",
       "      <td>0.020993</td>\n",
       "    </tr>\n",
       "    <tr>\n",
       "      <th>4</th>\n",
       "      <td>0.005027</td>\n",
       "      <td>-0.016084</td>\n",
       "    </tr>\n",
       "  </tbody>\n",
       "</table>\n",
       "</div>"
      ],
      "text/plain": [
       "     Input1    Output\n",
       "0  0.000000  0.037112\n",
       "1  0.001257  0.005684\n",
       "2  0.002513 -0.017941\n",
       "3  0.003770  0.020993\n",
       "4  0.005027 -0.016084"
      ]
     },
     "execution_count": 3,
     "metadata": {},
     "output_type": "execute_result"
    }
   ],
   "source": [
    "train_csv_path = '../input/toy-dataset-for-regression-and-uq/Data1_Train.csv'\n",
    "test_csv_path = '../input/toy-dataset-for-regression-and-uq/Data1_Test.csv'\n",
    "val_csv_path = '../input/toy-dataset-for-regression-and-uq/Data1_Val.csv'\n",
    "\n",
    "train_df = pd.read_csv(train_csv_path)\n",
    "val_df = pd.read_csv(val_csv_path)\n",
    "train_df.head()"
   ]
  },
  {
   "cell_type": "code",
   "execution_count": 4,
   "id": "52195f4b",
   "metadata": {
    "execution": {
     "iopub.execute_input": "2022-06-12T06:06:07.702218Z",
     "iopub.status.busy": "2022-06-12T06:06:07.700716Z",
     "iopub.status.idle": "2022-06-12T06:06:09.247114Z",
     "shell.execute_reply": "2022-06-12T06:06:09.245931Z"
    },
    "papermill": {
     "duration": 1.554581,
     "end_time": "2022-06-12T06:06:09.249509",
     "exception": false,
     "start_time": "2022-06-12T06:06:07.694928",
     "status": "completed"
    },
    "tags": []
   },
   "outputs": [
    {
     "name": "stdout",
     "output_type": "stream",
     "text": [
      "Input Parameters 1\n"
     ]
    }
   ],
   "source": [
    "input_=[]\n",
    "output_=[]\n",
    "for row in train_df.iloc:\n",
    "    input_.append((row[0:len(row)-1]).astype(float))\n",
    "    output_.append(row[-1])\n",
    "    \n",
    "i_val=[]\n",
    "o_val=[]\n",
    "for row in val_df.iloc:\n",
    "    i_val.append((row[0:len(row)-1]).astype(float))\n",
    "    o_val.append(row[-1])\n",
    "    \n",
    "num_input = len(row)-1;\n",
    "print(\"Input Parameters\", num_input)\n"
   ]
  },
  {
   "cell_type": "code",
   "execution_count": 5,
   "id": "6384713d",
   "metadata": {
    "execution": {
     "iopub.execute_input": "2022-06-12T06:06:09.260615Z",
     "iopub.status.busy": "2022-06-12T06:06:09.259611Z",
     "iopub.status.idle": "2022-06-12T06:06:09.364557Z",
     "shell.execute_reply": "2022-06-12T06:06:09.363334Z"
    },
    "papermill": {
     "duration": 0.113082,
     "end_time": "2022-06-12T06:06:09.367047",
     "exception": false,
     "start_time": "2022-06-12T06:06:09.253965",
     "status": "completed"
    },
    "tags": []
   },
   "outputs": [
    {
     "name": "stdout",
     "output_type": "stream",
     "text": [
      "tensor(1.0487) tensor(-1.0480) tensor([6.2819]) tensor([0.])\n",
      "tensor([6.2819]) tensor(2.0967)\n"
     ]
    }
   ],
   "source": [
    "x = torch.tensor(input_).float()  \n",
    "y = torch.tensor(output_).float()   \n",
    "new_shape = (len(y), 1)\n",
    "y = y.view(new_shape)\n",
    "\n",
    "i_val = torch.tensor(i_val).float()  \n",
    "o_val = torch.tensor(o_val).float()   \n",
    "new_shape = (len(o_val), 1)\n",
    "o_val = o_val.view(new_shape)\n",
    "\n",
    "max_y = torch.max(y[:,0])\n",
    "min_y =torch.min(y[:,0])\n",
    "\n",
    "max_x = torch.max(x,dim=0)\n",
    "min_x = torch.min(x,dim=0)\n",
    "\n",
    "print(max_y, min_y, max_x.values, min_x.values)\n",
    "\n",
    "range_y = max_y - min_y\n",
    "range_x = max_x.values - min_x.values\n",
    "\n",
    "print(range_x, range_y)\n",
    "\n",
    "    #Normalizing\n",
    "x = (x - min_x.values)/range_x\n",
    "y = (y - min_y)/range_y\n",
    "\n",
    "    #Normalizing\n",
    "i_val = (i_val - min_x.values)/range_x\n",
    "o_val = (o_val - min_y)/range_y\n",
    "\n",
    "# create some data\n",
    "\n",
    "X_train = x\n",
    "y_train = y"
   ]
  },
  {
   "cell_type": "code",
   "execution_count": 6,
   "id": "fef9c560",
   "metadata": {
    "execution": {
     "iopub.execute_input": "2022-06-12T06:06:09.377812Z",
     "iopub.status.busy": "2022-06-12T06:06:09.377338Z",
     "iopub.status.idle": "2022-06-12T06:06:09.388431Z",
     "shell.execute_reply": "2022-06-12T06:06:09.386980Z"
    },
    "papermill": {
     "duration": 0.019548,
     "end_time": "2022-06-12T06:06:09.391050",
     "exception": false,
     "start_time": "2022-06-12T06:06:09.371502",
     "status": "completed"
    },
    "tags": []
   },
   "outputs": [],
   "source": [
    "# define loss fn\n",
    "def loss_objective(prediction, y):\n",
    "    '''Loss Optimal LUBE'''\n",
    "    y_u = prediction[:,0]\n",
    "    y_l = prediction[:,1]\n",
    "    length = len(y)\n",
    "    \n",
    "    pinaw = torch.mean(torch.abs(y_u-y_l))\n",
    "    pinafd = torch.zeros(1)\n",
    "    bsp = 0 # Bound Swap Penalty\n",
    "    \n",
    "    coverage_count = 0\n",
    "    \n",
    "    for iter1 in range(length):\n",
    "        c = 0\n",
    "        if y_u[iter1] < y_l[iter1]:\n",
    "            bsp = bsp + torch.abs(y_l[iter1] - y_u[iter1])\n",
    "        if y_u[iter1] >= y[iter1] and y_l[iter1] < y[iter1]:\n",
    "            c = 1\n",
    "            coverage_count = coverage_count + 1\n",
    "        if c == 0:\n",
    "            pinafd = pinafd + torch.min(torch.abs(y_u[iter1] - y[iter1]), torch.abs(y_l[iter1] - y[iter1]))\n",
    "            # Minimum of difference becomes the failure distance\n",
    "            \n",
    "    pinafd = pinafd/(length - coverage_count + 1e-10)\n",
    "    # 1e-10 is for avoiding the divided by zero error for 100% coverage\n",
    "    picp = coverage_count/length\n",
    "            \n",
    "   \n",
    "    Loss_S = pinaw + rho_*pinafd + beta_1*np.square(1-alpha_+delta_-picp) + beta_2*bsp\n",
    "    \n",
    "    return Loss_S"
   ]
  },
  {
   "cell_type": "code",
   "execution_count": 7,
   "id": "83f865d2",
   "metadata": {
    "execution": {
     "iopub.execute_input": "2022-06-12T06:06:09.402802Z",
     "iopub.status.busy": "2022-06-12T06:06:09.401690Z",
     "iopub.status.idle": "2022-06-12T06:06:09.426905Z",
     "shell.execute_reply": "2022-06-12T06:06:09.425506Z"
    },
    "papermill": {
     "duration": 0.033715,
     "end_time": "2022-06-12T06:06:09.429359",
     "exception": false,
     "start_time": "2022-06-12T06:06:09.395644",
     "status": "completed"
    },
    "tags": []
   },
   "outputs": [
    {
     "name": "stdout",
     "output_type": "stream",
     "text": [
      "Net_2l(\n",
      "  (hidden): Linear(in_features=1, out_features=1000, bias=True)\n",
      "  (hidden2): Linear(in_features=1000, out_features=1000, bias=True)\n",
      "  (predict): Linear(in_features=1000, out_features=2, bias=True)\n",
      ")\n"
     ]
    }
   ],
   "source": [
    "class Net_2l(torch.nn.Module):\n",
    "    def __init__(self, n_feature, n_hidden, n_output):\n",
    "        super(Net_2l, self).__init__()\n",
    "        self.hidden = torch.nn.Linear(n_feature, n_hidden)   # hidden layer\n",
    "        self.hidden2 = torch.nn.Linear(n_hidden, n_hidden)   # hidden layer\n",
    "        self.predict = torch.nn.Linear(n_hidden, n_output)   # output layer\n",
    "\n",
    "    def forward(self, x):\n",
    "        x = F.relu(self.hidden(x))      # activation function for hidden layer\n",
    "        x = F.relu(self.hidden2(x))\n",
    "        x = self.predict(x)             # linear output\n",
    "        return x\n",
    "\n",
    "# use the same net as before      \n",
    "net = Net_2l(n_feature=num_input, n_hidden=hidden, n_output=2)     # define the network\n",
    "print(net)  # net architecture"
   ]
  },
  {
   "cell_type": "markdown",
   "id": "e2109b6f",
   "metadata": {
    "papermill": {
     "duration": 0.0042,
     "end_time": "2022-06-12T06:06:09.438364",
     "exception": false,
     "start_time": "2022-06-12T06:06:09.434164",
     "status": "completed"
    },
    "tags": []
   },
   "source": [
    "### Initial training"
   ]
  },
  {
   "cell_type": "code",
   "execution_count": 8,
   "id": "09b7dbf0",
   "metadata": {
    "execution": {
     "iopub.execute_input": "2022-06-12T06:06:09.449770Z",
     "iopub.status.busy": "2022-06-12T06:06:09.449279Z",
     "iopub.status.idle": "2022-06-12T06:10:35.106241Z",
     "shell.execute_reply": "2022-06-12T06:10:35.105056Z"
    },
    "papermill": {
     "duration": 265.670657,
     "end_time": "2022-06-12T06:10:35.113583",
     "exception": false,
     "start_time": "2022-06-12T06:06:09.442926",
     "status": "completed"
    },
    "tags": []
   },
   "outputs": [
    {
     "name": "stdout",
     "output_type": "stream",
     "text": [
      "Epoch [100/5000], \n",
      "Loss: 0.0391 Minimum Loss: 0.039148 Val Loss: 0.039128\n",
      "Epoch [200/5000], \n",
      "Loss: 0.0226 Minimum Loss: 0.015838 Val Loss: 0.028629\n",
      "Epoch [300/5000], \n",
      "Loss: 0.0128 Minimum Loss: 0.012774 Val Loss: 0.012711\n",
      "Epoch [400/5000], \n",
      "Loss: 0.0205 Minimum Loss: 0.011308 Val Loss: 0.012711\n",
      "Epoch [500/5000], \n",
      "Loss: 0.0093 Minimum Loss: 0.009297 Val Loss: 0.009251\n",
      "Epoch [600/5000], \n",
      "Loss: 0.0125 Minimum Loss: 0.008093 Val Loss: 0.009251\n",
      "Epoch [700/5000], \n",
      "Loss: 0.0062 Minimum Loss: 0.006245 Val Loss: 0.00621\n",
      "Epoch [800/5000], \n",
      "Loss: 0.0051 Minimum Loss: 0.005085 Val Loss: 0.005289\n",
      "Epoch [900/5000], \n",
      "Loss: 0.0039 Minimum Loss: 0.003883 Val Loss: 0.003856\n",
      "Epoch [1000/5000], \n",
      "Loss: 0.0031 Minimum Loss: 0.003025 Val Loss: 0.003052\n",
      "After Initial Training:  Loss: 0.0031 Minimum Loss: 0.003025 Val Loss: 0.003052\n"
     ]
    }
   ],
   "source": [
    "y_target = torch.zeros(len(y),2)\n",
    "y_target[:,0] = y[:,0] + Margin\n",
    "y_target[:,1] = y[:,0] - Margin\n",
    "\n",
    "y_t_val = torch.zeros(len(o_val),2)\n",
    "y_t_val[:,0] = o_val[:,0] + Margin\n",
    "y_t_val[:,1] = o_val[:,0] - Margin\n",
    "\n",
    "\n",
    "optimizer = torch.optim.Adam(net.parameters(), lr=0.05)\n",
    "loss_func = torch.nn.MSELoss()  # this is for regression mean squared loss\n",
    "\n",
    "minimum_train_loss = 1e5 #High initial values\n",
    "minimum_val_loss = 1e5\n",
    "\n",
    "\n",
    "# start training\n",
    "for epoch in range(EPOCH_initial):\n",
    "  \n",
    "    prediction = net(x)     # input x and predict based on x\n",
    "    #print(prediction.shape, y.shape)\n",
    "\n",
    "    loss = loss_func(prediction,y_target)     # must be (1. nn output, 2. target)\n",
    "\n",
    "    optimizer.zero_grad()   # clear gradients for next train\n",
    "    loss.backward()         # backpropagation, compute gradients\n",
    "    optimizer.step()        # apply gradients\n",
    "    \n",
    "    if loss<minimum_train_loss:\n",
    "        minimum_train_loss =loss\n",
    "        net_opt_train = net\n",
    "    \n",
    "    if epoch%100 == 99:\n",
    "        prediction = net_opt_train(i_val)\n",
    "        loss_val = loss_func(prediction, y_t_val)\n",
    "        if loss_val<minimum_val_loss:\n",
    "            minimum_val_loss = loss_val\n",
    "            net_opt_val = net_opt_train\n",
    "        \n",
    "        print (\"Epoch [{}/{}], \"  .format(epoch+1, EPOCH))\n",
    "        print(\"Loss:\",loss.data.numpy().round(4), \"Minimum Loss:\",minimum_train_loss.data.numpy().round(6),\"Val Loss:\",minimum_val_loss.data.numpy().round(6))\n",
    "        if minimum_val_loss.data.numpy() < Error_th:\n",
    "            break\n",
    "        \n",
    "net = net_opt_val        \n",
    "print(\"After Initial Training:  Loss:\",loss.data.numpy().round(4), \"Minimum Loss:\",minimum_train_loss.data.numpy().round(6),\"Val Loss:\",minimum_val_loss.data.numpy().round(6))"
   ]
  },
  {
   "cell_type": "code",
   "execution_count": 9,
   "id": "347c4be4",
   "metadata": {
    "execution": {
     "iopub.execute_input": "2022-06-12T06:10:35.126002Z",
     "iopub.status.busy": "2022-06-12T06:10:35.125264Z",
     "iopub.status.idle": "2022-06-12T06:10:35.528846Z",
     "shell.execute_reply": "2022-06-12T06:10:35.527777Z"
    },
    "papermill": {
     "duration": 0.412486,
     "end_time": "2022-06-12T06:10:35.531014",
     "exception": false,
     "start_time": "2022-06-12T06:10:35.118528",
     "status": "completed"
    },
    "tags": []
   },
   "outputs": [
    {
     "data": {
      "image/png": "[encoded data removed]",
      "text/plain": [
       "<Figure size 432x288 with 1 Axes>"
      ]
     },
     "metadata": {
      "needs_background": "light"
     },
     "output_type": "display_data"
    }
   ],
   "source": [
    "# plot and view some predictions\n",
    "y_pred = net_opt_val(x).detach().numpy()\n",
    "y_u_pred = y_pred[:,0]\n",
    "y_l_pred = y_pred[:,1]\n",
    "\n",
    "plt.scatter(x[:,0],y[:,0], s=0.5)\n",
    "plt.scatter(x[:,0], y_u_pred, color='r', s=0.05) # upper boundary prediction\n",
    "plt.scatter(x[:,0], y_l_pred, color='g', s=0.05) # lower boundary prediction\n",
    "plt.title('After Initial Training')\n",
    "plt.xlim(0,1)\n",
    "plt.show()"
   ]
  },
  {
   "cell_type": "code",
   "execution_count": 10,
   "id": "2cde6c9f",
   "metadata": {
    "execution": {
     "iopub.execute_input": "2022-06-12T06:10:35.543765Z",
     "iopub.status.busy": "2022-06-12T06:10:35.543281Z",
     "iopub.status.idle": "2022-06-12T06:56:26.146557Z",
     "shell.execute_reply": "2022-06-12T06:56:26.145299Z"
    },
    "papermill": {
     "duration": 2750.621331,
     "end_time": "2022-06-12T06:56:26.157700",
     "exception": false,
     "start_time": "2022-06-12T06:10:35.536369",
     "status": "completed"
    },
    "tags": []
   },
   "outputs": [
    {
     "name": "stdout",
     "output_type": "stream",
     "text": [
      "In new cost: Training Loss: [2.857584] Val Loss: [2.857584]\n",
      "Epoch [100/5000], \n",
      "Loss: [2.7924] Minimum Loss: [2.750926] Val Loss: [2.791977]\n",
      "Epoch [200/5000], \n",
      "Loss: [2.7599] Minimum Loss: [2.701898] Val Loss: [2.759587]\n",
      "Epoch [300/5000], \n",
      "Loss: [2.7076] Minimum Loss: [2.669044] Val Loss: [2.726721]\n",
      "Epoch [400/5000], \n",
      "Loss: [2.6938] Minimum Loss: [2.63522] Val Loss: [2.693476]\n",
      "Epoch [500/5000], \n",
      "Loss: [2.6608] Minimum Loss: [2.622246] Val Loss: [2.660456]\n",
      "Epoch [600/5000], \n",
      "Loss: [2.627] Minimum Loss: [2.610404] Val Loss: [2.626666]\n",
      "Epoch [700/5000], \n",
      "Loss: [2.5906] Minimum Loss: [2.549292] Val Loss: [2.590205]\n",
      "Epoch [800/5000], \n",
      "Loss: [2.5505] Minimum Loss: [2.543497] Val Loss: [2.550091]\n",
      "Epoch [900/5000], \n",
      "Loss: [2.5066] Minimum Loss: [2.489157] Val Loss: [2.506176]\n",
      "Epoch [1000/5000], \n",
      "Loss: [1.8037] Minimum Loss: [1.803744] Val Loss: [1.896135]\n",
      "Epoch [1100/5000], \n",
      "Loss: [3.0806] Minimum Loss: [3.21341] Val Loss: [1.896135]\n",
      "Epoch [1200/5000], \n",
      "Loss: [62.7653] Minimum Loss: [63.56901] Val Loss: [1.896135]\n",
      "Epoch [1300/5000], \n",
      "Loss: [325.2399] Minimum Loss: [324.78378] Val Loss: [1.896135]\n",
      "Epoch [1400/5000], \n",
      "Loss: [268.432] Minimum Loss: [267.8108] Val Loss: [1.896135]\n",
      "Epoch [1500/5000], \n",
      "Loss: [222.5131] Minimum Loss: [222.32445] Val Loss: [1.896135]\n",
      "Epoch [1600/5000], \n",
      "Loss: [197.9519] Minimum Loss: [197.95184] Val Loss: [1.896135]\n",
      "Epoch [1700/5000], \n",
      "Loss: [187.9379] Minimum Loss: [187.7646] Val Loss: [1.896135]\n",
      "Epoch [1800/5000], \n",
      "Loss: [173.3228] Minimum Loss: [173.32277] Val Loss: [1.896135]\n",
      "Epoch [1900/5000], \n",
      "Loss: [157.39] Minimum Loss: [157.54857] Val Loss: [1.896135]\n",
      "Epoch [2000/5000], \n",
      "Loss: [145.7145] Minimum Loss: [145.5619] Val Loss: [1.896135]\n",
      "Epoch [2100/5000], \n",
      "Loss: [131.4274] Minimum Loss: [131.42738] Val Loss: [1.896135]\n",
      "Epoch [2200/5000], \n",
      "Loss: [118.0147] Minimum Loss: [118.0147] Val Loss: [1.896135]\n",
      "Epoch [2300/5000], \n",
      "Loss: [101.9775] Minimum Loss: [101.849815] Val Loss: [1.896135]\n",
      "Epoch [2400/5000], \n",
      "Loss: [86.9934] Minimum Loss: [86.87549] Val Loss: [1.896135]\n",
      "Epoch [2500/5000], \n",
      "Loss: [71.373] Minimum Loss: [71.266174] Val Loss: [1.896135]\n",
      "Epoch [2600/5000], \n",
      "Loss: [56.0612] Minimum Loss: [55.777683] Val Loss: [1.896135]\n",
      "Epoch [2700/5000], \n",
      "Loss: [41.614] Minimum Loss: [41.451153] Val Loss: [1.896135]\n",
      "Epoch [2800/5000], \n",
      "Loss: [29.8683] Minimum Loss: [29.799288] Val Loss: [1.896135]\n",
      "Epoch [2900/5000], \n",
      "Loss: [22.0387] Minimum Loss: [21.979416] Val Loss: [1.896135]\n",
      "Epoch [3000/5000], \n",
      "Loss: [19.7856] Minimum Loss: [19.785583] Val Loss: [1.896135]\n",
      "Epoch [3100/5000], \n",
      "Loss: [20.5211] Minimum Loss: [20.406857] Val Loss: [1.896135]\n",
      "Epoch [3200/5000], \n",
      "Loss: [22.4515] Minimum Loss: [22.391697] Val Loss: [1.896135]\n",
      "Epoch [3300/5000], \n",
      "Loss: [23.1143] Minimum Loss: [23.053581] Val Loss: [1.896135]\n",
      "Epoch [3400/5000], \n",
      "Loss: [23.2966] Minimum Loss: [23.357603] Val Loss: [1.896135]\n",
      "Epoch [3500/5000], \n",
      "Loss: [24.0957] Minimum Loss: [24.0337] Val Loss: [1.896135]\n",
      "Epoch [3600/5000], \n",
      "Loss: [24.7195] Minimum Loss: [24.719501] Val Loss: [1.896135]\n",
      "Epoch [3700/5000], \n",
      "Loss: [24.8452] Minimum Loss: [24.908163] Val Loss: [1.896135]\n",
      "Epoch [3800/5000], \n",
      "Loss: [25.0976] Minimum Loss: [25.160864] Val Loss: [1.896135]\n",
      "Epoch [3900/5000], \n",
      "Loss: [24.9711] Minimum Loss: [25.034248] Val Loss: [1.896135]\n",
      "Epoch [4000/5000], \n",
      "Loss: [25.4148] Minimum Loss: [25.414785] Val Loss: [1.896135]\n",
      "Epoch [4100/5000], \n",
      "Loss: [25.4147] Minimum Loss: [25.16067] Val Loss: [1.896135]\n",
      "Epoch [4200/5000], \n",
      "Loss: [25.351] Minimum Loss: [25.478376] Val Loss: [1.896135]\n",
      "Epoch [4300/5000], \n",
      "Loss: [25.2874] Minimum Loss: [25.414606] Val Loss: [1.896135]\n",
      "Epoch [4400/5000], \n",
      "Loss: [25.6699] Minimum Loss: [25.542059] Val Loss: [1.896135]\n",
      "Epoch [4500/5000], \n",
      "Loss: [26.0552] Minimum Loss: [25.990803] Val Loss: [1.896135]\n",
      "Epoch [4600/5000], \n",
      "Loss: [26.0552] Minimum Loss: [26.248964] Val Loss: [1.896135]\n",
      "Epoch [4700/5000], \n",
      "Loss: [25.8621] Minimum Loss: [25.990696] Val Loss: [1.896135]\n",
      "Epoch [4800/5000], \n",
      "Loss: [26.3784] Minimum Loss: [26.055077] Val Loss: [1.896135]\n",
      "Epoch [4900/5000], \n",
      "Loss: [25.7337] Minimum Loss: [26.055029] Val Loss: [1.896135]\n",
      "Epoch [5000/5000], \n",
      "Loss: [26.1841] Minimum Loss: [26.378351] Val Loss: [1.896135]\n"
     ]
    }
   ],
   "source": [
    "loss_func = loss_objective\n",
    "optimizer = torch.optim.Adam(net.parameters(), lr=0.00005)\n",
    "\n",
    "prediction = net_opt_val(x)\n",
    "minimum_train_loss = loss_func(prediction,y) \n",
    "prediction = net_opt_val(i_val)\n",
    "minimum_val_loss = loss_func(prediction,o_val) \n",
    "\n",
    "print(\"In new cost: Training Loss:\",minimum_train_loss.data.numpy().round(6),\"Val Loss:\",minimum_val_loss.data.numpy().round(6))\n",
    "\n",
    "# start training\n",
    "for epoch in range(EPOCH):\n",
    "  \n",
    "    prediction = net(x)     # input x and predict based on x\n",
    "    #print(prediction.shape, y.shape)\n",
    "\n",
    "    loss = loss_func(prediction,y)     # must be (1. nn output, 2. target)\n",
    "\n",
    "    optimizer.zero_grad()   # clear gradients for next train\n",
    "    loss.backward()         # backpropagation, compute gradients\n",
    "    optimizer.step()        # apply gradients\n",
    "    \n",
    "    if loss<minimum_train_loss:\n",
    "        minimum_train_loss =loss\n",
    "        net_opt_train = net\n",
    "    \n",
    "    if epoch%100 == 99:\n",
    "        prediction = net_opt_train(i_val)\n",
    "        loss_val = loss_func(prediction, o_val)\n",
    "        if loss_val<minimum_val_loss:\n",
    "            minimum_val_loss = loss_val\n",
    "            net_opt_val = net_opt_train \n",
    "            \n",
    "        if loss_val>minimum_val_loss:    # Returning to previous validation best\n",
    "            net = net_opt_val\n",
    "            minimum_train_loss = loss_func(net_opt_val(x),y) \n",
    "        \n",
    "        print (\"Epoch [{}/{}], \"  .format(epoch+1, EPOCH))\n",
    "        print(\"Loss:\",loss.data.numpy().round(4), \"Minimum Loss:\",minimum_train_loss.data.numpy().round(6),\"Val Loss:\",minimum_val_loss.data.numpy().round(6))"
   ]
  },
  {
   "cell_type": "code",
   "execution_count": 11,
   "id": "20d16947",
   "metadata": {
    "execution": {
     "iopub.execute_input": "2022-06-12T06:56:26.176349Z",
     "iopub.status.busy": "2022-06-12T06:56:26.175849Z",
     "iopub.status.idle": "2022-06-12T06:56:26.699621Z",
     "shell.execute_reply": "2022-06-12T06:56:26.698587Z"
    },
    "papermill": {
     "duration": 0.53651,
     "end_time": "2022-06-12T06:56:26.702451",
     "exception": false,
     "start_time": "2022-06-12T06:56:26.165941",
     "status": "completed"
    },
    "tags": []
   },
   "outputs": [
    {
     "data": {
      "image/png": "[encoded data removed]",
      "text/plain": [
       "<Figure size 432x288 with 1 Axes>"
      ]
     },
     "metadata": {
      "needs_background": "light"
     },
     "output_type": "display_data"
    }
   ],
   "source": [
    "# plot and view some predictions\n",
    "y_pred = net_opt_val(x).detach().numpy()\n",
    "y_u_pred = y_pred[:,0]\n",
    "y_l_pred = y_pred[:,1]\n",
    "\n",
    "plt.scatter(x[:,0],y[:,0], s=0.5)\n",
    "plt.scatter(x[:,0], y_u_pred, color='r', s=0.05) # upper boundary prediction\n",
    "plt.scatter(x[:,0], y_l_pred, color='g', s=0.05) # lower boundary prediction\n",
    "plt.title('After Final Training')\n",
    "plt.xlim(0,1)\n",
    "plt.show()"
   ]
  }
 ],
 "metadata": {
  "kernelspec": {
   "display_name": "Python 3",
   "language": "python",
   "name": "python3"
  },
  "language_info": {
   "codemirror_mode": {
    "name": "ipython",
    "version": 3
   },
   "file_extension": ".py",
   "mimetype": "text/x-python",
   "name": "python",
   "nbconvert_exporter": "python",
   "pygments_lexer": "ipython3",
   "version": "3.7.12"
  },
  "papermill": {
   "default_parameters": {},
   "duration": 3041.571402,
   "end_time": "2022-06-12T06:56:29.485774",
   "environment_variables": {},
   "exception": null,
   "input_path": "__notebook__.ipynb",
   "output_path": "__notebook__.ipynb",
   "parameters": {},
   "start_time": "2022-06-12T06:05:47.914372",
   "version": "2.3.4"
  }
 },
 "nbformat": 4,
 "nbformat_minor": 5
}
