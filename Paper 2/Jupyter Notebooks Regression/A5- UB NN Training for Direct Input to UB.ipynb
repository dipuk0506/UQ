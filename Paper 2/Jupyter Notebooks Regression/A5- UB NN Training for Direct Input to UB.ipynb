{
 "cells": [
  {
   "cell_type": "markdown",
   "id": "43fa3add",
   "metadata": {
    "papermill": {
     "duration": 0.019629,
     "end_time": "2022-06-13T03:37:14.978957",
     "exception": false,
     "start_time": "2022-06-13T03:37:14.959328",
     "status": "completed"
    },
    "tags": []
   },
   "source": [
    "# UB NN Training\n",
    "## Loading Dataset"
   ]
  },
  {
   "cell_type": "code",
   "execution_count": 1,
   "id": "b1a390cf",
   "metadata": {
    "execution": {
     "iopub.execute_input": "2022-06-13T03:37:15.017097Z",
     "iopub.status.busy": "2022-06-13T03:37:15.016513Z",
     "iopub.status.idle": "2022-06-13T03:37:15.089432Z",
     "shell.execute_reply": "2022-06-13T03:37:15.088786Z"
    },
    "papermill": {
     "duration": 0.095416,
     "end_time": "2022-06-13T03:37:15.092405",
     "exception": false,
     "start_time": "2022-06-13T03:37:14.996989",
     "status": "completed"
    },
    "tags": []
   },
   "outputs": [
    {
     "data": {
      "text/html": [
       "<div>\n",
       "<style scoped>\n",
       "    .dataframe tbody tr th:only-of-type {\n",
       "        vertical-align: middle;\n",
       "    }\n",
       "\n",
       "    .dataframe tbody tr th {\n",
       "        vertical-align: top;\n",
       "    }\n",
       "\n",
       "    .dataframe thead th {\n",
       "        text-align: right;\n",
       "    }\n",
       "</style>\n",
       "<table border=\"1\" class=\"dataframe\">\n",
       "  <thead>\n",
       "    <tr style=\"text-align: right;\">\n",
       "      <th></th>\n",
       "      <th>Input1</th>\n",
       "      <th>Input2</th>\n",
       "      <th>Input3</th>\n",
       "      <th>Output</th>\n",
       "    </tr>\n",
       "  </thead>\n",
       "  <tbody>\n",
       "    <tr>\n",
       "      <th>0</th>\n",
       "      <td>2.659116</td>\n",
       "      <td>4.673695</td>\n",
       "      <td>1.231898</td>\n",
       "      <td>-1.010633</td>\n",
       "    </tr>\n",
       "    <tr>\n",
       "      <th>1</th>\n",
       "      <td>6.172297</td>\n",
       "      <td>0.308095</td>\n",
       "      <td>6.197296</td>\n",
       "      <td>0.140169</td>\n",
       "    </tr>\n",
       "    <tr>\n",
       "      <th>2</th>\n",
       "      <td>1.620350</td>\n",
       "      <td>3.752477</td>\n",
       "      <td>3.010036</td>\n",
       "      <td>0.014108</td>\n",
       "    </tr>\n",
       "    <tr>\n",
       "      <th>3</th>\n",
       "      <td>6.269573</td>\n",
       "      <td>3.173038</td>\n",
       "      <td>6.019555</td>\n",
       "      <td>-0.016590</td>\n",
       "    </tr>\n",
       "    <tr>\n",
       "      <th>4</th>\n",
       "      <td>3.946378</td>\n",
       "      <td>3.264015</td>\n",
       "      <td>2.245954</td>\n",
       "      <td>1.222183</td>\n",
       "    </tr>\n",
       "  </tbody>\n",
       "</table>\n",
       "</div>"
      ],
      "text/plain": [
       "     Input1    Input2    Input3    Output\n",
       "0  2.659116  4.673695  1.231898 -1.010633\n",
       "1  6.172297  0.308095  6.197296  0.140169\n",
       "2  1.620350  3.752477  3.010036  0.014108\n",
       "3  6.269573  3.173038  6.019555 -0.016590\n",
       "4  3.946378  3.264015  2.245954  1.222183"
      ]
     },
     "execution_count": 1,
     "metadata": {},
     "output_type": "execute_result"
    }
   ],
   "source": [
    "train_csv_path = '../input/toy-dataset-for-regression-and-uq/Data3_Train.csv'\n",
    "test_csv_path = '../input/toy-dataset-for-regression-and-uq/Data3_Test.csv'\n",
    "val_csv_path = '../input/toy-dataset-for-regression-and-uq/Data3_Val.csv'\n",
    "\n",
    "\n",
    "import matplotlib.pyplot as plt\n",
    "import numpy as np\n",
    "import pandas as pd\n",
    "train_df = pd.read_csv(train_csv_path)\n",
    "train_df.head()"
   ]
  },
  {
   "cell_type": "markdown",
   "id": "730e9305",
   "metadata": {
    "papermill": {
     "duration": 0.018037,
     "end_time": "2022-06-13T03:37:15.130004",
     "exception": false,
     "start_time": "2022-06-13T03:37:15.111967",
     "status": "completed"
    },
    "tags": []
   },
   "source": [
    "## Loading Similarity Information"
   ]
  },
  {
   "cell_type": "code",
   "execution_count": 2,
   "id": "32380ecb",
   "metadata": {
    "execution": {
     "iopub.execute_input": "2022-06-13T03:37:15.168297Z",
     "iopub.status.busy": "2022-06-13T03:37:15.167964Z",
     "iopub.status.idle": "2022-06-13T03:37:16.233757Z",
     "shell.execute_reply": "2022-06-13T03:37:16.232739Z"
    },
    "papermill": {
     "duration": 1.08812,
     "end_time": "2022-06-13T03:37:16.236393",
     "exception": false,
     "start_time": "2022-06-13T03:37:15.148273",
     "status": "completed"
    },
    "tags": []
   },
   "outputs": [
    {
     "name": "stdout",
     "output_type": "stream",
     "text": [
      "Number of Similar Samples Considered 100\n",
      "Target Shape (5000,) Similar Samples Matrix Shape: (5000, 100)\n"
     ]
    }
   ],
   "source": [
    "import pickle as pkl\n",
    "\n",
    "fileName =  '../input/a1-data-to-similar-events/Similarity'\n",
    "fileObject2 = open(fileName, 'rb')\n",
    "Imported_data = pkl.load(fileObject2)\n",
    "fileObject2.close()\n",
    "\n",
    "#print('Similarity Thresholds:',Imported_data[:,0])\n",
    "\n",
    "#print('Most Similarity at:',Imported_data[:,1])\n",
    "\n",
    "Similar_event_count = len(Imported_data[0,:])-1\n",
    "print('Number of Similar Samples Considered', Similar_event_count)\n",
    "\n",
    "Similarity_thresholds = Imported_data[:,0]\n",
    "\n",
    "Sample_density = Similar_event_count/ Similarity_thresholds/100\n",
    "#Sample_density = number of samples with less than 1% (of range) deviation\n",
    "\n",
    "Similar_samples = Imported_data[:,1:Similar_event_count+1]\n",
    "\n",
    "print('Target Shape', Sample_density.shape, 'Similar Samples Matrix Shape:', Similar_samples.shape)\n",
    "\n",
    "input_=[]\n",
    "output_=[]\n",
    "for row in train_df.iloc:\n",
    "    input_.append((row[0:len(row)-1]).astype(float))\n",
    "    output_.append(row[-1])"
   ]
  },
  {
   "cell_type": "markdown",
   "id": "249f28eb",
   "metadata": {
    "papermill": {
     "duration": 0.018385,
     "end_time": "2022-06-13T03:37:16.273484",
     "exception": false,
     "start_time": "2022-06-13T03:37:16.255099",
     "status": "completed"
    },
    "tags": []
   },
   "source": [
    "## Load UB Correction Model"
   ]
  },
  {
   "cell_type": "code",
   "execution_count": 3,
   "id": "b9f22af3",
   "metadata": {
    "execution": {
     "iopub.execute_input": "2022-06-13T03:37:16.312312Z",
     "iopub.status.busy": "2022-06-13T03:37:16.311911Z",
     "iopub.status.idle": "2022-06-13T03:37:17.866398Z",
     "shell.execute_reply": "2022-06-13T03:37:17.865435Z"
    },
    "papermill": {
     "duration": 1.576638,
     "end_time": "2022-06-13T03:37:17.868717",
     "exception": false,
     "start_time": "2022-06-13T03:37:16.292079",
     "status": "completed"
    },
    "tags": []
   },
   "outputs": [
    {
     "data": {
      "text/plain": [
       "<All keys matched successfully>"
      ]
     },
     "execution_count": 3,
     "metadata": {},
     "output_type": "execute_result"
    }
   ],
   "source": [
    "import torch\n",
    "from torch.autograd import Variable\n",
    "import torch.nn.functional as F\n",
    "import torch.utils.data as Data\n",
    "\n",
    "PATH = '../input/a4-bound-correction-nn-training/best_model.pt'\n",
    "\n",
    "num_input = 1\n",
    "class Net(torch.nn.Module):\n",
    "    def __init__(self, n_feature, n_hidden, n_output):\n",
    "        super(Net, self).__init__()\n",
    "        self.hidden = torch.nn.Linear(n_feature, n_hidden)   # hidden layer\n",
    "        self.hidden2 = torch.nn.Linear(n_hidden, n_hidden)   # hidden layer\n",
    "        self.predict = torch.nn.Linear(n_hidden, n_output)   # output layer\n",
    "\n",
    "    def forward(self, x):\n",
    "        x = F.relu(self.hidden(x))      # activation function for hidden layer\n",
    "        x = F.relu(self.hidden2(x))\n",
    "        x = self.predict(x)             # linear output\n",
    "        return x\n",
    "net_load = Net(n_feature=num_input, n_hidden=400, n_output=1)     # define the network\n",
    "#net_load = net_load.to(device)\n",
    "\n",
    "net_load.load_state_dict(torch.load(PATH))\n",
    "\n"
   ]
  },
  {
   "cell_type": "code",
   "execution_count": 4,
   "id": "53192ef7",
   "metadata": {
    "execution": {
     "iopub.execute_input": "2022-06-13T03:37:17.910338Z",
     "iopub.status.busy": "2022-06-13T03:37:17.910009Z",
     "iopub.status.idle": "2022-06-13T03:37:18.012807Z",
     "shell.execute_reply": "2022-06-13T03:37:18.011855Z"
    },
    "papermill": {
     "duration": 0.125219,
     "end_time": "2022-06-13T03:37:18.015069",
     "exception": false,
     "start_time": "2022-06-13T03:37:17.889850",
     "status": "completed"
    },
    "tags": []
   },
   "outputs": [
    {
     "name": "stdout",
     "output_type": "stream",
     "text": [
      "tensor([[0.7478]], grad_fn=<AddBackward0>)\n"
     ]
    }
   ],
   "source": [
    "Uncertainty_Bound = torch.tensor(0.80) # The expected UB\n",
    "\n",
    "f = open('../input/a4-bound-correction-nn-training/min_x.pckl', 'rb')\n",
    "min_UBx = pkl.load(f)\n",
    "f.close()\n",
    "\n",
    "f = open('../input/a4-bound-correction-nn-training/max_x.pckl', 'rb')\n",
    "max_UBx = pkl.load(f)\n",
    "f.close()\n",
    "\n",
    "Uncertainty_Bound = (Uncertainty_Bound-min_UBx)/(max_UBx-min_UBx) # Normalizing\n",
    "\n",
    "new_shape = (Uncertainty_Bound.shape[0], 1)\n",
    "Uncertainty_Bound = Uncertainty_Bound.view(new_shape)\n",
    "\n",
    "Uncertainty_Bound_corrected = net_load(Uncertainty_Bound)\n",
    "\n",
    "f = open('../input/a4-bound-correction-nn-training/min_y.pckl', 'rb')\n",
    "min_UBy = pkl.load(f)\n",
    "f.close()\n",
    "\n",
    "f = open('../input/a4-bound-correction-nn-training/max_y.pckl', 'rb')\n",
    "max_UBy = pkl.load(f)\n",
    "f.close()\n",
    "\n",
    "Uncertainty_Bound_corrected = Uncertainty_Bound_corrected*(max_UBy-min_UBy)+min_UBy # DeNormalizing\n",
    "\n",
    "print(Uncertainty_Bound_corrected)\n"
   ]
  },
  {
   "cell_type": "markdown",
   "id": "8620bbd2",
   "metadata": {
    "papermill": {
     "duration": 0.020227,
     "end_time": "2022-06-13T03:37:18.056030",
     "exception": false,
     "start_time": "2022-06-13T03:37:18.035803",
     "status": "completed"
    },
    "tags": []
   },
   "source": [
    "## Applying Corrected UB to Traditional System"
   ]
  },
  {
   "cell_type": "code",
   "execution_count": 5,
   "id": "7de5c4f1",
   "metadata": {
    "execution": {
     "iopub.execute_input": "2022-06-13T03:37:18.097604Z",
     "iopub.status.busy": "2022-06-13T03:37:18.097336Z",
     "iopub.status.idle": "2022-06-13T03:37:19.143635Z",
     "shell.execute_reply": "2022-06-13T03:37:19.142615Z"
    },
    "papermill": {
     "duration": 1.070981,
     "end_time": "2022-06-13T03:37:19.146764",
     "exception": false,
     "start_time": "2022-06-13T03:37:18.075783",
     "status": "completed"
    },
    "tags": []
   },
   "outputs": [
    {
     "name": "stdout",
     "output_type": "stream",
     "text": [
      "Statistical UB location: 0.8084\n"
     ]
    }
   ],
   "source": [
    "higher_count=0;\n",
    "bound_values = []\n",
    "for iter1 in range(len(output_)):\n",
    "    indexes=Similar_samples[iter1];\n",
    "    Probability_density =[]\n",
    "    for iter2 in indexes:\n",
    "        Probability_density.append(output_[iter2.astype(np.int64)])\n",
    "    Probability_density = np.sort(Probability_density)\n",
    "    prediction_bound = Probability_density[np.round(Similar_event_count*Uncertainty_Bound_corrected.detach().numpy()).astype(np.int64)-1]\n",
    "    bound_values.append(prediction_bound)\n",
    "    if prediction_bound > output_[iter1]:\n",
    "        higher_count = higher_count + 1;\n",
    "        \n",
    "print('Statistical UB location:', higher_count/len(output_))"
   ]
  },
  {
   "cell_type": "markdown",
   "id": "83a239bf",
   "metadata": {
    "papermill": {
     "duration": 0.023333,
     "end_time": "2022-06-13T03:37:19.197383",
     "exception": false,
     "start_time": "2022-06-13T03:37:19.174050",
     "status": "completed"
    },
    "tags": []
   },
   "source": [
    "## Data Preparation for NN Training"
   ]
  },
  {
   "cell_type": "code",
   "execution_count": 6,
   "id": "62bf4773",
   "metadata": {
    "execution": {
     "iopub.execute_input": "2022-06-13T03:37:19.241318Z",
     "iopub.status.busy": "2022-06-13T03:37:19.240206Z",
     "iopub.status.idle": "2022-06-13T03:37:19.496819Z",
     "shell.execute_reply": "2022-06-13T03:37:19.494928Z"
    },
    "papermill": {
     "duration": 0.280135,
     "end_time": "2022-06-13T03:37:19.499210",
     "exception": false,
     "start_time": "2022-06-13T03:37:19.219075",
     "status": "completed"
    },
    "tags": []
   },
   "outputs": [
    {
     "name": "stdout",
     "output_type": "stream",
     "text": [
      "Shapes: torch.Size([5000, 3]) torch.Size([5000, 1])\n",
      "tensor(1.1966) tensor(-0.9865) tensor([6.2822, 6.2817, 6.2823]) tensor([4.0563e-04, 6.2234e-05, 9.0123e-04])\n",
      "tensor([6.2818, 6.2816, 6.2814]) tensor(2.1831)\n"
     ]
    }
   ],
   "source": [
    "x=[]\n",
    "y=[]\n",
    "i_val=[]\n",
    "o_val=[]\n",
    "for iter1 in range(len(output_)):\n",
    "    if iter1%10==0:\n",
    "        x.append(input_[iter1])\n",
    "        y.append(bound_values[iter1])\n",
    "        continue\n",
    "    i_val.append(input_[iter1])\n",
    "    o_val.append(bound_values[iter1])\n",
    "x = input_\n",
    "y = bound_values\n",
    "x = torch.tensor(x).float()  \n",
    "y = torch.tensor(y).float() \n",
    "\n",
    "new_shape = (len(y), 1)\n",
    "y = y.view(new_shape)\n",
    "print('Shapes:', x.shape, y.shape)\n",
    "\n",
    "i_val = torch.tensor(i_val).float()  \n",
    "o_val = torch.tensor(o_val).float()   \n",
    "new_shape = (len(o_val), 1)\n",
    "o_val = o_val.view(new_shape)\n",
    "\n",
    "\n",
    "max_y = torch.max(y[:,0])\n",
    "min_y =torch.min(y[:,0])\n",
    "\n",
    "max_x = torch.max(x,dim=0)\n",
    "min_x = torch.min(x,dim=0)\n",
    "\n",
    "print(max_y, min_y, max_x.values, min_x.values)\n",
    "\n",
    "range_y = max_y - min_y\n",
    "range_x = max_x.values - min_x.values\n",
    "\n",
    "print(range_x, range_y)\n",
    "\n",
    "    #Normalizing\n",
    "x = (x - min_x.values)/range_x\n",
    "y = (y - min_y)/range_y\n",
    "\n",
    "    #Normalizing\n",
    "i_val = (i_val - min_x.values)/range_x\n",
    "o_val = (o_val - min_y)/range_y"
   ]
  },
  {
   "cell_type": "markdown",
   "id": "fad4115b",
   "metadata": {
    "papermill": {
     "duration": 0.019915,
     "end_time": "2022-06-13T03:37:19.541312",
     "exception": false,
     "start_time": "2022-06-13T03:37:19.521397",
     "status": "completed"
    },
    "tags": []
   },
   "source": [
    "##  NN Training for Direct Input to UB"
   ]
  },
  {
   "cell_type": "code",
   "execution_count": 7,
   "id": "da80ad38",
   "metadata": {
    "execution": {
     "iopub.execute_input": "2022-06-13T03:37:19.583980Z",
     "iopub.status.busy": "2022-06-13T03:37:19.583702Z",
     "iopub.status.idle": "2022-06-13T03:38:14.491941Z",
     "shell.execute_reply": "2022-06-13T03:38:14.491247Z"
    },
    "papermill": {
     "duration": 54.934221,
     "end_time": "2022-06-13T03:38:14.495660",
     "exception": false,
     "start_time": "2022-06-13T03:37:19.561439",
     "status": "completed"
    },
    "tags": []
   },
   "outputs": [
    {
     "name": "stdout",
     "output_type": "stream",
     "text": [
      "Net(\n",
      "  (hidden): Linear(in_features=3, out_features=400, bias=True)\n",
      "  (hidden2): Linear(in_features=400, out_features=400, bias=True)\n",
      "  (predict): Linear(in_features=400, out_features=1, bias=True)\n",
      ")\n",
      "Epoch [200/1000], Loss: 0.0228, Minimum Loss 0.022593, Val Loss 0.022103  \n",
      "Epoch [400/1000], Loss: 0.0132, Minimum Loss 0.013189, Val Loss 0.012933  \n",
      "Epoch [600/1000], Loss: 0.0070, Minimum Loss 0.007004, Val Loss 0.006860  \n",
      "Epoch [800/1000], Loss: 0.0065, Minimum Loss 0.006498, Val Loss 0.006363  \n",
      "Epoch [1000/1000], Loss: 0.0062, Minimum Loss 0.006235, Val Loss 0.006101  \n"
     ]
    }
   ],
   "source": [
    "# torch can only train on Variable, so convert them to Variable\n",
    "x, y = Variable(x), Variable(y)\n",
    "num_input=3\n",
    " \n",
    "class Net(torch.nn.Module):\n",
    "    def __init__(self, n_feature, n_hidden, n_output):\n",
    "        super(Net, self).__init__()\n",
    "        self.hidden = torch.nn.Linear(n_feature, n_hidden)   # hidden layer\n",
    "        self.hidden2 = torch.nn.Linear(n_hidden, n_hidden)   # hidden layer\n",
    "        self.predict = torch.nn.Linear(n_hidden, n_output)   # output layer\n",
    "\n",
    "    def forward(self, x):\n",
    "        x = F.relu(self.hidden(x))      # activation function for hidden layer\n",
    "        x = F.relu(self.hidden2(x))\n",
    "        x = self.predict(x)             # linear output\n",
    "        return x\n",
    "\n",
    "    \n",
    "# use the same net as before      \n",
    "net = Net(n_feature=num_input, n_hidden=400, n_output=1)     # define the network\n",
    "print(net)  # net architecture\n",
    "optimizer = torch.optim.Adam(net.parameters(), lr=0.05)\n",
    "loss_func = torch.nn.MSELoss()  # this is for regression mean squared loss\n",
    "\n",
    "\n",
    "minimum_train_loss = 1e5\n",
    "minimum_val_loss = 1e5\n",
    "EPOCH = 1000\n",
    "\n",
    "# start training\n",
    "for epoch in range(EPOCH):\n",
    "  \n",
    "    prediction = net(x)     # input x and predict based on x\n",
    "\n",
    "    loss = loss_func(prediction, y)     # must be (1. nn output, 2. target)\n",
    "\n",
    "    optimizer.zero_grad()   # clear gradients for next train\n",
    "    loss.backward()         # backpropagation, compute gradients\n",
    "    optimizer.step()        # apply gradients\n",
    "    \n",
    "    if loss<minimum_train_loss:\n",
    "        minimum_train_loss =loss\n",
    "        net_opt = net\n",
    "    \n",
    "    if epoch%200 == 199:\n",
    "        prediction = net_opt(i_val)\n",
    "        loss_val = loss_func(prediction, o_val)\n",
    "        if loss_val<minimum_val_loss:\n",
    "            minimum_val_loss = loss_val\n",
    "            net_opt_val = net_opt\n",
    "        print (\"Epoch [{}/{}], Loss: {:.4f}, Minimum Loss {:.6f}, Val Loss {:.6f}  \"  .format(epoch+1, EPOCH, loss, minimum_train_loss, minimum_val_loss))"
   ]
  },
  {
   "cell_type": "markdown",
   "id": "8e3d2e17",
   "metadata": {
    "papermill": {
     "duration": 0.021534,
     "end_time": "2022-06-13T03:38:14.542046",
     "exception": false,
     "start_time": "2022-06-13T03:38:14.520512",
     "status": "completed"
    },
    "tags": []
   },
   "source": [
    "## Statistical performance of NN on Training Set"
   ]
  },
  {
   "cell_type": "code",
   "execution_count": 8,
   "id": "6f06c3d2",
   "metadata": {
    "execution": {
     "iopub.execute_input": "2022-06-13T03:38:14.588487Z",
     "iopub.status.busy": "2022-06-13T03:38:14.587928Z",
     "iopub.status.idle": "2022-06-13T03:38:15.738157Z",
     "shell.execute_reply": "2022-06-13T03:38:15.737141Z"
    },
    "papermill": {
     "duration": 1.175723,
     "end_time": "2022-06-13T03:38:15.740363",
     "exception": false,
     "start_time": "2022-06-13T03:38:14.564640",
     "status": "completed"
    },
    "tags": []
   },
   "outputs": [
    {
     "name": "stdout",
     "output_type": "stream",
     "text": [
      "Statistical UB location for Direct NN: 0.7922\n"
     ]
    }
   ],
   "source": [
    "higher_count=0;\n",
    "\n",
    "for iter1 in range(len(output_)):\n",
    "    Net_input = torch.tensor(input_[iter1]).float() \n",
    "    Net_input = (Net_input - min_x.values)/range_x # Normalizing\n",
    "    \n",
    "    prediction_bound = net_opt_val(Net_input) # Apply Net\n",
    "    \n",
    "    prediction_bound = prediction_bound*range_y+min_y # Denormalizing    \n",
    "    \n",
    "    if prediction_bound > output_[iter1]:\n",
    "        higher_count = higher_count + 1;\n",
    "        \n",
    "print('Statistical UB location for Direct NN:', higher_count/len(output_))"
   ]
  },
  {
   "cell_type": "markdown",
   "id": "d2aa3dd5",
   "metadata": {
    "papermill": {
     "duration": 0.023068,
     "end_time": "2022-06-13T03:38:15.788988",
     "exception": false,
     "start_time": "2022-06-13T03:38:15.765920",
     "status": "completed"
    },
    "tags": []
   },
   "source": [
    "## Statistical performance of NN on Validation Set"
   ]
  },
  {
   "cell_type": "code",
   "execution_count": 9,
   "id": "98ae16b8",
   "metadata": {
    "execution": {
     "iopub.execute_input": "2022-06-13T03:38:15.835996Z",
     "iopub.status.busy": "2022-06-13T03:38:15.835734Z",
     "iopub.status.idle": "2022-06-13T03:38:16.850563Z",
     "shell.execute_reply": "2022-06-13T03:38:16.849499Z"
    },
    "papermill": {
     "duration": 1.041522,
     "end_time": "2022-06-13T03:38:16.853397",
     "exception": false,
     "start_time": "2022-06-13T03:38:15.811875",
     "status": "completed"
    },
    "tags": []
   },
   "outputs": [
    {
     "name": "stdout",
     "output_type": "stream",
     "text": [
      "Statistical UB location for Direct NN: 0.802\n"
     ]
    }
   ],
   "source": [
    "input_=[]\n",
    "output_=[]\n",
    "val_df = pd.read_csv(val_csv_path)\n",
    "\n",
    "for row in val_df.iloc:\n",
    "    input_.append((row[0:len(row)-1]).astype(float))\n",
    "    output_.append(row[-1])\n",
    "    \n",
    "higher_count=0;\n",
    "\n",
    "for iter1 in range(len(output_)):\n",
    "    Net_input = torch.tensor(input_[iter1]).float() \n",
    "    Net_input = (Net_input - min_x.values)/range_x # Normalizing\n",
    "    \n",
    "    prediction_bound = net_opt_val(Net_input) # Apply Net\n",
    "    \n",
    "    prediction_bound = prediction_bound*range_y+min_y # Denormalizing    \n",
    "    \n",
    "    if prediction_bound > output_[iter1]:\n",
    "        higher_count = higher_count + 1;\n",
    "        \n",
    "print('Statistical UB location for Direct NN:', higher_count/len(output_))"
   ]
  },
  {
   "cell_type": "markdown",
   "id": "80dcfd65",
   "metadata": {
    "papermill": {
     "duration": 0.022561,
     "end_time": "2022-06-13T03:38:16.901069",
     "exception": false,
     "start_time": "2022-06-13T03:38:16.878508",
     "status": "completed"
    },
    "tags": []
   },
   "source": [
    "## Statistical performance of NN on Test Set"
   ]
  },
  {
   "cell_type": "code",
   "execution_count": 10,
   "id": "f17f665e",
   "metadata": {
    "execution": {
     "iopub.execute_input": "2022-06-13T03:38:16.948751Z",
     "iopub.status.busy": "2022-06-13T03:38:16.948182Z",
     "iopub.status.idle": "2022-06-13T03:38:17.873981Z",
     "shell.execute_reply": "2022-06-13T03:38:17.872597Z"
    },
    "papermill": {
     "duration": 0.952565,
     "end_time": "2022-06-13T03:38:17.876568",
     "exception": false,
     "start_time": "2022-06-13T03:38:16.924003",
     "status": "completed"
    },
    "tags": []
   },
   "outputs": [
    {
     "name": "stdout",
     "output_type": "stream",
     "text": [
      "Statistical UB location for Direct NN: 0.793\n"
     ]
    }
   ],
   "source": [
    "input_ = []\n",
    "output_ = []\n",
    "test_df = pd.read_csv(test_csv_path)\n",
    "\n",
    "for row in test_df.iloc:\n",
    "    input_.append((row[0:len(row)-1]).astype(float))\n",
    "    output_.append(row[-1])\n",
    "    \n",
    "higher_count=0;\n",
    "prediction_ = []\n",
    "x_0 = []\n",
    "\n",
    "for iter1 in range(len(output_)):\n",
    "    x_in = input_[iter1]\n",
    "    x_0.append(x_in[0])\n",
    "    Net_input = torch.tensor(x_in).float() \n",
    "    Net_input = (Net_input - min_x.values)/range_x # Normalizing\n",
    "    \n",
    "    prediction_bound = net_opt_val(Net_input) # Apply Net\n",
    "    \n",
    "    prediction_bound = prediction_bound*range_y+min_y # Denormalizing    \n",
    "    prediction_.append(float(prediction_bound))\n",
    "    if prediction_bound > output_[iter1]:\n",
    "        higher_count = higher_count + 1;\n",
    "        \n",
    "print('Statistical UB location for Direct NN:', higher_count/len(output_))"
   ]
  },
  {
   "cell_type": "code",
   "execution_count": 11,
   "id": "d2b3ca51",
   "metadata": {
    "execution": {
     "iopub.execute_input": "2022-06-13T03:38:17.927734Z",
     "iopub.status.busy": "2022-06-13T03:38:17.927034Z",
     "iopub.status.idle": "2022-06-13T03:38:18.213938Z",
     "shell.execute_reply": "2022-06-13T03:38:18.212977Z"
    },
    "papermill": {
     "duration": 0.314037,
     "end_time": "2022-06-13T03:38:18.216464",
     "exception": false,
     "start_time": "2022-06-13T03:38:17.902427",
     "status": "completed"
    },
    "tags": []
   },
   "outputs": [
    {
     "data": {
      "image/png": "[encoded data removed]",
      "text/plain": [
       "<Figure size 432x288 with 1 Axes>"
      ]
     },
     "metadata": {
      "needs_background": "light"
     },
     "output_type": "display_data"
    }
   ],
   "source": [
    "plt.scatter(x_0,output_, s=0.5)\n",
    "plt.scatter(x_0, prediction_, color='g', s=0.05) # lower boundary prediction\n",
    "plt.show()"
   ]
  }
 ],
 "metadata": {
  "kernelspec": {
   "display_name": "Python 3",
   "language": "python",
   "name": "python3"
  },
  "language_info": {
   "codemirror_mode": {
    "name": "ipython",
    "version": 3
   },
   "file_extension": ".py",
   "mimetype": "text/x-python",
   "name": "python",
   "nbconvert_exporter": "python",
   "pygments_lexer": "ipython3",
   "version": "3.7.12"
  },
  "papermill": {
   "default_parameters": {},
   "duration": 74.81884,
   "end_time": "2022-06-13T03:38:19.063697",
   "environment_variables": {},
   "exception": null,
   "input_path": "__notebook__.ipynb",
   "output_path": "__notebook__.ipynb",
   "parameters": {},
   "start_time": "2022-06-13T03:37:04.244857",
   "version": "2.3.4"
  }
 },
 "nbformat": 4,
 "nbformat_minor": 5
}
