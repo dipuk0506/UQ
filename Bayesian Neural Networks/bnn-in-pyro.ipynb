{
 "cells": [
  {
   "cell_type": "markdown",
   "metadata": {
    "papermill": {
     "duration": 0.013604,
     "end_time": "2022-05-30T04:38:53.868346",
     "exception": false,
     "start_time": "2022-05-30T04:38:53.854742",
     "status": "completed"
    },
    "tags": []
   },
   "source": [
    "# Simple Bayesian Neural Network\n",
    "\n",
    "## Source:\n",
    "### This code is written with the help of following Kaggle notebook. \n",
    "### Title: Simple Bayesian Neural Network in Pyro\n",
    "### Link: https://www.kaggle.com/code/carlossouza/simple-bayesian-neural-network-in-pyro\n",
    "\n",
    "## References:\n",
    "1. Blundell, C., Cornebise, J., Kavukcuoglu, K., & Wierstra, D. (2015). Weight Uncertainty in Neural Networks. ArXiv, abs/1505.05424.\n",
    "\n",
    "2. Uber Technologies, Inc. (2018). Bayesian Regression Tutorial. Pyro.Ai. http://pyro.ai/examples/bayesian_regression.html\n",
    "\n",
    "# 0. Modules"
   ]
  },
  {
   "cell_type": "code",
   "execution_count": 1,
   "metadata": {
    "execution": {
     "iopub.execute_input": "2022-05-30T04:38:53.897718Z",
     "iopub.status.busy": "2022-05-30T04:38:53.897000Z",
     "iopub.status.idle": "2022-05-30T04:40:40.522614Z",
     "shell.execute_reply": "2022-05-30T04:40:40.521915Z",
     "shell.execute_reply.started": "2022-05-30T00:31:39.827477Z"
    },
    "papermill": {
     "duration": 106.641537,
     "end_time": "2022-05-30T04:40:40.522775",
     "exception": false,
     "start_time": "2022-05-30T04:38:53.881238",
     "status": "completed"
    },
    "tags": []
   },
   "outputs": [
    {
     "name": "stdout",
     "output_type": "stream",
     "text": [
      "\u001b[31mERROR: Could not open requirements file: [Errno 2] No such file or directory: 'pytorch'\u001b[0m\r\n",
      "\u001b[33mWARNING: You are using pip version 20.2.2; however, version 22.1.1 is available.\r\n",
      "You should consider upgrading via the '/opt/conda/bin/python3.7 -m pip install --upgrade pip' command.\u001b[0m\r\n",
      "Collecting pyro-ppl\r\n",
      "  Downloading pyro_ppl-1.8.1-py3-none-any.whl (718 kB)\r\n",
      "\u001b[K     |████████████████████████████████| 718 kB 287 kB/s \r\n",
      "\u001b[?25hRequirement already satisfied: opt-einsum>=2.3.2 in /opt/conda/lib/python3.7/site-packages (from pyro-ppl) (3.3.0)\r\n",
      "Collecting torch>=1.11.0\r\n",
      "  Downloading torch-1.11.0-cp37-cp37m-manylinux1_x86_64.whl (750.6 MB)\r\n",
      "\u001b[K     |████████████████████████████████| 750.6 MB 8.7 kB/s \r\n",
      "\u001b[?25hCollecting pyro-api>=0.1.1\r\n",
      "  Downloading pyro_api-0.1.2-py3-none-any.whl (11 kB)\r\n",
      "Requirement already satisfied: numpy>=1.7 in /opt/conda/lib/python3.7/site-packages (from pyro-ppl) (1.18.5)\r\n",
      "Requirement already satisfied: tqdm>=4.36 in /opt/conda/lib/python3.7/site-packages (from pyro-ppl) (4.45.0)\r\n",
      "Requirement already satisfied: typing-extensions in /opt/conda/lib/python3.7/site-packages (from torch>=1.11.0->pyro-ppl) (3.7.4.1)\r\n",
      "Installing collected packages: torch, pyro-api, pyro-ppl\r\n",
      "  Attempting uninstall: torch\r\n",
      "    Found existing installation: torch 1.5.1\r\n",
      "    Uninstalling torch-1.5.1:\r\n",
      "      Successfully uninstalled torch-1.5.1\r\n",
      "\u001b[31mERROR: After October 2020 you may experience errors when installing or updating packages. This is because pip will change the way that it resolves dependency conflicts.\r\n",
      "\r\n",
      "We recommend you use --use-feature=2020-resolver to test your packages with the new resolver before it becomes the default.\r\n",
      "\r\n",
      "kornia 0.3.2 requires torch<1.6.0,>=1.5.0, but you'll have torch 1.11.0 which is incompatible.\r\n",
      "allennlp 1.0.0 requires torch<1.6.0,>=1.5.0, but you'll have torch 1.11.0 which is incompatible.\u001b[0m\r\n",
      "Successfully installed pyro-api-0.1.2 pyro-ppl-1.8.1 torch-1.11.0\r\n",
      "\u001b[33mWARNING: You are using pip version 20.2.2; however, version 22.1.1 is available.\r\n",
      "You should consider upgrading via the '/opt/conda/bin/python3.7 -m pip install --upgrade pip' command.\u001b[0m\r\n"
     ]
    }
   ],
   "source": [
    "!pip3 install -c pytorch pytorch=1.6.0\n",
    "!pip3 install pyro-ppl "
   ]
  },
  {
   "cell_type": "code",
   "execution_count": 2,
   "metadata": {
    "_cell_guid": "b1076dfc-b9ad-4769-8c92-a6c4dae69d19",
    "_uuid": "8f2839f25d086af736a60e9eeb907d3b93b6e0e5",
    "execution": {
     "iopub.execute_input": "2022-05-30T04:40:41.554145Z",
     "iopub.status.busy": "2022-05-30T04:40:41.553289Z",
     "iopub.status.idle": "2022-05-30T04:40:42.336428Z",
     "shell.execute_reply": "2022-05-30T04:40:42.335606Z",
     "shell.execute_reply.started": "2022-05-30T02:57:23.447120Z"
    },
    "papermill": {
     "duration": 1.294225,
     "end_time": "2022-05-30T04:40:42.336590",
     "exception": false,
     "start_time": "2022-05-30T04:40:41.042365",
     "status": "completed"
    },
    "tags": []
   },
   "outputs": [],
   "source": [
    "import torch\n",
    "from torch.autograd import Variable\n",
    "import pandas as pd\n",
    "import numpy as np\n",
    "import matplotlib.pyplot as plt\n",
    "import time"
   ]
  },
  {
   "cell_type": "markdown",
   "metadata": {
    "papermill": {
     "duration": 0.498315,
     "end_time": "2022-05-30T04:40:43.337452",
     "exception": false,
     "start_time": "2022-05-30T04:40:42.839137",
     "status": "completed"
    },
    "tags": []
   },
   "source": [
    "## Considerations"
   ]
  },
  {
   "cell_type": "code",
   "execution_count": 3,
   "metadata": {
    "execution": {
     "iopub.execute_input": "2022-05-30T04:40:44.342841Z",
     "iopub.status.busy": "2022-05-30T04:40:44.341852Z",
     "iopub.status.idle": "2022-05-30T04:40:44.344424Z",
     "shell.execute_reply": "2022-05-30T04:40:44.343829Z",
     "shell.execute_reply.started": "2022-05-30T03:38:25.909361Z"
    },
    "papermill": {
     "duration": 0.508446,
     "end_time": "2022-05-30T04:40:44.344579",
     "exception": false,
     "start_time": "2022-05-30T04:40:43.836133",
     "status": "completed"
    },
    "tags": []
   },
   "outputs": [],
   "source": [
    "hidden1=500 \n",
    "hidden2=500\n",
    "training_iteration = 25000"
   ]
  },
  {
   "cell_type": "markdown",
   "metadata": {
    "papermill": {
     "duration": 0.507221,
     "end_time": "2022-05-30T04:40:45.345305",
     "exception": false,
     "start_time": "2022-05-30T04:40:44.838084",
     "status": "completed"
    },
    "tags": []
   },
   "source": [
    "# 1. Data"
   ]
  },
  {
   "cell_type": "code",
   "execution_count": 4,
   "metadata": {
    "_cell_guid": "79c7e3d0-c299-4dcb-8224-4455121ee9b0",
    "_uuid": "d629ff2d2480ee46fbb7e2d37f6b5fab8052498a",
    "execution": {
     "iopub.execute_input": "2022-05-30T04:40:46.343477Z",
     "iopub.status.busy": "2022-05-30T04:40:46.342048Z",
     "iopub.status.idle": "2022-05-30T04:40:46.422237Z",
     "shell.execute_reply": "2022-05-30T04:40:46.423493Z",
     "shell.execute_reply.started": "2022-05-30T03:32:28.353304Z"
    },
    "papermill": {
     "duration": 0.582508,
     "end_time": "2022-05-30T04:40:46.423707",
     "exception": false,
     "start_time": "2022-05-30T04:40:45.841199",
     "status": "completed"
    },
    "tags": []
   },
   "outputs": [
    {
     "data": {
      "text/html": [
       "<div>\n",
       "<style scoped>\n",
       "    .dataframe tbody tr th:only-of-type {\n",
       "        vertical-align: middle;\n",
       "    }\n",
       "\n",
       "    .dataframe tbody tr th {\n",
       "        vertical-align: top;\n",
       "    }\n",
       "\n",
       "    .dataframe thead th {\n",
       "        text-align: right;\n",
       "    }\n",
       "</style>\n",
       "<table border=\"1\" class=\"dataframe\">\n",
       "  <thead>\n",
       "    <tr style=\"text-align: right;\">\n",
       "      <th></th>\n",
       "      <th>Input1</th>\n",
       "      <th>Input2</th>\n",
       "      <th>Input3</th>\n",
       "      <th>Output</th>\n",
       "    </tr>\n",
       "  </thead>\n",
       "  <tbody>\n",
       "    <tr>\n",
       "      <th>0</th>\n",
       "      <td>2.659116</td>\n",
       "      <td>4.673695</td>\n",
       "      <td>1.231898</td>\n",
       "      <td>-1.010633</td>\n",
       "    </tr>\n",
       "    <tr>\n",
       "      <th>1</th>\n",
       "      <td>6.172297</td>\n",
       "      <td>0.308095</td>\n",
       "      <td>6.197296</td>\n",
       "      <td>0.140169</td>\n",
       "    </tr>\n",
       "    <tr>\n",
       "      <th>2</th>\n",
       "      <td>1.620350</td>\n",
       "      <td>3.752477</td>\n",
       "      <td>3.010036</td>\n",
       "      <td>0.014108</td>\n",
       "    </tr>\n",
       "    <tr>\n",
       "      <th>3</th>\n",
       "      <td>6.269573</td>\n",
       "      <td>3.173038</td>\n",
       "      <td>6.019555</td>\n",
       "      <td>-0.016590</td>\n",
       "    </tr>\n",
       "    <tr>\n",
       "      <th>4</th>\n",
       "      <td>3.946378</td>\n",
       "      <td>3.264015</td>\n",
       "      <td>2.245954</td>\n",
       "      <td>1.222183</td>\n",
       "    </tr>\n",
       "  </tbody>\n",
       "</table>\n",
       "</div>"
      ],
      "text/plain": [
       "     Input1    Input2    Input3    Output\n",
       "0  2.659116  4.673695  1.231898 -1.010633\n",
       "1  6.172297  0.308095  6.197296  0.140169\n",
       "2  1.620350  3.752477  3.010036  0.014108\n",
       "3  6.269573  3.173038  6.019555 -0.016590\n",
       "4  3.946378  3.264015  2.245954  1.222183"
      ]
     },
     "execution_count": 4,
     "metadata": {},
     "output_type": "execute_result"
    }
   ],
   "source": [
    "train_csv_path = '../input/toy-dataset-for-regression-and-uq/Data3_Train.csv'\n",
    "test_csv_path = '../input/toy-dataset-for-regression-and-uq/Data3_Test.csv'\n",
    "val_csv_path = '../input/toy-dataset-for-regression-and-uq/Data3_Val.csv'\n",
    "\n",
    "import pandas as pd\n",
    "train_df = pd.read_csv(train_csv_path)\n",
    "val_df = pd.read_csv(val_csv_path)\n",
    "train_df.head()"
   ]
  },
  {
   "cell_type": "code",
   "execution_count": 5,
   "metadata": {
    "execution": {
     "iopub.execute_input": "2022-05-30T04:40:47.475832Z",
     "iopub.status.busy": "2022-05-30T04:40:47.474697Z",
     "iopub.status.idle": "2022-05-30T04:40:49.220912Z",
     "shell.execute_reply": "2022-05-30T04:40:49.221674Z",
     "shell.execute_reply.started": "2022-05-30T03:32:34.472524Z"
    },
    "papermill": {
     "duration": 2.284869,
     "end_time": "2022-05-30T04:40:49.221853",
     "exception": false,
     "start_time": "2022-05-30T04:40:46.936984",
     "status": "completed"
    },
    "tags": []
   },
   "outputs": [
    {
     "name": "stdout",
     "output_type": "stream",
     "text": [
      "3\n"
     ]
    }
   ],
   "source": [
    "input_=[]\n",
    "output_=[]\n",
    "for row in train_df.iloc:\n",
    "    input_.append((row[0:len(row)-1]).astype(float))\n",
    "    output_.append(row[-1])\n",
    "    \n",
    "i_val=[]\n",
    "o_val=[]\n",
    "for row in val_df.iloc:\n",
    "    i_val.append((row[0:len(row)-1]).astype(float))\n",
    "    o_val.append(row[-1])\n",
    "    \n",
    "num_input = len(row)-1;\n",
    "print(num_input)"
   ]
  },
  {
   "cell_type": "markdown",
   "metadata": {
    "papermill": {
     "duration": 0.495254,
     "end_time": "2022-05-30T04:40:50.243304",
     "exception": false,
     "start_time": "2022-05-30T04:40:49.748050",
     "status": "completed"
    },
    "tags": []
   },
   "source": [
    "### Normalization"
   ]
  },
  {
   "cell_type": "code",
   "execution_count": 6,
   "metadata": {
    "execution": {
     "iopub.execute_input": "2022-05-30T04:40:51.321806Z",
     "iopub.status.busy": "2022-05-30T04:40:51.320752Z",
     "iopub.status.idle": "2022-05-30T04:40:51.614420Z",
     "shell.execute_reply": "2022-05-30T04:40:51.615227Z",
     "shell.execute_reply.started": "2022-05-30T03:32:39.085027Z"
    },
    "papermill": {
     "duration": 0.818834,
     "end_time": "2022-05-30T04:40:51.615491",
     "exception": false,
     "start_time": "2022-05-30T04:40:50.796657",
     "status": "completed"
    },
    "tags": []
   },
   "outputs": [
    {
     "name": "stdout",
     "output_type": "stream",
     "text": [
      "tensor(1.4626) tensor(-1.4431) tensor([6.2822, 6.2817, 6.2823]) tensor([4.0563e-04, 6.2234e-05, 9.0123e-04])\n",
      "tensor([6.2818, 6.2816, 6.2814]) tensor(2.9057)\n"
     ]
    }
   ],
   "source": [
    "x = torch.tensor(input_).float()  \n",
    "y = torch.tensor(output_).float()   \n",
    "new_shape = (len(y), 1)\n",
    "y = y.view(new_shape)\n",
    "\n",
    "\n",
    "i_val = torch.tensor(i_val).float()  \n",
    "o_val = torch.tensor(o_val).float()   \n",
    "new_shape = (len(o_val), 1)\n",
    "o_val = o_val.view(new_shape)\n",
    "\n",
    "\n",
    "\n",
    "max_y = torch.max(y[:,0])\n",
    "min_y =torch.min(y[:,0])\n",
    "\n",
    "max_x = torch.max(x,dim=0)\n",
    "min_x = torch.min(x,dim=0)\n",
    "\n",
    "print(max_y, min_y, max_x.values, min_x.values)\n",
    "\n",
    "range_y = max_y - min_y\n",
    "range_x = max_x.values - min_x.values\n",
    "\n",
    "print(range_x, range_y)\n",
    "\n",
    "    #Normalizing\n",
    "x = (x - min_x.values)/range_x\n",
    "y = (y - min_y)/range_y\n",
    "\n",
    "    #Normalizing\n",
    "i_val = (i_val - min_x.values)/range_x\n",
    "o_val = (o_val - min_y)/range_y"
   ]
  },
  {
   "cell_type": "markdown",
   "metadata": {
    "papermill": {
     "duration": 0.526277,
     "end_time": "2022-05-30T04:40:52.719259",
     "exception": false,
     "start_time": "2022-05-30T04:40:52.192982",
     "status": "completed"
    },
    "tags": []
   },
   "source": [
    "# 2. Model"
   ]
  },
  {
   "cell_type": "code",
   "execution_count": 7,
   "metadata": {
    "execution": {
     "iopub.execute_input": "2022-05-30T04:40:53.722720Z",
     "iopub.status.busy": "2022-05-30T04:40:53.721987Z",
     "iopub.status.idle": "2022-05-30T04:40:53.827742Z",
     "shell.execute_reply": "2022-05-30T04:40:53.826543Z",
     "shell.execute_reply.started": "2022-05-30T03:32:43.147026Z"
    },
    "papermill": {
     "duration": 0.6117,
     "end_time": "2022-05-30T04:40:53.827889",
     "exception": false,
     "start_time": "2022-05-30T04:40:53.216189",
     "status": "completed"
    },
    "tags": []
   },
   "outputs": [],
   "source": [
    "import pyro\n",
    "import pyro.distributions as dist\n",
    "from pyro.nn import PyroModule, PyroSample\n",
    "import torch.nn as nn\n",
    "from pyro.infer.autoguide import AutoDiagonalNormal\n",
    "from pyro.infer import SVI, Trace_ELBO, Predictive\n",
    "from tqdm.auto import trange, tqdm"
   ]
  },
  {
   "cell_type": "code",
   "execution_count": 8,
   "metadata": {
    "execution": {
     "iopub.execute_input": "2022-05-30T04:40:54.821506Z",
     "iopub.status.busy": "2022-05-30T04:40:54.820401Z",
     "iopub.status.idle": "2022-05-30T04:40:54.846398Z",
     "shell.execute_reply": "2022-05-30T04:40:54.847458Z",
     "shell.execute_reply.started": "2022-05-30T03:42:21.443470Z"
    },
    "papermill": {
     "duration": 0.523939,
     "end_time": "2022-05-30T04:40:54.847725",
     "exception": false,
     "start_time": "2022-05-30T04:40:54.323786",
     "status": "completed"
    },
    "tags": []
   },
   "outputs": [
    {
     "name": "stdout",
     "output_type": "stream",
     "text": [
      "Model(\n",
      "  (fc1): PyroLinear(in_features=3, out_features=500, bias=True)\n",
      "  (fc2): PyroLinear(in_features=500, out_features=500, bias=True)\n",
      "  (fc3): PyroLinear(in_features=500, out_features=1, bias=True)\n",
      "  (relu): ReLU()\n",
      ")\n"
     ]
    }
   ],
   "source": [
    "class Model(PyroModule):\n",
    "    def __init__(self, n_feature=1, h1=200, h2=200, n_output=1):\n",
    "        super().__init__()\n",
    "        self.fc1 = PyroModule[nn.Linear](n_feature, h1)                                        # changed from 1 to n_feature\n",
    "        self.fc1.weight = PyroSample(dist.Normal(0., 1.).expand([h1, n_feature]).to_event(2))  # changed from 1 to n_feature\n",
    "        self.fc1.bias = PyroSample(dist.Normal(0., 1.).expand([h1]).to_event(1))\n",
    "        self.fc2 = PyroModule[nn.Linear](h1, h2)\n",
    "        self.fc2.weight = PyroSample(dist.Normal(0., 1.).expand([h2, h1]).to_event(2))\n",
    "        self.fc2.bias = PyroSample(dist.Normal(0., 1.).expand([h2]).to_event(1))\n",
    "        self.fc3 = PyroModule[nn.Linear](h2, n_output)\n",
    "        self.fc3.weight = PyroSample(dist.Normal(0., 1.).expand([n_output, h2]).to_event(2))\n",
    "        self.fc3.bias = PyroSample(dist.Normal(0., 1.).expand([1]).to_event(1))\n",
    "        self.relu = nn.ReLU()\n",
    "\n",
    "    def forward(self, x, y=None):\n",
    "        #x = x.reshape(-1, 1)\n",
    "        x = self.relu(self.fc1(x))\n",
    "        x = self.relu(self.fc2(x))\n",
    "        mu = self.fc3(x).squeeze()\n",
    "        sigma = pyro.sample(\"sigma\", dist.Uniform(0., 1.))\n",
    "        with pyro.plate(\"data\", x.shape[0]):\n",
    "            obs = pyro.sample(\"obs\", dist.Normal(mu, sigma), obs=y)\n",
    "        return mu\n",
    "    \n",
    "model = Model(n_feature=num_input, h1=hidden1, h2=hidden2, n_output=1)\n",
    "print(model)"
   ]
  },
  {
   "cell_type": "markdown",
   "metadata": {
    "papermill": {
     "duration": 0.497169,
     "end_time": "2022-05-30T04:40:55.840117",
     "exception": false,
     "start_time": "2022-05-30T04:40:55.342948",
     "status": "completed"
    },
    "tags": []
   },
   "source": [
    "# 3. Training"
   ]
  },
  {
   "cell_type": "code",
   "execution_count": 9,
   "metadata": {
    "execution": {
     "iopub.execute_input": "2022-05-30T04:40:56.840637Z",
     "iopub.status.busy": "2022-05-30T04:40:56.839911Z",
     "iopub.status.idle": "2022-05-30T05:29:39.443745Z",
     "shell.execute_reply": "2022-05-30T05:29:39.442814Z",
     "shell.execute_reply.started": "2022-05-30T03:42:31.559619Z"
    },
    "papermill": {
     "duration": 2923.110557,
     "end_time": "2022-05-30T05:29:39.443940",
     "exception": false,
     "start_time": "2022-05-30T04:40:56.333383",
     "status": "completed"
    },
    "tags": []
   },
   "outputs": [
    {
     "data": {
      "application/vnd.jupyter.widget-view+json": {
       "model_id": "68513d1fab0e46c781078895d0fefa88",
       "version_major": 2,
       "version_minor": 0
      },
      "text/plain": [
       "HBox(children=(FloatProgress(value=0.0, max=25000.0), HTML(value='')))"
      ]
     },
     "metadata": {},
     "output_type": "display_data"
    },
    {
     "name": "stdout",
     "output_type": "stream",
     "text": [
      "torch.Size([5000, 3]) torch.Size([5000])\n",
      "0.4 %  Complete\n",
      "4.3999999999999995 %  Complete\n",
      "8.4 %  Complete\n",
      "12.4 %  Complete\n",
      "16.400000000000002 %  Complete\n",
      "20.4 %  Complete\n",
      "24.4 %  Complete\n",
      "28.4 %  Complete\n",
      "32.4 %  Complete\n",
      "36.4 %  Complete\n",
      "40.400000000000006 %  Complete\n",
      "44.4 %  Complete\n",
      "48.4 %  Complete\n",
      "52.400000000000006 %  Complete\n",
      "56.39999999999999 %  Complete\n",
      "60.4 %  Complete\n",
      "64.4 %  Complete\n",
      "68.4 %  Complete\n",
      "72.39999999999999 %  Complete\n",
      "76.4 %  Complete\n",
      "80.4 %  Complete\n",
      "84.39999999999999 %  Complete\n",
      "88.4 %  Complete\n",
      "92.4 %  Complete\n",
      "96.39999999999999 %  Complete\n",
      "\n",
      "100% Complete in 48m 43s\n"
     ]
    }
   ],
   "source": [
    "guide = AutoDiagonalNormal(model)\n",
    "adam = pyro.optim.Adam({\"lr\": 1e-3})\n",
    "svi = SVI(model, guide, adam, loss=Trace_ELBO())\n",
    "\n",
    "pyro.clear_param_store()\n",
    "bar = trange(training_iteration)\n",
    "\n",
    "print(x.shape, y[:,0].shape)\n",
    "x, y = Variable(x), Variable(y)\n",
    "\n",
    "since = time.time()\n",
    "\n",
    "for epoch in bar:\n",
    "    loss = svi.step(x, y[:,0])\n",
    "    bar.set_postfix(loss=f'{loss / x.shape[0]:.3f}')\n",
    "    if epoch%1000==100:   \n",
    "        print(epoch/training_iteration*100, '%' '  Complete')\n",
    "        time_elapsed = time.time() - since\n",
    "    \n",
    "time_elapsed = time.time() - since\n",
    "print('100% Complete in {:.0f}m {:.0f}s'.format(time_elapsed // 60, time_elapsed % 60))  "
   ]
  },
  {
   "cell_type": "markdown",
   "metadata": {
    "papermill": {
     "duration": 0.50047,
     "end_time": "2022-05-30T05:29:40.451885",
     "exception": false,
     "start_time": "2022-05-30T05:29:39.951415",
     "status": "completed"
    },
    "tags": []
   },
   "source": [
    "# 4. Prediction"
   ]
  },
  {
   "cell_type": "code",
   "execution_count": 10,
   "metadata": {
    "execution": {
     "iopub.execute_input": "2022-05-30T05:29:41.457803Z",
     "iopub.status.busy": "2022-05-30T05:29:41.456664Z",
     "iopub.status.idle": "2022-05-30T05:29:50.477514Z",
     "shell.execute_reply": "2022-05-30T05:29:50.478132Z",
     "shell.execute_reply.started": "2022-05-30T03:30:35.866773Z"
    },
    "papermill": {
     "duration": 9.529805,
     "end_time": "2022-05-30T05:29:50.478313",
     "exception": false,
     "start_time": "2022-05-30T05:29:40.948508",
     "status": "completed"
    },
    "tags": []
   },
   "outputs": [
    {
     "data": {
      "text/plain": [
       "[<matplotlib.lines.Line2D at 0x7fd7b983e490>]"
      ]
     },
     "execution_count": 10,
     "metadata": {},
     "output_type": "execute_result"
    },
    {
     "data": {
      "image/png": "[encoded data removed]",
      "text/plain": [
       "<Figure size 720x360 with 1 Axes>"
      ]
     },
     "metadata": {
      "needs_background": "light"
     },
     "output_type": "display_data"
    }
   ],
   "source": [
    "predictive = Predictive(model, guide=guide, num_samples=500)\n",
    "#x_test = torch.linspace(-0.5, 1, 3000)\n",
    "\n",
    "\n",
    "preds = predictive(i_val)\n",
    "\n",
    "y_pred = preds['obs'].T.detach().numpy().mean(axis=1)\n",
    "y_std = preds['obs'].T.detach().numpy().std(axis=1)\n",
    "\n",
    "fig, ax = plt.subplots(figsize=(10, 5))\n",
    "ax.plot(i_val[:,0], o_val, 'o', markersize=1)\n",
    "ax.plot(i_val[:,0], y_pred, 'o', markersize=1)\n",
    "ax.plot(i_val[:,0], y_pred - y_std, 'o', markersize=1, color='#ffcd3c')\n",
    "ax.plot(i_val[:,0], y_pred + y_std, 'o', markersize=1, color='#ffcd3c')\n",
    "\n",
    "#ax.fill_between(x_val[:,0], y_pred - y_std, y_pred + y_std,alpha=0.5, color='#ffcd3c');"
   ]
  }
 ],
 "metadata": {
  "kernelspec": {
   "display_name": "Python 3",
   "language": "python",
   "name": "python3"
  },
  "language_info": {
   "codemirror_mode": {
    "name": "ipython",
    "version": 3
   },
   "file_extension": ".py",
   "mimetype": "text/x-python",
   "name": "python",
   "nbconvert_exporter": "python",
   "pygments_lexer": "ipython3",
   "version": "3.7.6"
  },
  "papermill": {
   "duration": 3061.660031,
   "end_time": "2022-05-30T05:29:51.093964",
   "environment_variables": {},
   "exception": null,
   "input_path": "__notebook__.ipynb",
   "output_path": "__notebook__.ipynb",
   "parameters": {},
   "start_time": "2022-05-30T04:38:49.433933",
   "version": "2.1.0"
  },
  "widgets": {
   "application/vnd.jupyter.widget-state+json": {
    "state": {
     "210a0fdcf1e04a1aac5d7a3eb172903b": {
      "model_module": "@jupyter-widgets/controls",
      "model_module_version": "1.5.0",
      "model_name": "FloatProgressModel",
      "state": {
       "_dom_classes": [],
       "_model_module": "@jupyter-widgets/controls",
       "_model_module_version": "1.5.0",
       "_model_name": "FloatProgressModel",
       "_view_count": null,
       "_view_module": "@jupyter-widgets/controls",
       "_view_module_version": "1.5.0",
       "_view_name": "ProgressView",
       "bar_style": "success",
       "description": "100%",
       "description_tooltip": null,
       "layout": "IPY_MODEL_e25bf9b1720749ff869a47c700cd618e",
       "max": 25000.0,
       "min": 0.0,
       "orientation": "horizontal",
       "style": "IPY_MODEL_bfa2d7b6761248fb8f6f31d8221f5563",
       "value": 25000.0
      }
     },
     "33fd79aa0707402c80bf2ec6c0ebf1e3": {
      "model_module": "@jupyter-widgets/base",
      "model_module_version": "1.2.0",
      "model_name": "LayoutModel",
      "state": {
       "_model_module": "@jupyter-widgets/base",
       "_model_module_version": "1.2.0",
       "_model_name": "LayoutModel",
       "_view_count": null,
       "_view_module": "@jupyter-widgets/base",
       "_view_module_version": "1.2.0",
       "_view_name": "LayoutView",
       "align_content": null,
       "align_items": null,
       "align_self": null,
       "border": null,
       "bottom": null,
       "display": null,
       "flex": null,
       "flex_flow": null,
       "grid_area": null,
       "grid_auto_columns": null,
       "grid_auto_flow": null,
       "grid_auto_rows": null,
       "grid_column": null,
       "grid_gap": null,
       "grid_row": null,
       "grid_template_areas": null,
       "grid_template_columns": null,
       "grid_template_rows": null,
       "height": null,
       "justify_content": null,
       "justify_items": null,
       "left": null,
       "margin": null,
       "max_height": null,
       "max_width": null,
       "min_height": null,
       "min_width": null,
       "object_fit": null,
       "object_position": null,
       "order": null,
       "overflow": null,
       "overflow_x": null,
       "overflow_y": null,
       "padding": null,
       "right": null,
       "top": null,
       "visibility": null,
       "width": null
      }
     },
     "68513d1fab0e46c781078895d0fefa88": {
      "model_module": "@jupyter-widgets/controls",
      "model_module_version": "1.5.0",
      "model_name": "HBoxModel",
      "state": {
       "_dom_classes": [],
       "_model_module": "@jupyter-widgets/controls",
       "_model_module_version": "1.5.0",
       "_model_name": "HBoxModel",
       "_view_count": null,
       "_view_module": "@jupyter-widgets/controls",
       "_view_module_version": "1.5.0",
       "_view_name": "HBoxView",
       "box_style": "",
       "children": [
        "IPY_MODEL_210a0fdcf1e04a1aac5d7a3eb172903b",
        "IPY_MODEL_b74bce7e9d174ef5a440467b0d2aba7b"
       ],
       "layout": "IPY_MODEL_83d26f534e5b475ba845cbbc77da4448"
      }
     },
     "83d26f534e5b475ba845cbbc77da4448": {
      "model_module": "@jupyter-widgets/base",
      "model_module_version": "1.2.0",
      "model_name": "LayoutModel",
      "state": {
       "_model_module": "@jupyter-widgets/base",
       "_model_module_version": "1.2.0",
       "_model_name": "LayoutModel",
       "_view_count": null,
       "_view_module": "@jupyter-widgets/base",
       "_view_module_version": "1.2.0",
       "_view_name": "LayoutView",
       "align_content": null,
       "align_items": null,
       "align_self": null,
       "border": null,
       "bottom": null,
       "display": null,
       "flex": null,
       "flex_flow": null,
       "grid_area": null,
       "grid_auto_columns": null,
       "grid_auto_flow": null,
       "grid_auto_rows": null,
       "grid_column": null,
       "grid_gap": null,
       "grid_row": null,
       "grid_template_areas": null,
       "grid_template_columns": null,
       "grid_template_rows": null,
       "height": null,
       "justify_content": null,
       "justify_items": null,
       "left": null,
       "margin": null,
       "max_height": null,
       "max_width": null,
       "min_height": null,
       "min_width": null,
       "object_fit": null,
       "object_position": null,
       "order": null,
       "overflow": null,
       "overflow_x": null,
       "overflow_y": null,
       "padding": null,
       "right": null,
       "top": null,
       "visibility": null,
       "width": null
      }
     },
     "b74bce7e9d174ef5a440467b0d2aba7b": {
      "model_module": "@jupyter-widgets/controls",
      "model_module_version": "1.5.0",
      "model_name": "HTMLModel",
      "state": {
       "_dom_classes": [],
       "_model_module": "@jupyter-widgets/controls",
       "_model_module_version": "1.5.0",
       "_model_name": "HTMLModel",
       "_view_count": null,
       "_view_module": "@jupyter-widgets/controls",
       "_view_module_version": "1.5.0",
       "_view_name": "HTMLView",
       "description": "",
       "description_tooltip": null,
       "layout": "IPY_MODEL_33fd79aa0707402c80bf2ec6c0ebf1e3",
       "placeholder": "​",
       "style": "IPY_MODEL_db372fe79cbf4e61841fa597db725625",
       "value": " 25000/25000 [48:42&lt;00:00,  8.55it/s, loss=2.696]"
      }
     },
     "bfa2d7b6761248fb8f6f31d8221f5563": {
      "model_module": "@jupyter-widgets/controls",
      "model_module_version": "1.5.0",
      "model_name": "ProgressStyleModel",
      "state": {
       "_model_module": "@jupyter-widgets/controls",
       "_model_module_version": "1.5.0",
       "_model_name": "ProgressStyleModel",
       "_view_count": null,
       "_view_module": "@jupyter-widgets/base",
       "_view_module_version": "1.2.0",
       "_view_name": "StyleView",
       "bar_color": null,
       "description_width": "initial"
      }
     },
     "db372fe79cbf4e61841fa597db725625": {
      "model_module": "@jupyter-widgets/controls",
      "model_module_version": "1.5.0",
      "model_name": "DescriptionStyleModel",
      "state": {
       "_model_module": "@jupyter-widgets/controls",
       "_model_module_version": "1.5.0",
       "_model_name": "DescriptionStyleModel",
       "_view_count": null,
       "_view_module": "@jupyter-widgets/base",
       "_view_module_version": "1.2.0",
       "_view_name": "StyleView",
       "description_width": ""
      }
     },
     "e25bf9b1720749ff869a47c700cd618e": {
      "model_module": "@jupyter-widgets/base",
      "model_module_version": "1.2.0",
      "model_name": "LayoutModel",
      "state": {
       "_model_module": "@jupyter-widgets/base",
       "_model_module_version": "1.2.0",
       "_model_name": "LayoutModel",
       "_view_count": null,
       "_view_module": "@jupyter-widgets/base",
       "_view_module_version": "1.2.0",
       "_view_name": "LayoutView",
       "align_content": null,
       "align_items": null,
       "align_self": null,
       "border": null,
       "bottom": null,
       "display": null,
       "flex": null,
       "flex_flow": null,
       "grid_area": null,
       "grid_auto_columns": null,
       "grid_auto_flow": null,
       "grid_auto_rows": null,
       "grid_column": null,
       "grid_gap": null,
       "grid_row": null,
       "grid_template_areas": null,
       "grid_template_columns": null,
       "grid_template_rows": null,
       "height": null,
       "justify_content": null,
       "justify_items": null,
       "left": null,
       "margin": null,
       "max_height": null,
       "max_width": null,
       "min_height": null,
       "min_width": null,
       "object_fit": null,
       "object_position": null,
       "order": null,
       "overflow": null,
       "overflow_x": null,
       "overflow_y": null,
       "padding": null,
       "right": null,
       "top": null,
       "visibility": null,
       "width": null
      }
     }
    },
    "version_major": 2,
    "version_minor": 0
   }
  }
 },
 "nbformat": 4,
 "nbformat_minor": 4
}
