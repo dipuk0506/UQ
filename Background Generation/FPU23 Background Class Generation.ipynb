{
 "cells": [
  {
   "cell_type": "code",
   "execution_count": 1,
   "id": "99cb05dd",
   "metadata": {
    "execution": {
     "iopub.execute_input": "2025-07-23T07:38:35.400093Z",
     "iopub.status.busy": "2025-07-23T07:38:35.399461Z",
     "iopub.status.idle": "2025-07-23T07:38:38.210494Z",
     "shell.execute_reply": "2025-07-23T07:38:38.209619Z"
    },
    "papermill": {
     "duration": 2.816756,
     "end_time": "2025-07-23T07:38:38.212170",
     "exception": false,
     "start_time": "2025-07-23T07:38:35.395414",
     "status": "completed"
    },
    "tags": []
   },
   "outputs": [],
   "source": [
    "import numpy as np \n",
    "import pandas as pd \n",
    "import cv2\n",
    "import os, shutil\n",
    "from PIL import Image\n",
    "import matplotlib.image as mpimg\n",
    "from matplotlib.patches import Rectangle\n",
    "import matplotlib.pyplot as plt\n",
    "from bs4 import BeautifulSoup"
   ]
  },
  {
   "cell_type": "code",
   "execution_count": 2,
   "id": "fae2692e",
   "metadata": {
    "execution": {
     "iopub.execute_input": "2025-07-23T07:38:38.218261Z",
     "iopub.status.busy": "2025-07-23T07:38:38.217820Z",
     "iopub.status.idle": "2025-07-23T07:38:38.227369Z",
     "shell.execute_reply": "2025-07-23T07:38:38.225885Z"
    },
    "papermill": {
     "duration": 0.014184,
     "end_time": "2025-07-23T07:38:38.229006",
     "exception": false,
     "start_time": "2025-07-23T07:38:38.214822",
     "status": "completed"
    },
    "tags": []
   },
   "outputs": [],
   "source": [
    "Targets = ['abdomen', 'arm', 'head', 'legs']\n",
    "Target_select = 2  # 0 to 3 selections\n",
    "\n",
    "conseder_side = 1\n",
    "\n",
    "datalink = {\n",
    "    'train': '/kaggle/input/ultrasound-fpu23-csv-files/train_labels.csv',\n",
    "    'val': '/kaggle/input/ultrasound-fpu23-csv-files/val_labels.csv',\n",
    "    'test' : '/kaggle/input/ultrasound-fpu23-csv-files/test_labels.csv'\n",
    "}\n",
    "\n",
    "root_dir = '/kaggle/input/source-fpus23/Dataset/four_poses'\n",
    "\n",
    "def create_dir(folderlocation):\n",
    "    if not os.path.exists(folderlocation):\n",
    "        os.mkdir(folderlocation)\n",
    "destination_folder = './zzside/'\n",
    "create_dir(destination_folder)\n",
    "\n",
    "for phase in ['train/','test/','val/']:\n",
    "    create_dir(destination_folder+phase)\n",
    "    create_dir(destination_folder+phase+Targets[Target_select])\n",
    "    create_dir(destination_folder+phase+'other')\n",
    "    if phase == 'test/':\n",
    "        continue\n",
    "    if conseder_side:\n",
    "        create_dir(destination_folder+phase+'zzside')"
   ]
  },
  {
   "cell_type": "code",
   "execution_count": 3,
   "id": "7cd5876f",
   "metadata": {
    "execution": {
     "iopub.execute_input": "2025-07-23T07:38:38.234677Z",
     "iopub.status.busy": "2025-07-23T07:38:38.234068Z",
     "iopub.status.idle": "2025-07-23T07:41:03.702491Z",
     "shell.execute_reply": "2025-07-23T07:41:03.701565Z"
    },
    "papermill": {
     "duration": 145.472983,
     "end_time": "2025-07-23T07:41:03.704229",
     "exception": false,
     "start_time": "2025-07-23T07:38:38.231246",
     "status": "completed"
    },
    "tags": []
   },
   "outputs": [
    {
     "name": "stdout",
     "output_type": "stream",
     "text": [
      "9067\n",
      "3021\n",
      "3022\n"
     ]
    }
   ],
   "source": [
    "for phase in ['train','test','val']:\n",
    "    csv_frame = pd.read_csv(datalink[phase])\n",
    "    print(len(csv_frame))\n",
    "    for idx in range(len(csv_frame)):\n",
    "        sub_dirs = csv_frame.iloc[idx, 0]\n",
    "        image_source = root_dir + sub_dirs +'/' + csv_frame.iloc[idx, 1]\n",
    "        \n",
    "        labels = csv_frame.iloc[idx, 3]\n",
    "    \n",
    "        image_destination = destination_folder+phase+'/other/' + sub_dirs + csv_frame.iloc[idx, 1]\n",
    "    \n",
    "        if Targets[Target_select] in labels:\n",
    "            image_destination = destination_folder+ phase+ '/'+Targets[Target_select] + '/'+sub_dirs + csv_frame.iloc[idx, 1]\n",
    "        \n",
    "        shutil.copy(image_source, image_destination)"
   ]
  },
  {
   "cell_type": "code",
   "execution_count": 4,
   "id": "22e31019",
   "metadata": {
    "execution": {
     "iopub.execute_input": "2025-07-23T07:41:03.710644Z",
     "iopub.status.busy": "2025-07-23T07:41:03.709817Z",
     "iopub.status.idle": "2025-07-23T07:41:03.715360Z",
     "shell.execute_reply": "2025-07-23T07:41:03.714546Z"
    },
    "papermill": {
     "duration": 0.010059,
     "end_time": "2025-07-23T07:41:03.716794",
     "exception": false,
     "start_time": "2025-07-23T07:41:03.706735",
     "status": "completed"
    },
    "tags": []
   },
   "outputs": [
    {
     "name": "stdout",
     "output_type": "stream",
     "text": [
      "Organizing Data for head Detection\n"
     ]
    }
   ],
   "source": [
    "annotation_box_dir = '/kaggle/input/source-fpus23/Dataset/boxes/annotation/'\n",
    "image_source_dir = '/kaggle/input/source-fpus23/Dataset/four_poses/'\n",
    "\n",
    "\n",
    "print('Organizing Data for '+Targets[Target_select] +' Detection')\n",
    "\n",
    "\n",
    "def patchmaker(xbr,xtl,ybr,ytl, edgecolor_ = 'r'):\n",
    "    return Rectangle((xtl,ytl),xbr-xtl,ybr-ytl,linewidth=1,edgecolor=edgecolor_,facecolor='none')"
   ]
  },
  {
   "cell_type": "code",
   "execution_count": 5,
   "id": "f5e937f4",
   "metadata": {
    "_cell_guid": "b1076dfc-b9ad-4769-8c92-a6c4dae69d19",
    "_uuid": "8f2839f25d086af736a60e9eeb907d3b93b6e0e5",
    "execution": {
     "iopub.execute_input": "2025-07-23T07:41:03.722832Z",
     "iopub.status.busy": "2025-07-23T07:41:03.722427Z",
     "iopub.status.idle": "2025-07-23T07:42:47.318814Z",
     "shell.execute_reply": "2025-07-23T07:42:47.317868Z"
    },
    "papermill": {
     "duration": 103.601746,
     "end_time": "2025-07-23T07:42:47.320941",
     "exception": false,
     "start_time": "2025-07-23T07:41:03.719195",
     "status": "completed"
    },
    "tags": []
   },
   "outputs": [
    {
     "name": "stdout",
     "output_type": "stream",
     "text": [
      "Folder Name: stream_huvb_aroundhead_v Number of image annotation: 305\n",
      "Folder Name: stream_huvb_longrec_h Number of image annotation: 597\n",
      "Folder Name: stream_huvf_aroundabd_h Number of image annotation: 394\n",
      "Folder Name: stream_hdvf_longrec_v Number of image annotation: 339\n",
      "Folder Name: stream_hdvb_longrec_h Number of image annotation: 378\n",
      "Folder Name: stream_huvf_longrec_h Number of image annotation: 1083\n",
      "Folder Name: stream_hdvb_aroundarms_h Number of image annotation: 312\n",
      "Folder Name: stream_hdvb_aroundabd_h Number of image annotation: 361\n",
      "Folder Name: stream_huvb_aroundarms_h Number of image annotation: 224\n",
      "Folder Name: stream_hdvf_aroundlegs_h Number of image annotation: 285\n",
      "Folder Name: stream_huvb_longrec_v Number of image annotation: 892\n",
      "Folder Name: stream_hdvf_longrec_h Number of image annotation: 556\n",
      "Folder Name: stream_hdvf_aroundarms_v Number of image annotation: 206\n",
      "Folder Name: stream_huvf_aroundarms_v Number of image annotation: 308\n",
      "Folder Name: stream_huvf_aroundlegs_h Number of image annotation: 400\n",
      "Folder Name: stream_huvf_aroundlegs_v Number of image annotation: 301\n",
      "Folder Name: stream_hdvb_longrec_v Number of image annotation: 761\n",
      "Folder Name: stream_huvb_aroundlegs_h Number of image annotation: 364\n",
      "Folder Name: stream_hdvf_aroundhead_h Number of image annotation: 349\n",
      "Folder Name: stream_hdvf_aroundarms_h Number of image annotation: 173\n",
      "Folder Name: stream_huvf_aroundhead_h Number of image annotation: 497\n",
      "Folder Name: stream_hdvb_aroundhead_v Number of image annotation: 360\n",
      "Folder Name: stream_huvf_longrec_v Number of image annotation: 957\n",
      "Folder Name: stream_hdvf_aroundabd_h Number of image annotation: 359\n",
      "Folder Name: stream_hdvf_aroundlegs_v Number of image annotation: 360\n",
      "Folder Name: stream_huvb_aroundarms_v Number of image annotation: 210\n",
      "Folder Name: stream_huvf_aroundabd_v Number of image annotation: 319\n",
      "Folder Name: stream_hdvf_aroundhead_v Number of image annotation: 371\n",
      "Folder Name: stream_huvb_aroundhead_h Number of image annotation: 537\n",
      "Folder Name: stream_hdvb_aroundabd_v Number of image annotation: 273\n",
      "Folder Name: stream_hdvb_aroundlegs_h Number of image annotation: 269\n",
      "Folder Name: stream_hdvb_aroundlegs_v Number of image annotation: 216\n",
      "Folder Name: stream_hdvf_aroundabd_v Number of image annotation: 237\n",
      "Folder Name: stream_hdvb_aroundarms_v Number of image annotation: 232\n",
      "Folder Name: stream_huvb_aroundlegs_v Number of image annotation: 248\n",
      "Folder Name: stream_huvf_aroundarms_h Number of image annotation: 197\n",
      "Folder Name: stream_huvb_aroundsbd_h Number of image annotation: 299\n",
      "Folder Name: stream_hdvb_aroundhead_h Number of image annotation: 284\n",
      "Folder Name: stream_huvf_aroundhead_v Number of image annotation: 300\n"
     ]
    },
    {
     "name": "stderr",
     "output_type": "stream",
     "text": [
      "[ WARN:0@249.626] global loadsave.cpp:848 imwrite_ Unsupported depth image for selected encoder is fallbacked to CV_8U.\n"
     ]
    }
   ],
   "source": [
    "if conseder_side:\n",
    "    subdirs = [x[0] for x in os.walk(annotation_box_dir)]\n",
    "    #print(subdirs)\n",
    "    \n",
    "    split_variable = 0\n",
    "    \n",
    "    for sub_dir in subdirs[1:]:\n",
    "        plane = sub_dir.split(\"/\")[-1]\n",
    "        \n",
    "        with open(sub_dir + '/annotations.xml', 'r') as f:\n",
    "            data = f.read()\n",
    "    \n",
    "            Bs_data = BeautifulSoup(data, \"xml\")\n",
    "            b_image = Bs_data.find_all('image')\n",
    "            print('Folder Name:',plane,'Number of image annotation:',len(b_image))\n",
    "            for image_index in range(len(b_image)):\n",
    "                boxes = b_image[image_index].find_all('box')\n",
    "                image_source = image_source_dir + plane + '/' + b_image[image_index].get('name')\n",
    "              \n",
    "                   \n",
    "                img = mpimg.imread(image_source)\n",
    "                if len(boxes) ==1:   \n",
    "                    xbr = float(boxes[0].get('xbr'))\n",
    "                    ybr = float(boxes[0].get('ybr'))\n",
    "                    xtl = float(boxes[0].get('xtl'))\n",
    "                    ytl = float(boxes[0].get('ytl'))\n",
    "                    rect = patchmaker(xbr,xtl,ybr,ytl)\n",
    "                    \n",
    "                    img1 = Image.fromarray( (img[int(ytl):int(ybr), int(2*xtl/3):int(xtl),:]* 255).astype(np.uint8) )\n",
    "                    img2 = Image.fromarray( (img[int(ytl):int(ybr), int(xbr):int((img.shape[1]+xbr)/2),:]* 255).astype(np.uint8) )\n",
    "    \n",
    "                    split_variable = split_variable +1\n",
    "                    if split_variable == 3:\n",
    "                        img1.save(destination_folder+'val/zzside/i1'+str(split_variable)+b_image[image_index].get('name'), format=\"PNG\")\n",
    "                        #img2.save(destination_folder+'test/zzside/i2'+str(split_variable)+b_image[image_index].get('name'), format=\"PNG\")\n",
    "                        \n",
    "                    img1.save(destination_folder+'train/zzside/i1'+str(split_variable)+b_image[image_index].get('name'), format=\"PNG\")\n",
    "                    img2.save(destination_folder+'train/zzside/i2'+str(split_variable)+b_image[image_index].get('name'), format=\"PNG\")\n",
    "                    if split_variable >1:\n",
    "                        break\n",
    "    \n",
    "    image_iter = np.zeros([50, 50, 3])\n",
    "    \n",
    "    for iter1 in range(6):\n",
    "        for iter2 in range(6):\n",
    "            for iter3 in range(6):\n",
    "                image_iter[:,:,0] = iter1*50\n",
    "                image_iter[:,:,1] = iter2*50\n",
    "                image_iter[:,:,2] = iter3*50\n",
    "                \n",
    "                cv2.imwrite(destination_folder+'train/zzside/' + \"Monochrome_\"+str(iter1)+str(iter2)+str(iter3)+\".png\", image_iter)"
   ]
  },
  {
   "cell_type": "code",
   "execution_count": 6,
   "id": "de182cdf",
   "metadata": {
    "execution": {
     "iopub.execute_input": "2025-07-23T07:42:47.331810Z",
     "iopub.status.busy": "2025-07-23T07:42:47.331495Z",
     "iopub.status.idle": "2025-07-23T07:47:12.910509Z",
     "shell.execute_reply": "2025-07-23T07:47:12.909051Z"
    },
    "papermill": {
     "duration": 265.587548,
     "end_time": "2025-07-23T07:47:12.913428",
     "exception": false,
     "start_time": "2025-07-23T07:42:47.325880",
     "status": "completed"
    },
    "tags": []
   },
   "outputs": [],
   "source": [
    "shutil.make_archive('Side_data', 'zip', destination_folder)\n",
    "shutil.rmtree(destination_folder)"
   ]
  }
 ],
 "metadata": {
  "kaggle": {
   "accelerator": "none",
   "dataSources": [
    {
     "datasetId": 5546061,
     "sourceId": 9248581,
     "sourceType": "datasetVersion"
    },
    {
     "sourceId": 247587988,
     "sourceType": "kernelVersion"
    }
   ],
   "dockerImageVersionId": 31040,
   "isGpuEnabled": false,
   "isInternetEnabled": true,
   "language": "python",
   "sourceType": "notebook"
  },
  "kernelspec": {
   "display_name": "Python 3",
   "language": "python",
   "name": "python3"
  },
  "language_info": {
   "codemirror_mode": {
    "name": "ipython",
    "version": 3
   },
   "file_extension": ".py",
   "mimetype": "text/x-python",
   "name": "python",
   "nbconvert_exporter": "python",
   "pygments_lexer": "ipython3",
   "version": "3.11.11"
  },
  "papermill": {
   "default_parameters": {},
   "duration": 523.445799,
   "end_time": "2025-07-23T07:47:13.641744",
   "environment_variables": {},
   "exception": null,
   "input_path": "__notebook__.ipynb",
   "output_path": "__notebook__.ipynb",
   "parameters": {},
   "start_time": "2025-07-23T07:38:30.195945",
   "version": "2.6.0"
  }
 },
 "nbformat": 4,
 "nbformat_minor": 5
}
